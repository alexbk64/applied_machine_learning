{
 "cells": [
  {
   "cell_type": "markdown",
   "metadata": {
    "colab_type": "text",
    "id": "TNQvOgFJPwMR"
   },
   "source": [
    "# Final assignment: Part 1\n",
    "\n",
    "Part 1: The only type of model you should use for this part, is the H2OGeneralizedLinearEstimator model. You should:\n",
    "\n",
    "1. Deal appropriately with missings (for all numeric variables, -99 means missing).\n",
    "2. Deal with numerics - i.e. for at least some try linear splines (or another method of your choice to deal with non-linear effects)\n",
    "3. Deal with hccvs (eg using the feature encoding library that we looked at in lecture) (You do not need to deal with low cardinality categorical features since H2O will one-hot them for you.)\n",
    "4. Try out some interactions\n",
    "5. Try out some other features (eg division of numerics).\n",
    "\n",
    "Presumably you will train various models, submit your predictions on Kaggle and note the public leaderboard score.\n",
    "\n",
    "- Choose your best model, and for it: Create a function which carries out any data preparation and fitting:\n",
    "• The name of your function must be fn logistic\n",
    "• You must save your function in a (plain text) file with exactly the following\n",
    "name\n",
    "      en_<studentnumber>.py\n",
    "For example, if your student number is 123456789 then your function must be stored as en 123456789.py\n",
    "• The only input for your function should be the df train and df test datasets created in 01a ReadData. You may choose the smaller or larger train data, as you wish, but the score in your return statement should be consistent. Any data manipulation should be done by code in your function.\n",
    "• The only output from your function should be three items - in this order: – Your trained H2OGeneralizedLinearEstimator object\n",
    "– The test data, the data that you feed your object when you make predictions.\n",
    "– Your Kaggle public leaderboard score for this model, hardcoded as a number to 3 d.p.\n",
    "• Your function should be totally self contained. If it requires any import eg of numpy or pandas or from sklearn, you should do those imports in your function.\n",
    "3\n",
    "    \n",
    "• There should be no code at all in your .py file before the def statement and no code after the end of the return statement.\n",
    "• The code in your function should tidy (especially if you download if from a ipynb) and it should be well commented.\n"
   ]
  },
  {
   "cell_type": "markdown",
   "metadata": {
    "colab_type": "text",
    "id": "aDp4OfVkp5Ec"
   },
   "source": [
    "**Import packages**"
   ]
  },
  {
   "cell_type": "code",
   "execution_count": 88,
   "metadata": {
    "colab": {},
    "colab_type": "code",
    "id": "-Jnfy7xrPwMT"
   },
   "outputs": [],
   "source": [
    "### Import packages\n",
    "import os\n",
    "import numpy as np\n",
    "import pandas as pd\n",
    "import pickle\n",
    "import h2o\n",
    "from h2o.estimators.glm import H2OGeneralizedLinearEstimator\n",
    "from h2o.grid.grid_search import H2OGridSearch\n",
    "\n",
    "#category encoders\n",
    "from category_encoders import LeaveOneOutEncoder\n",
    "\n",
    "#needed for fn_computeRatiosOfNumerics()\n",
    "from itertools import permutations"
   ]
  },
  {
   "cell_type": "code",
   "execution_count": 89,
   "metadata": {
    "colab": {
     "base_uri": "https://localhost:8080/",
     "height": 34
    },
    "colab_type": "code",
    "executionInfo": {
     "elapsed": 542,
     "status": "ok",
     "timestamp": 1562674400140,
     "user": {
      "displayName": "K a l o u",
      "photoUrl": "https://lh4.googleusercontent.com/-EYTbYeNdLqk/AAAAAAAAAAI/AAAAAAAAADk/OD6CDp5FiG4/s64/photo.jpg",
      "userId": "10262331298445208932"
     },
     "user_tz": -60
    },
    "id": "lJ98I6jPPwMY",
    "outputId": "cb69b446-ac40-42c5-fdc9-29d67fc42c74"
   },
   "outputs": [
    {
     "name": "stdout",
     "output_type": "stream",
     "text": [
      "/home/jovyan/Projects/final_assignment/PCode\n"
     ]
    }
   ],
   "source": [
    "#### Set directories\n",
    "print(os.getcwd())\n",
    "dirRawData = \"../input/\"\n",
    "dirPData = \"../PData/\"\n",
    "dirPOutput = \"../POutput/\""
   ]
  },
  {
   "cell_type": "code",
   "execution_count": 90,
   "metadata": {},
   "outputs": [],
   "source": [
    "### Functions\n",
    "def fn_MAE(actuals, predictions):\n",
    "    return np.round(np.mean(np.abs(predictions - actuals)))\n",
    "\n",
    "def fn_RMSE(actuals, predictions):\n",
    "    return np.round(np.sqrt(np.mean((predictions - actuals)**2)))\n",
    "\n",
    "def fn_tosplines(x):\n",
    "    x = x.values\n",
    "    # hack: remove zeros to avoid issues where lots of values are zero\n",
    "    x_nonzero = x[x != 0]\n",
    "    ptiles = np.percentile(x_nonzero, [10, 20, 40, 60, 80, 90])\n",
    "    ptiles = np.unique(ptiles)\n",
    "    print(var, ptiles)\n",
    "    df_ptiles = pd.DataFrame({var: x})\n",
    "    for idx, ptile in enumerate(ptiles):\n",
    "        df_ptiles[var + '_' + str(idx)] = np.maximum(0, x - ptiles[idx])\n",
    "    return(df_ptiles)\n",
    "\n",
    "def fn_computeRatiosOfNumerics(df, variables):\n",
    "## Process:\n",
    "# 1. Gets passed most important numeric variables\n",
    "# 2. Computes all pairwise ratios between each of these i.e\n",
    "# - get all permutations of length 2, and divide term 1 by term 2\n",
    "# e. Returns a dataframe containing engineered variables, with appropriately named columns\n",
    "\n",
    "#     variables = ['A','B','C'] #debugging\n",
    "    pairs = []\n",
    "    lst_series = []\n",
    "    for i in range(len(variables)+1):\n",
    "        for subset in permutations(variables, i):\n",
    "            if len(subset)==2: pairs.extend([subset])\n",
    "    temp_colnames = []\n",
    "    for elem in pairs:\n",
    "        ## create column names\n",
    "        temp_colname = 'ratio_{}.{}'.format(elem[0],elem[1])\n",
    "        temp_colnames.append(temp_colname)\n",
    "        #compute ratio\n",
    "        try: \n",
    "            srs_pair_ratio = df[elem[0]]/df[elem[1]]\n",
    "        except ZeroDivisionError:  \n",
    "            #if denominator is 0, will catch error and assign nan value to that ratio\n",
    "            srs_pair_ratio = np.nan\n",
    "            srs_pair_ratio = np.nan\n",
    "        srs_pair_ratio.rename(temp_colname, inplace=True)\n",
    "        lst_series.append(srs_pair_ratio)\n",
    "    #create dataframe with appropriate column names\n",
    "    df_2 = pd.DataFrame(index = df.index, columns = temp_colnames)\n",
    "    #fill dataframe with series\n",
    "    for idx, col in enumerate(df_2):\n",
    "        df_2[col] = lst_series[idx]\n",
    "    \n",
    "    \n",
    "    # Seems df division already catches ZeroDivisonError and assigns infinity value when denom = 0 but not numerator \n",
    "    # In such case, want 0 coefficient.\n",
    "    # Also want 0 coefficients when both numerator and denom are 0\n",
    "    # therefore replace all inf and nan values with zeroes\n",
    "    df_2.replace([np.inf, -np.inf, np.nan], 0, inplace=True)\n",
    "    return df_2\n",
    "\n",
    "def fn_createInteractions(df, factors):\n",
    "    ## takes as input a pandas dataframe, and a LIST of column names on which to create interactions\n",
    "    #create an h2o frame\n",
    "    h2o_df_temp = h2o.H2OFrame(df[factors], destination_frame='df_interactions_temp')\n",
    "\n",
    "    #use H2OFrame.interaction(factors, pairwise, max_factors, min_occurence, destination_frame=None)\n",
    "    h2o_df_temp = h2o_df_temp.interaction(factors, pairwise=True, max_factors=100, min_occurrence=1)\n",
    "\n",
    "    return h2o_df_temp.as_data_frame(use_pandas=True)"
   ]
  },
  {
   "cell_type": "code",
   "execution_count": 91,
   "metadata": {
    "colab": {},
    "colab_type": "code",
    "id": "F3jUBL1RPwMf"
   },
   "outputs": [],
   "source": [
    "#### Load data via pickle\n",
    "f_name = dirPData + '01_df_250k.pickle'\n",
    "\n",
    "with (open(f_name, \"rb\")) as f:\n",
    "    dict_ = pickle.load(f)\n",
    "\n",
    "df_train = dict_['df_train']\n",
    "df_test  = dict_['df_test']\n",
    "\n",
    "del f_name, dict_"
   ]
  },
  {
   "cell_type": "code",
   "execution_count": 92,
   "metadata": {
    "colab": {},
    "colab_type": "code",
    "id": "JXQzUcqqPwMj"
   },
   "outputs": [],
   "source": [
    "f_name = dirPData + '01_vars.pickle'\n",
    "\n",
    "with open(f_name, \"rb\") as f:\n",
    "    dict_ = pickle.load(f)\n",
    "\n",
    "vars_ind_numeric     = dict_['vars_ind_numeric']\n",
    "vars_ind_hccv        = dict_['vars_ind_hccv']\n",
    "vars_ind_categorical = dict_['vars_ind_categorical']\n",
    "vars_notToUse        = dict_['vars_notToUse']\n",
    "var_dep              = dict_['var_dep']\n",
    "\n",
    "del f_name, dict_"
   ]
  },
  {
   "cell_type": "code",
   "execution_count": 93,
   "metadata": {},
   "outputs": [
    {
     "data": {
      "text/plain": [
       "['id', 'unique_id']"
      ]
     },
     "execution_count": 93,
     "metadata": {},
     "output_type": "execute_result"
    }
   ],
   "source": [
    "### weirdly, 'id' doesn't appear in index. I believe should use 'unique_id' instead but will leave both in, as not sure how data is being passed to function by prof.\n",
    "#add 'unique_id' to vars_notToUse, remove it from list of numeric variables\n",
    "if 'unique_id' not in vars_notToUse: #make sure we don't add it if already there\n",
    "    vars_notToUse.extend(['unique_id']) \n",
    "# vars_ind_numeric\n",
    "vars_notToUse\n"
   ]
  },
  {
   "cell_type": "code",
   "execution_count": 94,
   "metadata": {},
   "outputs": [],
   "source": [
    "### Set index for train, val, design, test data\n",
    "#### Create folds to seperate train data into train, val, design, test\n",
    "rng = np.random.RandomState(2020)\n",
    "fold = rng.randint(0, 10, df_train.shape[0])\n",
    "df_train['fold'] = fold\n",
    "\n",
    "#get indices for each subset\n",
    "idx_train  = df_train['fold'].isin(range(8))\n",
    "idx_val    = df_train['fold'].isin([7, 8])\n",
    "idx_design = df_train['fold'].isin(range(9))\n",
    "\n",
    "#drop fold column\n",
    "df_train.drop(columns='fold', inplace=True)"
   ]
  },
  {
   "cell_type": "markdown",
   "metadata": {},
   "source": [
    "**Start and connect the H2O JVM**\n",
    "- load previous models"
   ]
  },
  {
   "cell_type": "code",
   "execution_count": 95,
   "metadata": {},
   "outputs": [
    {
     "name": "stdout",
     "output_type": "stream",
     "text": [
      "Checking whether there is an H2O instance running at http://localhost:54321 . connected.\n",
      "Warning: Your H2O cluster version is too old (1 year, 2 months and 7 days)! Please download and install the latest version from http://h2o.ai/download/\n"
     ]
    },
    {
     "data": {
      "text/html": [
       "<div style=\"overflow:auto\"><table style=\"width:50%\"><tr><td>H2O cluster uptime:</td>\n",
       "<td>2 hours 0 mins</td></tr>\n",
       "<tr><td>H2O cluster timezone:</td>\n",
       "<td>Etc/UTC</td></tr>\n",
       "<tr><td>H2O data parsing timezone:</td>\n",
       "<td>UTC</td></tr>\n",
       "<tr><td>H2O cluster version:</td>\n",
       "<td>3.24.0.3</td></tr>\n",
       "<tr><td>H2O cluster version age:</td>\n",
       "<td>1 year, 2 months and 7 days !!!</td></tr>\n",
       "<tr><td>H2O cluster name:</td>\n",
       "<td>H2O_from_python_jovyan_r5blp1</td></tr>\n",
       "<tr><td>H2O cluster total nodes:</td>\n",
       "<td>1</td></tr>\n",
       "<tr><td>H2O cluster free memory:</td>\n",
       "<td>3.026 Gb</td></tr>\n",
       "<tr><td>H2O cluster total cores:</td>\n",
       "<td>4</td></tr>\n",
       "<tr><td>H2O cluster allowed cores:</td>\n",
       "<td>4</td></tr>\n",
       "<tr><td>H2O cluster status:</td>\n",
       "<td>locked, healthy</td></tr>\n",
       "<tr><td>H2O connection url:</td>\n",
       "<td>http://localhost:54321</td></tr>\n",
       "<tr><td>H2O connection proxy:</td>\n",
       "<td>None</td></tr>\n",
       "<tr><td>H2O internal security:</td>\n",
       "<td>False</td></tr>\n",
       "<tr><td>H2O API Extensions:</td>\n",
       "<td>Amazon S3, XGBoost, Algos, AutoML, Core V3, Core V4</td></tr>\n",
       "<tr><td>Python version:</td>\n",
       "<td>3.6.7 final</td></tr></table></div>"
      ],
      "text/plain": [
       "--------------------------  ---------------------------------------------------\n",
       "H2O cluster uptime:         2 hours 0 mins\n",
       "H2O cluster timezone:       Etc/UTC\n",
       "H2O data parsing timezone:  UTC\n",
       "H2O cluster version:        3.24.0.3\n",
       "H2O cluster version age:    1 year, 2 months and 7 days !!!\n",
       "H2O cluster name:           H2O_from_python_jovyan_r5blp1\n",
       "H2O cluster total nodes:    1\n",
       "H2O cluster free memory:    3.026 Gb\n",
       "H2O cluster total cores:    4\n",
       "H2O cluster allowed cores:  4\n",
       "H2O cluster status:         locked, healthy\n",
       "H2O connection url:         http://localhost:54321\n",
       "H2O connection proxy:\n",
       "H2O internal security:      False\n",
       "H2O API Extensions:         Amazon S3, XGBoost, Algos, AutoML, Core V3, Core V4\n",
       "Python version:             3.6.7 final\n",
       "--------------------------  ---------------------------------------------------"
      ]
     },
     "metadata": {},
     "output_type": "display_data"
    }
   ],
   "source": [
    "h2o.init(port=54321)"
   ]
  },
  {
   "cell_type": "markdown",
   "metadata": {},
   "source": [
    "*Models are taking very long to run so have pre-loaded them below.*\n",
    "- uncomment the below code to load the models but note that they must be in the PData directory "
   ]
  },
  {
   "cell_type": "code",
   "execution_count": 96,
   "metadata": {},
   "outputs": [],
   "source": [
    "# ### LOAD THE MODELS\n",
    "\n",
    "# # GLM basic, no interactions, no mean imputation for missing level values in test\n",
    "# # model name: GLM_model_basic\n",
    "# path_glm_basic = dirPData + 'GLM_model_basic'\n",
    "\n",
    "# # GLM basic, no interactions, WITH mean imputation for missing level values in test\n",
    "# # model name: GLM_model_basic_meanImpute\n",
    "# path_glm_basic_meanImpute = dirPData + 'GLM_model_basic_meanImpute'\n",
    "\n",
    "# # GLM numerical divisons, no interactions, WITH mean imputation for missing level values in test\n",
    "# # model name: GLM_model_numeric_meanImpute\n",
    "# path_glm_numeric_meanImpute = dirPData + 'GLM_model_numeric_meanImpute'\n",
    "\n",
    "# # GLM numerical divisons, with interactions, WITH mean imputation for missing level values in test\n",
    "# # model name: GLM_model_numeric_interactions_meanImpute\n",
    "\n",
    "# glm_basic = h2o.load_model(path = path_glm_basic) \n",
    "# glm_basic_meanImpute = h2o.load_model(path = path_glm_basic_meanImpute)\n",
    "# glm_numeric_meanImpute = h2o.load_model(path = path_glm_numeric_meanImpute)"
   ]
  },
  {
   "cell_type": "markdown",
   "metadata": {},
   "source": [
    "**Deal with missings**"
   ]
  },
  {
   "cell_type": "code",
   "execution_count": 97,
   "metadata": {},
   "outputs": [
    {
     "name": "stdout",
     "output_type": "stream",
     "text": [
      "(250000, 97)\n",
      "Series([], dtype: int64)\n",
      "a04    0.411936\n",
      "a05    0.095152\n",
      "a06    0.095152\n",
      "a07    0.095152\n",
      "a08    0.007408\n",
      "a09    0.008360\n",
      "a11    0.095592\n",
      "a14    0.097284\n",
      "a15    0.046692\n",
      "b01    0.131224\n",
      "b05    0.135056\n",
      "b06    0.791212\n",
      "c01    0.035580\n",
      "c03    0.024604\n",
      "d01    0.222176\n",
      "d02    0.231476\n",
      "d03    0.228544\n",
      "e02    0.000008\n",
      "e12    0.004368\n",
      "f11    0.000004\n",
      "f13    0.000004\n",
      "dtype: float64\n"
     ]
    }
   ],
   "source": [
    "#### IDENTIFY NULLS, MISSINGS\n",
    "print(df_train.shape)\n",
    "#collapse axis = 0 i.e. sum missing values,\n",
    "#store as series\n",
    "## Check for nulls\n",
    "srs_null = df_train.isnull().sum(axis=0) \n",
    "print(srs_null[srs_null>0]) #show which features have null values\n",
    "\n",
    "## Check for missings numerics which have been replaced with -99 (placeholder, really it is missing)\n",
    "#get percentage of missing values for each feature\n",
    "srs_missing = pd.DataFrame(df_train.loc[:,:]==-99).sum(axis=0)/len(df_train)\n",
    "print(srs_missing[srs_missing!=0])  #show which numerics have 'missing' placeholder values, and their percentage of missing values\n",
    "\n",
    "#get list of variables which have more than x% missing values\n",
    "#arbitrarily setting threshold to 50% but could tune this parameter if time permits\n",
    "many_missings = [var for var in df_train.columns.values if srs_missing[var]>=.5 ]  \n",
    "\n",
    "## DO NOT USE VARIABLES WITH MORE THAN x% MISSINGS\n",
    "#add vars from many_missings to vars_notToUse, remove them from list of numeric variables\n",
    "vars_notToUse.extend(many_missings)\n",
    "#turn into set and set back into list - deals with issue of duplicates when running code multiple time\n",
    "vars_notToUse = list(set(vars_notToUse)) \n",
    "\n",
    "#remove variables in many_missings from var_ind_numeric\n",
    "vars_ind_numeric = [var for var in vars_ind_numeric if var not in vars_notToUse]\n",
    "# print([var for var in vars_ind_numeric if var in vars_notToUse])  #double check they've been removed: printed list should be empty"
   ]
  },
  {
   "cell_type": "code",
   "execution_count": 98,
   "metadata": {},
   "outputs": [],
   "source": [
    "### MEAN-IMPUTE MISSINGS\n",
    "# list of variables to impute\n",
    "vars_toImpute = [var for var in srs_missing[srs_missing>0].index.tolist() if var not in many_missings]\n",
    "\n",
    "#get subset dataframe (only cols which are in variables_toImpute)\n",
    "#get only values != -99 -> this will mean that the missings will be returned as NaN. Can then use fillna\n",
    "df_temp=df_train[vars_toImpute][df_train[vars_toImpute]!=-99].copy()  #make a working copy\n",
    "\n",
    "#use fillna: computing the mean of each column and filling NaNs with this mean value.\n",
    "df_temp.fillna(df_temp.mean(), inplace=True)\n",
    "\n",
    "df_train[vars_toImpute] = df_temp"
   ]
  },
  {
   "cell_type": "code",
   "execution_count": 99,
   "metadata": {},
   "outputs": [
    {
     "data": {
      "text/plain": [
       "(250000, 97)"
      ]
     },
     "execution_count": 99,
     "metadata": {},
     "output_type": "execute_result"
    }
   ],
   "source": [
    "df_train.shape"
   ]
  },
  {
   "cell_type": "markdown",
   "metadata": {},
   "source": [
    "**Prepare basis functions**"
   ]
  },
  {
   "cell_type": "code",
   "execution_count": 100,
   "metadata": {},
   "outputs": [
    {
     "name": "stdout",
     "output_type": "stream",
     "text": [
      "a04 [ 18.          36.          81.08778636  84.         180.        ]\n",
      "a15 [1. 2. 3. 4. 5. 6.]\n",
      "b01 [ 9. 26. 46. 54. 77. 87.]\n",
      "b05 [ 9. 10. 13. 14. 17. 19.]\n",
      "c01 [11. 21. 54. 88.]\n",
      "c03 [1. 2. 4. 5.]\n",
      "d01 [1.       3.       4.810065 5.       9.      ]\n",
      "d02 [1.         1.35343073 2.        ]\n",
      "d03 [1.         1.80588394 2.        ]\n",
      "e02 [11. 20. 41. 60. 80. 90.]\n",
      "e04 [12. 18. 39. 60. 81. 89.]\n",
      "e05 [ 9. 19. 39. 59. 79. 89.]\n",
      "e06 [20. 61. 76. 89.]\n",
      "e08 [16. 40. 61. 81. 90.]\n",
      "e09 [18. 43. 62. 79. 90.]\n",
      "e12 [11. 20. 41. 59. 79. 89.]\n",
      "e15 [13. 22. 36. 59. 83. 90.]\n",
      "f01 [13. 41. 59. 75.]\n",
      "f02 [10. 19. 40. 58. 79. 90.]\n",
      "f06 [ 9. 19. 60.]\n",
      "f11 [ 4.  6.  9. 11. 13. 15.]\n",
      "f13 [ 4.  6.  8.  9. 10. 11.]\n"
     ]
    }
   ],
   "source": [
    "### Spline numeric variables with cardinality higher than 8\n",
    "# define variables to spline\n",
    "vars_ind_tospline = df_train[vars_ind_numeric].columns[(df_train[vars_ind_numeric].nunique() > 8)].tolist()\n",
    "#Find the percentiles on train data only, then apply same percentiles to both train and test data, even if test data distribution is very different.\n",
    "#update df_train, df_test\n",
    "for var in vars_ind_tospline:\n",
    "    df_ptiles = fn_tosplines(df_train[var])\n",
    "    df_train.drop(columns=[var], inplace=True)\n",
    "    df_test.drop(columns=[var], inplace=True)\n",
    "    vars_ind_numeric.remove(var)\n",
    "    df_train = pd.concat([df_train, df_ptiles], axis=1, sort=False)\n",
    "    df_test = pd.concat([df_test, df_ptiles], axis=1, sort=False)\n",
    "    vars_ind_numeric.extend(df_ptiles.columns.tolist())\n"
   ]
  },
  {
   "cell_type": "code",
   "execution_count": 101,
   "metadata": {},
   "outputs": [
    {
     "data": {
      "text/plain": [
       "(250000, 208)"
      ]
     },
     "execution_count": 101,
     "metadata": {},
     "output_type": "execute_result"
    }
   ],
   "source": [
    "df_train.shape"
   ]
  },
  {
   "cell_type": "code",
   "execution_count": 102,
   "metadata": {},
   "outputs": [
    {
     "data": {
      "text/plain": [
       "(296690, 207)"
      ]
     },
     "execution_count": 102,
     "metadata": {},
     "output_type": "execute_result"
    }
   ],
   "source": [
    "df_test.shape"
   ]
  },
  {
   "cell_type": "code",
   "execution_count": 17,
   "metadata": {},
   "outputs": [],
   "source": [
    "# for convenience store dependent variable as y\n",
    "y = df_train[var_dep].values.ravel()"
   ]
  },
  {
   "cell_type": "markdown",
   "metadata": {},
   "source": [
    "**HCCV**\n",
    "- note that any modifications made to train data must also be made to test data (engineered colums etc)"
   ]
  },
  {
   "cell_type": "code",
   "execution_count": 18,
   "metadata": {},
   "outputs": [
    {
     "name": "stdout",
     "output_type": "stream",
     "text": [
      "1\n",
      "21244\n",
      "e17       82\n",
      "e18      684\n",
      "e19    21244\n",
      "f10     1704\n",
      "dtype: int64\n"
     ]
    }
   ],
   "source": [
    "### GET HCCV VARS\n",
    "\n",
    "## If want to use some cardinality threshold other than 30, can edit threshold below:\n",
    "th_card = 30\n",
    "srs_card = df_train[vars_ind_categorical].nunique()\n",
    "print(srs_card.min())\n",
    "print(srs_card.max())\n",
    "print(srs_card[srs_card>th_card])\n",
    "vars_ind_hccv = srs_card[srs_card>th_card].index.values.tolist()  #stores names of categorical variables with cardinality higher than threshold"
   ]
  },
  {
   "cell_type": "code",
   "execution_count": 19,
   "metadata": {},
   "outputs": [],
   "source": [
    "### HCCV ENCODING USING category_encoders\n",
    "\n",
    "enc = LeaveOneOutEncoder(cols=vars_ind_hccv, sigma=0.3)\n",
    "enc.fit(df_train[idx_design], y[idx_design])\n",
    "df_train = enc.transform(df_train)  #encode hccvs in train data\n",
    "# df_train[vars_ind_hccv].head()\n",
    "\n",
    "df_test['target'] = np.nan  #add NaN target column to test dataset in order for it to have same shape as df_train\n",
    "df_test = enc.transform(df_test)  #encode hccvs in test data\n",
    "df_test.drop(columns='target', inplace=True)  #drop target column from df_test "
   ]
  },
  {
   "cell_type": "code",
   "execution_count": 20,
   "metadata": {},
   "outputs": [],
   "source": [
    "# df_train[vars_ind_hccv]  #see newly added hccv columns in train data"
   ]
  },
  {
   "cell_type": "markdown",
   "metadata": {},
   "source": [
    "**Try out some interactions**\n",
    "- same applies here, whatever interactions are in train data must also be in test data"
   ]
  },
  {
   "cell_type": "code",
   "execution_count": 81,
   "metadata": {},
   "outputs": [
    {
     "name": "stdout",
     "output_type": "stream",
     "text": [
      "Parse progress: |█████████████████████████████████████████████████████████| 100%\n",
      "Interactions progress: |██████████████████████████████████████████████████| 100%\n",
      "Parse progress: |█████████████████████████████████████████████████████████| 100%\n",
      "Interactions progress: |██████████████████████████████████████████████████| 100%\n"
     ]
    }
   ],
   "source": [
    "### NOTE: The below interactions are created based on the largest\n",
    "### coefficients in a previously-run model. The code below identifies\n",
    "### those coefficients by loading the model and manipulating the data.\n",
    "### However, as assignment requires only input to be train and test\n",
    "### datasets, the most important variables have been hardcoded in.\n",
    "\n",
    "\n",
    "# ##Inspect coefficients from basic model with no interactions\n",
    "# # Plot standardised coefficients\n",
    "# glm_basic.std_coef_plot(num_of_features=10)\n",
    "\n",
    "# # Get list of 5 most important variables via varimp()\n",
    "# # note that glm_basic.varimp() contains some onehots created by H2o on the fly when building the model, and thus some aren't actually present in the train/test frames\n",
    "# # therefore can't refer to them before running a model, and we need to refer to the original variables before h2o onehots them\n",
    "# # we extract these by:\n",
    "# # - getting only the name of the variable and not its values i.e. var[0] for var in glm_basic.varimp()\n",
    "# # - splitting on onehot delimiter '.' and keeping only first part of result. This is name of original variable\n",
    "\n",
    "# # Get list of FIVE most important categorical variables\n",
    "# vars_mostImp_cat=[]\n",
    "# for var in glm_basic.varimp():\n",
    "#     orig_var = var[0].split('.')[0]\n",
    "#     if orig_var in vars_ind_categorical and orig_var not in vars_mostImp_cat:  #check if numeric\n",
    "#         #add to list of important categorical vars only if not already in list\n",
    "#         vars_mostImp_cat.append(orig_var)\n",
    "#     if len(vars_mostImp_cat)>= 5:\n",
    "#         break\n",
    "# vars_mostImp_cat\n",
    "\n",
    "\n",
    "vars_mostImp_cat=['f09', 'f03', 'f07', 'f27', 'e11']  #comment this line if uncommenting the above block\n",
    "\n",
    "#Get dataframe of interactions all pairwise interactions between five most important categorical variables\n",
    "df_train_interactions = fn_createInteractions(df_train, vars_mostImp_cat)\n",
    "df_test_interactions = fn_createInteractions(df_test, vars_mostImp_cat)\n",
    "\n",
    "#append new columns to df_train and df_test\n",
    "df_train[df_train_interactions.columns.values] = df_train_interactions\n",
    "df_test[df_test_interactions.columns.values] = df_test_interactions\n",
    "\n",
    "# include new numeric variables in vars_ind_numeric\n",
    "vars_ind_categorical.extend(df_train_interactions.columns.tolist())"
   ]
  },
  {
   "cell_type": "markdown",
   "metadata": {},
   "source": [
    "**Try out some other features e.g. division of numerics**\n",
    "- must also add engineered columns to test data"
   ]
  },
  {
   "cell_type": "code",
   "execution_count": 83,
   "metadata": {},
   "outputs": [],
   "source": [
    "### DEFINE THREE MOST IMPORTANT NUMERICAL VARS\n",
    "\n",
    "### NOTE: The below interactions are created based on the largest\n",
    "### coefficients in a previously-run model. The code below identifies\n",
    "### those coefficients by loading the model and manipulating the data.\n",
    "### However, as assignment requires only input to be train and test\n",
    "### datasets, the most important variables have been hardcoded in.\n",
    "\n",
    "\n",
    "# # plot largest standardised coefficients\n",
    "# # glm_basic.std_coef_plot(num_of_features=10)\n",
    "# # Get list of THREE most important variables\n",
    "# vars_mostImp_numeric=[]\n",
    "# for var in glm_basic.varimp():\n",
    "#     orig_var = var[0].split('.')[0]\n",
    "#     if orig_var in vars_ind_numeric and orig_var not in vars_mostImp_numeric:  #check if numeric\n",
    "#         #add to list of important numeric vars\n",
    "#         vars_mostImp_numeric.append(orig_var)\n",
    "#     if len(vars_mostImp_numeric)>= 3:\n",
    "#         break\n",
    "\n",
    "vars_mostImp_numeric=['f11', 'f11_0', 'f11_1']  #comment this line if uncommenting the above block\n",
    "### COMPUTE RATIO COLUMNS FOR BOTH DATASETS\n",
    "df_temp_train = fn_computeRatiosOfNumerics(df_train, vars_mostImp_numeric)\n",
    "df_temp_test = fn_computeRatiosOfNumerics(df_test, vars_mostImp_numeric)\n",
    "\n",
    "#append new columns to df_train and df_test\n",
    "df_train[df_temp_train.columns.values] = df_temp_train\n",
    "df_test[df_temp_test.columns.values] = df_temp_test\n",
    "\n",
    "# include new numeric variables in vars_ind_numeric\n",
    "if df_temp_train.columns.tolist() not in vars_ind_numeric:\n",
    "    vars_ind_numeric.extend(df_temp_train.columns.tolist())"
   ]
  },
  {
   "cell_type": "code",
   "execution_count": 86,
   "metadata": {},
   "outputs": [
    {
     "data": {
      "text/plain": [
       "['b01_1',\n",
       " 'f24',\n",
       " 'c03_3',\n",
       " 'd01',\n",
       " 'c03',\n",
       " 'e09_0',\n",
       " 'c01_0',\n",
       " 'b05_0',\n",
       " 'b01_5',\n",
       " 'ratio_f11_1.f11_0',\n",
       " 'a04_3',\n",
       " 'f11_5',\n",
       " 'f02',\n",
       " 'e04_3',\n",
       " 'b01_0',\n",
       " 'f13_2',\n",
       " 'e09_2',\n",
       " 'e04',\n",
       " 'a04_0',\n",
       " 'b01',\n",
       " 'e05_3',\n",
       " 'e09',\n",
       " 'ratio_f11_0.f11',\n",
       " 'f11_0',\n",
       " 'f11_3',\n",
       " 'e06_3',\n",
       " 'b05_1',\n",
       " 'f21',\n",
       " 'f06_0',\n",
       " 'f06_2',\n",
       " 'f13_4',\n",
       " 'e09_3',\n",
       " 'f01_1',\n",
       " 'e05_4',\n",
       " 'f25',\n",
       " 'c01',\n",
       " 'e02_2',\n",
       " 'a15',\n",
       " 'e15',\n",
       " 'f01',\n",
       " 'e12_5',\n",
       " 'e04_0',\n",
       " 'e08_2',\n",
       " 'e09_4',\n",
       " 'e06_1',\n",
       " 'a04',\n",
       " 'e08_0',\n",
       " 'f17',\n",
       " 'e02_4',\n",
       " 'f13_5',\n",
       " 'e07',\n",
       " 'a05',\n",
       " 'd03_0',\n",
       " 'f16',\n",
       " 'd03',\n",
       " 'f01_3',\n",
       " 'f06',\n",
       " 'f11_4',\n",
       " 'e23',\n",
       " 'f02_4',\n",
       " 'd02_2',\n",
       " 'e04_1',\n",
       " 'a15_3',\n",
       " 'e15_1',\n",
       " 'e04_5',\n",
       " 'ratio_f11.f11_0',\n",
       " 'f23',\n",
       " 'f26',\n",
       " 'e02_0',\n",
       " 'e06_0',\n",
       " 'd01_0',\n",
       " 'd01_3',\n",
       " 'e05',\n",
       " 'a15_2',\n",
       " 'e06',\n",
       " 'e15_3',\n",
       " 'a06',\n",
       " 'e05_2',\n",
       " 'f28',\n",
       " 'd03_1',\n",
       " 'b05',\n",
       " 'd02_1',\n",
       " 'c03_1',\n",
       " 'b01_3',\n",
       " 'e12_1',\n",
       " 'f01_2',\n",
       " 'e08_4',\n",
       " 'e08_3',\n",
       " 'a15_5',\n",
       " 'e12_0',\n",
       " 'd01_4',\n",
       " 'a15_1',\n",
       " 'd02_0',\n",
       " 'f19',\n",
       " 'b01_4',\n",
       " 'e05_0',\n",
       " 'f18',\n",
       " 'e15_2',\n",
       " 'e09_1',\n",
       " 'a11',\n",
       " 'f31',\n",
       " 'f02_3',\n",
       " 'e04_4',\n",
       " 'c01_3',\n",
       " 'e15_5',\n",
       " 'e04_2',\n",
       " 'f02_1',\n",
       " 'a08',\n",
       " 'a04_2',\n",
       " 'f22',\n",
       " 'e12_3',\n",
       " 'e16',\n",
       " 'f11_2',\n",
       " 'b05_3',\n",
       " 'f13_1',\n",
       " 'ratio_f11_1.f11',\n",
       " 'a04_4',\n",
       " 'd03_2',\n",
       " 'a07',\n",
       " 'f32',\n",
       " 'e02_1',\n",
       " 'e05_5',\n",
       " 'e12_2',\n",
       " 'f11',\n",
       " 'a15_0',\n",
       " 'c03_2',\n",
       " 'e12',\n",
       " 'f11_1',\n",
       " 'f02_5',\n",
       " 'c01_2',\n",
       " 'f02_0',\n",
       " 'f08',\n",
       " 'f15',\n",
       " 'e05_1',\n",
       " 'e15_0',\n",
       " 'f20',\n",
       " 'd01_1',\n",
       " 'e08',\n",
       " 'd01_2',\n",
       " 'f13_0',\n",
       " 'a04_1',\n",
       " 'e08_1',\n",
       " 'e02_3',\n",
       " 'b01_2',\n",
       " 'b05_2',\n",
       " 'a14',\n",
       " 'f06_1',\n",
       " 'ratio_f11_0.f11_1',\n",
       " 'b05_5',\n",
       " 'e12_4',\n",
       " 'f01_0',\n",
       " 'c01_1',\n",
       " 'd02',\n",
       " 'e02',\n",
       " 'f13',\n",
       " 'f13_3',\n",
       " 'e15_4',\n",
       " 'a15_4',\n",
       " 'e02_5',\n",
       " 'f02_2',\n",
       " 'ratio_f11.f11_1',\n",
       " 'b05_4',\n",
       " 'a09',\n",
       " 'e06_2',\n",
       " 'c03_0']"
      ]
     },
     "execution_count": 86,
     "metadata": {},
     "output_type": "execute_result"
    }
   ],
   "source": [
    "vars_ind_numeric"
   ]
  },
  {
   "cell_type": "markdown",
   "metadata": {},
   "source": [
    "**Load data to h2o JVM**"
   ]
  },
  {
   "cell_type": "code",
   "execution_count": 63,
   "metadata": {
    "colab": {
     "base_uri": "https://localhost:8080/",
     "height": 528
    },
    "colab_type": "code",
    "executionInfo": {
     "elapsed": 5161,
     "status": "ok",
     "timestamp": 1562674411420,
     "user": {
      "displayName": "K a l o u",
      "photoUrl": "https://lh4.googleusercontent.com/-EYTbYeNdLqk/AAAAAAAAAAI/AAAAAAAAADk/OD6CDp5FiG4/s64/photo.jpg",
      "userId": "10262331298445208932"
     },
     "user_tz": -60
    },
    "id": "B95eXEe1PwMm",
    "outputId": "0ea04f12-897d-49b2-e266-c502514c569c"
   },
   "outputs": [],
   "source": [
    "# h2o.init(port=54321)\n",
    "# h2o.connect(port=54321)"
   ]
  },
  {
   "cell_type": "code",
   "execution_count": 64,
   "metadata": {},
   "outputs": [],
   "source": [
    "# # remove all data loaded in JVM\n",
    "# for key in h2o.ls()['key']:\n",
    "#     h2o.remove(key)"
   ]
  },
  {
   "cell_type": "code",
   "execution_count": 65,
   "metadata": {},
   "outputs": [],
   "source": [
    "# Is df_train already in the JVM?\n",
    "# h2o.ls()"
   ]
  },
  {
   "cell_type": "code",
   "execution_count": 66,
   "metadata": {},
   "outputs": [],
   "source": [
    "# It if is, then just create a handle:\n",
    "# h2o_df_train = h2o.get_frame('df_train')\n",
    "# h2o_df_test = h2o.get_frame('df_test')\n"
   ]
  },
  {
   "cell_type": "code",
   "execution_count": 67,
   "metadata": {
    "colab": {
     "base_uri": "https://localhost:8080/",
     "height": 34
    },
    "colab_type": "code",
    "executionInfo": {
     "elapsed": 7419,
     "status": "ok",
     "timestamp": 1562674461598,
     "user": {
      "displayName": "K a l o u",
      "photoUrl": "https://lh4.googleusercontent.com/-EYTbYeNdLqk/AAAAAAAAAAI/AAAAAAAAADk/OD6CDp5FiG4/s64/photo.jpg",
      "userId": "10262331298445208932"
     },
     "user_tz": -60
    },
    "id": "0I1VAotDPwMu",
    "outputId": "3a7a6671-cbbf-4012-ea0b-6545ac94cd35"
   },
   "outputs": [
    {
     "name": "stdout",
     "output_type": "stream",
     "text": [
      "Parse progress: |█████████████████████████████████████████████████████████| 100%\n",
      "Parse progress: |█████████████████████████████████████████████████████████| 100%\n"
     ]
    }
   ],
   "source": [
    "# Create H2OFrames in H2O cluster\n",
    "h2o_df_train = h2o.H2OFrame(df_train[vars_ind_numeric + vars_ind_categorical + var_dep],\n",
    "                           destination_frame='df_train')\n",
    "h2o_df_test = h2o.H2OFrame(df_test[vars_ind_numeric + vars_ind_categorical],\n",
    "                           destination_frame='df_test')"
   ]
  },
  {
   "cell_type": "markdown",
   "metadata": {},
   "source": [
    "Change target to enum type as we are building a classification model"
   ]
  },
  {
   "cell_type": "code",
   "execution_count": 68,
   "metadata": {
    "colab": {
     "base_uri": "https://localhost:8080/",
     "height": 34
    },
    "colab_type": "code",
    "executionInfo": {
     "elapsed": 515,
     "status": "ok",
     "timestamp": 1562674465147,
     "user": {
      "displayName": "K a l o u",
      "photoUrl": "https://lh4.googleusercontent.com/-EYTbYeNdLqk/AAAAAAAAAAI/AAAAAAAAADk/OD6CDp5FiG4/s64/photo.jpg",
      "userId": "10262331298445208932"
     },
     "user_tz": -60
    },
    "id": "AryWJbCiPwMy",
    "outputId": "065b0973-faff-4ac8-d0e7-58f2f28e05be"
   },
   "outputs": [
    {
     "data": {
      "text/plain": [
       "{'target': 'int'}"
      ]
     },
     "execution_count": 68,
     "metadata": {},
     "output_type": "execute_result"
    }
   ],
   "source": [
    "h2o_df_train[var_dep].types"
   ]
  },
  {
   "cell_type": "code",
   "execution_count": 69,
   "metadata": {
    "colab": {
     "base_uri": "https://localhost:8080/",
     "height": 34
    },
    "colab_type": "code",
    "executionInfo": {
     "elapsed": 542,
     "status": "ok",
     "timestamp": 1562674467834,
     "user": {
      "displayName": "K a l o u",
      "photoUrl": "https://lh4.googleusercontent.com/-EYTbYeNdLqk/AAAAAAAAAAI/AAAAAAAAADk/OD6CDp5FiG4/s64/photo.jpg",
      "userId": "10262331298445208932"
     },
     "user_tz": -60
    },
    "id": "yOF_h-uxPwM2",
    "outputId": "c4e94779-7a6d-402f-9a28-00ddba22e7af"
   },
   "outputs": [
    {
     "data": {
      "text/plain": [
       "{'target': 'enum'}"
      ]
     },
     "execution_count": 69,
     "metadata": {},
     "output_type": "execute_result"
    }
   ],
   "source": [
    "#### Set target type to enum\n",
    "h2o_df_train[var_dep] = h2o_df_train[var_dep].asfactor()\n",
    "h2o_df_train[var_dep].types"
   ]
  },
  {
   "cell_type": "code",
   "execution_count": null,
   "metadata": {},
   "outputs": [],
   "source": [
    "# var_dep"
   ]
  },
  {
   "cell_type": "markdown",
   "metadata": {},
   "source": [
    "**Define the features to be used**"
   ]
  },
  {
   "cell_type": "code",
   "execution_count": 71,
   "metadata": {
    "colab": {},
    "colab_type": "code",
    "id": "NR9C_qqjPwM8"
   },
   "outputs": [],
   "source": [
    "features = vars_ind_numeric + vars_ind_categorical"
   ]
  },
  {
   "cell_type": "markdown",
   "metadata": {},
   "source": [
    "**lambda_search for alpha and lambda given an identity link**\n",
    "- According to H2O documentation, must use logit link as we are estimating a binomial classification model. "
   ]
  },
  {
   "cell_type": "code",
   "execution_count": 72,
   "metadata": {},
   "outputs": [
    {
     "name": "stdout",
     "output_type": "stream",
     "text": [
      "Parse progress: |█████████████████████████████████████████████████████████| 100%\n",
      "Parse progress: |█████████████████████████████████████████████████████████| 100%\n",
      "Parse progress: |█████████████████████████████████████████████████████████| 100%\n"
     ]
    }
   ],
   "source": [
    "idx_h2o_train  = h2o.H2OFrame(idx_train.astype('int').values)\n",
    "idx_h2o_val    = h2o.H2OFrame(idx_val.astype('int').values)\n",
    "idx_h2o_design = h2o.H2OFrame(idx_design.astype('int').values)"
   ]
  },
  {
   "cell_type": "code",
   "execution_count": 74,
   "metadata": {},
   "outputs": [
    {
     "name": "stdout",
     "output_type": "stream",
     "text": [
      "glm Model Build progress: |███████████████████████████████████████████████| 100%\n",
      "CPU times: user 7.14 s, sys: 346 ms, total: 7.48 s\n",
      "Wall time: 32min 11s\n"
     ]
    }
   ],
   "source": [
    "%%time\n",
    "# We set family to bimonial as we are running a classification GLM model (with only two classes).\n",
    "# missing_values_handling -> MeanImputation: deals with new sample having categorical levels not seen in training. Replaces the unseen value with the most frequent level present in training.\n",
    "# keep_cross_valudation_* -> set to false as only concerned with best final model. Saves some memory in H2o cluster.\n",
    "model=H2OGeneralizedLinearEstimator(  alpha=0.99\n",
    "                                        , family='binomial'\n",
    "                                        , link='logit'\n",
    "                                        , lambda_search=True\n",
    "                                        , lambda_min_ratio=1e-7\n",
    "                                        , nlambdas=100\n",
    "                                        , early_stopping=True\n",
    "                                        , nfolds=10\n",
    "                                        , seed=2020\n",
    "                                        , keep_cross_validation_models=False\n",
    "                                        , keep_cross_validation_predictions=False\n",
    "                                        , keep_cross_validation_fold_assignment=False\n",
    "                                        , missing_values_handling='mean_imputation'\n",
    "                                   )\n",
    "model.train(x=features, \n",
    "            y='target',\n",
    "            training_frame=h2o_df_train[idx_h2o_design, :])\n",
    "\n",
    "### NOTE: models were taking very long to run (>1hr) so I changed \n",
    "### the number of landas to search to 100, and enabled early-stopping,\n",
    "### which seems to save a decent amount of time without negatively \n",
    "### affecting performance."
   ]
  },
  {
   "cell_type": "code",
   "execution_count": 75,
   "metadata": {},
   "outputs": [],
   "source": [
    "### Save the model\n",
    "glm_curr = model\n",
    "glm_curr_path = h2o.save_model(model=glm_curr, path=dirPData, force=True)"
   ]
  },
  {
   "cell_type": "code",
   "execution_count": 76,
   "metadata": {},
   "outputs": [
    {
     "data": {
      "text/plain": [
       "'/home/jovyan/Projects/final_assignment/PData/GLM_model_python_1594764900026_1'"
      ]
     },
     "execution_count": 76,
     "metadata": {},
     "output_type": "execute_result"
    }
   ],
   "source": [
    "glm_curr_path"
   ]
  },
  {
   "cell_type": "code",
   "execution_count": 77,
   "metadata": {},
   "outputs": [
    {
     "name": "stdout",
     "output_type": "stream",
     "text": [
      "glm prediction progress: |████████████████████████████████████████████████| 100%\n"
     ]
    },
    {
     "name": "stderr",
     "output_type": "stream",
     "text": [
      "/opt/conda/lib/python3.6/site-packages/h2o/job.py:69: UserWarning: Test/Validation dataset column 'f09_e11' has levels not trained on: [D_C, L_C, L_D, L_G]\n",
      "  warnings.warn(w)\n",
      "/opt/conda/lib/python3.6/site-packages/h2o/job.py:69: UserWarning: Test/Validation dataset column 'f09_f03' has levels not trained on: [D_B, L_B]\n",
      "  warnings.warn(w)\n",
      "/opt/conda/lib/python3.6/site-packages/h2o/job.py:69: UserWarning: Test/Validation dataset column 'f09_f27' has levels not trained on: [H_X, I_E, J_D, J_X, K_C, L_E]\n",
      "  warnings.warn(w)\n",
      "/opt/conda/lib/python3.6/site-packages/h2o/job.py:69: UserWarning: Test/Validation dataset column 'f09_f07' has levels not trained on: [H_B, H_C, K_B, K_C]\n",
      "  warnings.warn(w)\n",
      "/opt/conda/lib/python3.6/site-packages/h2o/job.py:69: UserWarning: Test/Validation dataset column 'f03_f27' has levels not trained on: [D_X, E_C, E_X, F_D, G_B, G_E]\n",
      "  warnings.warn(w)\n",
      "/opt/conda/lib/python3.6/site-packages/h2o/job.py:69: UserWarning: Test/Validation dataset column 'e20' has levels not trained on: [30146, BE271, nan]\n",
      "  warnings.warn(w)\n",
      "/opt/conda/lib/python3.6/site-packages/h2o/job.py:69: UserWarning: Test/Validation dataset column 'f07_f27' has levels not trained on: [B_E, B_X, C_E, Z_E]\n",
      "  warnings.warn(w)\n",
      "/opt/conda/lib/python3.6/site-packages/h2o/job.py:69: UserWarning: Test/Validation dataset column 'e13' has levels not trained on: [Q, S]\n",
      "  warnings.warn(w)\n",
      "/opt/conda/lib/python3.6/site-packages/h2o/job.py:69: UserWarning: Test/Validation dataset column 'e03' has levels not trained on: [J, nan]\n",
      "  warnings.warn(w)\n",
      "/opt/conda/lib/python3.6/site-packages/h2o/job.py:69: UserWarning: Test/Validation dataset column 'e24' has levels not trained on: [J, M, nan]\n",
      "  warnings.warn(w)\n",
      "/opt/conda/lib/python3.6/site-packages/h2o/job.py:69: UserWarning: Test/Validation dataset column 'c09' has levels not trained on: [nan]\n",
      "  warnings.warn(w)\n",
      "/opt/conda/lib/python3.6/site-packages/h2o/job.py:69: UserWarning: Test/Validation dataset column 'a18' has levels not trained on: [D]\n",
      "  warnings.warn(w)\n"
     ]
    }
   ],
   "source": [
    "### PREDICT\n",
    "temp_preds = model.predict(h2o_df_test)"
   ]
  },
  {
   "cell_type": "code",
   "execution_count": 78,
   "metadata": {},
   "outputs": [],
   "source": [
    "temp_preds\n",
    "df_test['Predicted'] = np.round(temp_preds[2].as_data_frame(), 5)\n",
    "df_preds = df_test[['unique_id', 'Predicted']].copy()\n",
    "df_test[['unique_id', 'Predicted']].to_csv(dirPOutput + 'part1_preds_num_interactions_meanImpute_250k.csv', index=False)\n",
    "# h2o_df_train[idx_h2o_val]"
   ]
  },
  {
   "cell_type": "code",
   "execution_count": null,
   "metadata": {},
   "outputs": [],
   "source": [
    "### Inspect coefficients\n",
    "#plot\n",
    "glm_bst.std_coef_plot(num_of_features=10)\n",
    "#get list of 5 most important variables\n",
    "vars_mostImp = [var[0] for var in glm_bst.varimp()[0:5]]\n",
    "#note that vars_mostImp is made up of onehots created by H2o and thus some aren't actually present in the train/test frames\n",
    "#we need to refer to the original variables before h2o onehots them\n",
    "vars_mostImp = [var.split('.')[0] for var in vars_mostImp] #split on the onehot delimiter and keep only the first part of the variable name (i.e. the original variable name)"
   ]
  },
  {
   "cell_type": "code",
   "execution_count": null,
   "metadata": {},
   "outputs": [],
   "source": [
    "# df_train['f09.F']\n",
    "# [var.split('.')[0] for var in vars_mostImp]"
   ]
  },
  {
   "cell_type": "code",
   "execution_count": null,
   "metadata": {},
   "outputs": [],
   "source": [
    "bst_pred_train = glm_bst.predict(h2o_df_train[idx_h2o_train, :])\n",
    "bst_pred_val   = glm_bst.predict(h2o_df_train[idx_h2o_val, :])\n",
    "# bst_pred_test  = glm_bst.predict(h2o_df_all[idx_h2o_test, :])\n",
    "\n",
    "bst_pred_train = bst_pred_train.as_data_frame().values.ravel()\n",
    "bst_pred_val   = bst_pred_val.as_data_frame().values.ravel()\n",
    "# bst_pred_test  = bst_pred_test.as_data_frame().values.ravel()\n",
    "\n",
    "print('train error', fn_MAE(y[idx_train], bst_pred_train))\n",
    "print('val error',   fn_MAE(y[idx_val], bst_pred_val))\n",
    "# print('test error',  fn_MAE(y[idx_test], bst_pred_test))\n",
    "\n",
    "h2o.show_progress()\n",
    "\n",
    "# AC run gives\n",
    "#train error 11950.0\n",
    "#val error 12077.0\n",
    "#test error 13667.0\n",
    "# And these should be reproduced by this code"
   ]
  },
  {
   "cell_type": "code",
   "execution_count": null,
   "metadata": {},
   "outputs": [],
   "source": [
    "bst_pred_train"
   ]
  },
  {
   "cell_type": "code",
   "execution_count": null,
   "metadata": {},
   "outputs": [],
   "source": [
    "# len(set(df_test[vars_ind_numeric+vars_ind_categorical].columns.values))"
   ]
  },
  {
   "cell_type": "code",
   "execution_count": null,
   "metadata": {},
   "outputs": [],
   "source": [
    "# len(df_test[~df_test[['unique_id','b06']]].columns)\n",
    "# vars_notToUse\n",
    "# temp = ['unique_id','b06']\n",
    "# df_test[temp]\n",
    "# set(features) == set(vars_ind_numeric+vars_ind_categorical) #only order differs\n",
    "# len(features)"
   ]
  },
  {
   "cell_type": "markdown",
   "metadata": {
    "colab_type": "text",
    "id": "iS_xVSanPwNy"
   },
   "source": [
    "**Create Predictions**\n",
    "\n",
    "When, the h2o tries to make predictions, we get a warning telling us that in some features there are some observations with new levels of the factors and these values were not present in the training dataset.  There is not alot we can do about this.  You should make sure you udnerstand how H2O makes predictions in such a case."
   ]
  },
  {
   "cell_type": "code",
   "execution_count": null,
   "metadata": {
    "colab": {
     "base_uri": "https://localhost:8080/",
     "height": 34
    },
    "colab_type": "code",
    "executionInfo": {
     "elapsed": 4864,
     "status": "ok",
     "timestamp": 1562674684502,
     "user": {
      "displayName": "K a l o u",
      "photoUrl": "https://lh4.googleusercontent.com/-EYTbYeNdLqk/AAAAAAAAAAI/AAAAAAAAADk/OD6CDp5FiG4/s64/photo.jpg",
      "userId": "10262331298445208932"
     },
     "user_tz": -60
    },
    "id": "LtCrxIjzPwN0",
    "outputId": "ba0778fe-2ef5-41fa-e5d1-81298892d25e"
   },
   "outputs": [],
   "source": [
    "# h2o_df_test = h2o.H2OFrame(df_test[vars_ind_numeric + vars_ind_categorical],\n",
    "#                            destination_frame='df_test')"
   ]
  },
  {
   "cell_type": "code",
   "execution_count": null,
   "metadata": {
    "colab": {
     "base_uri": "https://localhost:8080/",
     "height": 136
    },
    "colab_type": "code",
    "executionInfo": {
     "elapsed": 714,
     "status": "ok",
     "timestamp": 1562674687811,
     "user": {
      "displayName": "K a l o u",
      "photoUrl": "https://lh4.googleusercontent.com/-EYTbYeNdLqk/AAAAAAAAAAI/AAAAAAAAADk/OD6CDp5FiG4/s64/photo.jpg",
      "userId": "10262331298445208932"
     },
     "user_tz": -60
    },
    "id": "d9OBNXcZPwN9",
    "outputId": "ac1df6e9-3ded-415a-f081-76ccc508acd1"
   },
   "outputs": [],
   "source": [
    "preds = glm_bst.predict(h2o_df_test)\n",
    "\n",
    "# preds = model.predict(h2o_df_test)\n",
    "# There is no need to round your predictions\n"
   ]
  },
  {
   "cell_type": "code",
   "execution_count": null,
   "metadata": {},
   "outputs": [],
   "source": [
    "preds"
   ]
  },
  {
   "cell_type": "code",
   "execution_count": null,
   "metadata": {},
   "outputs": [],
   "source": [
    "df_test['Predicted'] = np.round(preds[2].as_data_frame(), 5)\n",
    "df_preds = df_test[['unique_id', 'Predicted']].copy()\n",
    "df_test[['unique_id', 'Predicted']].to_csv(dirPOutput + 'part1_preds_250k.csv', index=False)"
   ]
  },
  {
   "cell_type": "code",
   "execution_count": null,
   "metadata": {},
   "outputs": [],
   "source": [
    "df_preds"
   ]
  },
  {
   "cell_type": "markdown",
   "metadata": {
    "colab": {},
    "colab_type": "code",
    "id": "ACEpxn3YPwOL"
   },
   "source": [
    "Now you can submit 04b_df_preds_dt_250k.csv on Kaggle.  You should get an AUROC of around 0.75"
   ]
  },
  {
   "cell_type": "markdown",
   "metadata": {},
   "source": [
    "**Note**\n",
    "\n",
    "If you shut down your h2o JVM in this session, then any other Python notebooks open will also loose the JVM since they all connect to the same JVM!  "
   ]
  },
  {
   "cell_type": "code",
   "execution_count": null,
   "metadata": {
    "colab": {
     "base_uri": "https://localhost:8080/",
     "height": 34
    },
    "colab_type": "code",
    "executionInfo": {
     "elapsed": 528,
     "status": "ok",
     "timestamp": 1562674795290,
     "user": {
      "displayName": "K a l o u",
      "photoUrl": "https://lh4.googleusercontent.com/-EYTbYeNdLqk/AAAAAAAAAAI/AAAAAAAAADk/OD6CDp5FiG4/s64/photo.jpg",
      "userId": "10262331298445208932"
     },
     "user_tz": -60
    },
    "id": "HOP3NaYBPwOO",
    "outputId": "24b4d559-3307-4b24-caef-72a637790fe0"
   },
   "outputs": [],
   "source": [
    "h2o.cluster().shutdown()"
   ]
  },
  {
   "cell_type": "code",
   "execution_count": null,
   "metadata": {
    "colab": {},
    "colab_type": "code",
    "id": "UHLAZxx3PwOS"
   },
   "outputs": [],
   "source": []
  }
 ],
 "metadata": {
  "colab": {
   "collapsed_sections": [
    "3smVMkl0PwND",
    "H8sn8pF4PwNm"
   ],
   "name": "*Decision Tree.ipynb",
   "provenance": [],
   "version": "0.3.2"
  },
  "kernelspec": {
   "display_name": "Python 3",
   "language": "python",
   "name": "python3"
  },
  "language_info": {
   "codemirror_mode": {
    "name": "ipython",
    "version": 3
   },
   "file_extension": ".py",
   "mimetype": "text/x-python",
   "name": "python",
   "nbconvert_exporter": "python",
   "pygments_lexer": "ipython3",
   "version": "3.6.7"
  }
 },
 "nbformat": 4,
 "nbformat_minor": 1
}
