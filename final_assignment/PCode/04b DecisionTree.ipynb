{
 "cells": [
  {
   "cell_type": "markdown",
   "metadata": {
    "colab_type": "text",
    "id": "TNQvOgFJPwMR"
   },
   "source": [
    "# Decision Tree\n",
    "\n",
    "In h2o there is no class dedicated to creating a single decision tree.\n",
    "\n",
    "However, we can create a single decision tree with a Gradient Boosting Estimator by appropriately setting some parameters:\n",
    "- ntrees = 1 (obviously)\n",
    "- sample_rate = 1: Use all of the data.\n",
    "- col_sample_rate = 1: Use all of the features.\n",
    "\n",
    "We now have two parameters to control the complexity\n",
    "- min_rows: This option specifies the minimum number of observations for a leaf in order to split it further. \n",
    "- max_depth: How deep the tree can be grown.\n",
    "\n",
    "There is no cost-complexity pruning with a cp parameter (as there is with R).  So we will simply fix the max_depth to be quite large and then try different values for min_rows.\n",
    "\n",
    "The best trees were evaluated based on the highest auc using cross-validation with 5 folds.\n"
   ]
  },
  {
   "cell_type": "markdown",
   "metadata": {
    "colab_type": "text",
    "id": "aDp4OfVkp5Ec"
   },
   "source": [
    "**Import packages**"
   ]
  },
  {
   "cell_type": "markdown",
   "metadata": {},
   "source": [
    "I am not familiar with colab, but some students last year used it.  It did not, at that time, have H2O, but they were able to install it quite simply with the following code:\n",
    "\n",
    " - !apt-get install default-jre\n",
    " - !java -version\n",
    " - !pip install h2o"
   ]
  },
  {
   "cell_type": "code",
   "execution_count": 1,
   "metadata": {
    "colab": {},
    "colab_type": "code",
    "id": "-Jnfy7xrPwMT"
   },
   "outputs": [],
   "source": [
    "import os\n",
    "import numpy as np\n",
    "import pandas as pd\n",
    "import pickle\n"
   ]
  },
  {
   "cell_type": "code",
   "execution_count": 2,
   "metadata": {
    "colab": {},
    "colab_type": "code",
    "id": "Jqg3bWuorslW"
   },
   "outputs": [],
   "source": [
    "import h2o\n",
    "from h2o.estimators.gbm import H2OGradientBoostingEstimator\n",
    "from h2o.grid.grid_search import H2OGridSearch"
   ]
  },
  {
   "cell_type": "code",
   "execution_count": 3,
   "metadata": {
    "colab": {
     "base_uri": "https://localhost:8080/",
     "height": 34
    },
    "colab_type": "code",
    "executionInfo": {
     "elapsed": 542,
     "status": "ok",
     "timestamp": 1562674400140,
     "user": {
      "displayName": "K a l o u",
      "photoUrl": "https://lh4.googleusercontent.com/-EYTbYeNdLqk/AAAAAAAAAAI/AAAAAAAAADk/OD6CDp5FiG4/s64/photo.jpg",
      "userId": "10262331298445208932"
     },
     "user_tz": -60
    },
    "id": "lJ98I6jPPwMY",
    "outputId": "cb69b446-ac40-42c5-fdc9-29d67fc42c74"
   },
   "outputs": [
    {
     "name": "stdout",
     "output_type": "stream",
     "text": [
      "/home/jovyan/Projects/final_assignment/PCode\n"
     ]
    }
   ],
   "source": [
    "# Set directories\n",
    "print(os.getcwd())\n",
    "dirRawData = \"../input/\"\n",
    "dirPData   = \"../PData/\"\n",
    "dirPOutput = \"../POutput/\""
   ]
  },
  {
   "cell_type": "code",
   "execution_count": 4,
   "metadata": {
    "colab": {},
    "colab_type": "code",
    "id": "F3jUBL1RPwMf"
   },
   "outputs": [],
   "source": [
    "f_name = dirPData + '01_df_250k.pickle'\n",
    "\n",
    "with (open(f_name, \"rb\")) as f:\n",
    "    dict_ = pickle.load(f)\n",
    "\n",
    "df_train = dict_['df_train']\n",
    "df_test  = dict_['df_test']\n",
    "\n",
    "del f_name, dict_"
   ]
  },
  {
   "cell_type": "code",
   "execution_count": 5,
   "metadata": {
    "colab": {},
    "colab_type": "code",
    "id": "JXQzUcqqPwMj"
   },
   "outputs": [],
   "source": [
    "f_name = dirPData + '01_vars.pickle'\n",
    "\n",
    "with open(f_name, \"rb\") as f:\n",
    "    dict_ = pickle.load(f)\n",
    "\n",
    "vars_ind_numeric     = dict_['vars_ind_numeric']\n",
    "vars_ind_hccv        = dict_['vars_ind_hccv']\n",
    "vars_ind_categorical = dict_['vars_ind_categorical']\n",
    "vars_notToUse        = dict_['vars_notToUse']\n",
    "var_dep              = dict_['var_dep']\n",
    "\n",
    "del f_name, dict_"
   ]
  },
  {
   "cell_type": "markdown",
   "metadata": {},
   "source": [
    "**Start the h2o JVM and load our data if it not already there**"
   ]
  },
  {
   "cell_type": "code",
   "execution_count": 6,
   "metadata": {
    "colab": {
     "base_uri": "https://localhost:8080/",
     "height": 528
    },
    "colab_type": "code",
    "executionInfo": {
     "elapsed": 5161,
     "status": "ok",
     "timestamp": 1562674411420,
     "user": {
      "displayName": "K a l o u",
      "photoUrl": "https://lh4.googleusercontent.com/-EYTbYeNdLqk/AAAAAAAAAAI/AAAAAAAAADk/OD6CDp5FiG4/s64/photo.jpg",
      "userId": "10262331298445208932"
     },
     "user_tz": -60
    },
    "id": "B95eXEe1PwMm",
    "outputId": "0ea04f12-897d-49b2-e266-c502514c569c"
   },
   "outputs": [
    {
     "name": "stdout",
     "output_type": "stream",
     "text": [
      "Checking whether there is an H2O instance running at http://localhost:54321 ..... not found.\n",
      "Attempting to start a local H2O server...\n",
      "  Java Version: openjdk version \"1.8.0_212\"; OpenJDK Runtime Environment (build 1.8.0_212-8u212-b03-0ubuntu1.18.04.1-b03); OpenJDK 64-Bit Server VM (build 25.212-b03, mixed mode)\n",
      "  Starting server from /opt/conda/lib/python3.6/site-packages/h2o/backend/bin/h2o.jar\n",
      "  Ice root: /tmp/tmpuudw3b_y\n",
      "  JVM stdout: /tmp/tmpuudw3b_y/h2o_jovyan_started_from_python.out\n",
      "  JVM stderr: /tmp/tmpuudw3b_y/h2o_jovyan_started_from_python.err\n",
      "  Server is running at http://127.0.0.1:54321\n",
      "Connecting to H2O server at http://127.0.0.1:54321 ... successful.\n",
      "Warning: Your H2O cluster version is too old (1 year, 2 months and 6 days)! Please download and install the latest version from http://h2o.ai/download/\n"
     ]
    },
    {
     "data": {
      "text/html": [
       "<div style=\"overflow:auto\"><table style=\"width:50%\"><tr><td>H2O cluster uptime:</td>\n",
       "<td>03 secs</td></tr>\n",
       "<tr><td>H2O cluster timezone:</td>\n",
       "<td>Etc/UTC</td></tr>\n",
       "<tr><td>H2O data parsing timezone:</td>\n",
       "<td>UTC</td></tr>\n",
       "<tr><td>H2O cluster version:</td>\n",
       "<td>3.24.0.3</td></tr>\n",
       "<tr><td>H2O cluster version age:</td>\n",
       "<td>1 year, 2 months and 6 days !!!</td></tr>\n",
       "<tr><td>H2O cluster name:</td>\n",
       "<td>H2O_from_python_jovyan_pc65jn</td></tr>\n",
       "<tr><td>H2O cluster total nodes:</td>\n",
       "<td>1</td></tr>\n",
       "<tr><td>H2O cluster free memory:</td>\n",
       "<td>3.257 Gb</td></tr>\n",
       "<tr><td>H2O cluster total cores:</td>\n",
       "<td>4</td></tr>\n",
       "<tr><td>H2O cluster allowed cores:</td>\n",
       "<td>4</td></tr>\n",
       "<tr><td>H2O cluster status:</td>\n",
       "<td>accepting new members, healthy</td></tr>\n",
       "<tr><td>H2O connection url:</td>\n",
       "<td>http://127.0.0.1:54321</td></tr>\n",
       "<tr><td>H2O connection proxy:</td>\n",
       "<td>None</td></tr>\n",
       "<tr><td>H2O internal security:</td>\n",
       "<td>False</td></tr>\n",
       "<tr><td>H2O API Extensions:</td>\n",
       "<td>Amazon S3, XGBoost, Algos, AutoML, Core V3, Core V4</td></tr>\n",
       "<tr><td>Python version:</td>\n",
       "<td>3.6.7 final</td></tr></table></div>"
      ],
      "text/plain": [
       "--------------------------  ---------------------------------------------------\n",
       "H2O cluster uptime:         03 secs\n",
       "H2O cluster timezone:       Etc/UTC\n",
       "H2O data parsing timezone:  UTC\n",
       "H2O cluster version:        3.24.0.3\n",
       "H2O cluster version age:    1 year, 2 months and 6 days !!!\n",
       "H2O cluster name:           H2O_from_python_jovyan_pc65jn\n",
       "H2O cluster total nodes:    1\n",
       "H2O cluster free memory:    3.257 Gb\n",
       "H2O cluster total cores:    4\n",
       "H2O cluster allowed cores:  4\n",
       "H2O cluster status:         accepting new members, healthy\n",
       "H2O connection url:         http://127.0.0.1:54321\n",
       "H2O connection proxy:\n",
       "H2O internal security:      False\n",
       "H2O API Extensions:         Amazon S3, XGBoost, Algos, AutoML, Core V3, Core V4\n",
       "Python version:             3.6.7 final\n",
       "--------------------------  ---------------------------------------------------"
      ]
     },
     "metadata": {},
     "output_type": "display_data"
    }
   ],
   "source": [
    "h2o.init(port=54321)"
   ]
  },
  {
   "cell_type": "code",
   "execution_count": 7,
   "metadata": {},
   "outputs": [],
   "source": [
    "#remove all data loaded in JVM\n",
    "# for key in h2o.ls()['key']:\n",
    "#     h2o.remove(key)"
   ]
  },
  {
   "cell_type": "code",
   "execution_count": 8,
   "metadata": {},
   "outputs": [
    {
     "data": {
      "text/html": [
       "<div>\n",
       "<style scoped>\n",
       "    .dataframe tbody tr th:only-of-type {\n",
       "        vertical-align: middle;\n",
       "    }\n",
       "\n",
       "    .dataframe tbody tr th {\n",
       "        vertical-align: top;\n",
       "    }\n",
       "\n",
       "    .dataframe thead th {\n",
       "        text-align: right;\n",
       "    }\n",
       "</style>\n",
       "<table border=\"1\" class=\"dataframe\">\n",
       "  <thead>\n",
       "    <tr style=\"text-align: right;\">\n",
       "      <th></th>\n",
       "      <th>key</th>\n",
       "    </tr>\n",
       "  </thead>\n",
       "  <tbody>\n",
       "  </tbody>\n",
       "</table>\n",
       "</div>"
      ],
      "text/plain": [
       "Empty DataFrame\n",
       "Columns: [key]\n",
       "Index: []"
      ]
     },
     "execution_count": 8,
     "metadata": {},
     "output_type": "execute_result"
    }
   ],
   "source": [
    "# Is df_train already in the JVM?\n",
    "h2o.ls()"
   ]
  },
  {
   "cell_type": "code",
   "execution_count": 9,
   "metadata": {},
   "outputs": [],
   "source": [
    "# It if is, then just create a handle:\n",
    "#h2o_df_train = h2o.get_frame('df_train')"
   ]
  },
  {
   "cell_type": "code",
   "execution_count": 10,
   "metadata": {
    "colab": {
     "base_uri": "https://localhost:8080/",
     "height": 34
    },
    "colab_type": "code",
    "executionInfo": {
     "elapsed": 7419,
     "status": "ok",
     "timestamp": 1562674461598,
     "user": {
      "displayName": "K a l o u",
      "photoUrl": "https://lh4.googleusercontent.com/-EYTbYeNdLqk/AAAAAAAAAAI/AAAAAAAAADk/OD6CDp5FiG4/s64/photo.jpg",
      "userId": "10262331298445208932"
     },
     "user_tz": -60
    },
    "id": "0I1VAotDPwMu",
    "outputId": "3a7a6671-cbbf-4012-ea0b-6545ac94cd35"
   },
   "outputs": [
    {
     "name": "stdout",
     "output_type": "stream",
     "text": [
      "Parse progress: |█████████████████████████████████████████████████████████| 100%\n"
     ]
    }
   ],
   "source": [
    "# Otherwise run this code.\n",
    "h2o_df_train = h2o.H2OFrame(df_train[vars_ind_numeric + vars_ind_categorical + var_dep],\n",
    "                           destination_frame='df_train')"
   ]
  },
  {
   "cell_type": "markdown",
   "metadata": {},
   "source": [
    "H2O says somewhere that it needs the target to be a enum type.  I'm not sure if it really does? But anyway..."
   ]
  },
  {
   "cell_type": "code",
   "execution_count": 11,
   "metadata": {
    "colab": {
     "base_uri": "https://localhost:8080/",
     "height": 34
    },
    "colab_type": "code",
    "executionInfo": {
     "elapsed": 515,
     "status": "ok",
     "timestamp": 1562674465147,
     "user": {
      "displayName": "K a l o u",
      "photoUrl": "https://lh4.googleusercontent.com/-EYTbYeNdLqk/AAAAAAAAAAI/AAAAAAAAADk/OD6CDp5FiG4/s64/photo.jpg",
      "userId": "10262331298445208932"
     },
     "user_tz": -60
    },
    "id": "AryWJbCiPwMy",
    "outputId": "065b0973-faff-4ac8-d0e7-58f2f28e05be"
   },
   "outputs": [
    {
     "data": {
      "text/plain": [
       "{'target': 'int'}"
      ]
     },
     "execution_count": 11,
     "metadata": {},
     "output_type": "execute_result"
    }
   ],
   "source": [
    "h2o_df_train[var_dep].types"
   ]
  },
  {
   "cell_type": "code",
   "execution_count": 12,
   "metadata": {
    "colab": {
     "base_uri": "https://localhost:8080/",
     "height": 34
    },
    "colab_type": "code",
    "executionInfo": {
     "elapsed": 542,
     "status": "ok",
     "timestamp": 1562674467834,
     "user": {
      "displayName": "K a l o u",
      "photoUrl": "https://lh4.googleusercontent.com/-EYTbYeNdLqk/AAAAAAAAAAI/AAAAAAAAADk/OD6CDp5FiG4/s64/photo.jpg",
      "userId": "10262331298445208932"
     },
     "user_tz": -60
    },
    "id": "yOF_h-uxPwM2",
    "outputId": "c4e94779-7a6d-402f-9a28-00ddba22e7af"
   },
   "outputs": [
    {
     "data": {
      "text/plain": [
       "{'target': 'enum'}"
      ]
     },
     "execution_count": 12,
     "metadata": {},
     "output_type": "execute_result"
    }
   ],
   "source": [
    "h2o_df_train[var_dep] = h2o_df_train[var_dep].asfactor()\n",
    "h2o_df_train[var_dep].types"
   ]
  },
  {
   "cell_type": "markdown",
   "metadata": {},
   "source": [
    "**Define the features we will use**\n",
    "\n",
    "In this quick notebook, we ignore the hccv's.  For the main assigment you should deal sensibly with them."
   ]
  },
  {
   "cell_type": "code",
   "execution_count": 13,
   "metadata": {
    "colab": {},
    "colab_type": "code",
    "id": "NR9C_qqjPwM8"
   },
   "outputs": [],
   "source": [
    "# Need some proper way to deal with hcccv (eg target encoding).  For now just remove.\n",
    "features = vars_ind_categorical + vars_ind_numeric\n",
    "features = [var for var in features if var not in vars_ind_hccv]"
   ]
  },
  {
   "cell_type": "markdown",
   "metadata": {
    "colab_type": "text",
    "id": "3smVMkl0PwND"
   },
   "source": [
    "**GridSearch**\n"
   ]
  },
  {
   "cell_type": "markdown",
   "metadata": {},
   "source": [
    "I have more or less randomly chosen the list below to search for min leaf size."
   ]
  },
  {
   "cell_type": "code",
   "execution_count": 14,
   "metadata": {},
   "outputs": [
    {
     "data": {
      "text/plain": [
       "[128, 256, 512, 1024, 2048, 4096, 8192, 16384, 32768, 65536]"
      ]
     },
     "execution_count": 14,
     "metadata": {},
     "output_type": "execute_result"
    }
   ],
   "source": [
    "[2**idx for idx in 7+np.arange(10)]"
   ]
  },
  {
   "cell_type": "code",
   "execution_count": 15,
   "metadata": {
    "colab": {},
    "colab_type": "code",
    "id": "CkF5P8slPwNE"
   },
   "outputs": [],
   "source": [
    "hyper_params = {'min_rows' : [2**idx for idx in 7+np.arange(10)]} \n",
    "search_criteria = {'strategy': \"Cartesian\"}"
   ]
  },
  {
   "cell_type": "code",
   "execution_count": 16,
   "metadata": {
    "colab": {},
    "colab_type": "code",
    "id": "PEZRwnhXPwNH"
   },
   "outputs": [],
   "source": [
    "grid_dt = H2OGridSearch(\n",
    "                    H2OGradientBoostingEstimator(\n",
    "                        seed = 2020,   \n",
    "                        nfolds = 5,\n",
    "                        ntrees = 1,\n",
    "                        max_depth = 20,\n",
    "                        #min_rows = 1,\n",
    "                        sample_rate = 1,\n",
    "                        col_sample_rate = 1,\n",
    "                        ),\n",
    "                    grid_id = 'grid_dt',\n",
    "                    search_criteria = search_criteria,\n",
    "                    hyper_params = hyper_params)"
   ]
  },
  {
   "cell_type": "code",
   "execution_count": 17,
   "metadata": {
    "colab": {
     "base_uri": "https://localhost:8080/",
     "height": 34
    },
    "colab_type": "code",
    "executionInfo": {
     "elapsed": 161896,
     "status": "ok",
     "timestamp": 1562674644668,
     "user": {
      "displayName": "K a l o u",
      "photoUrl": "https://lh4.googleusercontent.com/-EYTbYeNdLqk/AAAAAAAAAAI/AAAAAAAAADk/OD6CDp5FiG4/s64/photo.jpg",
      "userId": "10262331298445208932"
     },
     "user_tz": -60
    },
    "id": "uiMOtLhsPwNX",
    "outputId": "b4f8a024-476c-424a-a696-65877a6a3ed4"
   },
   "outputs": [
    {
     "name": "stdout",
     "output_type": "stream",
     "text": [
      "gbm Grid Build progress: |████████████████████████████████████████████████| 100%\n"
     ]
    }
   ],
   "source": [
    "grid_dt.train(x=features,\n",
    "              y= 'target',\n",
    "              training_frame=h2o_df_train,\n",
    "              seed=2020)"
   ]
  },
  {
   "cell_type": "code",
   "execution_count": 18,
   "metadata": {
    "colab": {
     "base_uri": "https://localhost:8080/",
     "height": 979
    },
    "colab_type": "code",
    "executionInfo": {
     "elapsed": 1621,
     "status": "ok",
     "timestamp": 1562674647641,
     "user": {
      "displayName": "K a l o u",
      "photoUrl": "https://lh4.googleusercontent.com/-EYTbYeNdLqk/AAAAAAAAAAI/AAAAAAAAADk/OD6CDp5FiG4/s64/photo.jpg",
      "userId": "10262331298445208932"
     },
     "user_tz": -60
    },
    "id": "ykL-Y4cYPwNg",
    "outputId": "c2e703df-e794-4e9c-9fbf-9a9bca3b656e"
   },
   "outputs": [
    {
     "data": {
      "text/html": [
       "<div>\n",
       "<style scoped>\n",
       "    .dataframe tbody tr th:only-of-type {\n",
       "        vertical-align: middle;\n",
       "    }\n",
       "\n",
       "    .dataframe tbody tr th {\n",
       "        vertical-align: top;\n",
       "    }\n",
       "\n",
       "    .dataframe thead th {\n",
       "        text-align: right;\n",
       "    }\n",
       "</style>\n",
       "<table border=\"1\" class=\"dataframe\">\n",
       "  <thead>\n",
       "    <tr style=\"text-align: right;\">\n",
       "      <th></th>\n",
       "      <th></th>\n",
       "      <th>min_rows</th>\n",
       "      <th>model_ids</th>\n",
       "      <th>auc</th>\n",
       "    </tr>\n",
       "  </thead>\n",
       "  <tbody>\n",
       "    <tr>\n",
       "      <th>0</th>\n",
       "      <td></td>\n",
       "      <td>256.0</td>\n",
       "      <td>grid_dt_model_2</td>\n",
       "      <td>0.7388888093104397</td>\n",
       "    </tr>\n",
       "    <tr>\n",
       "      <th>1</th>\n",
       "      <td></td>\n",
       "      <td>128.0</td>\n",
       "      <td>grid_dt_model_1</td>\n",
       "      <td>0.7388733476630628</td>\n",
       "    </tr>\n",
       "    <tr>\n",
       "      <th>2</th>\n",
       "      <td></td>\n",
       "      <td>512.0</td>\n",
       "      <td>grid_dt_model_3</td>\n",
       "      <td>0.7350174964254721</td>\n",
       "    </tr>\n",
       "    <tr>\n",
       "      <th>3</th>\n",
       "      <td></td>\n",
       "      <td>1024.0</td>\n",
       "      <td>grid_dt_model_4</td>\n",
       "      <td>0.7246645448035562</td>\n",
       "    </tr>\n",
       "    <tr>\n",
       "      <th>4</th>\n",
       "      <td></td>\n",
       "      <td>2048.0</td>\n",
       "      <td>grid_dt_model_5</td>\n",
       "      <td>0.7138846337796211</td>\n",
       "    </tr>\n",
       "    <tr>\n",
       "      <th>5</th>\n",
       "      <td></td>\n",
       "      <td>4096.0</td>\n",
       "      <td>grid_dt_model_6</td>\n",
       "      <td>0.7025770576720012</td>\n",
       "    </tr>\n",
       "    <tr>\n",
       "      <th>6</th>\n",
       "      <td></td>\n",
       "      <td>8192.0</td>\n",
       "      <td>grid_dt_model_7</td>\n",
       "      <td>0.6907673391093535</td>\n",
       "    </tr>\n",
       "    <tr>\n",
       "      <th>7</th>\n",
       "      <td></td>\n",
       "      <td>16384.0</td>\n",
       "      <td>grid_dt_model_8</td>\n",
       "      <td>0.6629129630702371</td>\n",
       "    </tr>\n",
       "    <tr>\n",
       "      <th>8</th>\n",
       "      <td></td>\n",
       "      <td>32768.0</td>\n",
       "      <td>grid_dt_model_9</td>\n",
       "      <td>0.6011916855332662</td>\n",
       "    </tr>\n",
       "    <tr>\n",
       "      <th>9</th>\n",
       "      <td></td>\n",
       "      <td>65536.0</td>\n",
       "      <td>grid_dt_model_10</td>\n",
       "      <td>0.5455296151905261</td>\n",
       "    </tr>\n",
       "  </tbody>\n",
       "</table>\n",
       "</div>"
      ],
      "text/plain": [
       "    min_rows         model_ids                 auc\n",
       "0      256.0   grid_dt_model_2  0.7388888093104397\n",
       "1      128.0   grid_dt_model_1  0.7388733476630628\n",
       "2      512.0   grid_dt_model_3  0.7350174964254721\n",
       "3     1024.0   grid_dt_model_4  0.7246645448035562\n",
       "4     2048.0   grid_dt_model_5  0.7138846337796211\n",
       "5     4096.0   grid_dt_model_6  0.7025770576720012\n",
       "6     8192.0   grid_dt_model_7  0.6907673391093535\n",
       "7    16384.0   grid_dt_model_8  0.6629129630702371\n",
       "8    32768.0   grid_dt_model_9  0.6011916855332662\n",
       "9    65536.0  grid_dt_model_10  0.5455296151905261"
      ]
     },
     "execution_count": 18,
     "metadata": {},
     "output_type": "execute_result"
    }
   ],
   "source": [
    "grid_dt = grid_dt.get_grid(sort_by='auc', decreasing=True)\n",
    "df_perf_auc = grid_dt.sorted_metric_table()\n",
    "df_perf_auc.head(10)"
   ]
  },
  {
   "cell_type": "markdown",
   "metadata": {
    "colab_type": "text",
    "id": "H8sn8pF4PwNm"
   },
   "source": [
    "**Best Decision Tree**\n",
    "\n",
    " - The Decision Tree with the highest AUC score was the one with max depth = 256.\n",
    " - The average CV performance of this model is ?\n",
    " - Now train once on the full data with this setting\n",
    " - Then predict on test\n",
    "\n"
   ]
  },
  {
   "cell_type": "code",
   "execution_count": 19,
   "metadata": {
    "colab": {},
    "colab_type": "code",
    "id": "_jc2oVRaPwNn"
   },
   "outputs": [],
   "source": [
    "model_dt = H2OGradientBoostingEstimator(\n",
    "                        model_id = 'model_dt',\n",
    "                        seed = 2020,   \n",
    "                        sample_rate = 1,\n",
    "                        col_sample_rate = 1,\n",
    "                        ntrees = 1,\n",
    "                        min_rows = 256,\n",
    "                        max_depth = 20\n",
    "                        )"
   ]
  },
  {
   "cell_type": "code",
   "execution_count": 20,
   "metadata": {
    "colab": {
     "base_uri": "https://localhost:8080/",
     "height": 34
    },
    "colab_type": "code",
    "executionInfo": {
     "elapsed": 5049,
     "status": "ok",
     "timestamp": 1562674667402,
     "user": {
      "displayName": "K a l o u",
      "photoUrl": "https://lh4.googleusercontent.com/-EYTbYeNdLqk/AAAAAAAAAAI/AAAAAAAAADk/OD6CDp5FiG4/s64/photo.jpg",
      "userId": "10262331298445208932"
     },
     "user_tz": -60
    },
    "id": "-zpmVw7OPwNq",
    "outputId": "1ba8889a-aee5-4ed5-eaad-85a45a58dc11"
   },
   "outputs": [
    {
     "name": "stdout",
     "output_type": "stream",
     "text": [
      "gbm Model Build progress: |███████████████████████████████████████████████| 100%\n"
     ]
    }
   ],
   "source": [
    "model_dt.train(x=features,\n",
    "               y='target',\n",
    "               training_frame = h2o_df_train,\n",
    "               )"
   ]
  },
  {
   "cell_type": "code",
   "execution_count": 21,
   "metadata": {
    "colab": {
     "base_uri": "https://localhost:8080/",
     "height": 1000
    },
    "colab_type": "code",
    "executionInfo": {
     "elapsed": 795,
     "status": "ok",
     "timestamp": 1562674669330,
     "user": {
      "displayName": "K a l o u",
      "photoUrl": "https://lh4.googleusercontent.com/-EYTbYeNdLqk/AAAAAAAAAAI/AAAAAAAAADk/OD6CDp5FiG4/s64/photo.jpg",
      "userId": "10262331298445208932"
     },
     "user_tz": -60
    },
    "id": "PB6fvlvIPwNu",
    "outputId": "0231113f-3fd8-490f-dc4b-bbdd9ecf9566"
   },
   "outputs": [
    {
     "name": "stdout",
     "output_type": "stream",
     "text": [
      "Model Details\n",
      "=============\n",
      "H2OGradientBoostingEstimator :  Gradient Boosting Machine\n",
      "Model Key:  model_dt\n",
      "\n",
      "\n",
      "ModelMetricsBinomial: gbm\n",
      "** Reported on train data. **\n",
      "\n",
      "MSE: 0.24001580625489133\n",
      "RMSE: 0.48991408048237534\n",
      "LogLoss: 0.6731428655995333\n",
      "Mean Per-Class Error: 0.31219079716152864\n",
      "AUC: 0.7617381057846201\n",
      "pr_auc: 0.7505776106968719\n",
      "Gini: 0.5234762115692402\n",
      "Confusion Matrix (Act/Pred) for max f1 @ threshold = 0.47823293876597356: \n"
     ]
    },
    {
     "data": {
      "text/html": [
       "<div style=\"overflow:auto\"><table style=\"width:50%\"><tr><td><b></b></td>\n",
       "<td><b>0</b></td>\n",
       "<td><b>1</b></td>\n",
       "<td><b>Error</b></td>\n",
       "<td><b>Rate</b></td></tr>\n",
       "<tr><td>0</td>\n",
       "<td>58709.0</td>\n",
       "<td>68460.0</td>\n",
       "<td>0.5383</td>\n",
       "<td> (68460.0/127169.0)</td></tr>\n",
       "<tr><td>1</td>\n",
       "<td>16737.0</td>\n",
       "<td>106094.0</td>\n",
       "<td>0.1363</td>\n",
       "<td> (16737.0/122831.0)</td></tr>\n",
       "<tr><td>Total</td>\n",
       "<td>75446.0</td>\n",
       "<td>174554.0</td>\n",
       "<td>0.3408</td>\n",
       "<td> (85197.0/250000.0)</td></tr></table></div>"
      ],
      "text/plain": [
       "       0      1       Error    Rate\n",
       "-----  -----  ------  -------  ------------------\n",
       "0      58709  68460   0.5383   (68460.0/127169.0)\n",
       "1      16737  106094  0.1363   (16737.0/122831.0)\n",
       "Total  75446  174554  0.3408   (85197.0/250000.0)"
      ]
     },
     "metadata": {},
     "output_type": "display_data"
    },
    {
     "name": "stdout",
     "output_type": "stream",
     "text": [
      "Maximum Metrics: Maximum metrics at their respective thresholds\n",
      "\n"
     ]
    },
    {
     "data": {
      "text/html": [
       "<div style=\"overflow:auto\"><table style=\"width:50%\"><tr><td><b>metric</b></td>\n",
       "<td><b>threshold</b></td>\n",
       "<td><b>value</b></td>\n",
       "<td><b>idx</b></td></tr>\n",
       "<tr><td>max f1</td>\n",
       "<td>0.4782329</td>\n",
       "<td>0.7135128</td>\n",
       "<td>275.0</td></tr>\n",
       "<tr><td>max f2</td>\n",
       "<td>0.4594794</td>\n",
       "<td>0.8381674</td>\n",
       "<td>358.0</td></tr>\n",
       "<tr><td>max f0point5</td>\n",
       "<td>0.4969149</td>\n",
       "<td>0.6878134</td>\n",
       "<td>173.0</td></tr>\n",
       "<tr><td>max accuracy</td>\n",
       "<td>0.4926204</td>\n",
       "<td>0.687896</td>\n",
       "<td>199.0</td></tr>\n",
       "<tr><td>max precision</td>\n",
       "<td>0.5421061</td>\n",
       "<td>1.0</td>\n",
       "<td>0.0</td></tr>\n",
       "<tr><td>max recall</td>\n",
       "<td>0.4435804</td>\n",
       "<td>1.0</td>\n",
       "<td>398.0</td></tr>\n",
       "<tr><td>max specificity</td>\n",
       "<td>0.5421061</td>\n",
       "<td>1.0</td>\n",
       "<td>0.0</td></tr>\n",
       "<tr><td>max absolute_mcc</td>\n",
       "<td>0.4906506</td>\n",
       "<td>0.3755764</td>\n",
       "<td>210.0</td></tr>\n",
       "<tr><td>max min_per_class_accuracy</td>\n",
       "<td>0.4915839</td>\n",
       "<td>0.6869520</td>\n",
       "<td>205.0</td></tr>\n",
       "<tr><td>max mean_per_class_accuracy</td>\n",
       "<td>0.4912135</td>\n",
       "<td>0.6878092</td>\n",
       "<td>207.0</td></tr></table></div>"
      ],
      "text/plain": [
       "metric                       threshold    value     idx\n",
       "---------------------------  -----------  --------  -----\n",
       "max f1                       0.478233     0.713513  275\n",
       "max f2                       0.459479     0.838167  358\n",
       "max f0point5                 0.496915     0.687813  173\n",
       "max accuracy                 0.49262      0.687896  199\n",
       "max precision                0.542106     1         0\n",
       "max recall                   0.44358      1         398\n",
       "max specificity              0.542106     1         0\n",
       "max absolute_mcc             0.490651     0.375576  210\n",
       "max min_per_class_accuracy   0.491584     0.686952  205\n",
       "max mean_per_class_accuracy  0.491213     0.687809  207"
      ]
     },
     "metadata": {},
     "output_type": "display_data"
    },
    {
     "name": "stdout",
     "output_type": "stream",
     "text": [
      "Gains/Lift Table: Avg response rate: 49.13 %, avg score: 49.13 %\n",
      "\n"
     ]
    },
    {
     "data": {
      "text/html": [
       "<div style=\"overflow:auto\"><table style=\"width:50%\"><tr><td><b></b></td>\n",
       "<td><b>group</b></td>\n",
       "<td><b>cumulative_data_fraction</b></td>\n",
       "<td><b>lower_threshold</b></td>\n",
       "<td><b>lift</b></td>\n",
       "<td><b>cumulative_lift</b></td>\n",
       "<td><b>response_rate</b></td>\n",
       "<td><b>score</b></td>\n",
       "<td><b>cumulative_response_rate</b></td>\n",
       "<td><b>cumulative_score</b></td>\n",
       "<td><b>capture_rate</b></td>\n",
       "<td><b>cumulative_capture_rate</b></td>\n",
       "<td><b>gain</b></td>\n",
       "<td><b>cumulative_gain</b></td></tr>\n",
       "<tr><td></td>\n",
       "<td>1</td>\n",
       "<td>0.010092</td>\n",
       "<td>0.5393555</td>\n",
       "<td>2.0103090</td>\n",
       "<td>2.0103090</td>\n",
       "<td>0.9877130</td>\n",
       "<td>0.5408853</td>\n",
       "<td>0.9877130</td>\n",
       "<td>0.5408853</td>\n",
       "<td>0.0202880</td>\n",
       "<td>0.0202880</td>\n",
       "<td>101.0308961</td>\n",
       "<td>101.0308961</td></tr>\n",
       "<tr><td></td>\n",
       "<td>2</td>\n",
       "<td>0.020624</td>\n",
       "<td>0.5375537</td>\n",
       "<td>1.9533785</td>\n",
       "<td>1.9812364</td>\n",
       "<td>0.9597417</td>\n",
       "<td>0.5381050</td>\n",
       "<td>0.9734290</td>\n",
       "<td>0.5394655</td>\n",
       "<td>0.0205730</td>\n",
       "<td>0.0408610</td>\n",
       "<td>95.3378503</td>\n",
       "<td>98.1236444</td></tr>\n",
       "<tr><td></td>\n",
       "<td>3</td>\n",
       "<td>0.030236</td>\n",
       "<td>0.5355548</td>\n",
       "<td>1.9167382</td>\n",
       "<td>1.9607325</td>\n",
       "<td>0.9417395</td>\n",
       "<td>0.5363142</td>\n",
       "<td>0.9633549</td>\n",
       "<td>0.5384637</td>\n",
       "<td>0.0184237</td>\n",
       "<td>0.0592847</td>\n",
       "<td>91.6738226</td>\n",
       "<td>96.0732513</td></tr>\n",
       "<tr><td></td>\n",
       "<td>4</td>\n",
       "<td>0.040432</td>\n",
       "<td>0.5325417</td>\n",
       "<td>1.8724276</td>\n",
       "<td>1.9384641</td>\n",
       "<td>0.9199686</td>\n",
       "<td>0.5341472</td>\n",
       "<td>0.9524139</td>\n",
       "<td>0.5373752</td>\n",
       "<td>0.0190913</td>\n",
       "<td>0.0783760</td>\n",
       "<td>87.2427594</td>\n",
       "<td>93.8464088</td></tr>\n",
       "<tr><td></td>\n",
       "<td>5</td>\n",
       "<td>0.051108</td>\n",
       "<td>0.5305422</td>\n",
       "<td>1.8156948</td>\n",
       "<td>1.9128187</td>\n",
       "<td>0.8920944</td>\n",
       "<td>0.5313709</td>\n",
       "<td>0.9398137</td>\n",
       "<td>0.5361209</td>\n",
       "<td>0.0193844</td>\n",
       "<td>0.0977603</td>\n",
       "<td>81.5694770</td>\n",
       "<td>91.2818685</td></tr>\n",
       "<tr><td></td>\n",
       "<td>6</td>\n",
       "<td>0.101624</td>\n",
       "<td>0.5231772</td>\n",
       "<td>1.7118644</td>\n",
       "<td>1.8129269</td>\n",
       "<td>0.8410801</td>\n",
       "<td>0.5262847</td>\n",
       "<td>0.8907345</td>\n",
       "<td>0.5312315</td>\n",
       "<td>0.0864765</td>\n",
       "<td>0.1842369</td>\n",
       "<td>71.1864378</td>\n",
       "<td>81.2926851</td></tr>\n",
       "<tr><td></td>\n",
       "<td>7</td>\n",
       "<td>0.150092</td>\n",
       "<td>0.5158770</td>\n",
       "<td>1.5817924</td>\n",
       "<td>1.7382885</td>\n",
       "<td>0.7771726</td>\n",
       "<td>0.5199058</td>\n",
       "<td>0.8540628</td>\n",
       "<td>0.5275741</td>\n",
       "<td>0.0766663</td>\n",
       "<td>0.2609032</td>\n",
       "<td>58.1792397</td>\n",
       "<td>73.8288464</td></tr>\n",
       "<tr><td></td>\n",
       "<td>8</td>\n",
       "<td>0.200988</td>\n",
       "<td>0.5111226</td>\n",
       "<td>1.4468281</td>\n",
       "<td>1.6644822</td>\n",
       "<td>0.7108614</td>\n",
       "<td>0.5132802</td>\n",
       "<td>0.8178001</td>\n",
       "<td>0.5239545</td>\n",
       "<td>0.0736378</td>\n",
       "<td>0.3345410</td>\n",
       "<td>44.6828090</td>\n",
       "<td>66.4482231</td></tr>\n",
       "<tr><td></td>\n",
       "<td>9</td>\n",
       "<td>0.301068</td>\n",
       "<td>0.5038509</td>\n",
       "<td>1.3302772</td>\n",
       "<td>1.5533869</td>\n",
       "<td>0.6535971</td>\n",
       "<td>0.5075546</td>\n",
       "<td>0.7632163</td>\n",
       "<td>0.5185029</td>\n",
       "<td>0.1331341</td>\n",
       "<td>0.4676751</td>\n",
       "<td>33.0277215</td>\n",
       "<td>55.3386937</td></tr>\n",
       "<tr><td></td>\n",
       "<td>10</td>\n",
       "<td>0.400596</td>\n",
       "<td>0.4976451</td>\n",
       "<td>1.1904992</td>\n",
       "<td>1.4632275</td>\n",
       "<td>0.5849208</td>\n",
       "<td>0.5006856</td>\n",
       "<td>0.7189188</td>\n",
       "<td>0.5140762</td>\n",
       "<td>0.1184880</td>\n",
       "<td>0.5861631</td>\n",
       "<td>19.0499195</td>\n",
       "<td>46.3227546</td></tr>\n",
       "<tr><td></td>\n",
       "<td>11</td>\n",
       "<td>0.50164</td>\n",
       "<td>0.4912155</td>\n",
       "<td>1.0544393</td>\n",
       "<td>1.3808864</td>\n",
       "<td>0.5180713</td>\n",
       "<td>0.4939990</td>\n",
       "<td>0.6784626</td>\n",
       "<td>0.5100321</td>\n",
       "<td>0.1065448</td>\n",
       "<td>0.6927079</td>\n",
       "<td>5.4439301</td>\n",
       "<td>38.0886426</td></tr>\n",
       "<tr><td></td>\n",
       "<td>12</td>\n",
       "<td>0.600408</td>\n",
       "<td>0.4846684</td>\n",
       "<td>0.9363842</td>\n",
       "<td>1.3077652</td>\n",
       "<td>0.4600680</td>\n",
       "<td>0.4881990</td>\n",
       "<td>0.6425364</td>\n",
       "<td>0.5064405</td>\n",
       "<td>0.0924848</td>\n",
       "<td>0.7851927</td>\n",
       "<td>-6.3615785</td>\n",
       "<td>30.7765158</td></tr>\n",
       "<tr><td></td>\n",
       "<td>13</td>\n",
       "<td>0.701124</td>\n",
       "<td>0.4776482</td>\n",
       "<td>0.8007406</td>\n",
       "<td>1.2349314</td>\n",
       "<td>0.3934231</td>\n",
       "<td>0.4815387</td>\n",
       "<td>0.6067514</td>\n",
       "<td>0.5028634</td>\n",
       "<td>0.0806474</td>\n",
       "<td>0.8658401</td>\n",
       "<td>-19.9259367</td>\n",
       "<td>23.4931420</td></tr>\n",
       "<tr><td></td>\n",
       "<td>14</td>\n",
       "<td>0.80036</td>\n",
       "<td>0.4694948</td>\n",
       "<td>0.6453223</td>\n",
       "<td>1.1618263</td>\n",
       "<td>0.3170624</td>\n",
       "<td>0.4739162</td>\n",
       "<td>0.5708331</td>\n",
       "<td>0.4992743</td>\n",
       "<td>0.0640392</td>\n",
       "<td>0.9298793</td>\n",
       "<td>-35.4677654</td>\n",
       "<td>16.1826259</td></tr>\n",
       "<tr><td></td>\n",
       "<td>15</td>\n",
       "<td>0.900804</td>\n",
       "<td>0.4603778</td>\n",
       "<td>0.4755368</td>\n",
       "<td>1.0853017</td>\n",
       "<td>0.2336426</td>\n",
       "<td>0.4656027</td>\n",
       "<td>0.5332348</td>\n",
       "<td>0.4955197</td>\n",
       "<td>0.0477648</td>\n",
       "<td>0.9776441</td>\n",
       "<td>-52.4463233</td>\n",
       "<td>8.5301664</td></tr>\n",
       "<tr><td></td>\n",
       "<td>16</td>\n",
       "<td>1.0</td>\n",
       "<td>0.4424323</td>\n",
       "<td>0.2253712</td>\n",
       "<td>1.0</td>\n",
       "<td>0.1107303</td>\n",
       "<td>0.4533924</td>\n",
       "<td>0.491324</td>\n",
       "<td>0.4913409</td>\n",
       "<td>0.0223559</td>\n",
       "<td>1.0</td>\n",
       "<td>-77.4628816</td>\n",
       "<td>0.0</td></tr></table></div>"
      ],
      "text/plain": [
       "    group    cumulative_data_fraction    lower_threshold    lift      cumulative_lift    response_rate    score     cumulative_response_rate    cumulative_score    capture_rate    cumulative_capture_rate    gain      cumulative_gain\n",
       "--  -------  --------------------------  -----------------  --------  -----------------  ---------------  --------  --------------------------  ------------------  --------------  -------------------------  --------  -----------------\n",
       "    1        0.010092                    0.539355           2.01031   2.01031            0.987713         0.540885  0.987713                    0.540885            0.020288        0.020288                   101.031   101.031\n",
       "    2        0.020624                    0.537554           1.95338   1.98124            0.959742         0.538105  0.973429                    0.539465            0.020573        0.040861                   95.3379   98.1236\n",
       "    3        0.030236                    0.535555           1.91674   1.96073            0.941739         0.536314  0.963355                    0.538464            0.0184237       0.0592847                  91.6738   96.0733\n",
       "    4        0.040432                    0.532542           1.87243   1.93846            0.919969         0.534147  0.952414                    0.537375            0.0190913       0.078376                   87.2428   93.8464\n",
       "    5        0.051108                    0.530542           1.81569   1.91282            0.892094         0.531371  0.939814                    0.536121            0.0193844       0.0977603                  81.5695   91.2819\n",
       "    6        0.101624                    0.523177           1.71186   1.81293            0.84108          0.526285  0.890734                    0.531231            0.0864765       0.184237                   71.1864   81.2927\n",
       "    7        0.150092                    0.515877           1.58179   1.73829            0.777173         0.519906  0.854063                    0.527574            0.0766663       0.260903                   58.1792   73.8288\n",
       "    8        0.200988                    0.511123           1.44683   1.66448            0.710861         0.51328   0.8178                      0.523955            0.0736378       0.334541                   44.6828   66.4482\n",
       "    9        0.301068                    0.503851           1.33028   1.55339            0.653597         0.507555  0.763216                    0.518503            0.133134        0.467675                   33.0277   55.3387\n",
       "    10       0.400596                    0.497645           1.1905    1.46323            0.584921         0.500686  0.718919                    0.514076            0.118488        0.586163                   19.0499   46.3228\n",
       "    11       0.50164                     0.491215           1.05444   1.38089            0.518071         0.493999  0.678463                    0.510032            0.106545        0.692708                   5.44393   38.0886\n",
       "    12       0.600408                    0.484668           0.936384  1.30777            0.460068         0.488199  0.642536                    0.506441            0.0924848       0.785193                   -6.36158  30.7765\n",
       "    13       0.701124                    0.477648           0.800741  1.23493            0.393423         0.481539  0.606751                    0.502863            0.0806474       0.86584                    -19.9259  23.4931\n",
       "    14       0.80036                     0.469495           0.645322  1.16183            0.317062         0.473916  0.570833                    0.499274            0.0640392       0.929879                   -35.4678  16.1826\n",
       "    15       0.900804                    0.460378           0.475537  1.0853             0.233643         0.465603  0.533235                    0.49552             0.0477648       0.977644                   -52.4463  8.53017\n",
       "    16       1                           0.442432           0.225371  1                  0.11073          0.453392  0.491324                    0.491341            0.0223559       1                          -77.4629  0"
      ]
     },
     "metadata": {},
     "output_type": "display_data"
    },
    {
     "name": "stdout",
     "output_type": "stream",
     "text": [
      "\n",
      "Scoring History: \n"
     ]
    },
    {
     "data": {
      "text/html": [
       "<div style=\"overflow:auto\"><table style=\"width:50%\"><tr><td><b></b></td>\n",
       "<td><b>timestamp</b></td>\n",
       "<td><b>duration</b></td>\n",
       "<td><b>number_of_trees</b></td>\n",
       "<td><b>training_rmse</b></td>\n",
       "<td><b>training_logloss</b></td>\n",
       "<td><b>training_auc</b></td>\n",
       "<td><b>training_pr_auc</b></td>\n",
       "<td><b>training_lift</b></td>\n",
       "<td><b>training_classification_error</b></td></tr>\n",
       "<tr><td></td>\n",
       "<td>2020-07-13 17:06:59</td>\n",
       "<td> 0.016 sec</td>\n",
       "<td>0.0</td>\n",
       "<td>0.4999247</td>\n",
       "<td>0.6929966</td>\n",
       "<td>0.5</td>\n",
       "<td>0.0</td>\n",
       "<td>1.0</td>\n",
       "<td>0.508676</td></tr>\n",
       "<tr><td></td>\n",
       "<td>2020-07-13 17:07:02</td>\n",
       "<td> 3.396 sec</td>\n",
       "<td>1.0</td>\n",
       "<td>0.4899141</td>\n",
       "<td>0.6731429</td>\n",
       "<td>0.7617381</td>\n",
       "<td>0.7505776</td>\n",
       "<td>2.0103090</td>\n",
       "<td>0.340788</td></tr></table></div>"
      ],
      "text/plain": [
       "    timestamp            duration    number_of_trees    training_rmse    training_logloss    training_auc    training_pr_auc    training_lift    training_classification_error\n",
       "--  -------------------  ----------  -----------------  ---------------  ------------------  --------------  -----------------  ---------------  -------------------------------\n",
       "    2020-07-13 17:06:59  0.016 sec   0                  0.499925         0.692997            0.5             0                  1                0.508676\n",
       "    2020-07-13 17:07:02  3.396 sec   1                  0.489914         0.673143            0.761738        0.750578           2.01031          0.340788"
      ]
     },
     "metadata": {},
     "output_type": "display_data"
    },
    {
     "name": "stdout",
     "output_type": "stream",
     "text": [
      "Variable Importances: \n"
     ]
    },
    {
     "data": {
      "text/html": [
       "<div style=\"overflow:auto\"><table style=\"width:50%\"><tr><td><b>variable</b></td>\n",
       "<td><b>relative_importance</b></td>\n",
       "<td><b>scaled_importance</b></td>\n",
       "<td><b>percentage</b></td></tr>\n",
       "<tr><td>f09</td>\n",
       "<td>2706.9526367</td>\n",
       "<td>1.0</td>\n",
       "<td>0.2073145</td></tr>\n",
       "<tr><td>e20</td>\n",
       "<td>1624.2966309</td>\n",
       "<td>0.6000462</td>\n",
       "<td>0.1243983</td></tr>\n",
       "<tr><td>f27</td>\n",
       "<td>1418.1507568</td>\n",
       "<td>0.5238920</td>\n",
       "<td>0.1086104</td></tr>\n",
       "<tr><td>f13</td>\n",
       "<td>1347.3355713</td>\n",
       "<td>0.4977315</td>\n",
       "<td>0.1031870</td></tr>\n",
       "<tr><td>e11</td>\n",
       "<td>1020.5000610</td>\n",
       "<td>0.3769922</td>\n",
       "<td>0.0781560</td></tr>\n",
       "<tr><td>---</td>\n",
       "<td>---</td>\n",
       "<td>---</td>\n",
       "<td>---</td></tr>\n",
       "<tr><td>e24</td>\n",
       "<td>0.0</td>\n",
       "<td>0.0</td>\n",
       "<td>0.0</td></tr>\n",
       "<tr><td>e25</td>\n",
       "<td>0.0</td>\n",
       "<td>0.0</td>\n",
       "<td>0.0</td></tr>\n",
       "<tr><td>f30</td>\n",
       "<td>0.0</td>\n",
       "<td>0.0</td>\n",
       "<td>0.0</td></tr>\n",
       "<tr><td>f33</td>\n",
       "<td>0.0</td>\n",
       "<td>0.0</td>\n",
       "<td>0.0</td></tr>\n",
       "<tr><td>f34</td>\n",
       "<td>0.0</td>\n",
       "<td>0.0</td>\n",
       "<td>0.0</td></tr></table></div>"
      ],
      "text/plain": [
       "variable    relative_importance    scaled_importance    percentage\n",
       "----------  ---------------------  -------------------  -------------------\n",
       "f09         2706.95263671875       1.0                  0.20731451496488668\n",
       "e20         1624.296630859375      0.6000461954252279   0.12439828596110672\n",
       "f27         1418.1507568359375     0.5238919726925692   0.10861041021275762\n",
       "f13         1347.3355712890625     0.4977314907593817   0.1031869625895312\n",
       "e11         1020.5000610351562     0.3769922115342816   0.07815595747976954\n",
       "---         ---                    ---                  ---\n",
       "e24         0.0                    0.0                  0.0\n",
       "e25         0.0                    0.0                  0.0\n",
       "f30         0.0                    0.0                  0.0\n",
       "f33         0.0                    0.0                  0.0\n",
       "f34         0.0                    0.0                  0.0"
      ]
     },
     "metadata": {},
     "output_type": "display_data"
    },
    {
     "name": "stdout",
     "output_type": "stream",
     "text": [
      "\n",
      "See the whole table with table.as_data_frame()\n"
     ]
    },
    {
     "data": {
      "text/plain": []
     },
     "execution_count": 21,
     "metadata": {},
     "output_type": "execute_result"
    }
   ],
   "source": [
    "model_dt"
   ]
  },
  {
   "cell_type": "markdown",
   "metadata": {
    "colab_type": "text",
    "id": "iS_xVSanPwNy"
   },
   "source": [
    "**Create Predictions**\n",
    "\n",
    "When, the h2o tries to make predictions, we get a warning telling us that in some features there are some observations with new levels of the factors and these values were not present in the training dataset.  There is not alot we can do about this.  You should make sure you udnerstand how H2O makes predictions in such a case."
   ]
  },
  {
   "cell_type": "code",
   "execution_count": 22,
   "metadata": {
    "colab": {
     "base_uri": "https://localhost:8080/",
     "height": 34
    },
    "colab_type": "code",
    "executionInfo": {
     "elapsed": 4864,
     "status": "ok",
     "timestamp": 1562674684502,
     "user": {
      "displayName": "K a l o u",
      "photoUrl": "https://lh4.googleusercontent.com/-EYTbYeNdLqk/AAAAAAAAAAI/AAAAAAAAADk/OD6CDp5FiG4/s64/photo.jpg",
      "userId": "10262331298445208932"
     },
     "user_tz": -60
    },
    "id": "LtCrxIjzPwN0",
    "outputId": "ba0778fe-2ef5-41fa-e5d1-81298892d25e"
   },
   "outputs": [
    {
     "name": "stdout",
     "output_type": "stream",
     "text": [
      "Parse progress: |█████████████████████████████████████████████████████████| 100%\n"
     ]
    }
   ],
   "source": [
    "h2o_df_test = h2o.H2OFrame(df_test[vars_ind_numeric + vars_ind_categorical],\n",
    "                           destination_frame='df_test')"
   ]
  },
  {
   "cell_type": "code",
   "execution_count": 23,
   "metadata": {
    "colab": {
     "base_uri": "https://localhost:8080/",
     "height": 136
    },
    "colab_type": "code",
    "executionInfo": {
     "elapsed": 714,
     "status": "ok",
     "timestamp": 1562674687811,
     "user": {
      "displayName": "K a l o u",
      "photoUrl": "https://lh4.googleusercontent.com/-EYTbYeNdLqk/AAAAAAAAAAI/AAAAAAAAADk/OD6CDp5FiG4/s64/photo.jpg",
      "userId": "10262331298445208932"
     },
     "user_tz": -60
    },
    "id": "d9OBNXcZPwN9",
    "outputId": "ac1df6e9-3ded-415a-f081-76ccc508acd1"
   },
   "outputs": [
    {
     "name": "stdout",
     "output_type": "stream",
     "text": [
      "gbm prediction progress: |████████████████████████████████████████████████| 100%\n"
     ]
    },
    {
     "name": "stderr",
     "output_type": "stream",
     "text": [
      "/opt/conda/lib/python3.6/site-packages/h2o/job.py:69: UserWarning: Test/Validation dataset column 'a18' has levels not trained on: [D]\n",
      "  warnings.warn(w)\n",
      "/opt/conda/lib/python3.6/site-packages/h2o/job.py:69: UserWarning: Test/Validation dataset column 'c09' has levels not trained on: [nan]\n",
      "  warnings.warn(w)\n",
      "/opt/conda/lib/python3.6/site-packages/h2o/job.py:69: UserWarning: Test/Validation dataset column 'e03' has levels not trained on: [J, nan]\n",
      "  warnings.warn(w)\n",
      "/opt/conda/lib/python3.6/site-packages/h2o/job.py:69: UserWarning: Test/Validation dataset column 'e13' has levels not trained on: [Q, S]\n",
      "  warnings.warn(w)\n",
      "/opt/conda/lib/python3.6/site-packages/h2o/job.py:69: UserWarning: Test/Validation dataset column 'e24' has levels not trained on: [J, M, nan]\n",
      "  warnings.warn(w)\n",
      "/opt/conda/lib/python3.6/site-packages/h2o/job.py:69: UserWarning: Test/Validation dataset column 'e20' has levels not trained on: [30146, BE271, nan]\n",
      "  warnings.warn(w)\n"
     ]
    }
   ],
   "source": [
    "preds = model_dt.predict(h2o_df_test)\n",
    "# There is no need to round your predictions\n"
   ]
  },
  {
   "cell_type": "code",
   "execution_count": 24,
   "metadata": {},
   "outputs": [],
   "source": [
    "df_test['Predicted'] = np.round(preds[2].as_data_frame(), 5)\n",
    "df_preds_dt = df_test[['unique_id', 'Predicted']].copy()\n",
    "df_test[['unique_id', 'Predicted']].to_csv(dirPOutput + '04b_df_preds_dt_250k.csv', index=False)"
   ]
  },
  {
   "cell_type": "markdown",
   "metadata": {
    "colab": {},
    "colab_type": "code",
    "id": "ACEpxn3YPwOL"
   },
   "source": [
    "Now you can submit 04b_df_preds_dt_250k.csv on Kaggle.  You should get an AUROC of around 0.75"
   ]
  },
  {
   "cell_type": "markdown",
   "metadata": {},
   "source": [
    "**Note**\n",
    "\n",
    "If you shut down your h2o JVM in this session, then any other Python notebooks open will also loose the JVM since they all connect to the same JVM!  "
   ]
  },
  {
   "cell_type": "code",
   "execution_count": 25,
   "metadata": {
    "colab": {
     "base_uri": "https://localhost:8080/",
     "height": 34
    },
    "colab_type": "code",
    "executionInfo": {
     "elapsed": 528,
     "status": "ok",
     "timestamp": 1562674795290,
     "user": {
      "displayName": "K a l o u",
      "photoUrl": "https://lh4.googleusercontent.com/-EYTbYeNdLqk/AAAAAAAAAAI/AAAAAAAAADk/OD6CDp5FiG4/s64/photo.jpg",
      "userId": "10262331298445208932"
     },
     "user_tz": -60
    },
    "id": "HOP3NaYBPwOO",
    "outputId": "24b4d559-3307-4b24-caef-72a637790fe0"
   },
   "outputs": [
    {
     "name": "stdout",
     "output_type": "stream",
     "text": [
      "H2O session _sid_892e closed.\n"
     ]
    }
   ],
   "source": [
    "h2o.cluster().shutdown()"
   ]
  },
  {
   "cell_type": "code",
   "execution_count": null,
   "metadata": {
    "colab": {},
    "colab_type": "code",
    "id": "UHLAZxx3PwOS"
   },
   "outputs": [],
   "source": []
  }
 ],
 "metadata": {
  "colab": {
   "collapsed_sections": [
    "3smVMkl0PwND",
    "H8sn8pF4PwNm"
   ],
   "name": "*Decision Tree.ipynb",
   "provenance": [],
   "version": "0.3.2"
  },
  "kernelspec": {
   "display_name": "Python 3",
   "language": "python",
   "name": "python3"
  },
  "language_info": {
   "codemirror_mode": {
    "name": "ipython",
    "version": 3
   },
   "file_extension": ".py",
   "mimetype": "text/x-python",
   "name": "python",
   "nbconvert_exporter": "python",
   "pygments_lexer": "ipython3",
   "version": "3.6.7"
  }
 },
 "nbformat": 4,
 "nbformat_minor": 1
}
