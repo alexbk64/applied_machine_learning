{
 "cells": [
  {
   "cell_type": "markdown",
   "metadata": {},
   "source": [
    "## Final assignment: part 3\n",
    "## Model Interpretability"
   ]
  },
  {
   "cell_type": "markdown",
   "metadata": {},
   "source": [
    "<a id='top'></a>"
   ]
  },
  {
   "cell_type": "markdown",
   "metadata": {},
   "source": [
    "Contents\n",
    " - start\n",
    " - load model information\n",
    " - [Variable_Importance](#Variable_Importance)\n",
    " - [Partial Dependence Plots](#PDP)\n",
    " - [Individual Conditional Expectation (ICE)](#ICE)\n",
    " - [Interactions](#interactions)\n",
    " - [LIME](#LIME)\n",
    " - [Shapley](#Shapley)\n",
    "\n",
    "Main sources:\n",
    " - 20_Interpretability.ipynb (provided by prof)\n",
    " - https://christophm.github.io/interpretable-ml-book/\n"
   ]
  },
  {
   "cell_type": "markdown",
   "metadata": {},
   "source": [
    "**Start:_**"
   ]
  },
  {
   "cell_type": "code",
   "execution_count": 1,
   "metadata": {},
   "outputs": [],
   "source": [
    "import os\n",
    "import numpy as np\n",
    "import pandas as pd\n",
    "import pickle\n",
    "\n",
    "import h2o\n",
    "import seaborn as sns\n",
    "\n",
    "import matplotlib.pyplot as plt\n",
    "%matplotlib inline"
   ]
  },
  {
   "cell_type": "markdown",
   "metadata": {},
   "source": [
    "**Directories and paths**"
   ]
  },
  {
   "cell_type": "code",
   "execution_count": 2,
   "metadata": {},
   "outputs": [
    {
     "name": "stdout",
     "output_type": "stream",
     "text": [
      "/home/jovyan/Projects/final_assignment/PCode\n"
     ]
    }
   ],
   "source": [
    "# Set directories\n",
    "print(os.getcwd())\n",
    "dirRawData = \"../RawData/\"\n",
    "dirPData = \"../PData/\"\n",
    "dirPOutput = \"../POutput/\""
   ]
  },
  {
   "cell_type": "markdown",
   "metadata": {},
   "source": [
    "**Settings**"
   ]
  },
  {
   "cell_type": "code",
   "execution_count": 3,
   "metadata": {},
   "outputs": [],
   "source": [
    "font = {'size'   : 22}\n",
    "plt.rc('font', **font)"
   ]
  },
  {
   "cell_type": "markdown",
   "metadata": {},
   "source": [
    "**Functions**"
   ]
  },
  {
   "cell_type": "code",
   "execution_count": 4,
   "metadata": {},
   "outputs": [],
   "source": [
    "def fn_minus_MAE(y_true, y_pred):\n",
    "    return -(np.mean(np.abs(y_pred - y_true)))\n",
    "def fn_MAE(actuals, predictions):\n",
    "    return (np.mean(np.abs(predictions - actuals)))\n",
    "\n",
    "def fn_RMSE(actuals, predictions):\n",
    "    return (np.sqrt(np.mean((predictions - actuals)**2)))"
   ]
  },
  {
   "cell_type": "markdown",
   "metadata": {},
   "source": [
    "**Load data**"
   ]
  },
  {
   "cell_type": "code",
   "execution_count": 5,
   "metadata": {},
   "outputs": [],
   "source": [
    "#### Load data via pickle\n",
    "f_name = dirPData + '01_df_250k.pickle'\n",
    "\n",
    "with (open(f_name, \"rb\")) as f:\n",
    "    dict_ = pickle.load(f)\n",
    "\n",
    "df_train = dict_['df_train']\n",
    "df_test  = dict_['df_test']\n",
    "\n",
    "del f_name, dict_"
   ]
  },
  {
   "cell_type": "code",
   "execution_count": 6,
   "metadata": {},
   "outputs": [],
   "source": [
    "### DEFINE VARIABLES\n",
    "vars_all = df_train.columns.values\n",
    "var_dep = ['target']\n",
    "\n",
    "vars_notToUse = ['unique_id'] \n",
    "vars_ind = [var for var in vars_all if var not in (vars_notToUse + var_dep)]\n",
    "\n",
    "\n",
    "# find the categorical vars - this includes the hccv\n",
    "vars_ind_categorical = list(df_train.columns[df_train.dtypes == 'category'])\n",
    "vars_ind_numeric = [var for var in vars_ind if var not in vars_ind_categorical]\n",
    "\n",
    "## GET HCCV VARS\n",
    "th_card = 30\n",
    "srs_card = df_train[vars_ind_categorical].nunique()\n",
    "vars_ind_hccv = srs_card[srs_card>th_card].index.values.tolist()  #stores names of categorical variables with cardinality higher than threshold\n",
    "\n",
    "# for convenience store dependent variable as y\n",
    "y = df_train[var_dep].values.ravel()\n"
   ]
  },
  {
   "cell_type": "code",
   "execution_count": 7,
   "metadata": {},
   "outputs": [],
   "source": [
    "### Set index for train, val, design, test data\n",
    "#### Create folds to seperate train data into train, val, design, test\n",
    "rng = np.random.RandomState(2020)\n",
    "fold = rng.randint(0, 10, df_train.shape[0])\n",
    "df_train['fold'] = fold\n",
    "\n",
    "# #get indices for each subset\n",
    "idx_train  = df_train['fold'].isin(range(8))\n",
    "idx_val    = df_train['fold'].isin([7, 8])\n",
    "idx_design = df_train['fold'].isin(range(9))\n",
    "\n",
    "# idx_train  = df_train['fold'].isin(range(6))\n",
    "# idx_val    = df_train['fold'].isin([6, 7])\n",
    "# idx_design = df_train['fold'].isin(range(8))\n",
    "# idx_test   = df_train['fold'].isin([8, 9])\n",
    "\n",
    "#drop fold column\n",
    "# df_train.drop(columns='fold', inplace=True)\n",
    "\n",
    "\n",
    "y_train = y[idx_train]\n",
    "y_val = y[idx_val]\n",
    "y_design = y[idx_design]\n",
    "# y_test = y[idx_test]"
   ]
  },
  {
   "cell_type": "code",
   "execution_count": 8,
   "metadata": {},
   "outputs": [],
   "source": [
    "df_X_test = df_test[vars_ind]"
   ]
  },
  {
   "cell_type": "markdown",
   "metadata": {},
   "source": [
    "**Start h2o**"
   ]
  },
  {
   "cell_type": "code",
   "execution_count": 9,
   "metadata": {},
   "outputs": [
    {
     "name": "stdout",
     "output_type": "stream",
     "text": [
      "Checking whether there is an H2O instance running at http://localhost:54321 ..... not found.\n",
      "Attempting to start a local H2O server...\n",
      "  Java Version: openjdk version \"1.8.0_212\"; OpenJDK Runtime Environment (build 1.8.0_212-8u212-b03-0ubuntu1.18.04.1-b03); OpenJDK 64-Bit Server VM (build 25.212-b03, mixed mode)\n",
      "  Starting server from /opt/conda/lib/python3.6/site-packages/h2o/backend/bin/h2o.jar\n",
      "  Ice root: /tmp/tmpfy_wklsa\n",
      "  JVM stdout: /tmp/tmpfy_wklsa/h2o_jovyan_started_from_python.out\n",
      "  JVM stderr: /tmp/tmpfy_wklsa/h2o_jovyan_started_from_python.err\n",
      "  Server is running at http://127.0.0.1:54321\n",
      "Connecting to H2O server at http://127.0.0.1:54321 ... successful.\n",
      "Warning: Your H2O cluster version is too old (1 year, 2 months and 9 days)! Please download and install the latest version from http://h2o.ai/download/\n"
     ]
    },
    {
     "data": {
      "text/html": [
       "<div style=\"overflow:auto\"><table style=\"width:50%\"><tr><td>H2O cluster uptime:</td>\n",
       "<td>01 secs</td></tr>\n",
       "<tr><td>H2O cluster timezone:</td>\n",
       "<td>Etc/UTC</td></tr>\n",
       "<tr><td>H2O data parsing timezone:</td>\n",
       "<td>UTC</td></tr>\n",
       "<tr><td>H2O cluster version:</td>\n",
       "<td>3.24.0.3</td></tr>\n",
       "<tr><td>H2O cluster version age:</td>\n",
       "<td>1 year, 2 months and 9 days !!!</td></tr>\n",
       "<tr><td>H2O cluster name:</td>\n",
       "<td>H2O_from_python_jovyan_svgklr</td></tr>\n",
       "<tr><td>H2O cluster total nodes:</td>\n",
       "<td>1</td></tr>\n",
       "<tr><td>H2O cluster free memory:</td>\n",
       "<td>13.09 Gb</td></tr>\n",
       "<tr><td>H2O cluster total cores:</td>\n",
       "<td>16</td></tr>\n",
       "<tr><td>H2O cluster allowed cores:</td>\n",
       "<td>16</td></tr>\n",
       "<tr><td>H2O cluster status:</td>\n",
       "<td>accepting new members, healthy</td></tr>\n",
       "<tr><td>H2O connection url:</td>\n",
       "<td>http://127.0.0.1:54321</td></tr>\n",
       "<tr><td>H2O connection proxy:</td>\n",
       "<td>None</td></tr>\n",
       "<tr><td>H2O internal security:</td>\n",
       "<td>False</td></tr>\n",
       "<tr><td>H2O API Extensions:</td>\n",
       "<td>Amazon S3, XGBoost, Algos, AutoML, Core V3, Core V4</td></tr>\n",
       "<tr><td>Python version:</td>\n",
       "<td>3.6.7 final</td></tr></table></div>"
      ],
      "text/plain": [
       "--------------------------  ---------------------------------------------------\n",
       "H2O cluster uptime:         01 secs\n",
       "H2O cluster timezone:       Etc/UTC\n",
       "H2O data parsing timezone:  UTC\n",
       "H2O cluster version:        3.24.0.3\n",
       "H2O cluster version age:    1 year, 2 months and 9 days !!!\n",
       "H2O cluster name:           H2O_from_python_jovyan_svgklr\n",
       "H2O cluster total nodes:    1\n",
       "H2O cluster free memory:    13.09 Gb\n",
       "H2O cluster total cores:    16\n",
       "H2O cluster allowed cores:  16\n",
       "H2O cluster status:         accepting new members, healthy\n",
       "H2O connection url:         http://127.0.0.1:54321\n",
       "H2O connection proxy:\n",
       "H2O internal security:      False\n",
       "H2O API Extensions:         Amazon S3, XGBoost, Algos, AutoML, Core V3, Core V4\n",
       "Python version:             3.6.7 final\n",
       "--------------------------  ---------------------------------------------------"
      ]
     },
     "metadata": {},
     "output_type": "display_data"
    }
   ],
   "source": [
    "h2o.init()"
   ]
  },
  {
   "cell_type": "markdown",
   "metadata": {},
   "source": [
    "**Load data into h2o**"
   ]
  },
  {
   "cell_type": "code",
   "execution_count": 10,
   "metadata": {},
   "outputs": [
    {
     "name": "stdout",
     "output_type": "stream",
     "text": [
      "Parse progress: |█████████████████████████████████████████████████████████| 100%\n"
     ]
    }
   ],
   "source": [
    "h2o_df_test = h2o.H2OFrame(df_test[vars_ind],\n",
    "                         destination_frame = 'df_test')"
   ]
  },
  {
   "cell_type": "code",
   "execution_count": null,
   "metadata": {},
   "outputs": [],
   "source": []
  },
  {
   "cell_type": "markdown",
   "metadata": {},
   "source": [
    "**Load models**"
   ]
  },
  {
   "cell_type": "code",
   "execution_count": 11,
   "metadata": {},
   "outputs": [],
   "source": [
    "# load h2o glm\n",
    "m_1a_path = dirPData+'GLM_best_model_1'\n",
    "glm_bst = h2o.load_model(path = m_1a_path)\n",
    "\n",
    "# load h2o xboost\n",
    "m_2a_path = dirPData+'XGBoost_best_model'\n",
    "xgb_bst = h2o.load_model(path = m_2a_path)"
   ]
  },
  {
   "cell_type": "markdown",
   "metadata": {},
   "source": [
    "<a id='Variable_Importance'></a>"
   ]
  },
  {
   "cell_type": "markdown",
   "metadata": {},
   "source": [
    "## Variable Importance\n",
    "\n",
    "[Top](#top)"
   ]
  },
  {
   "cell_type": "markdown",
   "metadata": {},
   "source": [
    "Variable importance measures provide an idea of which features are most important in a trained model. Variable importance is typically calculated in one of three ways:\n",
    " - based on fitted model parameters (e.g. the standardised coefficients of a fitted linear model)\n",
    " - based on the structure of tree based models (such as how often a variable is split on, or the improvment to the loss during training)\n",
    " - based on how much the performance of the model deteriorates if a feature is removed (by permuting it so that it becomes meaningless) "
   ]
  },
  {
   "cell_type": "markdown",
   "metadata": {},
   "source": [
    "**h2o glm**\n",
    "For GLM, the variable importance represents the coefficient magnitudes. This is inconsistent with other h2o model types, where variable importance is determined by calculating the relative influence of each variable: whether that variable was selected to split on during the tree building process, and how much the squared error (over all trees) improved (decreased) as a result.\n",
    " - http://docs.h2o.ai/h2o/latest-stable/h2o-docs/variable-importance.html"
   ]
  },
  {
   "cell_type": "code",
   "execution_count": 12,
   "metadata": {},
   "outputs": [
    {
     "data": {
      "image/png": "[encoded data removed]",
      "text/plain": [
       "<Figure size 1008x720 with 1 Axes>"
      ]
     },
     "metadata": {},
     "output_type": "display_data"
    }
   ],
   "source": [
    "glm_bst.varimp_plot()"
   ]
  },
  {
   "cell_type": "markdown",
   "metadata": {},
   "source": [
    "**h2o xgboost**"
   ]
  },
  {
   "cell_type": "code",
   "execution_count": 13,
   "metadata": {},
   "outputs": [
    {
     "data": {
      "image/png": "[encoded data removed]",
      "text/plain": [
       "<Figure size 1008x720 with 1 Axes>"
      ]
     },
     "metadata": {},
     "output_type": "display_data"
    }
   ],
   "source": [
    "xgb_bst.varimp_plot()"
   ]
  },
  {
   "cell_type": "markdown",
   "metadata": {},
   "source": [
    "**Permutation based feature importance**\n",
    " - http://rasbt.github.io/mlxtend/user_guide/evaluate/feature_importance_permutation/#example-1-feature-importance-for-classifiers\n",
    " \n",
    " We use test data for this since we have trained on all train and val data and we would get incorrect results if we used it."
   ]
  },
  {
   "cell_type": "markdown",
   "metadata": {},
   "source": [
    "<code>mlxtend</code> function pasted from github as import does not seem to work"
   ]
  },
  {
   "cell_type": "code",
   "execution_count": 15,
   "metadata": {},
   "outputs": [
    {
     "name": "stderr",
     "output_type": "stream",
     "text": [
      "/opt/conda/lib/python3.6/site-packages/sklearn/utils/deprecation.py:143: FutureWarning: The sklearn.metrics.scorer module is  deprecated in version 0.22 and will be removed in version 0.24. The corresponding classes / functions should instead be imported from sklearn.metrics. Anything that cannot be imported from sklearn.metrics is now part of the private API.\n",
      "  warnings.warn(message, FutureWarning)\n"
     ]
    }
   ],
   "source": [
    "from mlxtend.evaluate import feature_importance_permutation"
   ]
  },
  {
   "cell_type": "code",
   "execution_count": 16,
   "metadata": {},
   "outputs": [],
   "source": [
    "# def feature_importance_permutation(X, y, predict_method,\n",
    "#                                    metric, num_rounds=1, seed=None):\n",
    "#     \"\"\"Feature importance imputation via permutation importance\n",
    "#     Parameters\n",
    "#     ----------\n",
    "#     X : NumPy array, shape = [n_samples, n_features]\n",
    "#         Dataset, where n_samples is the number of samples and\n",
    "#         n_features is the number of features.\n",
    "#     y : NumPy array, shape = [n_samples]\n",
    "#         Target values.\n",
    "#     predict_method : prediction function\n",
    "#         A callable function that predicts the target values\n",
    "#         from X.\n",
    "#     metric : str, callable\n",
    "#         The metric for evaluating the feature importance through\n",
    "#         permutation. By default, the strings 'accuracy' is\n",
    "#         recommended for classifiers and the string 'r2' is\n",
    "#         recommended for regressors. Optionally, a custom\n",
    "#         scoring function (e.g., `metric=scoring_func`) that\n",
    "#         accepts two arguments, y_true and y_pred, which have\n",
    "#         similar shape to the `y` array.\n",
    "#     num_rounds : int (default=1)\n",
    "#         Number of rounds the feature columns are permuted to\n",
    "#         compute the permutation importance.\n",
    "#     seed : int or None (default=None)\n",
    "#         Random seed for permuting the feature columns.\n",
    "#     Returns\n",
    "#     ---------\n",
    "#     mean_importance_vals, all_importance_vals : NumPy arrays.\n",
    "#       The first array, mean_importance_vals has shape [n_features, ] and\n",
    "#       contains the importance values for all features.\n",
    "#       The shape of the second array is [n_features, num_rounds] and contains\n",
    "#       the feature importance for each repetition. If num_rounds=1,\n",
    "#       it contains the same values as the first array, mean_importance_vals.\n",
    "#     Examples\n",
    "#     -----------\n",
    "#     For usage examples, please see\n",
    "#     http://rasbt.github.io/mlxtend/user_guide/evaluate/feature_importance_permutation/\n",
    "#     \"\"\"\n",
    "\n",
    "#     if not isinstance(num_rounds, int):\n",
    "#         raise ValueError('num_rounds must be an integer.')\n",
    "#     if num_rounds < 1:\n",
    "#         raise ValueError('num_rounds must be greater than 1.')\n",
    "\n",
    "#     if not (metric in ('r2', 'accuracy') or hasattr(metric, '__call__')):\n",
    "#         raise ValueError('metric must be either \"r2\", \"accuracy\", '\n",
    "#                          'or a function with signature func(y_true, y_pred).')\n",
    "\n",
    "#     if metric == 'r2':\n",
    "#         def score_func(y_true, y_pred):\n",
    "#             sum_of_squares = np.sum(np.square(y_true - y_pred))\n",
    "#             res_sum_of_squares = np.sum(np.square(y_true - y_true.mean()))\n",
    "#             r2_score = 1. - (sum_of_squares / res_sum_of_squares)\n",
    "#             return r2_score\n",
    "\n",
    "#     elif metric == 'accuracy':\n",
    "#         def score_func(y_true, y_pred):\n",
    "#             return np.mean(y_true == y_pred)\n",
    "\n",
    "#     else:\n",
    "#         score_func = metric\n",
    "\n",
    "#     rng = np.random.RandomState(seed)\n",
    "\n",
    "#     mean_importance_vals = np.zeros(X.shape[1])\n",
    "#     all_importance_vals = np.zeros((X.shape[1], num_rounds))\n",
    "\n",
    "#     baseline = score_func(y, predict_method(X))\n",
    "\n",
    "#     for round_idx in range(num_rounds):\n",
    "#         for col_idx in range(X.shape[1]):\n",
    "#             # we take a copy of the column to be shuffled \n",
    "#             # - so that we can put it back later!\n",
    "#             save_col = X[:, col_idx].copy()\n",
    "#             rng.shuffle(X[:, col_idx])\n",
    "#             new_score = score_func(y, predict_method(X))\n",
    "#             # put the column back!\n",
    "#             X[:, col_idx] = save_col\n",
    "#             importance = baseline - new_score\n",
    "#             mean_importance_vals[col_idx] += importance\n",
    "#             all_importance_vals[col_idx, round_idx] = importance\n",
    "#     mean_importance_vals /= num_rounds\n",
    "\n",
    "#     return mean_importance_vals, all_importance_vals"
   ]
  },
  {
   "cell_type": "markdown",
   "metadata": {},
   "source": [
    "**h2o glm permutation feature importance**"
   ]
  },
  {
   "cell_type": "code",
   "execution_count": 21,
   "metadata": {},
   "outputs": [],
   "source": [
    "# imp_vals, _ = feature_importance_permutation(\n",
    "#     predict_method=glm_bst.predict, \n",
    "#     X=df_X_test.values,\n",
    "#     y=y_test,\n",
    "#     metric=fn_minus_MAE,\n",
    "#     num_rounds=1,\n",
    "#     seed=2020)\n"
   ]
  },
  {
   "cell_type": "code",
   "execution_count": 22,
   "metadata": {},
   "outputs": [],
   "source": [
    "# df_var_imp = pd.DataFrame(sorted(zip(imp_vals,\n",
    "#                                  df_X_test.columns)), \n",
    "#                       columns=['var_imp','feature'])\n",
    "\n",
    "# df_var_imp['var_imp'] = df_var_imp['var_imp'] / df_var_imp['var_imp'].max()\n",
    "\n",
    "# df_var_imp.sort_values(by=\"var_imp\", ascending=False, inplace=True)\n",
    "\n",
    "# fig = plt.figure(figsize=(17, 10))\n",
    "# sns.barplot(x=\"var_imp\",\n",
    "#             y=\"feature\",\n",
    "#             data=df_var_imp[0:10])\n",
    "# plt.title('catboost feature importance (permutation)')\n",
    "# plt.tight_layout()\n",
    "# plt.show()"
   ]
  },
  {
   "cell_type": "markdown",
   "metadata": {},
   "source": [
    "<a id='PDP'></a>"
   ]
  },
  {
   "cell_type": "markdown",
   "metadata": {},
   "source": [
    "## Partial Dependence Plots\n",
    "\n",
    "[Top](#top)"
   ]
  },
  {
   "cell_type": "code",
   "execution_count": 23,
   "metadata": {},
   "outputs": [],
   "source": [
    "# needs the one hot data\n",
    "#glm_bst.partial_plot()"
   ]
  },
  {
   "cell_type": "markdown",
   "metadata": {},
   "source": [
    "**PDP h2o xgboost**"
   ]
  },
  {
   "cell_type": "code",
   "execution_count": 24,
   "metadata": {},
   "outputs": [
    {
     "ename": "H2OValueError",
     "evalue": "Column overall_qual does not exist in the training frame",
     "output_type": "error",
     "traceback": [
      "\u001b[0;31m---------------------------------------------------------------------------\u001b[0m",
      "\u001b[0;31mH2OValueError\u001b[0m                             Traceback (most recent call last)",
      "\u001b[0;32m<ipython-input-24-10360e93c3b4>\u001b[0m in \u001b[0;36m<module>\u001b[0;34m()\u001b[0m\n\u001b[1;32m      5\u001b[0m                      \u001b[0mplot_stddev\u001b[0m \u001b[0;34m=\u001b[0m \u001b[0;32mTrue\u001b[0m\u001b[0;34m,\u001b[0m\u001b[0;34m\u001b[0m\u001b[0;34m\u001b[0m\u001b[0m\n\u001b[1;32m      6\u001b[0m                      \u001b[0mfigsize\u001b[0m\u001b[0;34m=\u001b[0m\u001b[0;34m(\u001b[0m\u001b[0;36m9\u001b[0m\u001b[0;34m,\u001b[0m \u001b[0;36m6\u001b[0m\u001b[0;34m)\u001b[0m\u001b[0;34m,\u001b[0m\u001b[0;34m\u001b[0m\u001b[0;34m\u001b[0m\u001b[0m\n\u001b[0;32m----> 7\u001b[0;31m                      save_to_file=dirPOutput + '20_xgb_pdp_overall_qual')\n\u001b[0m",
      "\u001b[0;32m/opt/conda/lib/python3.6/site-packages/h2o/model/model_base.py\u001b[0m in \u001b[0;36mpartial_plot\u001b[0;34m(self, data, cols, destination_key, nbins, weight_column, plot, plot_stddev, figsize, server, include_na, user_splits, save_to_file)\u001b[0m\n\u001b[1;32m    973\u001b[0m         \u001b[0;32mfor\u001b[0m \u001b[0mxi\u001b[0m \u001b[0;32min\u001b[0m \u001b[0mcols\u001b[0m\u001b[0;34m:\u001b[0m\u001b[0;34m\u001b[0m\u001b[0;34m\u001b[0m\u001b[0m\n\u001b[1;32m    974\u001b[0m             \u001b[0;32mif\u001b[0m \u001b[0mxi\u001b[0m \u001b[0;32mnot\u001b[0m \u001b[0;32min\u001b[0m \u001b[0mdata\u001b[0m\u001b[0;34m.\u001b[0m\u001b[0mnames\u001b[0m\u001b[0;34m:\u001b[0m\u001b[0;34m\u001b[0m\u001b[0;34m\u001b[0m\u001b[0m\n\u001b[0;32m--> 975\u001b[0;31m                 \u001b[0;32mraise\u001b[0m \u001b[0mH2OValueError\u001b[0m\u001b[0;34m(\u001b[0m\u001b[0;34m\"Column %s does not exist in the training frame\"\u001b[0m \u001b[0;34m%\u001b[0m \u001b[0mxi\u001b[0m\u001b[0;34m)\u001b[0m\u001b[0;34m\u001b[0m\u001b[0;34m\u001b[0m\u001b[0m\n\u001b[0m\u001b[1;32m    976\u001b[0m         \u001b[0;32mif\u001b[0m \u001b[0misinstance\u001b[0m\u001b[0;34m(\u001b[0m\u001b[0mweight_column\u001b[0m\u001b[0;34m,\u001b[0m \u001b[0mint\u001b[0m\u001b[0;34m)\u001b[0m \u001b[0;32mand\u001b[0m \u001b[0;32mnot\u001b[0m \u001b[0;34m(\u001b[0m\u001b[0mweight_column\u001b[0m \u001b[0;34m==\u001b[0m \u001b[0;34m-\u001b[0m\u001b[0;36m1\u001b[0m\u001b[0;34m)\u001b[0m\u001b[0;34m:\u001b[0m\u001b[0;34m\u001b[0m\u001b[0;34m\u001b[0m\u001b[0m\n\u001b[1;32m    977\u001b[0m             \u001b[0;32mraise\u001b[0m \u001b[0mH2OValueError\u001b[0m\u001b[0;34m(\u001b[0m\u001b[0;34m\"Weight column should be a column name in your data frame.\"\u001b[0m\u001b[0;34m)\u001b[0m\u001b[0;34m\u001b[0m\u001b[0;34m\u001b[0m\u001b[0m\n",
      "\u001b[0;31mH2OValueError\u001b[0m: Column overall_qual does not exist in the training frame"
     ]
    }
   ],
   "source": [
    "xgb_bst.partial_plot(data = h2o_df_test,\n",
    "                     cols = [''],\n",
    "                     nbins=20,\n",
    "                     plot=True, \n",
    "                     plot_stddev = True, \n",
    "                     figsize=(9, 6), \n",
    "                     save_to_file=dirPOutput + '20_xgb_pdp_overall_qual')"
   ]
  },
  {
   "cell_type": "markdown",
   "metadata": {},
   "source": [
    "PDPs don't seem to be implemented natively in lightgbm or catboost (which has a \"help wanted\" on this topic).  PDPs are not that difficult to program."
   ]
  },
  {
   "cell_type": "markdown",
   "metadata": {},
   "source": [
    "**PDP random forest**"
   ]
  },
  {
   "cell_type": "code",
   "execution_count": 26,
   "metadata": {},
   "outputs": [
    {
     "ename": "H2OResponseError",
     "evalue": "Server error java.lang.IllegalArgumentException:\n  Error: Column f10's cardinality of 1728 > nbins of 20\n  Request: POST /3/PartialDependence/\n    data: {'cols': '[f10]', 'model_id': 'XGBoost_model_python_1594936985348_1228', 'frame_id': 'df_test', 'nbins': '20', 'add_missing_na': 'False'}\n",
     "output_type": "error",
     "traceback": [
      "\u001b[0;31m---------------------------------------------------------------------------\u001b[0m",
      "\u001b[0;31mH2OResponseError\u001b[0m                          Traceback (most recent call last)",
      "\u001b[0;32m<ipython-input-26-2ad46a56d3b3>\u001b[0m in \u001b[0;36m<module>\u001b[0;34m()\u001b[0m\n\u001b[1;32m      5\u001b[0m                      \u001b[0mplot_stddev\u001b[0m \u001b[0;34m=\u001b[0m \u001b[0;32mTrue\u001b[0m\u001b[0;34m,\u001b[0m\u001b[0;34m\u001b[0m\u001b[0;34m\u001b[0m\u001b[0m\n\u001b[1;32m      6\u001b[0m                      \u001b[0mfigsize\u001b[0m\u001b[0;34m=\u001b[0m\u001b[0;34m(\u001b[0m\u001b[0;36m9\u001b[0m\u001b[0;34m,\u001b[0m \u001b[0;36m6\u001b[0m\u001b[0;34m)\u001b[0m\u001b[0;34m,\u001b[0m\u001b[0;34m\u001b[0m\u001b[0;34m\u001b[0m\u001b[0m\n\u001b[0;32m----> 7\u001b[0;31m                      save_to_file=dirPOutput + '20_rf_pdp_overall_qual')\n\u001b[0m",
      "\u001b[0;32m/opt/conda/lib/python3.6/site-packages/h2o/model/model_base.py\u001b[0m in \u001b[0;36mpartial_plot\u001b[0;34m(self, data, cols, destination_key, nbins, weight_column, plot, plot_stddev, figsize, server, include_na, user_splits, save_to_file)\u001b[0m\n\u001b[1;32m   1040\u001b[0m                     \u001b[0mkwargs\u001b[0m\u001b[0;34m[\u001b[0m\u001b[0;34m\"num_user_splits\"\u001b[0m\u001b[0;34m]\u001b[0m \u001b[0;34m=\u001b[0m \u001b[0;32mNone\u001b[0m\u001b[0;34m\u001b[0m\u001b[0;34m\u001b[0m\u001b[0m\n\u001b[1;32m   1041\u001b[0m \u001b[0;34m\u001b[0m\u001b[0m\n\u001b[0;32m-> 1042\u001b[0;31m         \u001b[0mjson\u001b[0m \u001b[0;34m=\u001b[0m \u001b[0mH2OJob\u001b[0m\u001b[0;34m(\u001b[0m\u001b[0mh2o\u001b[0m\u001b[0;34m.\u001b[0m\u001b[0mapi\u001b[0m\u001b[0;34m(\u001b[0m\u001b[0;34m\"POST /3/PartialDependence/\"\u001b[0m\u001b[0;34m,\u001b[0m \u001b[0mdata\u001b[0m\u001b[0;34m=\u001b[0m\u001b[0mkwargs\u001b[0m\u001b[0;34m)\u001b[0m\u001b[0;34m,\u001b[0m  \u001b[0mjob_type\u001b[0m\u001b[0;34m=\u001b[0m\u001b[0;34m\"PartialDependencePlot\"\u001b[0m\u001b[0;34m)\u001b[0m\u001b[0;34m.\u001b[0m\u001b[0mpoll\u001b[0m\u001b[0;34m(\u001b[0m\u001b[0;34m)\u001b[0m\u001b[0;34m\u001b[0m\u001b[0;34m\u001b[0m\u001b[0m\n\u001b[0m\u001b[1;32m   1043\u001b[0m         \u001b[0mjson\u001b[0m \u001b[0;34m=\u001b[0m \u001b[0mh2o\u001b[0m\u001b[0;34m.\u001b[0m\u001b[0mapi\u001b[0m\u001b[0;34m(\u001b[0m\u001b[0;34m\"GET /3/PartialDependence/%s\"\u001b[0m \u001b[0;34m%\u001b[0m \u001b[0mjson\u001b[0m\u001b[0;34m.\u001b[0m\u001b[0mdest_key\u001b[0m\u001b[0;34m)\u001b[0m\u001b[0;34m\u001b[0m\u001b[0;34m\u001b[0m\u001b[0m\n\u001b[1;32m   1044\u001b[0m \u001b[0;34m\u001b[0m\u001b[0m\n",
      "\u001b[0;32m/opt/conda/lib/python3.6/site-packages/h2o/h2o.py\u001b[0m in \u001b[0;36mapi\u001b[0;34m(endpoint, data, json, filename, save_to)\u001b[0m\n\u001b[1;32m    104\u001b[0m     \u001b[0;31m# type checks are performed in H2OConnection class\u001b[0m\u001b[0;34m\u001b[0m\u001b[0;34m\u001b[0m\u001b[0;34m\u001b[0m\u001b[0m\n\u001b[1;32m    105\u001b[0m     \u001b[0m_check_connection\u001b[0m\u001b[0;34m(\u001b[0m\u001b[0;34m)\u001b[0m\u001b[0;34m\u001b[0m\u001b[0;34m\u001b[0m\u001b[0m\n\u001b[0;32m--> 106\u001b[0;31m     \u001b[0;32mreturn\u001b[0m \u001b[0mh2oconn\u001b[0m\u001b[0;34m.\u001b[0m\u001b[0mrequest\u001b[0m\u001b[0;34m(\u001b[0m\u001b[0mendpoint\u001b[0m\u001b[0;34m,\u001b[0m \u001b[0mdata\u001b[0m\u001b[0;34m=\u001b[0m\u001b[0mdata\u001b[0m\u001b[0;34m,\u001b[0m \u001b[0mjson\u001b[0m\u001b[0;34m=\u001b[0m\u001b[0mjson\u001b[0m\u001b[0;34m,\u001b[0m \u001b[0mfilename\u001b[0m\u001b[0;34m=\u001b[0m\u001b[0mfilename\u001b[0m\u001b[0;34m,\u001b[0m \u001b[0msave_to\u001b[0m\u001b[0;34m=\u001b[0m\u001b[0msave_to\u001b[0m\u001b[0;34m)\u001b[0m\u001b[0;34m\u001b[0m\u001b[0;34m\u001b[0m\u001b[0m\n\u001b[0m\u001b[1;32m    107\u001b[0m \u001b[0;34m\u001b[0m\u001b[0m\n\u001b[1;32m    108\u001b[0m \u001b[0;34m\u001b[0m\u001b[0m\n",
      "\u001b[0;32m/opt/conda/lib/python3.6/site-packages/h2o/backend/connection.py\u001b[0m in \u001b[0;36mrequest\u001b[0;34m(self, endpoint, data, json, filename, save_to)\u001b[0m\n\u001b[1;32m    405\u001b[0m                                     auth=self._auth, verify=self._verify_ssl_cert, proxies=self._proxies)\n\u001b[1;32m    406\u001b[0m             \u001b[0mself\u001b[0m\u001b[0;34m.\u001b[0m\u001b[0m_log_end_transaction\u001b[0m\u001b[0;34m(\u001b[0m\u001b[0mstart_time\u001b[0m\u001b[0;34m,\u001b[0m \u001b[0mresp\u001b[0m\u001b[0;34m)\u001b[0m\u001b[0;34m\u001b[0m\u001b[0;34m\u001b[0m\u001b[0m\n\u001b[0;32m--> 407\u001b[0;31m             \u001b[0;32mreturn\u001b[0m \u001b[0mself\u001b[0m\u001b[0;34m.\u001b[0m\u001b[0m_process_response\u001b[0m\u001b[0;34m(\u001b[0m\u001b[0mresp\u001b[0m\u001b[0;34m,\u001b[0m \u001b[0msave_to\u001b[0m\u001b[0;34m)\u001b[0m\u001b[0;34m\u001b[0m\u001b[0;34m\u001b[0m\u001b[0m\n\u001b[0m\u001b[1;32m    408\u001b[0m \u001b[0;34m\u001b[0m\u001b[0m\n\u001b[1;32m    409\u001b[0m         \u001b[0;32mexcept\u001b[0m \u001b[0;34m(\u001b[0m\u001b[0mrequests\u001b[0m\u001b[0;34m.\u001b[0m\u001b[0mexceptions\u001b[0m\u001b[0;34m.\u001b[0m\u001b[0mConnectionError\u001b[0m\u001b[0;34m,\u001b[0m \u001b[0mrequests\u001b[0m\u001b[0;34m.\u001b[0m\u001b[0mexceptions\u001b[0m\u001b[0;34m.\u001b[0m\u001b[0mHTTPError\u001b[0m\u001b[0;34m)\u001b[0m \u001b[0;32mas\u001b[0m \u001b[0me\u001b[0m\u001b[0;34m:\u001b[0m\u001b[0;34m\u001b[0m\u001b[0;34m\u001b[0m\u001b[0m\n",
      "\u001b[0;32m/opt/conda/lib/python3.6/site-packages/h2o/backend/connection.py\u001b[0m in \u001b[0;36m_process_response\u001b[0;34m(response, save_to)\u001b[0m\n\u001b[1;32m    741\u001b[0m         \u001b[0;31m# Client errors (400 = \"Bad Request\", 404 = \"Not Found\", 412 = \"Precondition Failed\")\u001b[0m\u001b[0;34m\u001b[0m\u001b[0;34m\u001b[0m\u001b[0;34m\u001b[0m\u001b[0m\n\u001b[1;32m    742\u001b[0m         \u001b[0;32mif\u001b[0m \u001b[0mstatus_code\u001b[0m \u001b[0;32min\u001b[0m \u001b[0;34m{\u001b[0m\u001b[0;36m400\u001b[0m\u001b[0;34m,\u001b[0m \u001b[0;36m404\u001b[0m\u001b[0;34m,\u001b[0m \u001b[0;36m412\u001b[0m\u001b[0;34m}\u001b[0m \u001b[0;32mand\u001b[0m \u001b[0misinstance\u001b[0m\u001b[0;34m(\u001b[0m\u001b[0mdata\u001b[0m\u001b[0;34m,\u001b[0m \u001b[0;34m(\u001b[0m\u001b[0mH2OErrorV3\u001b[0m\u001b[0;34m,\u001b[0m \u001b[0mH2OModelBuilderErrorV3\u001b[0m\u001b[0;34m)\u001b[0m\u001b[0;34m)\u001b[0m\u001b[0;34m:\u001b[0m\u001b[0;34m\u001b[0m\u001b[0;34m\u001b[0m\u001b[0m\n\u001b[0;32m--> 743\u001b[0;31m             \u001b[0;32mraise\u001b[0m \u001b[0mH2OResponseError\u001b[0m\u001b[0;34m(\u001b[0m\u001b[0mdata\u001b[0m\u001b[0;34m)\u001b[0m\u001b[0;34m\u001b[0m\u001b[0;34m\u001b[0m\u001b[0m\n\u001b[0m\u001b[1;32m    744\u001b[0m \u001b[0;34m\u001b[0m\u001b[0m\n\u001b[1;32m    745\u001b[0m         \u001b[0;31m# Server errors (notably 500 = \"Server Error\")\u001b[0m\u001b[0;34m\u001b[0m\u001b[0;34m\u001b[0m\u001b[0;34m\u001b[0m\u001b[0m\n",
      "\u001b[0;31mH2OResponseError\u001b[0m: Server error java.lang.IllegalArgumentException:\n  Error: Column f10's cardinality of 1728 > nbins of 20\n  Request: POST /3/PartialDependence/\n    data: {'cols': '[f10]', 'model_id': 'XGBoost_model_python_1594936985348_1228', 'frame_id': 'df_test', 'nbins': '20', 'add_missing_na': 'False'}\n"
     ]
    }
   ],
   "source": [
    "xgb_bst.partial_plot(data = h2o_df_test,\n",
    "                     cols = ['f10'],\n",
    "                     nbins=20,\n",
    "                     plot=True, \n",
    "                     plot_stddev = True,\n",
    "                     figsize=(9, 6), \n",
    "                     save_to_file=dirPOutput + '20_rf_pdp_overall_qual')"
   ]
  }
 ],
 "metadata": {
  "kernelspec": {
   "display_name": "Python 3",
   "language": "python",
   "name": "python3"
  },
  "language_info": {
   "codemirror_mode": {
    "name": "ipython",
    "version": 3
   },
   "file_extension": ".py",
   "mimetype": "text/x-python",
   "name": "python",
   "nbconvert_exporter": "python",
   "pygments_lexer": "ipython3",
   "version": "3.6.7"
  }
 },
 "nbformat": 4,
 "nbformat_minor": 2
}
