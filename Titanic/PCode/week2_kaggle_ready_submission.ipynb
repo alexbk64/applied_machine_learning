{
 "cells": [
  {
   "cell_type": "markdown",
   "metadata": {},
   "source": [
    "### Week 2 Assessment\n",
    "-Author: Alexandre Kanouni\n",
    "-Last modified: May 28 2020\n"
   ]
  },
  {
   "cell_type": "markdown",
   "metadata": {},
   "source": [
    "***Import packages***\n",
    "\n"
   ]
  },
  {
   "cell_type": "code",
   "execution_count": 1,
   "metadata": {},
   "outputs": [],
   "source": [
    "import os\n",
    "import pandas as pd\n",
    "import numpy as np\n",
    "\n",
    "#sklearn\n",
    "from sklearn.preprocessing import StandardScaler\n",
    "from sklearn.linear_model import LinearRegression\n",
    "\n",
    "#scipy\n",
    "from scipy.optimize import minimize \n"
   ]
  },
  {
   "cell_type": "markdown",
   "metadata": {},
   "source": [
    "***Functions***\n"
   ]
  },
  {
   "cell_type": "code",
   "execution_count": 2,
   "metadata": {},
   "outputs": [],
   "source": [
    "def fn_MAE(actuals, predictions):\n",
    "#     return np.round(np.mean(np.abs(predictions - actuals)))\n",
    "    return (np.mean(np.abs(predictions - actuals)))\n",
    "\n",
    "def fn_MSE(actuals, predictions):\n",
    "#     return np.round(np.mean(np.square(predictions - actuals)))\n",
    "    return (np.mean(np.square(predictions - actuals)))\n",
    "\n",
    "def getThreshold(actuals, predictions):\n",
    "    threshold = 0\n",
    "    return threshold\n",
    "\n",
    "def fn_fixPredictions(threshold, predictions):\n",
    "    i=0\n",
    "    predictions_temp = predictions.copy()\n",
    "    while i<len(predictions_temp):\n",
    "        if predictions_temp[i]>threshold:\n",
    "            #then predict 1\n",
    "            predictions_temp[i]=1\n",
    "        else:\n",
    "            predictions_temp[i]=0\n",
    "        i+=1\n",
    "    return predictions_temp\n",
    "\n",
    "def fn_MAE_TRIAL(threshold, actuals, predictions):\n",
    "#     return np.round(np.mean(np.abs(predictions - actuals)))\n",
    "    predictions1 = fn_fixPredictions(threshold,predictions)\n",
    "    return (np.mean(np.abs(predictions1 - actuals)))\n",
    "\n",
    "def fn_getTrainAccuracy(th,actuals,predictions):\n",
    "    temp = fn_fixPredictions(th,predictions)\n",
    "    accuracy = np.mean(temp==y_train)\n",
    "    return accuracy\n",
    "\n",
    "def fn_optimizeThreshold_scipy(actuals, predictions):\n",
    "    ###SCIPY\n",
    "    ###OPTIMISE THRESHOLD\n",
    "    th=0\n",
    "    res = minimize(fn_MAE_TRIAL, [th,], args=(actuals, predictions), tol=1e-3, method=\"Powell\")\n",
    "    print('Minimum {} attained at {}'.format(-res.fun, res.x))\n",
    "    opt_th = res.x\n",
    "    return opt_th\n",
    "\n",
    "\n",
    "def fn_optimizeThreshold_naive(actuals, predictions):\n",
    "        ### NAIVE\n",
    "    #set starting threshold, and starting error\n",
    "    step=1e-3 #lowest possible value as need threshold rounded to 3 dp\n",
    "    opt_accuracy = 0 #lowest possible value\n",
    "    i=0\n",
    "    opt_th = -1 #initialise arbitrary non applicable number\n",
    "    #loop until have tried all thresholds, incrementing by 0.001. I.e. 1000 iterations\n",
    "    while i<1000:\n",
    "        temp_th = step*i #create temporary threshold for each iteration\n",
    "        #if current temp threshold leads to HIGHER train accuracy than current minimum, \n",
    "        #then this is the optimal threshold SO FAR\n",
    "\n",
    "        temp_accuracy = fn_getTrainAccuracy(temp_th,actuals,predictions)\n",
    "        if temp_accuracy > opt_accuracy: #using > instead of >= bc I want lowest possible threshold, but with highest possible accuracy \n",
    "            #this threshold leads to higher accuracy, so it is a better threshold\n",
    "            opt_th = temp_th\n",
    "            #temp_accuracy is now the accuracy to beat, so update variable\n",
    "            opt_accuracy = temp_accuracy\n",
    "\n",
    "        i+=1 #increment i\n",
    "    return opt_th"
   ]
  },
  {
   "cell_type": "markdown",
   "metadata": {},
   "source": [
    "**Directories and paths**"
   ]
  },
  {
   "cell_type": "code",
   "execution_count": 3,
   "metadata": {},
   "outputs": [
    {
     "name": "stdout",
     "output_type": "stream",
     "text": [
      "/home/jovyan/Projects/Titanic/PCode\n"
     ]
    }
   ],
   "source": [
    "# Set directories\n",
    "print(os.getcwd())\n",
    "dirRawData = \"../input/\"\n",
    "dirPData   = \"../PData/\""
   ]
  },
  {
   "cell_type": "markdown",
   "metadata": {},
   "source": [
    "*** Read the data ***"
   ]
  },
  {
   "cell_type": "code",
   "execution_count": 4,
   "metadata": {},
   "outputs": [],
   "source": [
    "df_train = pd.read_csv(dirRawData+'train.csv')\n",
    "df_test = pd.read_csv(dirRawData+'test.csv')"
   ]
  },
  {
   "cell_type": "code",
   "execution_count": 5,
   "metadata": {},
   "outputs": [],
   "source": [
    "# df_train.head(10) #inspect data\n",
    "# df_train.shape\n",
    "# srs_missing_train = df_train.isnull().sum(axis=0) \n",
    "# # srs_missing_test = df_test.isnull().sum(axis=0) \n",
    "# print('train: \\n',srs_missing_train[srs_missing_train>0]) #show which features have missing values\n",
    "# # print('test: \\n',srs_missing_test[srs_missing_test>0]) #show which features have missing values\n",
    "\n",
    "\n",
    "###NOTE THAT WILL HAVE TO DO SOMETHING ABOUT:\n",
    "# AGE IN BOTH\n",
    "#CABIN IN BOTH\n",
    "# Emarked in train\n",
    "# Cabin in test"
   ]
  },
  {
   "cell_type": "markdown",
   "metadata": {},
   "source": [
    "***Data manipulation***"
   ]
  },
  {
   "cell_type": "code",
   "execution_count": null,
   "metadata": {},
   "outputs": [],
   "source": []
  },
  {
   "cell_type": "code",
   "execution_count": 6,
   "metadata": {},
   "outputs": [],
   "source": [
    "df_all = df_train.append(df_test, sort=False)\n",
    "\n",
    "\n",
    "\n",
    "### TESTING FUNCTION ONLY PASES DF_TRAIN SO DONT USE DF_TEST:\n",
    "# df_all = df_train\n",
    "\n",
    "vars_all = df_all.columns.values\n",
    "# df_train.shape\n",
    "# df_test.shape\n",
    "df_all.shape #double check number of rows matches what expected\n",
    "var_dep = ['Survived']\n",
    "\n",
    "vars_notToUse = ['PassengerId', 'Name']\n",
    "#create list of independent variables\n",
    "vars_ind = [var for var in vars_all if var not in (vars_notToUse+var_dep)] #use list comprehension (see below examples)\n",
    "#create list of numeric independent variables\n",
    "vars_ind_numeric = [var for var in vars_ind if df_all[var].dtype != 'object']\n",
    "vars_ind_categorical = [var for var in vars_ind if df_all[var].dtype == 'object']\n",
    "# print(vars_ind_categorical)"
   ]
  },
  {
   "cell_type": "code",
   "execution_count": 7,
   "metadata": {},
   "outputs": [],
   "source": [
    "# print(var_dep)\n",
    "# print(vars_ind_numeric)\n",
    "# print(vars_ind_categorical)"
   ]
  },
  {
   "cell_type": "markdown",
   "metadata": {},
   "source": [
    "***Create one hot variables for any categorical variables***\n",
    "- though not if they are high cardinality - over 30 diff cats. Such vars should be excluded from further analysis. Use pandas as in lect video"
   ]
  },
  {
   "cell_type": "code",
   "execution_count": 8,
   "metadata": {},
   "outputs": [
    {
     "name": "stdout",
     "output_type": "stream",
     "text": [
      "Sex           2\n",
      "Ticket      929\n",
      "Cabin       186\n",
      "Embarked      3\n",
      "dtype: int64\n",
      "['Ticket', 'Cabin']\n",
      "['Sex', 'Embarked']\n"
     ]
    },
    {
     "data": {
      "text/plain": [
       "Sex         2\n",
       "Embarked    3\n",
       "dtype: int64"
      ]
     },
     "execution_count": 8,
     "metadata": {},
     "output_type": "execute_result"
    }
   ],
   "source": [
    "###check cardinality\n",
    "print(df_all[vars_ind_categorical].nunique())\n",
    "# len(df_all['Name'].unique())\n",
    "vars_ind_cat_exclude = [var for var in vars_ind_categorical if len(df_all[var].unique())>30]\n",
    "##vars_ind and remove those to be excluded\n",
    "print(vars_ind_cat_exclude)\n",
    "vars_ind_cat_include = [var for var in vars_ind_categorical if var not in vars_ind_cat_exclude]\n",
    "print(vars_ind_cat_include)\n",
    "df_all[vars_ind_cat_include].nunique()"
   ]
  },
  {
   "cell_type": "code",
   "execution_count": 9,
   "metadata": {},
   "outputs": [],
   "source": [
    "# df_all.head(10)"
   ]
  },
  {
   "cell_type": "code",
   "execution_count": 10,
   "metadata": {},
   "outputs": [
    {
     "data": {
      "text/html": [
       "<div>\n",
       "<style scoped>\n",
       "    .dataframe tbody tr th:only-of-type {\n",
       "        vertical-align: middle;\n",
       "    }\n",
       "\n",
       "    .dataframe tbody tr th {\n",
       "        vertical-align: top;\n",
       "    }\n",
       "\n",
       "    .dataframe thead th {\n",
       "        text-align: right;\n",
       "    }\n",
       "</style>\n",
       "<table border=\"1\" class=\"dataframe\">\n",
       "  <thead>\n",
       "    <tr style=\"text-align: right;\">\n",
       "      <th></th>\n",
       "      <th>PassengerId</th>\n",
       "      <th>Survived</th>\n",
       "      <th>Pclass</th>\n",
       "      <th>Name</th>\n",
       "      <th>Sex</th>\n",
       "      <th>Age</th>\n",
       "      <th>SibSp</th>\n",
       "      <th>Parch</th>\n",
       "      <th>Fare</th>\n",
       "      <th>Embarked</th>\n",
       "    </tr>\n",
       "  </thead>\n",
       "  <tbody>\n",
       "    <tr>\n",
       "      <th>0</th>\n",
       "      <td>1</td>\n",
       "      <td>0.0</td>\n",
       "      <td>3</td>\n",
       "      <td>Braund, Mr. Owen Harris</td>\n",
       "      <td>male</td>\n",
       "      <td>22.0</td>\n",
       "      <td>1</td>\n",
       "      <td>0</td>\n",
       "      <td>7.2500</td>\n",
       "      <td>S</td>\n",
       "    </tr>\n",
       "    <tr>\n",
       "      <th>1</th>\n",
       "      <td>2</td>\n",
       "      <td>1.0</td>\n",
       "      <td>1</td>\n",
       "      <td>Cumings, Mrs. John Bradley (Florence Briggs Th...</td>\n",
       "      <td>female</td>\n",
       "      <td>38.0</td>\n",
       "      <td>1</td>\n",
       "      <td>0</td>\n",
       "      <td>71.2833</td>\n",
       "      <td>C</td>\n",
       "    </tr>\n",
       "    <tr>\n",
       "      <th>2</th>\n",
       "      <td>3</td>\n",
       "      <td>1.0</td>\n",
       "      <td>3</td>\n",
       "      <td>Heikkinen, Miss. Laina</td>\n",
       "      <td>female</td>\n",
       "      <td>26.0</td>\n",
       "      <td>0</td>\n",
       "      <td>0</td>\n",
       "      <td>7.9250</td>\n",
       "      <td>S</td>\n",
       "    </tr>\n",
       "    <tr>\n",
       "      <th>3</th>\n",
       "      <td>4</td>\n",
       "      <td>1.0</td>\n",
       "      <td>1</td>\n",
       "      <td>Futrelle, Mrs. Jacques Heath (Lily May Peel)</td>\n",
       "      <td>female</td>\n",
       "      <td>35.0</td>\n",
       "      <td>1</td>\n",
       "      <td>0</td>\n",
       "      <td>53.1000</td>\n",
       "      <td>S</td>\n",
       "    </tr>\n",
       "    <tr>\n",
       "      <th>4</th>\n",
       "      <td>5</td>\n",
       "      <td>0.0</td>\n",
       "      <td>3</td>\n",
       "      <td>Allen, Mr. William Henry</td>\n",
       "      <td>male</td>\n",
       "      <td>35.0</td>\n",
       "      <td>0</td>\n",
       "      <td>0</td>\n",
       "      <td>8.0500</td>\n",
       "      <td>S</td>\n",
       "    </tr>\n",
       "    <tr>\n",
       "      <th>5</th>\n",
       "      <td>6</td>\n",
       "      <td>0.0</td>\n",
       "      <td>3</td>\n",
       "      <td>Moran, Mr. James</td>\n",
       "      <td>male</td>\n",
       "      <td>NaN</td>\n",
       "      <td>0</td>\n",
       "      <td>0</td>\n",
       "      <td>8.4583</td>\n",
       "      <td>Q</td>\n",
       "    </tr>\n",
       "    <tr>\n",
       "      <th>6</th>\n",
       "      <td>7</td>\n",
       "      <td>0.0</td>\n",
       "      <td>1</td>\n",
       "      <td>McCarthy, Mr. Timothy J</td>\n",
       "      <td>male</td>\n",
       "      <td>54.0</td>\n",
       "      <td>0</td>\n",
       "      <td>0</td>\n",
       "      <td>51.8625</td>\n",
       "      <td>S</td>\n",
       "    </tr>\n",
       "    <tr>\n",
       "      <th>7</th>\n",
       "      <td>8</td>\n",
       "      <td>0.0</td>\n",
       "      <td>3</td>\n",
       "      <td>Palsson, Master. Gosta Leonard</td>\n",
       "      <td>male</td>\n",
       "      <td>2.0</td>\n",
       "      <td>3</td>\n",
       "      <td>1</td>\n",
       "      <td>21.0750</td>\n",
       "      <td>S</td>\n",
       "    </tr>\n",
       "    <tr>\n",
       "      <th>8</th>\n",
       "      <td>9</td>\n",
       "      <td>1.0</td>\n",
       "      <td>3</td>\n",
       "      <td>Johnson, Mrs. Oscar W (Elisabeth Vilhelmina Berg)</td>\n",
       "      <td>female</td>\n",
       "      <td>27.0</td>\n",
       "      <td>0</td>\n",
       "      <td>2</td>\n",
       "      <td>11.1333</td>\n",
       "      <td>S</td>\n",
       "    </tr>\n",
       "    <tr>\n",
       "      <th>9</th>\n",
       "      <td>10</td>\n",
       "      <td>1.0</td>\n",
       "      <td>2</td>\n",
       "      <td>Nasser, Mrs. Nicholas (Adele Achem)</td>\n",
       "      <td>female</td>\n",
       "      <td>14.0</td>\n",
       "      <td>1</td>\n",
       "      <td>0</td>\n",
       "      <td>30.0708</td>\n",
       "      <td>C</td>\n",
       "    </tr>\n",
       "  </tbody>\n",
       "</table>\n",
       "</div>"
      ],
      "text/plain": [
       "   PassengerId  Survived  Pclass  \\\n",
       "0            1       0.0       3   \n",
       "1            2       1.0       1   \n",
       "2            3       1.0       3   \n",
       "3            4       1.0       1   \n",
       "4            5       0.0       3   \n",
       "5            6       0.0       3   \n",
       "6            7       0.0       1   \n",
       "7            8       0.0       3   \n",
       "8            9       1.0       3   \n",
       "9           10       1.0       2   \n",
       "\n",
       "                                                Name     Sex   Age  SibSp  \\\n",
       "0                            Braund, Mr. Owen Harris    male  22.0      1   \n",
       "1  Cumings, Mrs. John Bradley (Florence Briggs Th...  female  38.0      1   \n",
       "2                             Heikkinen, Miss. Laina  female  26.0      0   \n",
       "3       Futrelle, Mrs. Jacques Heath (Lily May Peel)  female  35.0      1   \n",
       "4                           Allen, Mr. William Henry    male  35.0      0   \n",
       "5                                   Moran, Mr. James    male   NaN      0   \n",
       "6                            McCarthy, Mr. Timothy J    male  54.0      0   \n",
       "7                     Palsson, Master. Gosta Leonard    male   2.0      3   \n",
       "8  Johnson, Mrs. Oscar W (Elisabeth Vilhelmina Berg)  female  27.0      0   \n",
       "9                Nasser, Mrs. Nicholas (Adele Achem)  female  14.0      1   \n",
       "\n",
       "   Parch     Fare Embarked  \n",
       "0      0   7.2500        S  \n",
       "1      0  71.2833        C  \n",
       "2      0   7.9250        S  \n",
       "3      0  53.1000        S  \n",
       "4      0   8.0500        S  \n",
       "5      0   8.4583        Q  \n",
       "6      0  51.8625        S  \n",
       "7      1  21.0750        S  \n",
       "8      2  11.1333        S  \n",
       "9      0  30.0708        C  "
      ]
     },
     "execution_count": 10,
     "metadata": {},
     "output_type": "execute_result"
    }
   ],
   "source": [
    "###DROP VARIABLES\n",
    "# vars_toDrop = vars_ind_cat_exclude+var_dep\n",
    "vars_toDrop = vars_ind_cat_exclude ### FOR NOW\n",
    "###FOR DEBUGGING, check indiv. data types of vars to drop\n",
    "# print(df_all['lot_frontage'].dtype)\n",
    "# print(df_all['garage_yr_blt'].dtype)\n",
    "# print(df_all['mas_vnr_area'].dtype)\n",
    "###ALTERNATIVELY, check all at once\n",
    "# [df_all[var].dtype for var in vars_toDrop]\n",
    "df_all.drop(labels=vars_toDrop,\n",
    "            axis=1,\n",
    "            inplace=True)\n",
    "df_all.head(10)"
   ]
  },
  {
   "cell_type": "code",
   "execution_count": 11,
   "metadata": {},
   "outputs": [
    {
     "name": "stdout",
     "output_type": "stream",
     "text": [
      "Sex\n",
      "Embarked\n"
     ]
    }
   ],
   "source": [
    "##update vars_ind and remove those to be excluded\n",
    "# vars_ind_cat_include = [var for var in vars_ind_categorical if var not in vars_ind_cat_exclude]\n",
    "\n",
    "vars_ind_onehot = []\n",
    "\n",
    "df_all_onehot = df_all.copy()\n",
    "\n",
    "# for col in vars_ind_categorical:\n",
    "for col in vars_ind_cat_include:\n",
    "\n",
    "    print(col)\n",
    "    \n",
    "    # use pd.get_dummies on  df_all[col] \n",
    "    df_oh = pd.get_dummies(df_all[col], drop_first=False)\n",
    "    \n",
    "    # Find the column name of the most frequent category\n",
    "    col_mostFreq =  df_oh.sum(axis=0).idxmax() \n",
    "    \n",
    "    # Drop the column of the most frequent category\n",
    "    df_oh = df_oh.drop(col_mostFreq, axis=1, inplace=False)\n",
    "        \n",
    "    # Rename the columns to have the original variable name as a prefix\n",
    "    oh_names = col+'_'+df_oh.columns\n",
    "    df_oh.columns = oh_names\n",
    "    \n",
    "    df_all_onehot = pd.concat([df_all_onehot, df_oh], axis = 1, sort = False)\n",
    "\n",
    "    del df_all_onehot[col]\n",
    "    vars_ind_onehot.extend(oh_names)\n",
    "df_all_onehot.head(10)\n",
    "# print(vars_ind_onehot)\n",
    "\n",
    "\n",
    "###UPDATE vars_ind\n",
    "vars_ind = vars_ind_numeric + vars_ind_onehot "
   ]
  },
  {
   "cell_type": "markdown",
   "metadata": {},
   "source": [
    "*** Separate train, test data ***"
   ]
  },
  {
   "cell_type": "code",
   "execution_count": 12,
   "metadata": {},
   "outputs": [],
   "source": [
    "# idx_train  = np.where(df_all_onehot['PassengerId'].isin(np.arange(0,6)))[0]\n",
    "idx_train  = np.where(df_all_onehot['PassengerId'].isin(np.arange(0,892)))[0]\n",
    "# idx_test   = np.where(df_all_onehot['PassengerId'].isin(np.arange(892,1310)))[0]"
   ]
  },
  {
   "cell_type": "markdown",
   "metadata": {},
   "source": [
    "***Dealing with missing data***"
   ]
  },
  {
   "cell_type": "code",
   "execution_count": 13,
   "metadata": {},
   "outputs": [],
   "source": [
    "# print(len(idx_train))\n",
    "# print(len(idx_test))\n",
    "# print(idx_test)\n",
    "# df_all_onehot.tail(10)"
   ]
  },
  {
   "cell_type": "code",
   "execution_count": 14,
   "metadata": {},
   "outputs": [
    {
     "name": "stdout",
     "output_type": "stream",
     "text": [
      "(1309, 11)\n",
      "Survived    418\n",
      "Age         263\n",
      "Fare          1\n",
      "dtype: int64\n"
     ]
    }
   ],
   "source": [
    "print(df_all_onehot.shape)\n",
    "#collapse axis = 0 i.e. sum missing values,\n",
    "#store as series\n",
    "# df_all.isnull()\n",
    "srs_missing = df_all_onehot.isnull().sum(axis=0) \n",
    "print(srs_missing[srs_missing>0]) #show which features have missing values\n",
    "\n"
   ]
  },
  {
   "cell_type": "code",
   "execution_count": 15,
   "metadata": {},
   "outputs": [],
   "source": [
    "# df_original_all = df_all.copy()"
   ]
  },
  {
   "cell_type": "code",
   "execution_count": 16,
   "metadata": {},
   "outputs": [],
   "source": [
    "###CREATE an indicator for the missing values of age:\n",
    "#0 when age is not missing, 1 when age is missing\n",
    "\n",
    "# print(df_all['Age'].isnull())\n",
    "age_missing = 1*df_all_onehot['Age'].isnull()\n",
    "# type(age_missing) #double check type\n",
    "# age_missing"
   ]
  },
  {
   "cell_type": "code",
   "execution_count": 17,
   "metadata": {},
   "outputs": [],
   "source": [
    "temp_nanmean = np.nanmean(df_all['Age'])"
   ]
  },
  {
   "cell_type": "code",
   "execution_count": null,
   "metadata": {},
   "outputs": [],
   "source": []
  },
  {
   "cell_type": "code",
   "execution_count": 18,
   "metadata": {},
   "outputs": [],
   "source": [
    "###REPLACE missing values of age with the mean of the non missing values"
   ]
  },
  {
   "cell_type": "code",
   "execution_count": 19,
   "metadata": {},
   "outputs": [
    {
     "data": {
      "text/html": [
       "<div>\n",
       "<style scoped>\n",
       "    .dataframe tbody tr th:only-of-type {\n",
       "        vertical-align: middle;\n",
       "    }\n",
       "\n",
       "    .dataframe tbody tr th {\n",
       "        vertical-align: top;\n",
       "    }\n",
       "\n",
       "    .dataframe thead th {\n",
       "        text-align: right;\n",
       "    }\n",
       "</style>\n",
       "<table border=\"1\" class=\"dataframe\">\n",
       "  <thead>\n",
       "    <tr style=\"text-align: right;\">\n",
       "      <th></th>\n",
       "      <th>PassengerId</th>\n",
       "      <th>Survived</th>\n",
       "      <th>Pclass</th>\n",
       "      <th>Name</th>\n",
       "      <th>Age</th>\n",
       "      <th>SibSp</th>\n",
       "      <th>Parch</th>\n",
       "      <th>Fare</th>\n",
       "      <th>Sex_female</th>\n",
       "      <th>Embarked_C</th>\n",
       "      <th>Embarked_Q</th>\n",
       "    </tr>\n",
       "  </thead>\n",
       "  <tbody>\n",
       "    <tr>\n",
       "      <th>0</th>\n",
       "      <td>1</td>\n",
       "      <td>0.0</td>\n",
       "      <td>3</td>\n",
       "      <td>Braund, Mr. Owen Harris</td>\n",
       "      <td>22.000000</td>\n",
       "      <td>1</td>\n",
       "      <td>0</td>\n",
       "      <td>7.2500</td>\n",
       "      <td>0</td>\n",
       "      <td>0</td>\n",
       "      <td>0</td>\n",
       "    </tr>\n",
       "    <tr>\n",
       "      <th>1</th>\n",
       "      <td>2</td>\n",
       "      <td>1.0</td>\n",
       "      <td>1</td>\n",
       "      <td>Cumings, Mrs. John Bradley (Florence Briggs Th...</td>\n",
       "      <td>38.000000</td>\n",
       "      <td>1</td>\n",
       "      <td>0</td>\n",
       "      <td>71.2833</td>\n",
       "      <td>1</td>\n",
       "      <td>1</td>\n",
       "      <td>0</td>\n",
       "    </tr>\n",
       "    <tr>\n",
       "      <th>2</th>\n",
       "      <td>3</td>\n",
       "      <td>1.0</td>\n",
       "      <td>3</td>\n",
       "      <td>Heikkinen, Miss. Laina</td>\n",
       "      <td>26.000000</td>\n",
       "      <td>0</td>\n",
       "      <td>0</td>\n",
       "      <td>7.9250</td>\n",
       "      <td>1</td>\n",
       "      <td>0</td>\n",
       "      <td>0</td>\n",
       "    </tr>\n",
       "    <tr>\n",
       "      <th>3</th>\n",
       "      <td>4</td>\n",
       "      <td>1.0</td>\n",
       "      <td>1</td>\n",
       "      <td>Futrelle, Mrs. Jacques Heath (Lily May Peel)</td>\n",
       "      <td>35.000000</td>\n",
       "      <td>1</td>\n",
       "      <td>0</td>\n",
       "      <td>53.1000</td>\n",
       "      <td>1</td>\n",
       "      <td>0</td>\n",
       "      <td>0</td>\n",
       "    </tr>\n",
       "    <tr>\n",
       "      <th>4</th>\n",
       "      <td>5</td>\n",
       "      <td>0.0</td>\n",
       "      <td>3</td>\n",
       "      <td>Allen, Mr. William Henry</td>\n",
       "      <td>35.000000</td>\n",
       "      <td>0</td>\n",
       "      <td>0</td>\n",
       "      <td>8.0500</td>\n",
       "      <td>0</td>\n",
       "      <td>0</td>\n",
       "      <td>0</td>\n",
       "    </tr>\n",
       "    <tr>\n",
       "      <th>5</th>\n",
       "      <td>6</td>\n",
       "      <td>0.0</td>\n",
       "      <td>3</td>\n",
       "      <td>Moran, Mr. James</td>\n",
       "      <td>29.881138</td>\n",
       "      <td>0</td>\n",
       "      <td>0</td>\n",
       "      <td>8.4583</td>\n",
       "      <td>0</td>\n",
       "      <td>0</td>\n",
       "      <td>1</td>\n",
       "    </tr>\n",
       "    <tr>\n",
       "      <th>6</th>\n",
       "      <td>7</td>\n",
       "      <td>0.0</td>\n",
       "      <td>1</td>\n",
       "      <td>McCarthy, Mr. Timothy J</td>\n",
       "      <td>54.000000</td>\n",
       "      <td>0</td>\n",
       "      <td>0</td>\n",
       "      <td>51.8625</td>\n",
       "      <td>0</td>\n",
       "      <td>0</td>\n",
       "      <td>0</td>\n",
       "    </tr>\n",
       "    <tr>\n",
       "      <th>7</th>\n",
       "      <td>8</td>\n",
       "      <td>0.0</td>\n",
       "      <td>3</td>\n",
       "      <td>Palsson, Master. Gosta Leonard</td>\n",
       "      <td>2.000000</td>\n",
       "      <td>3</td>\n",
       "      <td>1</td>\n",
       "      <td>21.0750</td>\n",
       "      <td>0</td>\n",
       "      <td>0</td>\n",
       "      <td>0</td>\n",
       "    </tr>\n",
       "    <tr>\n",
       "      <th>8</th>\n",
       "      <td>9</td>\n",
       "      <td>1.0</td>\n",
       "      <td>3</td>\n",
       "      <td>Johnson, Mrs. Oscar W (Elisabeth Vilhelmina Berg)</td>\n",
       "      <td>27.000000</td>\n",
       "      <td>0</td>\n",
       "      <td>2</td>\n",
       "      <td>11.1333</td>\n",
       "      <td>1</td>\n",
       "      <td>0</td>\n",
       "      <td>0</td>\n",
       "    </tr>\n",
       "    <tr>\n",
       "      <th>9</th>\n",
       "      <td>10</td>\n",
       "      <td>1.0</td>\n",
       "      <td>2</td>\n",
       "      <td>Nasser, Mrs. Nicholas (Adele Achem)</td>\n",
       "      <td>14.000000</td>\n",
       "      <td>1</td>\n",
       "      <td>0</td>\n",
       "      <td>30.0708</td>\n",
       "      <td>1</td>\n",
       "      <td>1</td>\n",
       "      <td>0</td>\n",
       "    </tr>\n",
       "  </tbody>\n",
       "</table>\n",
       "</div>"
      ],
      "text/plain": [
       "   PassengerId  Survived  Pclass  \\\n",
       "0            1       0.0       3   \n",
       "1            2       1.0       1   \n",
       "2            3       1.0       3   \n",
       "3            4       1.0       1   \n",
       "4            5       0.0       3   \n",
       "5            6       0.0       3   \n",
       "6            7       0.0       1   \n",
       "7            8       0.0       3   \n",
       "8            9       1.0       3   \n",
       "9           10       1.0       2   \n",
       "\n",
       "                                                Name        Age  SibSp  Parch  \\\n",
       "0                            Braund, Mr. Owen Harris  22.000000      1      0   \n",
       "1  Cumings, Mrs. John Bradley (Florence Briggs Th...  38.000000      1      0   \n",
       "2                             Heikkinen, Miss. Laina  26.000000      0      0   \n",
       "3       Futrelle, Mrs. Jacques Heath (Lily May Peel)  35.000000      1      0   \n",
       "4                           Allen, Mr. William Henry  35.000000      0      0   \n",
       "5                                   Moran, Mr. James  29.881138      0      0   \n",
       "6                            McCarthy, Mr. Timothy J  54.000000      0      0   \n",
       "7                     Palsson, Master. Gosta Leonard   2.000000      3      1   \n",
       "8  Johnson, Mrs. Oscar W (Elisabeth Vilhelmina Berg)  27.000000      0      2   \n",
       "9                Nasser, Mrs. Nicholas (Adele Achem)  14.000000      1      0   \n",
       "\n",
       "      Fare  Sex_female  Embarked_C  Embarked_Q  \n",
       "0   7.2500           0           0           0  \n",
       "1  71.2833           1           1           0  \n",
       "2   7.9250           1           0           0  \n",
       "3  53.1000           1           0           0  \n",
       "4   8.0500           0           0           0  \n",
       "5   8.4583           0           0           1  \n",
       "6  51.8625           0           0           0  \n",
       "7  21.0750           0           0           0  \n",
       "8  11.1333           1           0           0  \n",
       "9  30.0708           1           1           0  "
      ]
     },
     "execution_count": 19,
     "metadata": {},
     "output_type": "execute_result"
    }
   ],
   "source": [
    "i=0\n",
    "temp=df_all_onehot['Age'].copy()\n",
    "while i<len(df_all_onehot):\n",
    "    if np.isnan(df_all_onehot['Age'].iloc[i]):\n",
    "        #then replace with mean of non-missing values\n",
    "        temp.iloc[i]=temp_nanmean\n",
    "    i+=1\n",
    "df_all_onehot['Age'] = temp\n",
    "df_all_onehot.head(10) #just to double check NaNs have been changed"
   ]
  },
  {
   "cell_type": "code",
   "execution_count": 20,
   "metadata": {},
   "outputs": [],
   "source": [
    "###ONLY NEEDED WHEN TEST DATA INCLUDED\n",
    "###ALSO NEED TO DROP RECORD WITH MISSING FARE\n",
    "\n",
    "## NOTE: KAGGLE REQUIRES 418 ENTRIES SO CAN'T DROP. INSTEAD WILL REPLACE WITH MEAN OF NON-MISSINGS\n",
    "# df_all_onehot.dropna(subset=['Fare'],inplace=True)\n",
    "i=0\n",
    "temp=df_all_onehot['Fare'].copy()\n",
    "while i<len(df_all_onehot):\n",
    "    if np.isnan(df_all_onehot['Fare'].iloc[i]):\n",
    "        #then replace with mean of non-missing values\n",
    "        temp.iloc[i]=np.nanmean(df_all['Fare'])\n",
    "    i+=1\n",
    "df_all_onehot['Fare'] = temp\n",
    "# df_all_onehot.head(10) #just to double check NaNs have been changed"
   ]
  },
  {
   "cell_type": "code",
   "execution_count": 21,
   "metadata": {},
   "outputs": [
    {
     "name": "stdout",
     "output_type": "stream",
     "text": [
      "(1309, 11)\n",
      "Survived    418\n",
      "dtype: int64\n"
     ]
    }
   ],
   "source": [
    "### ENSURE NO MORE MISSING DATA\n",
    "\n",
    "print(df_all_onehot.shape)\n",
    "#collapse axis = 0 i.e. sum missing values,\n",
    "#store as series\n",
    "# df_all.isnull()\n",
    "srs_missing = df_all_onehot.isnull().sum(axis=0) \n",
    "print(srs_missing[srs_missing>0]) #show which features have missing values\n",
    "\n"
   ]
  },
  {
   "cell_type": "code",
   "execution_count": 22,
   "metadata": {},
   "outputs": [],
   "source": [
    "# # df_all.head(1)\n",
    "# # temp.head(10)\n",
    "# not_missing = df_all['Age'][age_missing==0]\n",
    "# sum = not_missing.sum(axis=0)\n",
    "# # print(len(age_missing[age_missing==0]))\n",
    "# # df_all['Age'][age_missing==0]\n",
    "# temp_mean = sum/len(not_missing)\n",
    "# print(temp_mean)"
   ]
  },
  {
   "cell_type": "code",
   "execution_count": 23,
   "metadata": {},
   "outputs": [],
   "source": [
    "# ?np.zeros()"
   ]
  },
  {
   "cell_type": "code",
   "execution_count": 24,
   "metadata": {},
   "outputs": [],
   "source": [
    "# df_all_onehot['Age'] = [temp_nanmean for var in age_missing if age_missing.loc[var]==1]"
   ]
  },
  {
   "cell_type": "markdown",
   "metadata": {},
   "source": [
    "***Prepare data ***"
   ]
  },
  {
   "cell_type": "code",
   "execution_count": 25,
   "metadata": {},
   "outputs": [
    {
     "data": {
      "text/plain": [
       "(892, 1311)"
      ]
     },
     "execution_count": 25,
     "metadata": {},
     "output_type": "execute_result"
    }
   ],
   "source": [
    "# # idx_train  = np.where(df_all_onehot['PassengerId'].isin(np.arange(0,6)))[0]\n",
    "train_range = (0,len(df_all_onehot['Survived'][~np.isnan(df_all_onehot['Survived'])])+1)\n",
    "test_range = (train_range[1], len(df_all_onehot)+2)\n",
    "idx_train  = np.where(df_all_onehot['PassengerId'].isin(np.arange(train_range[0],train_range[1])))[0]\n",
    "idx_test   = np.where(df_all_onehot['PassengerId'].isin(np.arange(test_range[0],test_range[1])))[0]\n",
    "# df_all_onehot.tail(10)\n",
    "test_range\n",
    "# df_all_onehot.shape\n"
   ]
  },
  {
   "cell_type": "code",
   "execution_count": 26,
   "metadata": {},
   "outputs": [],
   "source": [
    "# vars_all_onehot = df_all_onehot.columns.values\n",
    "# vars_ind_onehot = [var for var in vars_all_onehot if var not in (vars_notToUse+var_dep)] #use list comprehension (see below examples)\n",
    "# X = df_all_onehot[vars_ind_onehot].values\n",
    "X = df_all_onehot[vars_ind].values\n",
    "# df_all_onehot.head(10)\n",
    "y = df_all_onehot[var_dep].values\n",
    "# df_all_onehot[vars_ind].tail(100)"
   ]
  },
  {
   "cell_type": "code",
   "execution_count": 27,
   "metadata": {},
   "outputs": [
    {
     "data": {
      "text/plain": [
       "(418, 8)"
      ]
     },
     "execution_count": 27,
     "metadata": {},
     "output_type": "execute_result"
    }
   ],
   "source": [
    "X_train = X[idx_train]\n",
    "X_test = X[idx_test]\n",
    "y_train = y[idx_train]\n",
    "# print(len(y))\n",
    "# print(len(y_train))\n",
    "# X_test[len(X_test)-1]\n",
    "X_test.shape"
   ]
  },
  {
   "cell_type": "markdown",
   "metadata": {},
   "source": [
    "***Fit a linear regression model to the data***\n",
    "- use only: from sklearn.linear_model import LinearRegression"
   ]
  },
  {
   "cell_type": "code",
   "execution_count": 28,
   "metadata": {},
   "outputs": [],
   "source": [
    "#instatiate\n",
    "lm_ = LinearRegression()"
   ]
  },
  {
   "cell_type": "code",
   "execution_count": 29,
   "metadata": {},
   "outputs": [
    {
     "data": {
      "text/plain": [
       "LinearRegression(copy_X=True, fit_intercept=True, n_jobs=1, normalize=False)"
      ]
     },
     "execution_count": 29,
     "metadata": {},
     "output_type": "execute_result"
    }
   ],
   "source": [
    "#fit to TRAIN data\n",
    "lm_.fit(X_train,y_train)"
   ]
  },
  {
   "cell_type": "markdown",
   "metadata": {},
   "source": [
    "***Predictions***\n",
    "- The predictions from your linear regression will not be limited to 0 or 1 - they can be any real number. You will need to decide when to predict 1 and when to predict 0. Do this by choosing some threshold, th (rounded to 3 d.p.) If the prediction of your linear regression model is greater than (do not use greater or equals) th then predict 1 otherwise predict 0. For the threshold, choose the value of th (rounded to 3 d.p.) which maximises Accuracy on the train data. Note carefully your threshold and Accuracy on the train data - you will need to type this exactly into your function."
   ]
  },
  {
   "cell_type": "code",
   "execution_count": 30,
   "metadata": {},
   "outputs": [],
   "source": [
    "# type(X_test)\n",
    "# df_all_onehot['Survived']\n",
    "# X_train.shape\n",
    "# X_test.shape\n",
    "# np.any(np.isnan(X_test)) #debugging"
   ]
  },
  {
   "cell_type": "code",
   "execution_count": 31,
   "metadata": {},
   "outputs": [],
   "source": [
    "lm__pred_train = lm_.predict(X_train)\n",
    "lm__pred_test = lm_.predict(X_test)\n",
    "# lm__pred_train #check predictions\n",
    "# lm__pred_test\n",
    "\n",
    "# # print(lm__pred_train)\n",
    "# ###JUST TO TEST METHODS, define basic threshold\n",
    "# # th = 2.2370679652352625\n",
    "# train_predictions = fn_fixPredictions(opt_th,lm__pred_train)\n",
    "# # print(train_predictions)\n",
    "# print(np.mean(np.abs(lm__pred_train-y_train)))\n",
    "# train_MSE = fn_MSE(y_train, train_predictions)\n",
    "# train_MAE = fn_MAE(y_train, train_predictions)\n",
    "# # th = fn_getThreshold(df_train)\n",
    "# print(train_MSE,train_MAE)\n",
    "# # print(train_predictions)\n",
    "# # print(y_train)"
   ]
  },
  {
   "cell_type": "markdown",
   "metadata": {},
   "source": [
    "##### *** Optimise threshold *** \n",
    "- Need to <b>maximise</b> Accuracy on train data. That is, must find threshold which minimises train error:\n",
    "<ol>\n",
    "    <li>We choose a measure of train error: MAE</li>\n",
    "    <li> Use <code>scipy.optimise</code> module to minimise MAE accross different thresholds</li>\n",
    "</ol>"
   ]
  },
  {
   "cell_type": "markdown",
   "metadata": {},
   "source": [
    "***Optimise threshold using scipy, by minimisng MAE***"
   ]
  },
  {
   "cell_type": "code",
   "execution_count": 32,
   "metadata": {},
   "outputs": [],
   "source": [
    "# opt_th = fn_optimizeThreshold_scipy(y_train, lm__pred_train)"
   ]
  },
  {
   "cell_type": "markdown",
   "metadata": {},
   "source": [
    "***ALTERNATIVELY, optimise threshold manually:***\n",
    "- Using a loop, naively find optimal threshold according to highest possible train accuracy"
   ]
  },
  {
   "cell_type": "code",
   "execution_count": 33,
   "metadata": {},
   "outputs": [
    {
     "data": {
      "text/plain": [
       "0.61"
      ]
     },
     "execution_count": 33,
     "metadata": {},
     "output_type": "execute_result"
    }
   ],
   "source": [
    "opt_th = fn_optimizeThreshold_naive(y_train, lm__pred_train)\n",
    "opt_th"
   ]
  },
  {
   "cell_type": "code",
   "execution_count": 34,
   "metadata": {},
   "outputs": [
    {
     "name": "stdout",
     "output_type": "stream",
     "text": [
      "Train Accuracy: 0.8170594837261503\n"
     ]
    }
   ],
   "source": [
    "print('Train Accuracy:',fn_getTrainAccuracy(opt_th, y_train, lm__pred_train))\n",
    "# print('Train Accuracy:',fn_getTrainAccuracy(res.x, y_train, lm__pred_train))"
   ]
  },
  {
   "cell_type": "code",
   "execution_count": 35,
   "metadata": {},
   "outputs": [],
   "source": [
    "# ###DEBUGGING\n",
    "# # print(train_predictions)\n",
    "# # print(lm__pred_train)\n",
    "# temp = fn_fixPredictions(0.616,lm__pred_train)\n",
    "# # temp = fn_fixPredictions(0.496,lm__pred_train)\n",
    "# # print(lm__pred_train)\n",
    "# # print(temp)\n",
    "# # mean_predicted = np.mean(lm__pred_train)\n",
    "# mean_predicted = np.mean(temp)\n",
    "# mean_actual = np.mean(y_train)\n",
    "# print('mean predicted survival rate:', mean_predicted)\n",
    "# print('mean actual survival rate:', mean_actual)\n",
    "# #Print accuracy \n",
    "# print('Train Accuracy:',np.mean(temp==y_train))"
   ]
  },
  {
   "cell_type": "code",
   "execution_count": null,
   "metadata": {},
   "outputs": [],
   "source": []
  },
  {
   "cell_type": "code",
   "execution_count": 36,
   "metadata": {},
   "outputs": [],
   "source": [
    "# ### NOTE that even if the optimal threshold found by the methods differs, the train accuracy\n",
    "# ### should be the same.\n",
    "# fn_getTrainAccuracy(opt_th, y_train, lm__pred_train)==fn_getTrainAccuracy(res.x, y_train, lm__pred_train)"
   ]
  },
  {
   "cell_type": "code",
   "execution_count": 37,
   "metadata": {},
   "outputs": [],
   "source": [
    "### In fact, there is a set of optimal thresholds around 0.61"
   ]
  },
  {
   "cell_type": "markdown",
   "metadata": {},
   "source": [
    "***FINAL predictions, threshold (3dp) and Train accuracy***"
   ]
  },
  {
   "cell_type": "code",
   "execution_count": 38,
   "metadata": {},
   "outputs": [
    {
     "name": "stdout",
     "output_type": "stream",
     "text": [
      "0.61 0.817\n"
     ]
    }
   ],
   "source": [
    "f_th = np.round(opt_th,3)\n",
    "f_train_predictions = fn_fixPredictions(f_th,lm__pred_train)\n",
    "f_train_accuracy = np.round(fn_getTrainAccuracy(f_th,y_train,lm__pred_train),3)\n",
    "\n",
    "print(f_th, f_train_accuracy)"
   ]
  },
  {
   "cell_type": "code",
   "execution_count": 39,
   "metadata": {},
   "outputs": [],
   "source": [
    "##LIST OF ITEMS TO RETURN\n",
    "# lst_toReturn = [lm_, X, y_train, 0.612, 0.817]"
   ]
  },
  {
   "cell_type": "code",
   "execution_count": 40,
   "metadata": {},
   "outputs": [],
   "source": [
    "### FIX PREDICTED TEST VALUES ACCORDING TO OPTIMAL THRESHOLD\n",
    "f_test_predictions = fn_fixPredictions(f_th, lm__pred_test)\n",
    "f_test_predictions = f_test_predictions.astype(int)\n",
    "final = f_test_predictions.flatten()\n",
    "# df_test.shape\n",
    "\n"
   ]
  },
  {
   "cell_type": "markdown",
   "metadata": {},
   "source": [
    "*** Prepare solution for Kaggle ***"
   ]
  },
  {
   "cell_type": "code",
   "execution_count": 41,
   "metadata": {},
   "outputs": [],
   "source": [
    "df_kaggle_sub = pd.DataFrame({\n",
    "        \"PassengerId\": df_test[\"PassengerId\"],\n",
    "        \"Survived\": final\n",
    "    })"
   ]
  },
  {
   "cell_type": "code",
   "execution_count": 42,
   "metadata": {},
   "outputs": [],
   "source": [
    "# df_kaggle_sub.head(10) #inspect"
   ]
  },
  {
   "cell_type": "code",
   "execution_count": 43,
   "metadata": {},
   "outputs": [],
   "source": [
    "df_kaggle_sub.to_csv('../POutput/df_kaggle_sub_week2_manual.csv', index=False)"
   ]
  },
  {
   "cell_type": "code",
   "execution_count": 44,
   "metadata": {},
   "outputs": [],
   "source": [
    "# df_kaggle_sub.to_csv('../POutput/df_kaggle_sub_week2_scipy.csv', index=False)"
   ]
  }
 ],
 "metadata": {
  "kernelspec": {
   "display_name": "Python 3",
   "language": "python",
   "name": "python3"
  },
  "language_info": {
   "codemirror_mode": {
    "name": "ipython",
    "version": 3
   },
   "file_extension": ".py",
   "mimetype": "text/x-python",
   "name": "python",
   "nbconvert_exporter": "python",
   "pygments_lexer": "ipython3",
   "version": "3.6.7"
  }
 },
 "nbformat": 4,
 "nbformat_minor": 2
}
