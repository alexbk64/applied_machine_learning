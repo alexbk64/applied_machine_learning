{
 "cells": [
  {
   "cell_type": "markdown",
   "metadata": {},
   "source": [
    "# Prepare Ames Housing Data"
   ]
  },
  {
   "cell_type": "markdown",
   "metadata": {},
   "source": [
    "Contents\n",
    " - start\n",
    "  - packages\n",
    "  - directories and paths\n",
    " - data manipulation\n",
    "   - dealing with categorical variables\n",
    "   - train - val - test split\n",
    " - save data\n",
    "\n",
    "Sources:\n",
    "http://ww2.amstat.org/publications/jse/v19n3/decock.pdf\n",
    "\n",
    "Copyright (C) 2018 Alan Chalk  \n",
    "Please do not distribute or publish without permission."
   ]
  },
  {
   "cell_type": "markdown",
   "metadata": {},
   "source": [
    "## Start_."
   ]
  },
  {
   "cell_type": "markdown",
   "metadata": {
    "scrolled": true
   },
   "source": [
    "**Import any packages needed** "
   ]
  },
  {
   "cell_type": "code",
   "execution_count": 26,
   "metadata": {},
   "outputs": [],
   "source": [
    "import os\n",
    "import re\n",
    "\n",
    "import numpy as np\n",
    "import pandas as pd\n",
    "import pickle\n",
    "\n",
    "#from sklearn.preprocessing import OneHotEncoder\n",
    "\n",
    "from matplotlib import pyplot as plt\n",
    "%matplotlib inline"
   ]
  },
  {
   "cell_type": "markdown",
   "metadata": {},
   "source": [
    "**Set directories and paths**"
   ]
  },
  {
   "cell_type": "code",
   "execution_count": 27,
   "metadata": {},
   "outputs": [
    {
     "name": "stdout",
     "output_type": "stream",
     "text": [
      "/home/jovyan/Projects/AmesHousing/PCode\n"
     ]
    }
   ],
   "source": [
    "# Set directories\n",
    "print(os.getcwd())\n",
    "dirRawData = \"../input/\"\n",
    "dirPData   = \"../PData/\"\n",
    "dirPOutput = \"../POutput/\""
   ]
  },
  {
   "cell_type": "markdown",
   "metadata": {},
   "source": [
    "**Load data**"
   ]
  },
  {
   "cell_type": "code",
   "execution_count": 28,
   "metadata": {},
   "outputs": [],
   "source": [
    "#store = pd.HDFStore(dirPData + '02_df_all.h5')\n",
    "#df_all = pd.read_hdf(store, 'df_all')\n",
    "#store.close()\n",
    "f_name = dirPData + '02_df.pickle'\n",
    "\n",
    "with (open(f_name, \"rb\")) as f:\n",
    "    dict_ = pickle.load(f)\n",
    "\n",
    "df_all = dict_['df_all']\n",
    "\n",
    "del f_name, dict_"
   ]
  },
  {
   "cell_type": "code",
   "execution_count": 29,
   "metadata": {},
   "outputs": [],
   "source": [
    "f_name = dirPData + '02_vars.pickle'\n",
    "\n",
    "with open(f_name, \"rb\") as f:\n",
    "    dict_ = pickle.load(f)\n",
    "\n",
    "vars_ind_numeric = dict_['vars_ind_numeric']\n",
    "vars_notToUse = dict_['vars_notToUse']\n",
    "var_dep = dict_['var_dep']\n",
    "\n",
    "dict_.keys()\n",
    "del f_name, dict_"
   ]
  },
  {
   "cell_type": "markdown",
   "metadata": {},
   "source": [
    "### Data Manipulation"
   ]
  },
  {
   "cell_type": "markdown",
   "metadata": {},
   "source": [
    "**Deal with categorical variables**\n",
    "\n",
    "For h2o (and lightgbm) we do not need to onehot these variables - just flag them as categorical / factors"
   ]
  },
  {
   "cell_type": "markdown",
   "metadata": {},
   "source": [
    "TO DO\n",
    "\n",
    " - Create vars_ind_categorical, a list of the categorical (dtypes == 'object') variables\n",
    " - Note: one was is along the following lines \n",
    "  - df_all.dtypes gives a pandas series containing the dtypes (try it)\n",
    "  - df_all.dtypes == 'object' gives a series of True / False (try it)\n",
    "  - df_all.columns gives the pandas Index of column names\n",
    "  - the above index can be sliced with the True / False of dtypes and then the method .tolist() can be applied"
   ]
  },
  {
   "cell_type": "code",
   "execution_count": 30,
   "metadata": {},
   "outputs": [
    {
     "data": {
      "text/plain": [
       "['ms_subclass',\n",
       " 'ms_zoning',\n",
       " 'street',\n",
       " 'alley',\n",
       " 'lot_shape',\n",
       " 'land_contour',\n",
       " 'lot_config',\n",
       " 'land_slope',\n",
       " 'neighborhood',\n",
       " 'condition_1',\n",
       " 'condition_2',\n",
       " 'bldg_type',\n",
       " 'house_style',\n",
       " 'roof_style',\n",
       " 'roof_matl',\n",
       " 'exterior_1st',\n",
       " 'exterior_2nd',\n",
       " 'mas_vnr_type',\n",
       " 'exter_qual',\n",
       " 'exter_cond',\n",
       " 'foundation',\n",
       " 'bsmt_qual',\n",
       " 'bsmt_cond',\n",
       " 'bsmt_exposure',\n",
       " 'bsmtfin_type_1',\n",
       " 'bsmtfin_type_2',\n",
       " 'heating',\n",
       " 'heating_qc',\n",
       " 'central_air',\n",
       " 'electrical',\n",
       " 'kitchen_qual',\n",
       " 'functional',\n",
       " 'fireplace_qu',\n",
       " 'garage_type',\n",
       " 'garage_finish',\n",
       " 'garage_qual',\n",
       " 'garage_cond',\n",
       " 'paved_drive',\n",
       " 'fence',\n",
       " 'misc_feature',\n",
       " 'sale_type',\n",
       " 'sale_condition']"
      ]
     },
     "execution_count": 30,
     "metadata": {},
     "output_type": "execute_result"
    }
   ],
   "source": [
    "# df_all.dtypes\n",
    "# df_all.dtypes == 'object'\n",
    "vars_ind_categorical = [var for var in df_all.columns if df_all[var].dtype == 'object']\n",
    "vars_ind_categorical\n",
    "# df_all.head(10)"
   ]
  },
  {
   "cell_type": "markdown",
   "metadata": {},
   "source": [
    "TODO\n",
    "\n",
    " - What is the cardinality of the categorical variables?  "
   ]
  },
  {
   "cell_type": "code",
   "execution_count": 33,
   "metadata": {},
   "outputs": [
    {
     "data": {
      "text/plain": [
       "ms_subclass       14\n",
       "ms_zoning          5\n",
       "street             2\n",
       "alley              3\n",
       "lot_shape          4\n",
       "land_contour       4\n",
       "lot_config         5\n",
       "land_slope         3\n",
       "neighborhood      24\n",
       "condition_1        7\n",
       "condition_2        2\n",
       "bldg_type          5\n",
       "house_style        7\n",
       "roof_style         5\n",
       "roof_matl          2\n",
       "exterior_1st      10\n",
       "exterior_2nd      12\n",
       "mas_vnr_type       4\n",
       "exter_qual         4\n",
       "exter_cond         4\n",
       "foundation         5\n",
       "bsmt_qual          5\n",
       "bsmt_cond          4\n",
       "bsmt_exposure      5\n",
       "bsmtfin_type_1     7\n",
       "bsmtfin_type_2     7\n",
       "heating            2\n",
       "heating_qc         4\n",
       "central_air        2\n",
       "electrical         3\n",
       "kitchen_qual       4\n",
       "functional         5\n",
       "fireplace_qu       6\n",
       "garage_type        7\n",
       "garage_finish      4\n",
       "garage_qual        4\n",
       "garage_cond        5\n",
       "paved_drive        3\n",
       "fence              5\n",
       "misc_feature       2\n",
       "sale_type          5\n",
       "sale_condition     6\n",
       "dtype: int64"
      ]
     },
     "execution_count": 33,
     "metadata": {},
     "output_type": "execute_result"
    }
   ],
   "source": [
    "df_all[vars_ind_categorical].nunique() #show cardinality of each categorical variable"
   ]
  },
  {
   "cell_type": "markdown",
   "metadata": {},
   "source": [
    "We can see below it is not too high - therefore we will simply one-hot all the categorical variables."
   ]
  },
  {
   "cell_type": "markdown",
   "metadata": {},
   "source": [
    "### Example of one-hot"
   ]
  },
  {
   "cell_type": "code",
   "execution_count": 42,
   "metadata": {},
   "outputs": [
    {
     "name": "stdout",
     "output_type": "stream",
     "text": [
      "['Hip' 'Gable' 'Mansard' 'Gambrel' 'Flat']\n",
      "5\n"
     ]
    }
   ],
   "source": [
    "# What are the various roof styles?\n",
    "print(df_all['roof_style'].unique())\n",
    "print(len(df_all['roof_style'].unique()))"
   ]
  },
  {
   "cell_type": "code",
   "execution_count": 35,
   "metadata": {},
   "outputs": [
    {
     "data": {
      "text/plain": [
       "15      Hip\n",
       "16    Gable\n",
       "17      Hip\n",
       "18    Gable\n",
       "19    Gable\n",
       "20      Hip\n",
       "Name: roof_style, dtype: object"
      ]
     },
     "execution_count": 35,
     "metadata": {},
     "output_type": "execute_result"
    }
   ],
   "source": [
    "df_all.loc[15:20, 'roof_style']\n",
    "# df_all['roof_style'].value_counts() #check different types and freq of roof styles"
   ]
  },
  {
   "cell_type": "markdown",
   "metadata": {},
   "source": [
    "**onehot encoding using pandas**\n",
    "\n",
    "TODO\n",
    "\n",
    " - Run the code below\n",
    " - What is the difference between using drop_first = False and = True?\n",
    " <b>ANS: drop_first = True drops the first roof style</b>"
   ]
  },
  {
   "cell_type": "code",
   "execution_count": 36,
   "metadata": {},
   "outputs": [
    {
     "data": {
      "text/html": [
       "<div>\n",
       "<style scoped>\n",
       "    .dataframe tbody tr th:only-of-type {\n",
       "        vertical-align: middle;\n",
       "    }\n",
       "\n",
       "    .dataframe tbody tr th {\n",
       "        vertical-align: top;\n",
       "    }\n",
       "\n",
       "    .dataframe thead th {\n",
       "        text-align: right;\n",
       "    }\n",
       "</style>\n",
       "<table border=\"1\" class=\"dataframe\">\n",
       "  <thead>\n",
       "    <tr style=\"text-align: right;\">\n",
       "      <th></th>\n",
       "      <th>Flat</th>\n",
       "      <th>Gable</th>\n",
       "      <th>Gambrel</th>\n",
       "      <th>Hip</th>\n",
       "      <th>Mansard</th>\n",
       "    </tr>\n",
       "  </thead>\n",
       "  <tbody>\n",
       "    <tr>\n",
       "      <th>15</th>\n",
       "      <td>0</td>\n",
       "      <td>0</td>\n",
       "      <td>0</td>\n",
       "      <td>1</td>\n",
       "      <td>0</td>\n",
       "    </tr>\n",
       "    <tr>\n",
       "      <th>16</th>\n",
       "      <td>0</td>\n",
       "      <td>1</td>\n",
       "      <td>0</td>\n",
       "      <td>0</td>\n",
       "      <td>0</td>\n",
       "    </tr>\n",
       "    <tr>\n",
       "      <th>17</th>\n",
       "      <td>0</td>\n",
       "      <td>0</td>\n",
       "      <td>0</td>\n",
       "      <td>1</td>\n",
       "      <td>0</td>\n",
       "    </tr>\n",
       "    <tr>\n",
       "      <th>18</th>\n",
       "      <td>0</td>\n",
       "      <td>1</td>\n",
       "      <td>0</td>\n",
       "      <td>0</td>\n",
       "      <td>0</td>\n",
       "    </tr>\n",
       "    <tr>\n",
       "      <th>19</th>\n",
       "      <td>0</td>\n",
       "      <td>1</td>\n",
       "      <td>0</td>\n",
       "      <td>0</td>\n",
       "      <td>0</td>\n",
       "    </tr>\n",
       "  </tbody>\n",
       "</table>\n",
       "</div>"
      ],
      "text/plain": [
       "    Flat  Gable  Gambrel  Hip  Mansard\n",
       "15     0      0        0    1        0\n",
       "16     0      1        0    0        0\n",
       "17     0      0        0    1        0\n",
       "18     0      1        0    0        0\n",
       "19     0      1        0    0        0"
      ]
     },
     "execution_count": 36,
     "metadata": {},
     "output_type": "execute_result"
    }
   ],
   "source": [
    "pd.get_dummies(df_all['roof_style'], drop_first = False)[15:20]"
   ]
  },
  {
   "cell_type": "code",
   "execution_count": 37,
   "metadata": {},
   "outputs": [
    {
     "data": {
      "text/html": [
       "<div>\n",
       "<style scoped>\n",
       "    .dataframe tbody tr th:only-of-type {\n",
       "        vertical-align: middle;\n",
       "    }\n",
       "\n",
       "    .dataframe tbody tr th {\n",
       "        vertical-align: top;\n",
       "    }\n",
       "\n",
       "    .dataframe thead th {\n",
       "        text-align: right;\n",
       "    }\n",
       "</style>\n",
       "<table border=\"1\" class=\"dataframe\">\n",
       "  <thead>\n",
       "    <tr style=\"text-align: right;\">\n",
       "      <th></th>\n",
       "      <th>Gable</th>\n",
       "      <th>Gambrel</th>\n",
       "      <th>Hip</th>\n",
       "      <th>Mansard</th>\n",
       "    </tr>\n",
       "  </thead>\n",
       "  <tbody>\n",
       "    <tr>\n",
       "      <th>15</th>\n",
       "      <td>0</td>\n",
       "      <td>0</td>\n",
       "      <td>1</td>\n",
       "      <td>0</td>\n",
       "    </tr>\n",
       "    <tr>\n",
       "      <th>16</th>\n",
       "      <td>1</td>\n",
       "      <td>0</td>\n",
       "      <td>0</td>\n",
       "      <td>0</td>\n",
       "    </tr>\n",
       "    <tr>\n",
       "      <th>17</th>\n",
       "      <td>0</td>\n",
       "      <td>0</td>\n",
       "      <td>1</td>\n",
       "      <td>0</td>\n",
       "    </tr>\n",
       "    <tr>\n",
       "      <th>18</th>\n",
       "      <td>1</td>\n",
       "      <td>0</td>\n",
       "      <td>0</td>\n",
       "      <td>0</td>\n",
       "    </tr>\n",
       "    <tr>\n",
       "      <th>19</th>\n",
       "      <td>1</td>\n",
       "      <td>0</td>\n",
       "      <td>0</td>\n",
       "      <td>0</td>\n",
       "    </tr>\n",
       "  </tbody>\n",
       "</table>\n",
       "</div>"
      ],
      "text/plain": [
       "    Gable  Gambrel  Hip  Mansard\n",
       "15      0        0    1        0\n",
       "16      1        0    0        0\n",
       "17      0        0    1        0\n",
       "18      1        0    0        0\n",
       "19      1        0    0        0"
      ]
     },
     "execution_count": 37,
     "metadata": {},
     "output_type": "execute_result"
    }
   ],
   "source": [
    "pd.get_dummies(df_all['roof_style'], drop_first = True)[15:20]"
   ]
  },
  {
   "cell_type": "markdown",
   "metadata": {},
   "source": [
    "### Discussion on ill-defined models\n",
    "\n",
    " - If we one-hot every level of a categorical variable, is the linear regression model well defined?\n",
    " <b>no</b>\n",
    " - Should we drop_first when creating dummies?  <b>yes,we have to</b>\n",
    " - What is the impact on linear regression if we do?  \n",
    " - What is the impact on tree based methods? <b> don't </b>"
   ]
  },
  {
   "cell_type": "markdown",
   "metadata": {},
   "source": [
    "### onehot encoding using sklearn"
   ]
  },
  {
   "cell_type": "markdown",
   "metadata": {},
   "source": [
    "Within recent versions of sklearn (>=0.20), it is possible to transform categorical variables very simply, using the standard instantiate, fit and tranform procedure we have used before.  It would go something like this:\n",
    "\n",
    " - instantiate a OneHotEncoder(), call it enc_\n",
    " - fit it to df_all[['roof_style']]\n",
    " - use its  .transform method to transform df_all.loc[0:20, ['roof_style']]\n",
    "\n",
    "Currently, the container we are using has sklearn version 0.19 in which it is not so simple to transform text variables.  Therefore we will use Pandas to do the onehot encoding.  Let's see how this might work\n",
    "\n"
   ]
  },
  {
   "cell_type": "code",
   "execution_count": 128,
   "metadata": {},
   "outputs": [],
   "source": [
    "# Create a copy of df_all and call it df_all_onehot\n",
    "# df_all_onehot = df_all.copy()\n",
    "\n",
    "# Choose a column name\n",
    "# col = 'ms_subclass'\n",
    "\n",
    "# Create dummies for that column using pd.get_dummies with drop_first=False\n",
    "# df_oh = pd.get_dummies(df_all[col], drop_first=False)\n",
    "# print(df_oh)\n",
    "# Find the sum down each column - which is the most frequent column?\n",
    "# print(df_oh.sum(axis = 0))\n",
    "\n",
    "# Find the column name of the most frequent column\n",
    "# col_mostFreq = df_oh.sum(axis = 0).idxmax()\n",
    "\n",
    "# Drop the column of the most frequent category (using df_oh.drop)\n",
    "# df_oh = df_oh.drop(col_mostFreq, axis=1)\n",
    "# print(df_oh)\n",
    "\n",
    "\n",
    "# Rename the columns so that the . used by pandas is replaced with an underscore\n",
    "# df_oh.columns = col + '_' + df_oh.columns\n",
    "# print(df_oh)\n",
    "\n",
    "\n",
    "# Concatenate the onehot data to df_all_onehot (ensure that sort = False !!!!)\n",
    "# df_all_onehot = pd.concat([df_all_onehot, df_oh], axis = 1, sort = False)\n",
    "\n",
    "\n",
    "# df_all_onehot.head()"
   ]
  },
  {
   "cell_type": "markdown",
   "metadata": {},
   "source": [
    "**TODO**\n",
    "\n",
    "The for loop below will onehot encode all categorical variables and for each, it will drop the most frequent category.  Complete the code below.\n",
    " "
   ]
  },
  {
   "cell_type": "code",
   "execution_count": 38,
   "metadata": {},
   "outputs": [
    {
     "name": "stdout",
     "output_type": "stream",
     "text": [
      "ms_subclass\n",
      "ms_zoning\n",
      "street\n",
      "alley\n",
      "lot_shape\n",
      "land_contour\n",
      "lot_config\n",
      "land_slope\n",
      "neighborhood\n",
      "condition_1\n",
      "condition_2\n",
      "bldg_type\n",
      "house_style\n",
      "roof_style\n",
      "roof_matl\n",
      "exterior_1st\n",
      "exterior_2nd\n",
      "mas_vnr_type\n",
      "exter_qual\n",
      "exter_cond\n",
      "foundation\n",
      "bsmt_qual\n",
      "bsmt_cond\n",
      "bsmt_exposure\n",
      "bsmtfin_type_1\n",
      "bsmtfin_type_2\n",
      "heating\n",
      "heating_qc\n",
      "central_air\n",
      "electrical\n",
      "kitchen_qual\n",
      "functional\n",
      "fireplace_qu\n",
      "garage_type\n",
      "garage_finish\n",
      "garage_qual\n",
      "garage_cond\n",
      "paved_drive\n",
      "fence\n",
      "misc_feature\n",
      "sale_type\n",
      "sale_condition\n"
     ]
    }
   ],
   "source": [
    "vars_ind_onehot = []\n",
    "\n",
    "df_all_onehot = df_all.copy()\n",
    "\n",
    "for col in vars_ind_categorical:\n",
    "    print(col)\n",
    "    \n",
    "    # use pd.get_dummies on  df_all[col] \n",
    "    df_oh = pd.get_dummies(df_all[col], drop_first=False)\n",
    "    \n",
    "    # Find the column name of the most frequent category\n",
    "    col_mostFreq =  df_oh.sum(axis=0).idxmax() \n",
    "    \n",
    "    # Drop the column of the most frequent category\n",
    "    df_oh = df_oh.drop(col_mostFreq, axis=1, inplace=False)\n",
    "        \n",
    "    # Rename the columns to have the original variable name as a prefix\n",
    "    oh_names = col+'_'+df_oh.columns\n",
    "    df_oh.columns = oh_names\n",
    "    \n",
    "    df_all_onehot = pd.concat([df_all_onehot, df_oh], axis = 1, sort = False)\n",
    "\n",
    "    del df_all_onehot[col]\n",
    "    vars_ind_onehot.extend(oh_names)\n",
    "# df_all_onehot.head()\n"
   ]
  },
  {
   "cell_type": "code",
   "execution_count": 130,
   "metadata": {},
   "outputs": [
    {
     "data": {
      "text/plain": [
       "ms_subclass_MS_120              uint8\n",
       "ms_subclass_MS_160              uint8\n",
       "ms_subclass_MS_180              uint8\n",
       "ms_subclass_MS_190              uint8\n",
       "ms_subclass_MS_30               uint8\n",
       "ms_subclass_MS_45               uint8\n",
       "ms_subclass_MS_50               uint8\n",
       "ms_subclass_MS_60               uint8\n",
       "ms_subclass_MS_70               uint8\n",
       "ms_subclass_MS_75               uint8\n",
       "ms_subclass_MS_80               uint8\n",
       "ms_subclass_MS_85               uint8\n",
       "ms_subclass_MS_90               uint8\n",
       "ms_zoning_C (all)               uint8\n",
       "ms_zoning_FV                    uint8\n",
       "ms_zoning_RH                    uint8\n",
       "ms_zoning_RM                    uint8\n",
       "street_Grvl                     uint8\n",
       "alley_Grvl                      uint8\n",
       "alley_Pave                      uint8\n",
       "lot_shape_IR1                   uint8\n",
       "lot_shape_IR2                   uint8\n",
       "lot_shape_IR3                   uint8\n",
       "land_contour_Bnk                uint8\n",
       "land_contour_HLS                uint8\n",
       "land_contour_Low                uint8\n",
       "lot_config_Corner               uint8\n",
       "lot_config_CulDSac              uint8\n",
       "lot_config_FR2                  uint8\n",
       "lot_config_FR3                  uint8\n",
       "                                ...  \n",
       "garage_type_BuiltIn             uint8\n",
       "garage_type_CarPort             uint8\n",
       "garage_type_Detchd              uint8\n",
       "garage_type_DoesNotHaveOne      uint8\n",
       "garage_finish_DoesNotHaveOne    uint8\n",
       "garage_finish_Fin               uint8\n",
       "garage_finish_RFn               uint8\n",
       "garage_qual_DoesNotHaveOne      uint8\n",
       "garage_qual_Fa                  uint8\n",
       "garage_qual_Gd                  uint8\n",
       "garage_cond_DoesNotHaveOne      uint8\n",
       "garage_cond_Fa                  uint8\n",
       "garage_cond_Gd                  uint8\n",
       "garage_cond_Po                  uint8\n",
       "paved_drive_N                   uint8\n",
       "paved_drive_P                   uint8\n",
       "fence_GdPrv                     uint8\n",
       "fence_GdWo                      uint8\n",
       "fence_MnPrv                     uint8\n",
       "fence_MnWw                      uint8\n",
       "misc_feature_Shed               uint8\n",
       "sale_type_COD                   uint8\n",
       "sale_type_CWD                   uint8\n",
       "sale_type_ConLD                 uint8\n",
       "sale_type_New                   uint8\n",
       "sale_condition_Abnorml          uint8\n",
       "sale_condition_AdjLand          uint8\n",
       "sale_condition_Alloca           uint8\n",
       "sale_condition_Family           uint8\n",
       "sale_condition_Partial          uint8\n",
       "Length: 184, dtype: object"
      ]
     },
     "execution_count": 130,
     "metadata": {},
     "output_type": "execute_result"
    }
   ],
   "source": [
    "# Check the dtypes of the resulting data - they should all be numeric\n",
    "df_all_onehot[vars_ind_onehot].dtypes"
   ]
  },
  {
   "cell_type": "code",
   "execution_count": 131,
   "metadata": {},
   "outputs": [
    {
     "data": {
      "text/plain": [
       "(2922, 220)"
      ]
     },
     "execution_count": 131,
     "metadata": {},
     "output_type": "execute_result"
    }
   ],
   "source": [
    "# how many columns on our new data\n",
    "df_all_onehot.shape"
   ]
  },
  {
   "cell_type": "markdown",
   "metadata": {},
   "source": [
    "alternative is to mark the relevant columns in df_all as dtype factor - we can do that later when we use h2o or lightgbm"
   ]
  },
  {
   "cell_type": "code",
   "execution_count": 132,
   "metadata": {},
   "outputs": [],
   "source": [
    "# for col in vars_ind_categorical:\n",
    "#    df_all[col] = df_all[col].astype('category')\n",
    "# df_all.dtypes #check changes"
   ]
  },
  {
   "cell_type": "markdown",
   "metadata": {},
   "source": [
    "### Add a fold variable \n",
    "\n",
    "to use for selecting train, val and test"
   ]
  },
  {
   "cell_type": "markdown",
   "metadata": {},
   "source": [
    "TODO\n",
    "\n",
    "- Create an instance of a random number generator (np.random.RandomState) with a seed of 2018 and call it rng.  \n",
    "- Use it to generate random integers (rng.randint()) between 0 and 10.  Generate as many numbers as there are rows of df_all \n",
    "- save this data to a new column in df_all called 'fold'"
   ]
  },
  {
   "cell_type": "code",
   "execution_count": 133,
   "metadata": {},
   "outputs": [],
   "source": [
    "# ?np.random.RandomState.randint()\n",
    "# randint(low, high=None, size=None, dtype='l')\n"
   ]
  },
  {
   "cell_type": "code",
   "execution_count": null,
   "metadata": {},
   "outputs": [],
   "source": [
    "# np.random.RandomState(seed=None)\n",
    "rng = np.random.RandomState(seed=2018)\n",
    "# randint(low, high=None, size=None, dtype='l')\n",
    "fold = rng.randint(0,11, len(df_all))\n",
    "df_all['fold'] = fold\n",
    "df_all_onehot['fold'] = fold\n",
    "# df_all.head(10)"
   ]
  },
  {
   "cell_type": "markdown",
   "metadata": {},
   "source": [
    "### Store the dataset and relevant variables"
   ]
  },
  {
   "cell_type": "code",
   "execution_count": 137,
   "metadata": {},
   "outputs": [],
   "source": [
    "#store = pd.HDFStore(dirPData + '02_df_all.h5')\n",
    "#store.remove('df_all')\n",
    "#df_all.to_hdf(store, 'df_all')\n",
    "#df_all_onehot.to_hdf(store, 'df_all_onehot')\n",
    "#store.close()\n",
    "\n",
    "dict_ = {'df_all': df_all,\n",
    "         'df_all_onehot': df_all_onehot}\n",
    "\n",
    "f_name = dirPData + '02_df.pickle'\n",
    "\n",
    "with open(f_name, \"wb\") as f:\n",
    "    pickle.dump(dict_, f)\n",
    "    \n",
    "del f_name, dict_"
   ]
  },
  {
   "cell_type": "code",
   "execution_count": 138,
   "metadata": {},
   "outputs": [],
   "source": [
    "dict_ = {'vars_ind_numeric': vars_ind_numeric, \n",
    "         'vars_notToUse': vars_notToUse,\n",
    "         'var_dep': var_dep,\n",
    "         'vars_ind_categorical': vars_ind_categorical,\n",
    "         'vars_ind_onehot': vars_ind_onehot\n",
    "         }\n",
    "\n",
    "\n",
    "f_name = dirPData + '02_vars.pickle'\n",
    "\n",
    "with open(f_name, \"wb\") as f:\n",
    "    pickle.dump(dict_, f)\n",
    "    \n",
    "del f_name, dict_"
   ]
  },
  {
   "cell_type": "code",
   "execution_count": null,
   "metadata": {},
   "outputs": [],
   "source": []
  },
  {
   "cell_type": "code",
   "execution_count": null,
   "metadata": {},
   "outputs": [],
   "source": []
  }
 ],
 "metadata": {
  "anaconda-cloud": {},
  "kernelspec": {
   "display_name": "Python 3",
   "language": "python",
   "name": "python3"
  },
  "language_info": {
   "codemirror_mode": {
    "name": "ipython",
    "version": 3
   },
   "file_extension": ".py",
   "mimetype": "text/x-python",
   "name": "python",
   "nbconvert_exporter": "python",
   "pygments_lexer": "ipython3",
   "version": "3.6.7"
  }
 },
 "nbformat": 4,
 "nbformat_minor": 1
}
