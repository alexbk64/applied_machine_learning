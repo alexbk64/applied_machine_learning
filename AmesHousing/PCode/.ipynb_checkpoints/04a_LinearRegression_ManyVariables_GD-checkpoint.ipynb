{
 "cells": [
  {
   "cell_type": "markdown",
   "metadata": {},
   "source": [
    "# Linear Regression: Gradient descent - many (numeric) variables"
   ]
  },
  {
   "cell_type": "markdown",
   "metadata": {},
   "source": [
    "Contents\n",
    " - load data\n",
    " - data manipulation\n",
    "   - variables to use\n",
    " - multiple regression (with Gradient Descent)\n",
    "\n",
    "Sources:\n",
    "\n",
    "\n",
    "Copyright (C) 2018 Alan Chalk  \n",
    "Please do not distribute or publish without permission."
   ]
  },
  {
   "cell_type": "markdown",
   "metadata": {},
   "source": [
    "## Start_."
   ]
  },
  {
   "cell_type": "markdown",
   "metadata": {
    "scrolled": true
   },
   "source": [
    "**Import packages**"
   ]
  },
  {
   "cell_type": "code",
   "execution_count": 60,
   "metadata": {},
   "outputs": [],
   "source": [
    "import os\n",
    "import numpy as np\n",
    "import pandas as pd\n",
    "import pickle\n",
    "\n",
    "from sklearn import preprocessing\n",
    "\n",
    "import matplotlib\n",
    "import matplotlib.pyplot as plt\n",
    "%matplotlib inline"
   ]
  },
  {
   "cell_type": "markdown",
   "metadata": {},
   "source": [
    "**Functions**"
   ]
  },
  {
   "cell_type": "code",
   "execution_count": 61,
   "metadata": {},
   "outputs": [],
   "source": [
    "def fn_MAE(actuals, predictions):\n",
    "    return np.round(np.mean(np.abs(predictions - actuals)))"
   ]
  },
  {
   "cell_type": "markdown",
   "metadata": {},
   "source": [
    "**Settings**"
   ]
  },
  {
   "cell_type": "code",
   "execution_count": 62,
   "metadata": {},
   "outputs": [],
   "source": [
    "font = {'size'   : 22}\n",
    "plt.rc('font', **font)"
   ]
  },
  {
   "cell_type": "markdown",
   "metadata": {},
   "source": [
    "**Directories and paths**"
   ]
  },
  {
   "cell_type": "code",
   "execution_count": 63,
   "metadata": {},
   "outputs": [
    {
     "name": "stdout",
     "output_type": "stream",
     "text": [
      "/home/jovyan/Projects/AmesHousing/PCode\n"
     ]
    }
   ],
   "source": [
    "# Set directories\n",
    "print(os.getcwd())\n",
    "dirRawData = \"../input/\"\n",
    "dirPData   = \"../PData/\"\n",
    "dirPOutput = \"../POutput/\""
   ]
  },
  {
   "cell_type": "markdown",
   "metadata": {},
   "source": [
    "**Load data**"
   ]
  },
  {
   "cell_type": "code",
   "execution_count": 64,
   "metadata": {},
   "outputs": [],
   "source": [
    "#store = pd.HDFStore(dirPData + '02_df_all.h5')\n",
    "#df_all = pd.read_hdf(store, 'df_all')\n",
    "#store.close()\n",
    "f_name = dirPData + '02_df.pickle'\n",
    "\n",
    "with (open(f_name, \"rb\")) as f:\n",
    "    dict_ = pickle.load(f)\n",
    "\n",
    "df_all = dict_['df_all']\n",
    "\n",
    "del f_name, dict_"
   ]
  },
  {
   "cell_type": "code",
   "execution_count": 65,
   "metadata": {},
   "outputs": [],
   "source": [
    "# load the variables information\n",
    "f_name = dirPData + '02_vars.pickle'\n",
    "with open(f_name, \"rb\") as f:\n",
    "    dict_ = pickle.load(f)\n",
    "    \n",
    "var_dep = dict_['var_dep']\n",
    "vars_ind_numeric = dict_['vars_ind_numeric']\n",
    "\n",
    "del dict_"
   ]
  },
  {
   "cell_type": "markdown",
   "metadata": {},
   "source": [
    "**Take a small subset of numeric variables for the linear model**"
   ]
  },
  {
   "cell_type": "code",
   "execution_count": 66,
   "metadata": {},
   "outputs": [],
   "source": [
    "vars_toUse = vars_ind_numeric\n",
    "vars_toUse = [var for var in vars_toUse if var not in ['bsmtfin_sf_1', 'bsmtfin_sf_2', 'bsmt_unf_sf',\n",
    "                                                      'bsmt_full_bath', 'bsmt_half_bath',\n",
    "                                                      'garage_cars',\n",
    "                                                      'bedroom_abvgr', 'kitchen_abvgr',\n",
    "                                                      'full_bath', 'half_bath',\n",
    "                                                      'x1st_flr_sf', 'x2nd_flr_sf', 'low_qual_fin_sf',\n",
    "                                                       'total_bsmt_sf',\n",
    "                                                      'totrms_abvgrd', 'lot_area', 'overall_qual']]\n"
   ]
  },
  {
   "cell_type": "code",
   "execution_count": 67,
   "metadata": {},
   "outputs": [],
   "source": [
    "X = df_all[vars_toUse].values\n",
    "y = df_all[var_dep].values"
   ]
  },
  {
   "cell_type": "markdown",
   "metadata": {},
   "source": [
    "**TODO**\n",
    "\n",
    "Use StandardScaler from sklearn.preprocessing to scale the columns (features) in X\n",
    " - instantiate a StandardScaler() and call it standardScaler_\n",
    " - use the .fit method to fit it to X\n",
    " - use its .transform method to scale X (overwrite X with the result"
   ]
  },
  {
   "cell_type": "code",
   "execution_count": null,
   "metadata": {},
   "outputs": [],
   "source": []
  },
  {
   "cell_type": "code",
   "execution_count": 68,
   "metadata": {},
   "outputs": [],
   "source": [
    "from sklearn.preprocessing import StandardScaler\n",
    "\n",
    "standardScaler_ = StandardScaler()\n",
    "standardScaler_.fit(X)\n",
    "X = standardScaler_.transform(X)"
   ]
  },
  {
   "cell_type": "markdown",
   "metadata": {},
   "source": [
    "## Multiple linear regression with Gradient Descent"
   ]
  },
  {
   "cell_type": "markdown",
   "metadata": {},
   "source": [
    "**TODO**\n",
    "\n",
    "In the functions below, do the following:\n",
    " - fn_predict\n",
    "  - this function should return the dot (matrix) product of the matrix X with the coefficients, i.e. X.dot(coef)\n",
    " - fn_error\n",
    "  - this function should return the errors i.e. y - y_hat\n",
    " - fn_gradient\n",
    "  - this function should return an array of the gradients i.e. -2 * X.T.dot(error)\n",
    " - fn_loss\n",
    "  - this function should return the sum of squared errors (a scalar) e.g. error.T.dot(error).ravel()[0]"
   ]
  },
  {
   "cell_type": "code",
   "execution_count": 69,
   "metadata": {},
   "outputs": [],
   "source": [
    "###Note that np.array.T returns the transpose of np.array"
   ]
  },
  {
   "cell_type": "code",
   "execution_count": 81,
   "metadata": {},
   "outputs": [],
   "source": [
    "def fn_predict(X, coef):\n",
    "    \"\"\"\n",
    "    X: N (examples) times D (features)\n",
    "    coef: D (features) times 1 \n",
    "    \"\"\"\n",
    "    return X.dot(coef)\n",
    "\n",
    "def fn_error(y, y_hat):\n",
    "    \"\"\"\n",
    "    y, y_hat: N (examples) times 1 \n",
    "    \"\"\"    \n",
    "    return y - y_hat\n",
    "\n",
    "def fn_gradient(X, coef, y):\n",
    "    \"\"\"\n",
    "    coef: D (features) times 1 \n",
    "    \"\"\"    \n",
    "    y_hat = fn_predict(X, coef)\n",
    "    error = fn_error(y, y_hat)\n",
    "    return -2 * X.T.dot(error)\n",
    "\n",
    "def fn_loss(X, coef, y):\n",
    "    \"\"\"\n",
    "    X: N (examples) times D (features)\n",
    "    coef: D (features) times 1 \n",
    "    y: N (examples) times 1\n",
    "    \"\"\"\n",
    "    y_hat = fn_predict(X, coef)\n",
    "    error = fn_error(y, y_hat)\n",
    "    return error.T.dot(error).ravel()[0] #note E' dot E gives square of each term (matrix mult), ravel squeezes result into a scalar\n",
    "   "
   ]
  },
  {
   "cell_type": "markdown",
   "metadata": {},
   "source": [
    "**TODO**\n",
    "\n",
    " - In the for loop below calculate:\n",
    "  - g\n",
    "  - g_mag\n",
    "  - beta\n",
    "  - loss_this"
   ]
  },
  {
   "cell_type": "code",
   "execution_count": 82,
   "metadata": {},
   "outputs": [],
   "source": [
    "# X1.shape"
   ]
  },
  {
   "cell_type": "code",
   "execution_count": 87,
   "metadata": {},
   "outputs": [
    {
     "name": "stdout",
     "output_type": "stream",
     "text": [
      "0 [[4.27830572e+17]]\n",
      "100 [[4.41704039e+13]]\n",
      "200 [[3.14372069e+12]]\n",
      "300 [[2.4287671e+11]]\n",
      "400 [[1.88313167e+10]]\n",
      "500 [[1.46032955e+09]]\n",
      "600 [[1.13246504e+08]]\n",
      "700 [[8782111.01337891]]\n",
      "800 [[681040.67370162]]\n",
      "900 [[52813.77098098]]\n",
      "1000 [[4095.63556431]]\n",
      "1100 [[317.61092567]]\n",
      "1200 [[24.63029211]]\n",
      "1300 [[1.91004537]]\n"
     ]
    }
   ],
   "source": [
    "eta = 1e-5\n",
    "# eta = 0.00019 #gives quite a zig-zag. completes in 90 iterations\n",
    "# eta = 0.0001 #gives smooth - but still detour and takes more iterations\n",
    "# eta = 0.0002 #gives more zig-zag - but still finishes quicker\n",
    "# eta = 0.003 #diverges\n",
    "grad_mag = 1e10\n",
    "tol = 1\n",
    "n_iter = 100000\n",
    "store_every = 1 # how often results are stored to path\n",
    "print_every = 100 # how often results are printed\n",
    "\n",
    "# Add column for intercept\n",
    "### NEED A COLUMN OF ONES TO MULTIPPLY THE INTERCEPT\n",
    "X1 = np.insert(X, 0, 1, axis=1)\n",
    "n_dim = X1.shape[1]\n",
    "\n",
    "# Initialise lists to score the path of beta and the path of the loss function\n",
    "beta_path = np.full((1+int(n_iter/store_every), n_dim), np.nan)\n",
    "loss_path = []\n",
    "\n",
    "# initialise\n",
    "beta = np.zeros([n_dim, 1]) #start with 0 for every single coefficient\n",
    "beta[0] = np.mean(y)\n",
    "\n",
    "beta_path[0,:] = beta.T\n",
    "loss_this = fn_loss(X1, beta, y)\n",
    "loss_path.append(loss_this)\n",
    "g = fn_gradient(X1, beta, y)\n",
    "g_mag = g.T.dot(g)\n",
    "\n",
    "for i in range(n_iter):\n",
    "    if g_mag < tol:\n",
    "        break\n",
    "    # calculate the gradient using fn_gradient\n",
    "    g = fn_gradient(X1,beta,y)\n",
    "    \n",
    "    # calculate the magnitude of the gradient in the same manner as above\n",
    "    g_mag = g.T.dot(g)\n",
    "    \n",
    "    # take a step size eta in the correct direction\n",
    "    beta += -eta*g\n",
    "    \n",
    "    # calculate the loss using fn_loss\n",
    "    loss_this = fn_loss(X1, beta, y)\n",
    "    \n",
    "    loss_path.append(loss_this)\n",
    "    if (i + 1) % store_every == 0:\n",
    "        beta_path[int((i + 1)/store_every),:] = beta.T\n",
    "    if i % print_every == 0:\n",
    "        print(i, g_mag)\n",
    "\n",
    "beta_path = beta_path[0:i]\n",
    "loss_path = loss_path[0:i]"
   ]
  },
  {
   "cell_type": "markdown",
   "metadata": {},
   "source": [
    "**TODO**\n",
    "\n",
    " - Run the cell below to check your results - the differences should be 0 or close to 0"
   ]
  },
  {
   "cell_type": "code",
   "execution_count": 88,
   "metadata": {},
   "outputs": [
    {
     "name": "stdout",
     "output_type": "stream",
     "text": [
      "[[-0. -0. -0.  0. -0.  0.  0.  0. -0. -0. -0. -0.  0.  0. -0. -0.]]\n"
     ]
    }
   ],
   "source": [
    "# are the results correct:\n",
    "# The values in coef_skl below are copied from 04b.\n",
    "coef_skl = [180420.68685832,\n",
    "            6632.12872603,  23144.71258818, 8496.07537172, 34099.67335803, \n",
    "            10285.13439506, 16719.954712, 4586.49886457, 3025.28130609, \n",
    "            2567.18846942, 958.18770425, 4432.03659486, -1646.13700319,\n",
    "            -368.45242442, -553.56153625, -1433.00401289]\n",
    "#print(beta.T)\n",
    "print(np.round(beta.T - np.array(coef_skl), 2))"
   ]
  },
  {
   "cell_type": "markdown",
   "metadata": {},
   "source": [
    "### Graph some of the coefficient paths"
   ]
  },
  {
   "cell_type": "code",
   "execution_count": 89,
   "metadata": {},
   "outputs": [],
   "source": [
    "vars_names = vars_toUse.copy()\n",
    "vars_names.insert(0, 'intercept')"
   ]
  },
  {
   "cell_type": "code",
   "execution_count": 90,
   "metadata": {},
   "outputs": [
    {
     "name": "stdout",
     "output_type": "stream",
     "text": [
      "['intercept', 'overall_cond', 'year_built', 'year_remod_add', 'gr_liv_area', 'fireplaces', 'garage_area', 'wood_deck_sf', 'open_porch_sf', 'enclosed_porch', 'x3ssn_porch', 'screen_porch', 'pool_area', 'misc_val', 'mo_sold', 'yr_sold']\n"
     ]
    },
    {
     "data": {
      "text/plain": [
       "Text(0, 0.5, 'year_remod_add')"
      ]
     },
     "execution_count": 90,
     "metadata": {},
     "output_type": "execute_result"
    },
    {
     "data": {
      "image/png": "[encoded data removed]",
      "text/plain": [
       "<Figure size 864x576 with 1 Axes>"
      ]
     },
     "metadata": {},
     "output_type": "display_data"
    }
   ],
   "source": [
    "print(vars_names)\n",
    "idx_x = 1\n",
    "idx_y = 3\n",
    "\n",
    "var_x = vars_names[idx_x]\n",
    "var_y = vars_names[idx_y]\n",
    "\n",
    "font = {'size'   : 20}\n",
    "plt.rc('font', **font)\n",
    "\n",
    "# The next 4 lines are not important and just set the colour\n",
    "cmap = matplotlib.cm.get_cmap('viridis')\n",
    "lst_loss_log = np.log(loss_path)\n",
    "normalize = matplotlib.colors.Normalize(vmin=min(lst_loss_log), \n",
    "                                        vmax=max(lst_loss_log))\n",
    "colours = [cmap(normalize(value)) for value in lst_loss_log]\n",
    "\n",
    "fig = plt.figure(figsize = (12,8))\n",
    "ax1 = fig.add_subplot(1, 1, 1)\n",
    "ax1.scatter(beta_path[:,idx_x], \n",
    "            beta_path[:,idx_y], \n",
    "            color=colours)\n",
    "\n",
    "ax1.set_xlabel(var_x)\n",
    "ax1.set_ylabel(var_y)"
   ]
  },
  {
   "cell_type": "code",
   "execution_count": 57,
   "metadata": {},
   "outputs": [],
   "source": [
    "#fig.savefig(dirPOutput + '04a_vars24_eta1e5.pdf', bbox_inches='tight')\n",
    "#fig.savefig(dirPOutput + '04a_vars13_eta1e5.pdf', bbox_inches='tight')"
   ]
  },
  {
   "cell_type": "markdown",
   "metadata": {},
   "source": [
    "TODO\n",
    "\n",
    " - Inspect the paths for various values of eta\n",
    " - As eta increases convergence will be quicker - but too big and gradient descent will diverge\n"
   ]
  },
  {
   "cell_type": "code",
   "execution_count": 58,
   "metadata": {},
   "outputs": [],
   "source": [
    "# based on previous versions of the data\n",
    "# eta = 0.00019 gives quite a zig-zag. completes in 90 iterations\n",
    "# eta = 0.0001 gives smooth - but still detour and takes more iterations\n",
    "# eta = 0.0002 gives more zig-zag - but still finishes quicker\n",
    "# eta = 0.003 diverges"
   ]
  },
  {
   "cell_type": "code",
   "execution_count": null,
   "metadata": {},
   "outputs": [],
   "source": []
  }
 ],
 "metadata": {
  "anaconda-cloud": {},
  "kernelspec": {
   "display_name": "Python 3",
   "language": "python",
   "name": "python3"
  },
  "language_info": {
   "codemirror_mode": {
    "name": "ipython",
    "version": 3
   },
   "file_extension": ".py",
   "mimetype": "text/x-python",
   "name": "python",
   "nbconvert_exporter": "python",
   "pygments_lexer": "ipython3",
   "version": "3.6.7"
  }
 },
 "nbformat": 4,
 "nbformat_minor": 1
}
