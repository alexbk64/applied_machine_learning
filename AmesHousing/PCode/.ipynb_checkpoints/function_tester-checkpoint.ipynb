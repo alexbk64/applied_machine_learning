{
 "cells": [
  {
   "cell_type": "markdown",
   "metadata": {},
   "source": [
    "# Week 3 assignment - test function\n"
   ]
  },
  {
   "cell_type": "markdown",
   "metadata": {},
   "source": [
    "Contents\n",
    " - Start_. Import packages, create functions and load data\n",
    " - Test function"
   ]
  },
  {
   "cell_type": "markdown",
   "metadata": {},
   "source": [
    "## Start_."
   ]
  },
  {
   "cell_type": "markdown",
   "metadata": {
    "scrolled": true
   },
   "source": [
    "**Import packages**"
   ]
  },
  {
   "cell_type": "code",
   "execution_count": 1,
   "metadata": {},
   "outputs": [],
   "source": [
    "import os\n",
    "import numpy as np\n",
    "import pandas as pd\n",
    "import pickle\n",
    "\n",
    "from sklearn.linear_model import ElasticNetCV, ElasticNet\n",
    "\n",
    "import matplotlib.pyplot as plt\n",
    "%matplotlib inline"
   ]
  },
  {
   "cell_type": "markdown",
   "metadata": {},
   "source": [
    "**Directories and paths**"
   ]
  },
  {
   "cell_type": "code",
   "execution_count": 2,
   "metadata": {},
   "outputs": [],
   "source": [
    "# Set directories\n",
    "dirRawData = \"../input/\"\n",
    "dirPData   = \"../PData/\""
   ]
  },
  {
   "cell_type": "markdown",
   "metadata": {},
   "source": [
    "**Load data**"
   ]
  },
  {
   "cell_type": "code",
   "execution_count": 3,
   "metadata": {},
   "outputs": [],
   "source": [
    "ames_dtypes = {'Order': np.int64,\n",
    "             'PID': np.int64,\n",
    "             'MS.SubClass': np.object,\n",
    "             'MS.Zoning': np.object,\n",
    "             'Lot.Frontage': np.float64,\n",
    "             'Lot.Area': np.float64,\n",
    "             'Street': np.object, \n",
    "             'Alley': np.object, \n",
    "             'Lot.Shape': np.object, \n",
    "             'Land.Contour': np.object,  \n",
    "             'Lot.Config': np.object,\n",
    "             'Land.Slope': np.object,\n",
    "             'Neighborhood': np.object,\n",
    "             'Condition.1': np.object,\n",
    "             'Condition.2': np.object,\n",
    "             'Bldg.Type': np.object,\n",
    "             'House.Style': np.object,\n",
    "             'Overall.Qual': np.float64,\n",
    "             'Overall.Cond': np.float64,\n",
    "             'Year.Built': np.float64,\n",
    "             'Year.Remod.Add': np.float64,\n",
    "             'Roof.Style': np.object,\n",
    "             'Roof.Matl': np.object,\n",
    "             'Exterior.1st': np.object,\n",
    "             'Exterior.2nd': np.object,\n",
    "             'Mas.Vnr.Type': np.object,\n",
    "             'Mas.Vnr.Area': np.float64,\n",
    "             'Exter.Qual': np.object,\n",
    "             'Exter.Cond': np.object,\n",
    "             'Foundation': np.object, \n",
    "             'Bsmt.Qual': np.object,\n",
    "             'Bsmt.Cond': np.object,\n",
    "             'Bsmt.Exposure': np.object,\n",
    "             'BsmtFin.Type.1': np.object,\n",
    "             'BsmtFin.SF.1': np.float64,\n",
    "             'BsmtFin.Type.2': np.object,\n",
    "             'BsmtFin.SF.2': np.float64,\n",
    "             'Bsmt.Unf.SF': np.float64,\n",
    "             'Total.Bsmt.SF': np.float64,\n",
    "             'Heating': np.object,\n",
    "             'Heating.QC': np.object,\n",
    "             'Central.Air': np.object,\n",
    "             'Electrical': np.object,\n",
    "             'X1st.Flr.SF': np.float64,\n",
    "             'X2nd.Flr.SF': np.float64,\n",
    "             'Low.Qual.Fin.SF': np.float64,\n",
    "             'Gr.Liv.Area': np.float64, \n",
    "             'Bsmt.Full.Bath': np.float64,\n",
    "             'Bsmt.Half.Bath': np.float64,\n",
    "             'Full.Bath': np.float64,\n",
    "             'Half.Bath': np.float64,\n",
    "             'Bedroom.AbvGr': np.float64,\n",
    "             'Kitchen.AbvGr': np.float64,\n",
    "             'Kitchen.Qual': np.object,\n",
    "             'TotRms.AbvGrd': np.float64, \n",
    "             'Functional': np.object, \n",
    "             'Fireplaces': np.float64, \n",
    "             'Fireplace.Qu': np.object,\n",
    "             'Garage.Type': np.object, \n",
    "             'Garage.Yr.Blt': np.float64,\n",
    "             'Garage.Finish': np.object,\n",
    "             'Garage.Cars': np.float64,\n",
    "             'Garage.Area': np.float64, \n",
    "             'Garage.Qual': np.object, \n",
    "             'Garage.Cond': np.object, \n",
    "             'Paved.Drive': np.object,\n",
    "             'Wood.Deck.SF': np.float64,\n",
    "             'Open.Porch.SF': np.float64,\n",
    "             'Enclosed.Porch': np.float64, \n",
    "             'X3Ssn.Porch': np.float64,\n",
    "             'Screen.Porch': np.float64,\n",
    "             'Pool.Area': np.float64,\n",
    "             'Fence': np.object,\n",
    "             'Misc.Feature': np.object,\n",
    "             'Misc.Val': np.float64,\n",
    "             'Mo.Sold': np.float64, \n",
    "             'Yr.Sold': np.float64,\n",
    "             'Sale.Type': np.object,\n",
    "             'Sale.Condition': np.object,\n",
    "             'SalePrice': np.float64}\n"
   ]
  },
  {
   "cell_type": "code",
   "execution_count": 4,
   "metadata": {},
   "outputs": [],
   "source": [
    "df_all = pd.read_csv(dirRawData + 'AmesHousing.txt', \n",
    "                     sep=\" \",\n",
    "                     dtype = ames_dtypes,\n",
    "                     na_values = 'NA')"
   ]
  },
  {
   "cell_type": "markdown",
   "metadata": {},
   "source": [
    "### Test function"
   ]
  },
  {
   "cell_type": "code",
   "execution_count": 5,
   "metadata": {},
   "outputs": [],
   "source": [
    "# import your function (replace studentnumber\" !!)\n",
    "from n_190011697 import fn_ames_en"
   ]
  },
  {
   "cell_type": "code",
   "execution_count": 6,
   "metadata": {},
   "outputs": [],
   "source": [
    "# create a copy of the data for testing\n",
    "df_all_testingcopy = df_all.copy()"
   ]
  },
  {
   "cell_type": "markdown",
   "metadata": {},
   "source": [
    "Call your function"
   ]
  },
  {
   "cell_type": "code",
   "execution_count": 7,
   "metadata": {},
   "outputs": [],
   "source": [
    "en_, X, y, mae_design, mae_test = fn_ames_en(df_all_testingcopy)"
   ]
  },
  {
   "cell_type": "markdown",
   "metadata": {},
   "source": [
    "Some extra data prep so you can test your function"
   ]
  },
  {
   "cell_type": "code",
   "execution_count": 8,
   "metadata": {},
   "outputs": [
    {
     "name": "stdout",
     "output_type": "stream",
     "text": [
      "1749\n",
      "586\n",
      "2335\n"
     ]
    }
   ],
   "source": [
    "# now create folds and indices to carry out tests\n",
    "import re\n",
    "    \n",
    "def convert(name):\n",
    "    s1 = re.sub('\\.', '_', name)\n",
    "    return s1.lower()\n",
    "\n",
    "# change column names to closer to camel case\n",
    "colnames = df_all.columns.values\n",
    "colnames = list(map(convert, colnames))\n",
    "df_all.columns = colnames\n",
    "del convert, colnames\n",
    "    \n",
    "# Deal with missings as per 02a\n",
    "vars_toDrop = ['lot_frontage', 'garage_yr_blt', 'mas_vnr_area']\n",
    "df_all.drop(labels=vars_toDrop,\n",
    "            axis=1,\n",
    "            inplace=True)\n",
    "    \n",
    "df_all.dropna(inplace = True)\n",
    "\n",
    "# remove outliers\n",
    "df_all = df_all[df_all['gr_liv_area'] <= 4000]\n",
    "df_all.reset_index(drop=True, inplace=True)\n",
    "    \n",
    "# create fold\n",
    "rng = np.random.RandomState(2018)\n",
    "fold = rng.randint(0, 10, df_all.shape[0])\n",
    "df_all['fold'] = fold\n",
    "\n",
    "# define index for train, val, design, test\n",
    "idx_train  = np.where(df_all['fold'].isin(np.arange(0,6)))[0]\n",
    "idx_val    = np.where(df_all['fold'].isin([6,7]))[0]\n",
    "idx_design = np.where(df_all['fold'].isin(np.arange(0,8)))[0]\n",
    "idx_test   = np.where(df_all['fold'].isin([8,9]))[0]\n",
    "\n",
    "print(len(idx_train))  # 1,749\n",
    "print(len(idx_val))    #   586\n",
    "print(len(idx_design)) # 2,335"
   ]
  },
  {
   "cell_type": "code",
   "execution_count": 9,
   "metadata": {},
   "outputs": [],
   "source": [
    "def fn_MAE(actuals, predictions):\n",
    "    return np.round(np.mean(np.abs(predictions - actuals)), 0)"
   ]
  },
  {
   "cell_type": "markdown",
   "metadata": {},
   "source": [
    "Finaly test the function "
   ]
  },
  {
   "cell_type": "code",
   "execution_count": 10,
   "metadata": {},
   "outputs": [],
   "source": [
    "X_design = X[idx_design, :]\n",
    "X_test   = X[idx_test, :]\n",
    "y_design = df_all['saleprice'].iloc[idx_design].copy().values.ravel()\n",
    "y_test   = df_all['saleprice'].iloc[idx_test].copy().values.ravel()\n",
    "\n",
    "pred_design = en_.predict(X_design)\n",
    "pred_test   = en_.predict(X_test)\n",
    "\n",
    "# calculate MAE on test and non test but then hard code in the return statement\n",
    "mae_design_my_calc = fn_MAE(y_design, pred_design)\n",
    "mae_test_my_calc   = fn_MAE(y_test, pred_test)\n"
   ]
  },
  {
   "cell_type": "code",
   "execution_count": 11,
   "metadata": {},
   "outputs": [
    {
     "data": {
      "text/plain": [
       "True"
      ]
     },
     "execution_count": 11,
     "metadata": {},
     "output_type": "execute_result"
    }
   ],
   "source": [
    "mae_design_my_calc == mae_design"
   ]
  },
  {
   "cell_type": "code",
   "execution_count": 12,
   "metadata": {},
   "outputs": [
    {
     "data": {
      "text/plain": [
       "True"
      ]
     },
     "execution_count": 12,
     "metadata": {},
     "output_type": "execute_result"
    }
   ],
   "source": [
    "mae_test_my_calc == mae_test"
   ]
  },
  {
   "cell_type": "code",
   "execution_count": 13,
   "metadata": {},
   "outputs": [
    {
     "data": {
      "text/plain": [
       "True"
      ]
     },
     "execution_count": 13,
     "metadata": {},
     "output_type": "execute_result"
    }
   ],
   "source": [
    "mae_test<13700"
   ]
  },
  {
   "cell_type": "code",
   "execution_count": 14,
   "metadata": {},
   "outputs": [
    {
     "data": {
      "text/plain": [
       "True"
      ]
     },
     "execution_count": 14,
     "metadata": {},
     "output_type": "execute_result"
    }
   ],
   "source": [
    "mae_test-mae_design<1100"
   ]
  },
  {
   "cell_type": "code",
   "execution_count": 15,
   "metadata": {},
   "outputs": [
    {
     "data": {
      "text/plain": [
       "13655"
      ]
     },
     "execution_count": 15,
     "metadata": {},
     "output_type": "execute_result"
    }
   ],
   "source": [
    "mae_test"
   ]
  },
  {
   "cell_type": "code",
   "execution_count": 17,
   "metadata": {},
   "outputs": [
    {
     "data": {
      "text/plain": [
       "1026"
      ]
     },
     "execution_count": 17,
     "metadata": {},
     "output_type": "execute_result"
    }
   ],
   "source": [
    "mae_test-mae_design"
   ]
  },
  {
   "cell_type": "code",
   "execution_count": null,
   "metadata": {},
   "outputs": [],
   "source": []
  }
 ],
 "metadata": {
  "anaconda-cloud": {},
  "kernelspec": {
   "display_name": "Python 3",
   "language": "python",
   "name": "python3"
  },
  "language_info": {
   "codemirror_mode": {
    "name": "ipython",
    "version": 3
   },
   "file_extension": ".py",
   "mimetype": "text/x-python",
   "name": "python",
   "nbconvert_exporter": "python",
   "pygments_lexer": "ipython3",
   "version": "3.6.7"
  }
 },
 "nbformat": 4,
 "nbformat_minor": 1
}
