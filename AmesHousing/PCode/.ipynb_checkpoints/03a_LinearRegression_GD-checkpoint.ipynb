{
 "cells": [
  {
   "cell_type": "markdown",
   "metadata": {},
   "source": [
    "# Linear Regression GD (one independent variable)"
   ]
  },
  {
   "cell_type": "markdown",
   "metadata": {},
   "source": [
    "Contents  \n",
    "\n",
    " - start\n",
    "  - packages\n",
    "  - directories\n",
    "  - load data\n",
    " - EDA\n",
    "  - lot frontage v sales price\n",
    " - gradient descent\n",
    " \n",
    "Copyright (C) 2018 Alan Chalk  \n",
    "Please do not distribute or publish without permission."
   ]
  },
  {
   "cell_type": "markdown",
   "metadata": {},
   "source": [
    "## Start_."
   ]
  },
  {
   "cell_type": "markdown",
   "metadata": {},
   "source": [
    "**Packages**\n",
    "\n",
    "**TODO**\n",
    "\n",
    "Import the packages that you are going to need."
   ]
  },
  {
   "cell_type": "code",
   "execution_count": 2,
   "metadata": {},
   "outputs": [],
   "source": [
    "import os\n",
    "import pandas as pd\n",
    "import numpy as np\n",
    "import re #import regex\n",
    "import pickle\n",
    "from matplotlib import pyplot as plt\n",
    "%matplotlib inline"
   ]
  },
  {
   "cell_type": "markdown",
   "metadata": {},
   "source": [
    "**Directories and paths**\n"
   ]
  },
  {
   "cell_type": "code",
   "execution_count": 26,
   "metadata": {},
   "outputs": [
    {
     "name": "stdout",
     "output_type": "stream",
     "text": [
      "/home/jovyan/Projects/AmesHousing/PCode\n"
     ]
    }
   ],
   "source": [
    "# Set directories\n",
    "print(os.getcwd())\n",
    "dirRawData = \"../input/\"\n",
    "dirPData   = \"../PData/\""
   ]
  },
  {
   "cell_type": "markdown",
   "metadata": {},
   "source": [
    "**matplotlib font size**"
   ]
  },
  {
   "cell_type": "code",
   "execution_count": 27,
   "metadata": {},
   "outputs": [],
   "source": [
    "font = {'size'   : 22}\n",
    "plt.rc('font', **font)"
   ]
  },
  {
   "cell_type": "markdown",
   "metadata": {},
   "source": [
    "**Load data** "
   ]
  },
  {
   "cell_type": "code",
   "execution_count": 28,
   "metadata": {},
   "outputs": [
    {
     "data": {
      "text/html": [
       "<div>\n",
       "<style scoped>\n",
       "    .dataframe tbody tr th:only-of-type {\n",
       "        vertical-align: middle;\n",
       "    }\n",
       "\n",
       "    .dataframe tbody tr th {\n",
       "        vertical-align: top;\n",
       "    }\n",
       "\n",
       "    .dataframe thead th {\n",
       "        text-align: right;\n",
       "    }\n",
       "</style>\n",
       "<table border=\"1\" class=\"dataframe\">\n",
       "  <thead>\n",
       "    <tr style=\"text-align: right;\">\n",
       "      <th></th>\n",
       "      <th>order</th>\n",
       "      <th>pid</th>\n",
       "      <th>ms_subclass</th>\n",
       "      <th>ms_zoning</th>\n",
       "      <th>lot_area</th>\n",
       "      <th>street</th>\n",
       "      <th>alley</th>\n",
       "      <th>lot_shape</th>\n",
       "      <th>land_contour</th>\n",
       "      <th>lot_config</th>\n",
       "      <th>...</th>\n",
       "      <th>pool_area</th>\n",
       "      <th>fence</th>\n",
       "      <th>misc_feature</th>\n",
       "      <th>misc_val</th>\n",
       "      <th>mo_sold</th>\n",
       "      <th>yr_sold</th>\n",
       "      <th>sale_type</th>\n",
       "      <th>sale_condition</th>\n",
       "      <th>saleprice</th>\n",
       "      <th>fold</th>\n",
       "    </tr>\n",
       "  </thead>\n",
       "  <tbody>\n",
       "    <tr>\n",
       "      <th>0</th>\n",
       "      <td>1</td>\n",
       "      <td>526301100</td>\n",
       "      <td>MS_20</td>\n",
       "      <td>RL</td>\n",
       "      <td>31770.0</td>\n",
       "      <td>Pave</td>\n",
       "      <td>DoesNotHaveOne</td>\n",
       "      <td>IR1</td>\n",
       "      <td>Lvl</td>\n",
       "      <td>Corner</td>\n",
       "      <td>...</td>\n",
       "      <td>0.0</td>\n",
       "      <td>DoesNotHaveOne</td>\n",
       "      <td>DoesNotHaveOne</td>\n",
       "      <td>0.0</td>\n",
       "      <td>5.0</td>\n",
       "      <td>2010.0</td>\n",
       "      <td>WD</td>\n",
       "      <td>Normal</td>\n",
       "      <td>215000.0</td>\n",
       "      <td>10</td>\n",
       "    </tr>\n",
       "    <tr>\n",
       "      <th>1</th>\n",
       "      <td>2</td>\n",
       "      <td>526350040</td>\n",
       "      <td>MS_20</td>\n",
       "      <td>RH</td>\n",
       "      <td>11622.0</td>\n",
       "      <td>Pave</td>\n",
       "      <td>DoesNotHaveOne</td>\n",
       "      <td>Reg</td>\n",
       "      <td>Lvl</td>\n",
       "      <td>Inside</td>\n",
       "      <td>...</td>\n",
       "      <td>0.0</td>\n",
       "      <td>MnPrv</td>\n",
       "      <td>DoesNotHaveOne</td>\n",
       "      <td>0.0</td>\n",
       "      <td>6.0</td>\n",
       "      <td>2010.0</td>\n",
       "      <td>WD</td>\n",
       "      <td>Normal</td>\n",
       "      <td>105000.0</td>\n",
       "      <td>6</td>\n",
       "    </tr>\n",
       "    <tr>\n",
       "      <th>2</th>\n",
       "      <td>3</td>\n",
       "      <td>526351010</td>\n",
       "      <td>MS_20</td>\n",
       "      <td>RL</td>\n",
       "      <td>14267.0</td>\n",
       "      <td>Pave</td>\n",
       "      <td>DoesNotHaveOne</td>\n",
       "      <td>IR1</td>\n",
       "      <td>Lvl</td>\n",
       "      <td>Corner</td>\n",
       "      <td>...</td>\n",
       "      <td>0.0</td>\n",
       "      <td>DoesNotHaveOne</td>\n",
       "      <td>DoesNotHaveOne</td>\n",
       "      <td>12500.0</td>\n",
       "      <td>6.0</td>\n",
       "      <td>2010.0</td>\n",
       "      <td>WD</td>\n",
       "      <td>Normal</td>\n",
       "      <td>172000.0</td>\n",
       "      <td>2</td>\n",
       "    </tr>\n",
       "    <tr>\n",
       "      <th>3</th>\n",
       "      <td>4</td>\n",
       "      <td>526353030</td>\n",
       "      <td>MS_20</td>\n",
       "      <td>RL</td>\n",
       "      <td>11160.0</td>\n",
       "      <td>Pave</td>\n",
       "      <td>DoesNotHaveOne</td>\n",
       "      <td>Reg</td>\n",
       "      <td>Lvl</td>\n",
       "      <td>Corner</td>\n",
       "      <td>...</td>\n",
       "      <td>0.0</td>\n",
       "      <td>DoesNotHaveOne</td>\n",
       "      <td>DoesNotHaveOne</td>\n",
       "      <td>0.0</td>\n",
       "      <td>4.0</td>\n",
       "      <td>2010.0</td>\n",
       "      <td>WD</td>\n",
       "      <td>Normal</td>\n",
       "      <td>244000.0</td>\n",
       "      <td>9</td>\n",
       "    </tr>\n",
       "    <tr>\n",
       "      <th>4</th>\n",
       "      <td>5</td>\n",
       "      <td>527105010</td>\n",
       "      <td>MS_60</td>\n",
       "      <td>RL</td>\n",
       "      <td>13830.0</td>\n",
       "      <td>Pave</td>\n",
       "      <td>DoesNotHaveOne</td>\n",
       "      <td>IR1</td>\n",
       "      <td>Lvl</td>\n",
       "      <td>Inside</td>\n",
       "      <td>...</td>\n",
       "      <td>0.0</td>\n",
       "      <td>MnPrv</td>\n",
       "      <td>DoesNotHaveOne</td>\n",
       "      <td>0.0</td>\n",
       "      <td>3.0</td>\n",
       "      <td>2010.0</td>\n",
       "      <td>WD</td>\n",
       "      <td>Normal</td>\n",
       "      <td>189900.0</td>\n",
       "      <td>5</td>\n",
       "    </tr>\n",
       "  </tbody>\n",
       "</table>\n",
       "<p>5 rows × 78 columns</p>\n",
       "</div>"
      ],
      "text/plain": [
       "   order        pid ms_subclass ms_zoning  lot_area street           alley  \\\n",
       "0      1  526301100       MS_20        RL   31770.0   Pave  DoesNotHaveOne   \n",
       "1      2  526350040       MS_20        RH   11622.0   Pave  DoesNotHaveOne   \n",
       "2      3  526351010       MS_20        RL   14267.0   Pave  DoesNotHaveOne   \n",
       "3      4  526353030       MS_20        RL   11160.0   Pave  DoesNotHaveOne   \n",
       "4      5  527105010       MS_60        RL   13830.0   Pave  DoesNotHaveOne   \n",
       "\n",
       "  lot_shape land_contour lot_config  ...  pool_area           fence  \\\n",
       "0       IR1          Lvl     Corner  ...        0.0  DoesNotHaveOne   \n",
       "1       Reg          Lvl     Inside  ...        0.0           MnPrv   \n",
       "2       IR1          Lvl     Corner  ...        0.0  DoesNotHaveOne   \n",
       "3       Reg          Lvl     Corner  ...        0.0  DoesNotHaveOne   \n",
       "4       IR1          Lvl     Inside  ...        0.0           MnPrv   \n",
       "\n",
       "     misc_feature misc_val mo_sold yr_sold  sale_type  sale_condition  \\\n",
       "0  DoesNotHaveOne      0.0     5.0  2010.0         WD          Normal   \n",
       "1  DoesNotHaveOne      0.0     6.0  2010.0         WD          Normal   \n",
       "2  DoesNotHaveOne  12500.0     6.0  2010.0         WD          Normal   \n",
       "3  DoesNotHaveOne      0.0     4.0  2010.0         WD          Normal   \n",
       "4  DoesNotHaveOne      0.0     3.0  2010.0         WD          Normal   \n",
       "\n",
       "   saleprice  fold  \n",
       "0   215000.0    10  \n",
       "1   105000.0     6  \n",
       "2   172000.0     2  \n",
       "3   244000.0     9  \n",
       "4   189900.0     5  \n",
       "\n",
       "[5 rows x 78 columns]"
      ]
     },
     "execution_count": 28,
     "metadata": {},
     "output_type": "execute_result"
    }
   ],
   "source": [
    "#store = pd.HDFStore(dirPData + '02_df_all.h5')\n",
    "#df_all = pd.read_hdf(store, 'df_all')\n",
    "#store.close()\n",
    "f_name = dirPData + '02_df.pickle'\n",
    "\n",
    "with (open(f_name, \"rb\")) as f:\n",
    "    dict_ = pickle.load(f)\n",
    "\n",
    "df_all = dict_['df_all']\n",
    "\n",
    "del f_name, dict_\n",
    "\n",
    "df_all.head()"
   ]
  },
  {
   "cell_type": "code",
   "execution_count": 136,
   "metadata": {},
   "outputs": [],
   "source": [
    "### dont actually need these in this notebook but included for completeness\n",
    "f_name = dirPData + '02_vars.pickle'\n",
    "\n",
    "with open(f_name, \"rb\") as f:\n",
    "    dict_ = pickle.load(f)\n",
    "\n",
    "# print(dict_.keys)\n",
    "vars_ind_numeric = dict_['vars_ind_numeric']\n",
    "\n",
    "del dict_"
   ]
  },
  {
   "cell_type": "markdown",
   "metadata": {},
   "source": [
    "**TODO**\n",
    "\n",
    "**Remove all cases where lot area is greater than 20000 square foot**\n",
    "\n",
    "Note than your can negate a boolean with ~ (tilde).  Hence if create an array of outliers called idx_outliers, then ~idx_outliers is what you want to keep."
   ]
  },
  {
   "cell_type": "code",
   "execution_count": 137,
   "metadata": {},
   "outputs": [
    {
     "data": {
      "text/plain": [
       "array(['order', 'pid', 'ms_subclass', 'ms_zoning', 'lot_area', 'street',\n",
       "       'alley', 'lot_shape', 'land_contour', 'lot_config', 'land_slope',\n",
       "       'neighborhood', 'condition_1', 'condition_2', 'bldg_type',\n",
       "       'house_style', 'overall_qual', 'overall_cond', 'year_built',\n",
       "       'year_remod_add', 'roof_style', 'roof_matl', 'exterior_1st',\n",
       "       'exterior_2nd', 'mas_vnr_type', 'exter_qual', 'exter_cond',\n",
       "       'foundation', 'bsmt_qual', 'bsmt_cond', 'bsmt_exposure',\n",
       "       'bsmtfin_type_1', 'bsmtfin_sf_1', 'bsmtfin_type_2', 'bsmtfin_sf_2',\n",
       "       'bsmt_unf_sf', 'total_bsmt_sf', 'heating', 'heating_qc',\n",
       "       'central_air', 'electrical', 'x1st_flr_sf', 'x2nd_flr_sf',\n",
       "       'low_qual_fin_sf', 'gr_liv_area', 'bsmt_full_bath',\n",
       "       'bsmt_half_bath', 'full_bath', 'half_bath', 'bedroom_abvgr',\n",
       "       'kitchen_abvgr', 'kitchen_qual', 'totrms_abvgrd', 'functional',\n",
       "       'fireplaces', 'fireplace_qu', 'garage_type', 'garage_finish',\n",
       "       'garage_cars', 'garage_area', 'garage_qual', 'garage_cond',\n",
       "       'paved_drive', 'wood_deck_sf', 'open_porch_sf', 'enclosed_porch',\n",
       "       'x3ssn_porch', 'screen_porch', 'pool_area', 'fence',\n",
       "       'misc_feature', 'misc_val', 'mo_sold', 'yr_sold', 'sale_type',\n",
       "       'sale_condition', 'saleprice', 'fold', 'quantiles', 'quantile'],\n",
       "      dtype=object)"
      ]
     },
     "execution_count": 137,
     "metadata": {},
     "output_type": "execute_result"
    }
   ],
   "source": [
    "df_all.columns.values"
   ]
  },
  {
   "cell_type": "code",
   "execution_count": 138,
   "metadata": {},
   "outputs": [
    {
     "name": "stdout",
     "output_type": "stream",
     "text": [
      "(2837, 80)\n",
      "(2837, 80)\n"
     ]
    }
   ],
   "source": [
    "###removing outliers for interpretability of graph\n",
    "print(df_all.shape)\n",
    "idx_outliers = df_all['lot_area']>20000\n",
    "df_all = df_all[~idx_outliers]\n",
    "print(df_all.shape) #just checking outliers have been successfully removed"
   ]
  },
  {
   "cell_type": "markdown",
   "metadata": {},
   "source": [
    "### Exploratory Data Analysis (EDA)\n",
    "\n",
    "**TODO**\n",
    "\n",
    "Create a graph which illustrates the relationship between saleprice and lot_area"
   ]
  },
  {
   "cell_type": "code",
   "execution_count": 139,
   "metadata": {},
   "outputs": [
    {
     "data": {
      "text/plain": [
       "Text(0.5, 1.0, 'Sale price ($) by lot area (sq ft)')"
      ]
     },
     "execution_count": 139,
     "metadata": {},
     "output_type": "execute_result"
    },
    {
     "data": {
      "image/png": "[encoded data removed]",
      "text/plain": [
       "<Figure size 720x432 with 1 Axes>"
      ]
     },
     "metadata": {},
     "output_type": "display_data"
    }
   ],
   "source": [
    "#create a new figure\n",
    "fig = plt.figure(figsize=(10,6))\n",
    "#add a subplot\n",
    "ax1= fig.add_subplot(1,1,1)\n",
    "\n",
    "_ = ax1.scatter(df_all['lot_area'], df_all['saleprice'], s=4)\n",
    "ax1.set_xlabel('lot size')\n",
    "ax1.set_ylabel('sale price')\n",
    "ax1.set_title('Sale price ($) by lot area (sq ft)')\n",
    "# plt.scatter(df_all['lot_area'],df_all['saleprice'])\n",
    "\n",
    "###NOT super useful, can summarise the data first then try plotting it"
   ]
  },
  {
   "cell_type": "code",
   "execution_count": 140,
   "metadata": {},
   "outputs": [
    {
     "data": {
      "text/plain": [
       "<matplotlib.axes._subplots.AxesSubplot at 0x7f32507f49e8>"
      ]
     },
     "execution_count": 140,
     "metadata": {},
     "output_type": "execute_result"
    },
    {
     "data": {
      "image/png": "[encoded data removed]",
      "text/plain": [
       "<Figure size 432x288 with 1 Axes>"
      ]
     },
     "metadata": {},
     "output_type": "display_data"
    }
   ],
   "source": [
    "###Divide the data into bands, and for each band, plot the mean\n",
    "df_all['quantile']=pd.cut(df_all['lot_area'],bins=100)\n",
    "df_all['quantile'].value_counts()\n",
    "### Note that as quantile increases, it includes less data\n",
    "### could use qcut instead to put same amount of data in each quantile but don't want this here\n",
    "df_groupby = df_all[['quantile', 'lot_area', 'saleprice']].groupby('quantile')\n",
    "type(df_groupby) #shows the type of df_groupby object\n",
    "df_summary = df_groupby.agg({'lot_area': 'mean',\n",
    "               'saleprice': 'mean'})\n",
    "# list(df_groupby)\n",
    "df_summary.plot.scatter(x='lot_area', y='saleprice') #plot using pandas builtin plot function, could also use matplotlib\n",
    "### above much more useful than previous plot"
   ]
  },
  {
   "cell_type": "markdown",
   "metadata": {},
   "source": [
    "## Linear regression: Gradient descent\n",
    "\n",
    "As discussed in the video clip, for any $\\beta_0$ and $\\beta_1$ we can create predictions:\n",
    "\n",
    "$$\\text{pred}_i = \\beta_0 + \\beta_1 \\times \\text{lot_area}_i$$.  \n",
    "\n",
    "For each prediction, the prediction error is given by:\n",
    "\n",
    "$$\\text{error}_i = \\text{price}_i - \\text{pred}_i$$\n",
    "\n",
    "We wish to find the *best* $\\beta_0$ and $\\beta_1$.  By *best* we mean that they minimize the mean squared error (MSE) where\n",
    "\n",
    "$$MSE = \\frac{1}{n} \\sum_i^n (\\text{price}_i - \\text{pred}_i)^2$$\n",
    "\n",
    "Remember that the gradients are given by:\n",
    "\n",
    "$$ \\frac{\\delta \\text{MSE}}{\\delta \\beta_0} = - \\frac{2}{n} \\sum_i^n \\text{error}_i$$ \n",
    "\n",
    "$$ \\frac{\\delta \\text{MSE}}{\\delta \\beta_i} = - \\frac{2}{n} \\sum_i^n \\text{error}_i \\times \\text{lot_area}$$ \n",
    "\n",
    "\n",
    "**TODO**:  Create two functions.\n",
    "\n",
    "1. fn_loss.  This should take as arguments x (1 x n array of lot_area), y (1 x n array price), beta_0 and beta_1.  It should return the MSE.\n",
    "\n",
    "2. fn_grad. This should take as arguments x (1 x n array of lot_area), y (1 x n array price), beta_0 and beta_1.  It should return a 2 x 1 array of the gradients.  \n"
   ]
  },
  {
   "cell_type": "code",
   "execution_count": 310,
   "metadata": {},
   "outputs": [],
   "source": [
    "def fn_loss(x, y, beta_0, beta_1):\n",
    "    # your code here\n",
    "#     i=0\n",
    "#     pred = np.zeros_like(x)\n",
    "#     while i<len(x):\n",
    "#         pred[i] = beta_0 + beta_1*x[i]\n",
    "#         i+=1\n",
    "#     error = y-pred\n",
    "### below is 'vectorised' alternative to above loop - numpy arrays multiply through nicely\n",
    "    y_hat = beta_0 + beta_1 * x\n",
    "    error = y - y_hat\n",
    "    MSE = np.mean(np.square(error))\n",
    "###PROFS:\n",
    "#     MSE = 1/len(x) * np.sum(np.square(error))\n",
    "#     MSE = 1/len(x) * np.sum(error)\n",
    "    return MSE\n",
    "\n",
    "def fn_grad(x, y, beta_0, beta_1):\n",
    "    # your code here\n",
    "#     i=0\n",
    "#     pred = np.zeros_like(x)\n",
    "#     while i<len(x):\n",
    "#         pred[i] = beta_0 + beta_1*x[i]\n",
    "#         i+=1\n",
    "#     error = y-pred\n",
    "    y_hat = beta_0 + beta_1 * x\n",
    "    error = y - y_hat\n",
    "    delta_0 = -2*np.mean(error)\n",
    "    delta_1 = -2*np.mean(x*error) #gives correlation of errors with x\n",
    "###PROFS: \n",
    "#     delta_0 = -2 * 1/len(x) * np.sum(error)\n",
    "#     delta_1 = -2*1/len(x) * np.sum(error*x) #gives correlation of errors with x\n",
    "    return np.array([delta_0, delta_1])"
   ]
  },
  {
   "cell_type": "code",
   "execution_count": 311,
   "metadata": {},
   "outputs": [
    {
     "name": "stdout",
     "output_type": "stream",
     "text": [
      "0.25\n",
      "[-0.5 -1.5]\n"
     ]
    }
   ],
   "source": [
    "### TESTING ABOVE FUNCTIONS\n",
    "x = np.array([0,1,2,3])\n",
    "y = np.array([0,1,2,4])\n",
    "beta_0 = 0\n",
    "beta_1 = 1\n",
    "print(fn_loss(x,y,beta_0,beta_1))\n",
    "print(fn_grad(x,y,beta_0,beta_1))\n",
    "\n",
    "\n"
   ]
  },
  {
   "cell_type": "markdown",
   "metadata": {},
   "source": [
    "**TODO**\n",
    "\n",
    "Create variables\n",
    " - x: An array of the lot areas\n",
    " - y: An array of the sale prices\n",
    "\n",
    "**Adjust x to have a mean of 0 (in order to make gradient descent more stable)** "
   ]
  },
  {
   "cell_type": "code",
   "execution_count": 312,
   "metadata": {},
   "outputs": [],
   "source": [
    "x = df_all['lot_area'].values\n",
    "# x.dtype #checks datatype of elements in x \n",
    "# type(x) #checks datatype of variable x\n",
    "\n",
    "##ADJUST x TO HAVE A MEAN OF ZERO\n",
    "x = x-np.mean(x)\n",
    "# print(np.round(np.mean(x))) #check correctly adjusted\n",
    "\n",
    "y = df_all['saleprice'].values\n",
    "# y.dtype #checks datatype of elements in x\n",
    "# type(y) #checks datatype of variable y\n",
    "# y"
   ]
  },
  {
   "cell_type": "markdown",
   "metadata": {},
   "source": [
    "**TODO**\n",
    "\n",
    "In the code below: \n",
    " - initialise beta_path with an np.zeros matrix with (n_iter + 1) rows and 2 columns\n",
    " - initialise loss_path with an empty list\n",
    " - initialise beta (the coefficients calculated in each interation) with [np.mean(y), 0] (you should understand what this initialisation is)\n",
    " \n",
    "Note that in gradient descent we need to decide when to stop.  The are various possibilities\n",
    " - Stop when your coefficients do not seem to change much\n",
    " - Stop when the magnitude of the gradient is close to zero\n",
    " - Stop when the loss function does not reduce very much\n",
    " \n",
    "In all the above cases you are likely to be close to a minimum - either local or global).\n",
    " \n",
    "In the code below we will define g_mag - the magnitude of the gradient, to be the sum of the squares of the gradient of the betas, and we will stop when this is close to zero.\n",
    " "
   ]
  },
  {
   "cell_type": "code",
   "execution_count": 313,
   "metadata": {},
   "outputs": [],
   "source": [
    "# ?np.zeros\n",
    "# ?np.empty"
   ]
  },
  {
   "cell_type": "code",
   "execution_count": 314,
   "metadata": {},
   "outputs": [],
   "source": [
    "n_iter = 1000 # number of interations\n",
    "eta = 1e-9 # step size\n",
    "tol = 1e-6 # tolerance\n",
    "\n",
    "# initialise lists to score the path of beta and the path of the loss function\n",
    "# np.zeros(shape, dtype=float, order='C')\n",
    "# var_shape = (n_iter+1, 2)\n",
    "# beta_path = np.zeros(var_shape)\n",
    "beta_path = np.zeros([n_iter+1, 2])\n",
    "loss_path = [] #empty list in which to store beta_0 and beta_1 as they change\n",
    "\n",
    "# initialise values for the coefficients\n",
    "beta = [np.mean(y), 0] #gives correct intercept, 0 is starting estimate for slope of saleprice wrt lot area\n",
    "\n",
    "beta_path[0,:] = beta\n",
    "loss_this = fn_loss(x, y, beta[0], beta[1])\n",
    "loss_path.append(loss_this)\n",
    "\n",
    "# This finds the gradients using your function fn_grad\n",
    "g = fn_grad(x, y, beta[0], beta[1])\n",
    "\n",
    "# This finds the sum of the squares of the gradients\n",
    "g_mag = np.sum(np.square(g))"
   ]
  },
  {
   "cell_type": "code",
   "execution_count": 315,
   "metadata": {},
   "outputs": [
    {
     "data": {
      "text/plain": [
       "4.6485956286209224e+16"
      ]
     },
     "execution_count": 315,
     "metadata": {},
     "output_type": "execute_result"
    }
   ],
   "source": [
    "g_mag"
   ]
  },
  {
   "cell_type": "markdown",
   "metadata": {},
   "source": [
    "**TODO**\n",
    "\n",
    "Fill in the code below."
   ]
  },
  {
   "cell_type": "code",
   "execution_count": 316,
   "metadata": {},
   "outputs": [
    {
     "name": "stdout",
     "output_type": "stream",
     "text": [
      "100 448905335455137.5\n",
      "200 4136495371725.54\n",
      "300 38116263294.03119\n",
      "400 351227161.38480073\n",
      "500 3236427.399412215\n",
      "600 29822.472329169937\n",
      "700 274.8029695691071\n",
      "800 2.532206635930994\n",
      "900 0.023333352379035527\n",
      "1000 0.00021500551428265403\n"
     ]
    }
   ],
   "source": [
    "i = 0\n",
    "while g_mag > tol: #stop when mag of gradient is very close to 0\n",
    "    i += 1\n",
    "    if i > n_iter: #limit to certain num of iterations to avoid endless loop\n",
    "        break\n",
    "    # Fill in the code below:\n",
    "    # 1. Find the gradients using your function fn_grad\n",
    "    g = fn_grad(x,y,beta[0],beta[1])\n",
    "    # 2. Find the sum of the squares of the gradients.  \n",
    "    g_mag = np.sum(np.square(g))\n",
    "    # 3. Take a step in the opposite direction to the gradient.  Remember to multiply by the step size\n",
    "    beta += -eta * g #opposite dir of g is -g, eta is step size\n",
    "    # 4. Calculate the loss using your function fn_loss\n",
    "    loss_this = fn_loss(x, y, beta[0], beta[1])\n",
    "    \n",
    "    loss_path.append(loss_this)\n",
    "    beta_path[i, :] = beta\n",
    "    if i % 100 == 0:\n",
    "        print(i, g_mag)\n",
    "        \n",
    "beta_path = beta_path[0:i, :]"
   ]
  },
  {
   "cell_type": "code",
   "execution_count": 317,
   "metadata": {},
   "outputs": [
    {
     "name": "stdout",
     "output_type": "stream",
     "text": [
      "Intercept: $178,909\n",
      "Slope: $9.3 per foot\n"
     ]
    }
   ],
   "source": [
    "# This cell should output:\n",
    "# Intercept: $178,909\n",
    "# Slope: $9.3 per foot\n",
    "print('Intercept: ${:,.0f}'.format(beta[0]))\n",
    "print('Slope: ${:,.1f} per foot'.format(beta[1]))"
   ]
  },
  {
   "cell_type": "code",
   "execution_count": 318,
   "metadata": {},
   "outputs": [
    {
     "data": {
      "image/png": "[encoded data removed]",
      "text/plain": [
       "<Figure size 720x432 with 1 Axes>"
      ]
     },
     "metadata": {},
     "output_type": "display_data"
    }
   ],
   "source": [
    "# Plot the path of beta_1 on the x-axis and the loss function on the y-axis\n",
    "fig = plt.figure(figsize = (10, 6))\n",
    "ax1 = fig.add_subplot(1, 1, 1)\n",
    "ax1.scatter(beta_path[:, 1],  loss_path, s=2)\n",
    "_ = ax1.set_xlabel('path of beta_1', fontsize=20)\n",
    "_ = ax1.set_ylabel('loss', fontsize=20)"
   ]
  },
  {
   "cell_type": "code",
   "execution_count": null,
   "metadata": {},
   "outputs": [],
   "source": [
    "# How much can the step size be increased before gradient descent starts to diverge?"
   ]
  }
 ],
 "metadata": {
  "anaconda-cloud": {},
  "kernelspec": {
   "display_name": "Python 3",
   "language": "python",
   "name": "python3"
  },
  "language_info": {
   "codemirror_mode": {
    "name": "ipython",
    "version": 3
   },
   "file_extension": ".py",
   "mimetype": "text/x-python",
   "name": "python",
   "nbconvert_exporter": "python",
   "pygments_lexer": "ipython3",
   "version": "3.6.7"
  }
 },
 "nbformat": 4,
 "nbformat_minor": 1
}
