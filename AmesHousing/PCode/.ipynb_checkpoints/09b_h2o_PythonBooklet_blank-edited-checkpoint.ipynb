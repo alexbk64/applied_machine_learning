{
 "cells": [
  {
   "cell_type": "markdown",
   "metadata": {},
   "source": [
    "## Introduction to h2o\n",
    "\n",
    "Source\n",
    " - Based on the h2o python booklet \n",
    " - https://docs.h2o.ai/h2o/latest-stable/h2o-docs/booklets/PythonBooklet.pdf\n",
    " - You are recommended to read the booklet up until the Machine Learning section carefully.  You are more than welcome to read the whole booklet!\n",
    " - You are also recommended to listen to at least the first part of Amy Wang tutorial at: https://www.youtube.com/watch?v=g7drhm_SdbQ"
   ]
  },
  {
   "cell_type": "code",
   "execution_count": 2,
   "metadata": {},
   "outputs": [],
   "source": [
    "import pandas as pd\n",
    "import h2o"
   ]
  },
  {
   "cell_type": "code",
   "execution_count": 3,
   "metadata": {},
   "outputs": [
    {
     "name": "stdout",
     "output_type": "stream",
     "text": [
      "3.24.0.3\n"
     ]
    }
   ],
   "source": [
    "# At the time of writing (May 2020), the latest h2o version is 3.30.0.3|\n",
    "print(h2o.__version__)"
   ]
  },
  {
   "cell_type": "markdown",
   "metadata": {},
   "source": [
    "### Start h2o"
   ]
  },
  {
   "cell_type": "code",
   "execution_count": 4,
   "metadata": {},
   "outputs": [
    {
     "name": "stdout",
     "output_type": "stream",
     "text": [
      "Connecting to H2O server at http://127.0.0.1:54321 ... successful.\n"
     ]
    },
    {
     "data": {
      "text/html": [
       "<div style=\"overflow:auto\"><table style=\"width:50%\"><tr><td>H2O cluster uptime:</td>\n",
       "<td>2 hours 52 mins</td></tr>\n",
       "<tr><td>H2O cluster timezone:</td>\n",
       "<td>Etc/UTC</td></tr>\n",
       "<tr><td>H2O data parsing timezone:</td>\n",
       "<td>UTC</td></tr>\n",
       "<tr><td>H2O cluster version:</td>\n",
       "<td>3.24.0.3</td></tr>\n",
       "<tr><td>H2O cluster version age:</td>\n",
       "<td>1 year, 2 months and 5 days !!!</td></tr>\n",
       "<tr><td>H2O cluster name:</td>\n",
       "<td>H2O_from_python_jovyan_zlzful</td></tr>\n",
       "<tr><td>H2O cluster total nodes:</td>\n",
       "<td>1</td></tr>\n",
       "<tr><td>H2O cluster free memory:</td>\n",
       "<td>843 Mb</td></tr>\n",
       "<tr><td>H2O cluster total cores:</td>\n",
       "<td>1</td></tr>\n",
       "<tr><td>H2O cluster allowed cores:</td>\n",
       "<td>1</td></tr>\n",
       "<tr><td>H2O cluster status:</td>\n",
       "<td>locked, healthy</td></tr>\n",
       "<tr><td>H2O connection url:</td>\n",
       "<td>http://127.0.0.1:54321</td></tr>\n",
       "<tr><td>H2O connection proxy:</td>\n",
       "<td>None</td></tr>\n",
       "<tr><td>H2O internal security:</td>\n",
       "<td>False</td></tr>\n",
       "<tr><td>H2O API Extensions:</td>\n",
       "<td>Amazon S3, XGBoost, Algos, AutoML, Core V3, Core V4</td></tr>\n",
       "<tr><td>Python version:</td>\n",
       "<td>3.6.7 final</td></tr></table></div>"
      ],
      "text/plain": [
       "--------------------------  ---------------------------------------------------\n",
       "H2O cluster uptime:         2 hours 52 mins\n",
       "H2O cluster timezone:       Etc/UTC\n",
       "H2O data parsing timezone:  UTC\n",
       "H2O cluster version:        3.24.0.3\n",
       "H2O cluster version age:    1 year, 2 months and 5 days !!!\n",
       "H2O cluster name:           H2O_from_python_jovyan_zlzful\n",
       "H2O cluster total nodes:    1\n",
       "H2O cluster free memory:    843 Mb\n",
       "H2O cluster total cores:    1\n",
       "H2O cluster allowed cores:  1\n",
       "H2O cluster status:         locked, healthy\n",
       "H2O connection url:         http://127.0.0.1:54321\n",
       "H2O connection proxy:\n",
       "H2O internal security:      False\n",
       "H2O API Extensions:         Amazon S3, XGBoost, Algos, AutoML, Core V3, Core V4\n",
       "Python version:             3.6.7 final\n",
       "--------------------------  ---------------------------------------------------"
      ]
     },
     "metadata": {},
     "output_type": "display_data"
    },
    {
     "data": {
      "text/plain": [
       "<H2OConnection to http://127.0.0.1:54321, no session>"
      ]
     },
     "execution_count": 4,
     "metadata": {},
     "output_type": "execute_result"
    }
   ],
   "source": [
    "h2o.connect(ip='127.0.0.1', \n",
    "            port=54321, \n",
    "            https=False)"
   ]
  },
  {
   "cell_type": "code",
   "execution_count": null,
   "metadata": {},
   "outputs": [],
   "source": [
    "h2o.init(ip='127.0.0.1', \n",
    "         port=54321, \n",
    "         https=False)"
   ]
  },
  {
   "cell_type": "code",
   "execution_count": null,
   "metadata": {},
   "outputs": [],
   "source": [
    "#h2o.cluster().shutdown()"
   ]
  },
  {
   "cell_type": "code",
   "execution_count": 5,
   "metadata": {},
   "outputs": [],
   "source": [
    "dct_all = {'col1': (1, 2, 3),\n",
    "           'col2': ('a', 'b', 'c'),\n",
    "           'col3': (0.1, 0.2, 0.3)}"
   ]
  },
  {
   "cell_type": "code",
   "execution_count": 6,
   "metadata": {},
   "outputs": [
    {
     "data": {
      "text/plain": [
       "(1, 2, 3)"
      ]
     },
     "execution_count": 6,
     "metadata": {},
     "output_type": "execute_result"
    }
   ],
   "source": [
    "dct_all['col1']"
   ]
  },
  {
   "cell_type": "code",
   "execution_count": 7,
   "metadata": {},
   "outputs": [],
   "source": [
    "df_all = pd.DataFrame(dct_all)"
   ]
  },
  {
   "cell_type": "code",
   "execution_count": 8,
   "metadata": {},
   "outputs": [
    {
     "data": {
      "text/html": [
       "<div>\n",
       "<style scoped>\n",
       "    .dataframe tbody tr th:only-of-type {\n",
       "        vertical-align: middle;\n",
       "    }\n",
       "\n",
       "    .dataframe tbody tr th {\n",
       "        vertical-align: top;\n",
       "    }\n",
       "\n",
       "    .dataframe thead th {\n",
       "        text-align: right;\n",
       "    }\n",
       "</style>\n",
       "<table border=\"1\" class=\"dataframe\">\n",
       "  <thead>\n",
       "    <tr style=\"text-align: right;\">\n",
       "      <th></th>\n",
       "      <th>col1</th>\n",
       "      <th>col2</th>\n",
       "      <th>col3</th>\n",
       "    </tr>\n",
       "  </thead>\n",
       "  <tbody>\n",
       "    <tr>\n",
       "      <th>0</th>\n",
       "      <td>1</td>\n",
       "      <td>a</td>\n",
       "      <td>0.1</td>\n",
       "    </tr>\n",
       "    <tr>\n",
       "      <th>1</th>\n",
       "      <td>2</td>\n",
       "      <td>b</td>\n",
       "      <td>0.2</td>\n",
       "    </tr>\n",
       "    <tr>\n",
       "      <th>2</th>\n",
       "      <td>3</td>\n",
       "      <td>c</td>\n",
       "      <td>0.3</td>\n",
       "    </tr>\n",
       "  </tbody>\n",
       "</table>\n",
       "</div>"
      ],
      "text/plain": [
       "   col1 col2  col3\n",
       "0     1    a   0.1\n",
       "1     2    b   0.2\n",
       "2     3    c   0.3"
      ]
     },
     "execution_count": 8,
     "metadata": {},
     "output_type": "execute_result"
    }
   ],
   "source": [
    "df_all"
   ]
  },
  {
   "cell_type": "markdown",
   "metadata": {},
   "source": [
    "**h2o JVM**\n",
    "\n",
    "h2o runs on a Java Virtual Machine.  The Python h2o module allows us to send information and requests to the machine and to ask the machine for information.\n",
    "\n",
    "We can send the information in a Pandas DataFrame to the h2o JVM with h2o.H2OFrame(df_all)\n"
   ]
  },
  {
   "cell_type": "code",
   "execution_count": null,
   "metadata": {},
   "outputs": [],
   "source": []
  },
  {
   "cell_type": "markdown",
   "metadata": {},
   "source": [
    "Send the data again"
   ]
  },
  {
   "cell_type": "code",
   "execution_count": 9,
   "metadata": {},
   "outputs": [
    {
     "name": "stdout",
     "output_type": "stream",
     "text": [
      "Parse progress: |█████████████████████████████████████████████████████████| 100%\n"
     ]
    },
    {
     "data": {
      "text/html": [
       "<table>\n",
       "<thead>\n",
       "<tr><th style=\"text-align: right;\">  col1</th><th>col2  </th><th style=\"text-align: right;\">  col3</th></tr>\n",
       "</thead>\n",
       "<tbody>\n",
       "<tr><td style=\"text-align: right;\">     1</td><td>a     </td><td style=\"text-align: right;\">   0.1</td></tr>\n",
       "<tr><td style=\"text-align: right;\">     2</td><td>b     </td><td style=\"text-align: right;\">   0.2</td></tr>\n",
       "<tr><td style=\"text-align: right;\">     3</td><td>c     </td><td style=\"text-align: right;\">   0.3</td></tr>\n",
       "</tbody>\n",
       "</table>"
      ]
     },
     "metadata": {},
     "output_type": "display_data"
    },
    {
     "data": {
      "text/plain": []
     },
     "execution_count": 9,
     "metadata": {},
     "output_type": "execute_result"
    }
   ],
   "source": [
    "h2o.H2OFrame(df_all)"
   ]
  },
  {
   "cell_type": "markdown",
   "metadata": {},
   "source": [
    "Where is the data?"
   ]
  },
  {
   "cell_type": "code",
   "execution_count": 10,
   "metadata": {},
   "outputs": [
    {
     "data": {
      "text/html": [
       "<div>\n",
       "<style scoped>\n",
       "    .dataframe tbody tr th:only-of-type {\n",
       "        vertical-align: middle;\n",
       "    }\n",
       "\n",
       "    .dataframe tbody tr th {\n",
       "        vertical-align: top;\n",
       "    }\n",
       "\n",
       "    .dataframe thead th {\n",
       "        text-align: right;\n",
       "    }\n",
       "</style>\n",
       "<table border=\"1\" class=\"dataframe\">\n",
       "  <thead>\n",
       "    <tr style=\"text-align: right;\">\n",
       "      <th></th>\n",
       "      <th>key</th>\n",
       "    </tr>\n",
       "  </thead>\n",
       "  <tbody>\n",
       "    <tr>\n",
       "      <th>0</th>\n",
       "      <td>Key_Frame__upload_b1ef7090cbb190f56859324be5e3...</td>\n",
       "    </tr>\n",
       "    <tr>\n",
       "      <th>1</th>\n",
       "      <td>df_all</td>\n",
       "    </tr>\n",
       "  </tbody>\n",
       "</table>\n",
       "</div>"
      ],
      "text/plain": [
       "                                                 key\n",
       "0  Key_Frame__upload_b1ef7090cbb190f56859324be5e3...\n",
       "1                                             df_all"
      ]
     },
     "execution_count": 10,
     "metadata": {},
     "output_type": "execute_result"
    }
   ],
   "source": [
    "h2o.ls()"
   ]
  },
  {
   "cell_type": "code",
   "execution_count": 11,
   "metadata": {},
   "outputs": [
    {
     "data": {
      "text/plain": [
       "pandas.core.frame.DataFrame"
      ]
     },
     "execution_count": 11,
     "metadata": {},
     "output_type": "execute_result"
    }
   ],
   "source": [
    "type(h2o.ls())"
   ]
  },
  {
   "cell_type": "code",
   "execution_count": 12,
   "metadata": {},
   "outputs": [
    {
     "data": {
      "text/plain": [
       "'Key_Frame__upload_b1ef7090cbb190f56859324be5e34557.hex'"
      ]
     },
     "execution_count": 12,
     "metadata": {},
     "output_type": "execute_result"
    }
   ],
   "source": [
    "h2o.ls().iloc[0][0]"
   ]
  },
  {
   "cell_type": "code",
   "execution_count": 13,
   "metadata": {},
   "outputs": [],
   "source": [
    "h2o.get_frame('type the Key_Frame...hex here')"
   ]
  },
  {
   "cell_type": "markdown",
   "metadata": {},
   "source": [
    "**Delete all of our frames from the h2o JVM**"
   ]
  },
  {
   "cell_type": "code",
   "execution_count": 14,
   "metadata": {},
   "outputs": [
    {
     "data": {
      "text/html": [
       "<div>\n",
       "<style scoped>\n",
       "    .dataframe tbody tr th:only-of-type {\n",
       "        vertical-align: middle;\n",
       "    }\n",
       "\n",
       "    .dataframe tbody tr th {\n",
       "        vertical-align: top;\n",
       "    }\n",
       "\n",
       "    .dataframe thead th {\n",
       "        text-align: right;\n",
       "    }\n",
       "</style>\n",
       "<table border=\"1\" class=\"dataframe\">\n",
       "  <thead>\n",
       "    <tr style=\"text-align: right;\">\n",
       "      <th></th>\n",
       "      <th>key</th>\n",
       "    </tr>\n",
       "  </thead>\n",
       "  <tbody>\n",
       "    <tr>\n",
       "      <th>0</th>\n",
       "      <td>Key_Frame__upload_b1ef7090cbb190f56859324be5e3...</td>\n",
       "    </tr>\n",
       "    <tr>\n",
       "      <th>1</th>\n",
       "      <td>df_all</td>\n",
       "    </tr>\n",
       "  </tbody>\n",
       "</table>\n",
       "</div>"
      ],
      "text/plain": [
       "                                                 key\n",
       "0  Key_Frame__upload_b1ef7090cbb190f56859324be5e3...\n",
       "1                                             df_all"
      ]
     },
     "execution_count": 14,
     "metadata": {},
     "output_type": "execute_result"
    }
   ],
   "source": [
    "df_h2o_ls = h2o.ls()\n",
    "df_h2o_ls"
   ]
  },
  {
   "cell_type": "code",
   "execution_count": 15,
   "metadata": {},
   "outputs": [
    {
     "name": "stdout",
     "output_type": "stream",
     "text": [
      "Key_Frame__upload_b1ef7090cbb190f56859324be5e34557.hex\n",
      "df_all\n"
     ]
    }
   ],
   "source": [
    "for key in df_h2o_ls['key']:\n",
    "    print(key)"
   ]
  },
  {
   "cell_type": "code",
   "execution_count": 16,
   "metadata": {},
   "outputs": [
    {
     "name": "stdout",
     "output_type": "stream",
     "text": [
      "Key_Frame__upload_b1ef7090cbb190f56859324be5e34557.hex\n",
      "df_all\n"
     ]
    }
   ],
   "source": [
    "for key in df_h2o_ls['key'].values:\n",
    "    print(key)"
   ]
  },
  {
   "cell_type": "code",
   "execution_count": 17,
   "metadata": {},
   "outputs": [],
   "source": [
    "for key in df_h2o_ls['key']:\n",
    "    h2o.remove(key)"
   ]
  },
  {
   "cell_type": "code",
   "execution_count": 18,
   "metadata": {},
   "outputs": [
    {
     "data": {
      "text/html": [
       "<div>\n",
       "<style scoped>\n",
       "    .dataframe tbody tr th:only-of-type {\n",
       "        vertical-align: middle;\n",
       "    }\n",
       "\n",
       "    .dataframe tbody tr th {\n",
       "        vertical-align: top;\n",
       "    }\n",
       "\n",
       "    .dataframe thead th {\n",
       "        text-align: right;\n",
       "    }\n",
       "</style>\n",
       "<table border=\"1\" class=\"dataframe\">\n",
       "  <thead>\n",
       "    <tr style=\"text-align: right;\">\n",
       "      <th></th>\n",
       "      <th>key</th>\n",
       "    </tr>\n",
       "  </thead>\n",
       "  <tbody>\n",
       "  </tbody>\n",
       "</table>\n",
       "</div>"
      ],
      "text/plain": [
       "Empty DataFrame\n",
       "Columns: [key]\n",
       "Index: []"
      ]
     },
     "execution_count": 18,
     "metadata": {},
     "output_type": "execute_result"
    }
   ],
   "source": [
    "h2o.ls()"
   ]
  },
  {
   "cell_type": "markdown",
   "metadata": {},
   "source": [
    "**Send the data to the h2o JVM and define the key**\n",
    "\n",
    "Use h2o.H2OFrame(name of data frame, destination_frame=\"name in h2o\")"
   ]
  },
  {
   "cell_type": "code",
   "execution_count": null,
   "metadata": {},
   "outputs": [],
   "source": []
  },
  {
   "cell_type": "code",
   "execution_count": 19,
   "metadata": {},
   "outputs": [
    {
     "data": {
      "text/html": [
       "<div>\n",
       "<style scoped>\n",
       "    .dataframe tbody tr th:only-of-type {\n",
       "        vertical-align: middle;\n",
       "    }\n",
       "\n",
       "    .dataframe tbody tr th {\n",
       "        vertical-align: top;\n",
       "    }\n",
       "\n",
       "    .dataframe thead th {\n",
       "        text-align: right;\n",
       "    }\n",
       "</style>\n",
       "<table border=\"1\" class=\"dataframe\">\n",
       "  <thead>\n",
       "    <tr style=\"text-align: right;\">\n",
       "      <th></th>\n",
       "      <th>key</th>\n",
       "    </tr>\n",
       "  </thead>\n",
       "  <tbody>\n",
       "  </tbody>\n",
       "</table>\n",
       "</div>"
      ],
      "text/plain": [
       "Empty DataFrame\n",
       "Columns: [key]\n",
       "Index: []"
      ]
     },
     "execution_count": 19,
     "metadata": {},
     "output_type": "execute_result"
    }
   ],
   "source": [
    "h2o.ls()"
   ]
  },
  {
   "cell_type": "code",
   "execution_count": 20,
   "metadata": {},
   "outputs": [],
   "source": [
    "# Now it is easier to get the frame\n",
    "h2o.get_frame('df_all')"
   ]
  },
  {
   "cell_type": "code",
   "execution_count": 21,
   "metadata": {},
   "outputs": [],
   "source": [
    "h2o.remove('df_all')"
   ]
  },
  {
   "cell_type": "markdown",
   "metadata": {},
   "source": [
    "**Send the data to the h2o JVM and create a \"handle\" for it in Python**\n",
    "\n",
    "As above, but now: h2o_df_all = h2o.H2OFrame(...)"
   ]
  },
  {
   "cell_type": "code",
   "execution_count": 22,
   "metadata": {},
   "outputs": [
    {
     "name": "stdout",
     "output_type": "stream",
     "text": [
      "Parse progress: |█████████████████████████████████████████████████████████| 100%\n"
     ]
    }
   ],
   "source": [
    "h2o_df_all = h2o.H2OFrame(df_all, 'df_all')"
   ]
  },
  {
   "cell_type": "code",
   "execution_count": 23,
   "metadata": {},
   "outputs": [
    {
     "data": {
      "text/plain": [
       "h2o.frame.H2OFrame"
      ]
     },
     "execution_count": 23,
     "metadata": {},
     "output_type": "execute_result"
    }
   ],
   "source": [
    "type(h2o_df_all)"
   ]
  },
  {
   "cell_type": "markdown",
   "metadata": {},
   "source": [
    "This \"handle\" points to the h2o JVM.\n",
    "\n",
    "We can apply some methods to it and Python knows to ask the JVM to apply the method.\n",
    "\n",
    "For example we can send a request to the JVM to tell us the shape of the data"
   ]
  },
  {
   "cell_type": "code",
   "execution_count": 24,
   "metadata": {},
   "outputs": [
    {
     "data": {
      "text/plain": [
       "(3, 3)"
      ]
     },
     "execution_count": 24,
     "metadata": {},
     "output_type": "execute_result"
    }
   ],
   "source": [
    "h2o_df_all.shape"
   ]
  },
  {
   "cell_type": "code",
   "execution_count": 25,
   "metadata": {},
   "outputs": [],
   "source": [
    "h2o.remove('df_all')"
   ]
  },
  {
   "cell_type": "markdown",
   "metadata": {},
   "source": [
    "### Methods for h2o frames"
   ]
  },
  {
   "cell_type": "code",
   "execution_count": 26,
   "metadata": {},
   "outputs": [],
   "source": [
    "import numpy as np"
   ]
  },
  {
   "cell_type": "code",
   "execution_count": 27,
   "metadata": {},
   "outputs": [],
   "source": [
    "mat = np.random.randn(100,4)"
   ]
  },
  {
   "cell_type": "code",
   "execution_count": 28,
   "metadata": {},
   "outputs": [
    {
     "data": {
      "text/plain": [
       "numpy.ndarray"
      ]
     },
     "execution_count": 28,
     "metadata": {},
     "output_type": "execute_result"
    }
   ],
   "source": [
    "type(mat)"
   ]
  },
  {
   "cell_type": "code",
   "execution_count": 29,
   "metadata": {},
   "outputs": [
    {
     "data": {
      "text/plain": [
       "array([[-2.47115784, -0.43411595, -0.1624479 , -0.53610705],\n",
       "       [-1.14722448, -1.4654785 , -0.74584884,  1.10236682],\n",
       "       [-0.27772572,  0.5380224 ,  1.38077058,  0.3007472 ],\n",
       "       [-2.08251855,  1.24636186,  0.47877362,  0.50794017],\n",
       "       [-0.59824763, -0.04598924,  0.05614474,  0.9703106 ],\n",
       "       [-0.29291966, -1.12989933, -0.74861899,  0.49434264],\n",
       "       [ 0.91722388, -0.86644566,  0.13031941, -0.41613006],\n",
       "       [ 0.82275804,  0.07861058,  0.52654079, -1.207546  ],\n",
       "       [ 0.34395933,  0.06076843, -0.14675539,  0.48268036],\n",
       "       [-0.9575299 ,  1.05183761, -0.00989106,  0.06464874]])"
      ]
     },
     "execution_count": 29,
     "metadata": {},
     "output_type": "execute_result"
    }
   ],
   "source": [
    "mat[0:10, 0:4]"
   ]
  },
  {
   "cell_type": "code",
   "execution_count": 30,
   "metadata": {},
   "outputs": [],
   "source": [
    "df_all = pd.DataFrame(mat, columns=list('ABCD'))"
   ]
  },
  {
   "cell_type": "code",
   "execution_count": 31,
   "metadata": {},
   "outputs": [
    {
     "data": {
      "text/html": [
       "<div>\n",
       "<style scoped>\n",
       "    .dataframe tbody tr th:only-of-type {\n",
       "        vertical-align: middle;\n",
       "    }\n",
       "\n",
       "    .dataframe tbody tr th {\n",
       "        vertical-align: top;\n",
       "    }\n",
       "\n",
       "    .dataframe thead th {\n",
       "        text-align: right;\n",
       "    }\n",
       "</style>\n",
       "<table border=\"1\" class=\"dataframe\">\n",
       "  <thead>\n",
       "    <tr style=\"text-align: right;\">\n",
       "      <th></th>\n",
       "      <th>A</th>\n",
       "      <th>B</th>\n",
       "      <th>C</th>\n",
       "      <th>D</th>\n",
       "    </tr>\n",
       "  </thead>\n",
       "  <tbody>\n",
       "    <tr>\n",
       "      <th>0</th>\n",
       "      <td>-2.471158</td>\n",
       "      <td>-0.434116</td>\n",
       "      <td>-0.162448</td>\n",
       "      <td>-0.536107</td>\n",
       "    </tr>\n",
       "    <tr>\n",
       "      <th>1</th>\n",
       "      <td>-1.147224</td>\n",
       "      <td>-1.465479</td>\n",
       "      <td>-0.745849</td>\n",
       "      <td>1.102367</td>\n",
       "    </tr>\n",
       "    <tr>\n",
       "      <th>2</th>\n",
       "      <td>-0.277726</td>\n",
       "      <td>0.538022</td>\n",
       "      <td>1.380771</td>\n",
       "      <td>0.300747</td>\n",
       "    </tr>\n",
       "    <tr>\n",
       "      <th>3</th>\n",
       "      <td>-2.082519</td>\n",
       "      <td>1.246362</td>\n",
       "      <td>0.478774</td>\n",
       "      <td>0.507940</td>\n",
       "    </tr>\n",
       "    <tr>\n",
       "      <th>4</th>\n",
       "      <td>-0.598248</td>\n",
       "      <td>-0.045989</td>\n",
       "      <td>0.056145</td>\n",
       "      <td>0.970311</td>\n",
       "    </tr>\n",
       "  </tbody>\n",
       "</table>\n",
       "</div>"
      ],
      "text/plain": [
       "          A         B         C         D\n",
       "0 -2.471158 -0.434116 -0.162448 -0.536107\n",
       "1 -1.147224 -1.465479 -0.745849  1.102367\n",
       "2 -0.277726  0.538022  1.380771  0.300747\n",
       "3 -2.082519  1.246362  0.478774  0.507940\n",
       "4 -0.598248 -0.045989  0.056145  0.970311"
      ]
     },
     "execution_count": 31,
     "metadata": {},
     "output_type": "execute_result"
    }
   ],
   "source": [
    "df_all.head()"
   ]
  },
  {
   "cell_type": "markdown",
   "metadata": {},
   "source": [
    "Now send the data to the h2o JVM\n",
    "\n",
    "As before with h2o_df_all = h2o.H2OFrame(...)"
   ]
  },
  {
   "cell_type": "code",
   "execution_count": 32,
   "metadata": {},
   "outputs": [
    {
     "name": "stdout",
     "output_type": "stream",
     "text": [
      "Parse progress: |█████████████████████████████████████████████████████████| 100%\n"
     ]
    }
   ],
   "source": [
    "h2o_df_all =  h2o.H2OFrame(df_all, 'df_all')"
   ]
  },
  {
   "cell_type": "markdown",
   "metadata": {},
   "source": [
    "**head and tail methods**\n",
    "\n",
    "Similar to Pandas - use h2o_df_all.head()"
   ]
  },
  {
   "cell_type": "code",
   "execution_count": 33,
   "metadata": {},
   "outputs": [
    {
     "data": {
      "text/html": [
       "<table>\n",
       "<thead>\n",
       "<tr><th style=\"text-align: right;\">        A</th><th style=\"text-align: right;\">         B</th><th style=\"text-align: right;\">          C</th><th style=\"text-align: right;\">         D</th></tr>\n",
       "</thead>\n",
       "<tbody>\n",
       "<tr><td style=\"text-align: right;\">-2.47116 </td><td style=\"text-align: right;\">-0.434116 </td><td style=\"text-align: right;\">-0.162448  </td><td style=\"text-align: right;\">-0.536107 </td></tr>\n",
       "<tr><td style=\"text-align: right;\">-1.14722 </td><td style=\"text-align: right;\">-1.46548  </td><td style=\"text-align: right;\">-0.745849  </td><td style=\"text-align: right;\"> 1.10237  </td></tr>\n",
       "<tr><td style=\"text-align: right;\">-0.277726</td><td style=\"text-align: right;\"> 0.538022 </td><td style=\"text-align: right;\"> 1.38077   </td><td style=\"text-align: right;\"> 0.300747 </td></tr>\n",
       "<tr><td style=\"text-align: right;\">-2.08252 </td><td style=\"text-align: right;\"> 1.24636  </td><td style=\"text-align: right;\"> 0.478774  </td><td style=\"text-align: right;\"> 0.50794  </td></tr>\n",
       "<tr><td style=\"text-align: right;\">-0.598248</td><td style=\"text-align: right;\">-0.0459892</td><td style=\"text-align: right;\"> 0.0561447 </td><td style=\"text-align: right;\"> 0.970311 </td></tr>\n",
       "<tr><td style=\"text-align: right;\">-0.29292 </td><td style=\"text-align: right;\">-1.1299   </td><td style=\"text-align: right;\">-0.748619  </td><td style=\"text-align: right;\"> 0.494343 </td></tr>\n",
       "<tr><td style=\"text-align: right;\"> 0.917224</td><td style=\"text-align: right;\">-0.866446 </td><td style=\"text-align: right;\"> 0.130319  </td><td style=\"text-align: right;\">-0.41613  </td></tr>\n",
       "<tr><td style=\"text-align: right;\"> 0.822758</td><td style=\"text-align: right;\"> 0.0786106</td><td style=\"text-align: right;\"> 0.526541  </td><td style=\"text-align: right;\">-1.20755  </td></tr>\n",
       "<tr><td style=\"text-align: right;\"> 0.343959</td><td style=\"text-align: right;\"> 0.0607684</td><td style=\"text-align: right;\">-0.146755  </td><td style=\"text-align: right;\"> 0.48268  </td></tr>\n",
       "<tr><td style=\"text-align: right;\">-0.95753 </td><td style=\"text-align: right;\"> 1.05184  </td><td style=\"text-align: right;\">-0.00989106</td><td style=\"text-align: right;\"> 0.0646487</td></tr>\n",
       "</tbody>\n",
       "</table>"
      ]
     },
     "metadata": {},
     "output_type": "display_data"
    },
    {
     "data": {
      "text/plain": []
     },
     "execution_count": 33,
     "metadata": {},
     "output_type": "execute_result"
    }
   ],
   "source": [
    "# default in Pandas is 5 obs\n",
    "# df_all.head()  #pandas\n",
    "h2o_df_all.head()  #h2o"
   ]
  },
  {
   "cell_type": "code",
   "execution_count": 34,
   "metadata": {},
   "outputs": [
    {
     "data": {
      "text/html": [
       "<table>\n",
       "<thead>\n",
       "<tr><th style=\"text-align: right;\">        A</th><th style=\"text-align: right;\">         B</th><th style=\"text-align: right;\">         C</th><th style=\"text-align: right;\">         D</th></tr>\n",
       "</thead>\n",
       "<tbody>\n",
       "<tr><td style=\"text-align: right;\">-0.182559</td><td style=\"text-align: right;\"> 0.0387505</td><td style=\"text-align: right;\"> 0.799841 </td><td style=\"text-align: right;\"> 0.684986 </td></tr>\n",
       "<tr><td style=\"text-align: right;\">-0.975321</td><td style=\"text-align: right;\">-1.55732  </td><td style=\"text-align: right;\">-1.10503  </td><td style=\"text-align: right;\"> 1.34218  </td></tr>\n",
       "<tr><td style=\"text-align: right;\">-0.932271</td><td style=\"text-align: right;\">-0.575013 </td><td style=\"text-align: right;\">-0.0527701</td><td style=\"text-align: right;\">-1.61499  </td></tr>\n",
       "<tr><td style=\"text-align: right;\">-0.223381</td><td style=\"text-align: right;\">-0.0752052</td><td style=\"text-align: right;\"> 0.517266 </td><td style=\"text-align: right;\"> 1.10151  </td></tr>\n",
       "<tr><td style=\"text-align: right;\">-2.74959 </td><td style=\"text-align: right;\">-0.681963 </td><td style=\"text-align: right;\"> 0.0439335</td><td style=\"text-align: right;\"> 0.465204 </td></tr>\n",
       "<tr><td style=\"text-align: right;\">-0.567208</td><td style=\"text-align: right;\"> 1.3909   </td><td style=\"text-align: right;\">-0.484036 </td><td style=\"text-align: right;\"> 1.66231  </td></tr>\n",
       "<tr><td style=\"text-align: right;\"> 0.911352</td><td style=\"text-align: right;\"> 0.8837   </td><td style=\"text-align: right;\"> 1.06185  </td><td style=\"text-align: right;\"> 1.42315  </td></tr>\n",
       "<tr><td style=\"text-align: right;\">-0.737166</td><td style=\"text-align: right;\">-0.0816223</td><td style=\"text-align: right;\"> 1.11206  </td><td style=\"text-align: right;\"> 0.0101389</td></tr>\n",
       "<tr><td style=\"text-align: right;\">-0.139895</td><td style=\"text-align: right;\">-0.233609 </td><td style=\"text-align: right;\"> 1.35299  </td><td style=\"text-align: right;\">-0.147354 </td></tr>\n",
       "<tr><td style=\"text-align: right;\"> 0.839878</td><td style=\"text-align: right;\">-0.352736 </td><td style=\"text-align: right;\"> 0.0298493</td><td style=\"text-align: right;\"> 1.86887  </td></tr>\n",
       "</tbody>\n",
       "</table>"
      ]
     },
     "metadata": {},
     "output_type": "display_data"
    },
    {
     "data": {
      "text/plain": []
     },
     "execution_count": 34,
     "metadata": {},
     "output_type": "execute_result"
    }
   ],
   "source": [
    "# and tail is the same....\n",
    "h2o_df_all.tail()"
   ]
  },
  {
   "cell_type": "markdown",
   "metadata": {},
   "source": [
    "**columns attribute**\n",
    "\n",
    "Similar to Pandas"
   ]
  },
  {
   "cell_type": "code",
   "execution_count": 35,
   "metadata": {},
   "outputs": [
    {
     "data": {
      "text/plain": [
       "Index(['A', 'B', 'C', 'D'], dtype='object')"
      ]
     },
     "execution_count": 35,
     "metadata": {},
     "output_type": "execute_result"
    }
   ],
   "source": [
    "df_all.columns"
   ]
  },
  {
   "cell_type": "code",
   "execution_count": 36,
   "metadata": {},
   "outputs": [
    {
     "data": {
      "text/plain": [
       "['A', 'B', 'C', 'D']"
      ]
     },
     "execution_count": 36,
     "metadata": {},
     "output_type": "execute_result"
    }
   ],
   "source": [
    "# and .columns with h2o\n",
    "h2o_df_all.columns"
   ]
  },
  {
   "cell_type": "markdown",
   "metadata": {},
   "source": [
    "And you can also use .types (similar to pandas .dtypes)"
   ]
  },
  {
   "cell_type": "code",
   "execution_count": 37,
   "metadata": {},
   "outputs": [
    {
     "data": {
      "text/plain": [
       "{'A': 'real', 'B': 'real', 'C': 'real', 'D': 'real'}"
      ]
     },
     "execution_count": 37,
     "metadata": {},
     "output_type": "execute_result"
    }
   ],
   "source": [
    "# or .types\n",
    "h2o_df_all.types"
   ]
  },
  {
   "cell_type": "markdown",
   "metadata": {},
   "source": [
    "**describe method**\n",
    "\n",
    "Similar - kind of...."
   ]
  },
  {
   "cell_type": "code",
   "execution_count": 38,
   "metadata": {},
   "outputs": [
    {
     "data": {
      "text/html": [
       "<div>\n",
       "<style scoped>\n",
       "    .dataframe tbody tr th:only-of-type {\n",
       "        vertical-align: middle;\n",
       "    }\n",
       "\n",
       "    .dataframe tbody tr th {\n",
       "        vertical-align: top;\n",
       "    }\n",
       "\n",
       "    .dataframe thead th {\n",
       "        text-align: right;\n",
       "    }\n",
       "</style>\n",
       "<table border=\"1\" class=\"dataframe\">\n",
       "  <thead>\n",
       "    <tr style=\"text-align: right;\">\n",
       "      <th></th>\n",
       "      <th>A</th>\n",
       "      <th>B</th>\n",
       "      <th>C</th>\n",
       "      <th>D</th>\n",
       "    </tr>\n",
       "  </thead>\n",
       "  <tbody>\n",
       "    <tr>\n",
       "      <th>count</th>\n",
       "      <td>100.000000</td>\n",
       "      <td>100.000000</td>\n",
       "      <td>100.000000</td>\n",
       "      <td>100.000000</td>\n",
       "    </tr>\n",
       "    <tr>\n",
       "      <th>mean</th>\n",
       "      <td>-0.024857</td>\n",
       "      <td>-0.075239</td>\n",
       "      <td>0.036512</td>\n",
       "      <td>0.027847</td>\n",
       "    </tr>\n",
       "    <tr>\n",
       "      <th>std</th>\n",
       "      <td>1.103370</td>\n",
       "      <td>0.987522</td>\n",
       "      <td>0.952652</td>\n",
       "      <td>1.113161</td>\n",
       "    </tr>\n",
       "    <tr>\n",
       "      <th>min</th>\n",
       "      <td>-2.749595</td>\n",
       "      <td>-2.209788</td>\n",
       "      <td>-2.168616</td>\n",
       "      <td>-2.741339</td>\n",
       "    </tr>\n",
       "    <tr>\n",
       "      <th>25%</th>\n",
       "      <td>-0.764599</td>\n",
       "      <td>-0.834056</td>\n",
       "      <td>-0.646961</td>\n",
       "      <td>-0.701228</td>\n",
       "    </tr>\n",
       "    <tr>\n",
       "      <th>50%</th>\n",
       "      <td>-0.021983</td>\n",
       "      <td>-0.078414</td>\n",
       "      <td>0.056015</td>\n",
       "      <td>0.061279</td>\n",
       "    </tr>\n",
       "    <tr>\n",
       "      <th>75%</th>\n",
       "      <td>0.827038</td>\n",
       "      <td>0.559029</td>\n",
       "      <td>0.642095</td>\n",
       "      <td>0.717835</td>\n",
       "    </tr>\n",
       "    <tr>\n",
       "      <th>max</th>\n",
       "      <td>2.313557</td>\n",
       "      <td>2.858188</td>\n",
       "      <td>2.070478</td>\n",
       "      <td>3.627819</td>\n",
       "    </tr>\n",
       "  </tbody>\n",
       "</table>\n",
       "</div>"
      ],
      "text/plain": [
       "                A           B           C           D\n",
       "count  100.000000  100.000000  100.000000  100.000000\n",
       "mean    -0.024857   -0.075239    0.036512    0.027847\n",
       "std      1.103370    0.987522    0.952652    1.113161\n",
       "min     -2.749595   -2.209788   -2.168616   -2.741339\n",
       "25%     -0.764599   -0.834056   -0.646961   -0.701228\n",
       "50%     -0.021983   -0.078414    0.056015    0.061279\n",
       "75%      0.827038    0.559029    0.642095    0.717835\n",
       "max      2.313557    2.858188    2.070478    3.627819"
      ]
     },
     "execution_count": 38,
     "metadata": {},
     "output_type": "execute_result"
    }
   ],
   "source": [
    "df_all.describe()"
   ]
  },
  {
   "cell_type": "code",
   "execution_count": 39,
   "metadata": {},
   "outputs": [
    {
     "name": "stdout",
     "output_type": "stream",
     "text": [
      "Rows:100\n",
      "Cols:4\n",
      "\n",
      "\n"
     ]
    },
    {
     "data": {
      "text/html": [
       "<table>\n",
       "<thead>\n",
       "<tr><th>       </th><th>A                    </th><th>B                   </th><th>C                    </th><th>D                   </th></tr>\n",
       "</thead>\n",
       "<tbody>\n",
       "<tr><td>type   </td><td>real                 </td><td>real                </td><td>real                 </td><td>real                </td></tr>\n",
       "<tr><td>mins   </td><td>-2.749594586825697   </td><td>-2.209787572434603  </td><td>-2.168616335995749   </td><td>-2.7413388983822204 </td></tr>\n",
       "<tr><td>mean   </td><td>-0.024856977018178288</td><td>-0.07523868923721971</td><td>0.0365119340925782   </td><td>0.027847417856134975</td></tr>\n",
       "<tr><td>maxs   </td><td>2.3135572376443547   </td><td>2.858188163105298   </td><td>2.070477782846559    </td><td>3.627818655174457   </td></tr>\n",
       "<tr><td>sigma  </td><td>1.103370243142427    </td><td>0.9875219832858204  </td><td>0.9526523537223163   </td><td>1.1131614088407233  </td></tr>\n",
       "<tr><td>zeros  </td><td>0                    </td><td>0                   </td><td>0                    </td><td>0                   </td></tr>\n",
       "<tr><td>missing</td><td>0                    </td><td>0                   </td><td>0                    </td><td>0                   </td></tr>\n",
       "<tr><td>0      </td><td>-2.4711578394490346  </td><td>-0.4341159526646765 </td><td>-0.16244790375187562 </td><td>-0.5361070487054688 </td></tr>\n",
       "<tr><td>1      </td><td>-1.147224479808595   </td><td>-1.465478500757383  </td><td>-0.7458488384669256  </td><td>1.102366821966816   </td></tr>\n",
       "<tr><td>2      </td><td>-0.277725722584112   </td><td>0.5380223997440394  </td><td>1.3807705799204026   </td><td>0.30074719692638524 </td></tr>\n",
       "<tr><td>3      </td><td>-2.082518553236505   </td><td>1.2463618642664152  </td><td>0.478773618440272    </td><td>0.5079401688123194  </td></tr>\n",
       "<tr><td>4      </td><td>-0.5982476262640389  </td><td>-0.04598923520964263</td><td>0.056144741412969386 </td><td>0.9703105974138378  </td></tr>\n",
       "<tr><td>5      </td><td>-0.29291965984471435 </td><td>-1.1298993263845871 </td><td>-0.7486189882596722  </td><td>0.49434264109076087 </td></tr>\n",
       "<tr><td>6      </td><td>0.9172238766322174   </td><td>-0.8664456616080645 </td><td>0.13031941229703953  </td><td>-0.4161300579991226 </td></tr>\n",
       "<tr><td>7      </td><td>0.8227580412926983   </td><td>0.07861057559629812 </td><td>0.5265407852150417   </td><td>-1.207546004463643  </td></tr>\n",
       "<tr><td>8      </td><td>0.3439593268405853   </td><td>0.06076843250556604 </td><td>-0.14675538733486665 </td><td>0.482680361462435   </td></tr>\n",
       "<tr><td>9      </td><td>-0.9575299049886684  </td><td>1.0518376080826426  </td><td>-0.009891060940462377</td><td>0.06464874209689507 </td></tr>\n",
       "</tbody>\n",
       "</table>"
      ]
     },
     "metadata": {},
     "output_type": "display_data"
    }
   ],
   "source": [
    "# or describe\n",
    "h2o_df_all.describe()"
   ]
  },
  {
   "cell_type": "markdown",
   "metadata": {},
   "source": [
    "**select columns**\n",
    "\n",
    "By location (integer)\n"
   ]
  },
  {
   "cell_type": "code",
   "execution_count": 40,
   "metadata": {},
   "outputs": [
    {
     "data": {
      "text/html": [
       "<table>\n",
       "<thead>\n",
       "<tr><th style=\"text-align: right;\">        A</th></tr>\n",
       "</thead>\n",
       "<tbody>\n",
       "<tr><td style=\"text-align: right;\">-2.47116 </td></tr>\n",
       "<tr><td style=\"text-align: right;\">-1.14722 </td></tr>\n",
       "<tr><td style=\"text-align: right;\">-0.277726</td></tr>\n",
       "<tr><td style=\"text-align: right;\">-2.08252 </td></tr>\n",
       "<tr><td style=\"text-align: right;\">-0.598248</td></tr>\n",
       "<tr><td style=\"text-align: right;\">-0.29292 </td></tr>\n",
       "<tr><td style=\"text-align: right;\"> 0.917224</td></tr>\n",
       "<tr><td style=\"text-align: right;\"> 0.822758</td></tr>\n",
       "<tr><td style=\"text-align: right;\"> 0.343959</td></tr>\n",
       "<tr><td style=\"text-align: right;\">-0.95753 </td></tr>\n",
       "</tbody>\n",
       "</table>"
      ]
     },
     "metadata": {},
     "output_type": "display_data"
    },
    {
     "data": {
      "text/plain": []
     },
     "execution_count": 40,
     "metadata": {},
     "output_type": "execute_result"
    }
   ],
   "source": [
    "# try using 0 (zero) as a slice\n",
    "h2o_df_all[0]"
   ]
  },
  {
   "cell_type": "markdown",
   "metadata": {},
   "source": [
    "or by column name"
   ]
  },
  {
   "cell_type": "code",
   "execution_count": 41,
   "metadata": {},
   "outputs": [
    {
     "data": {
      "text/html": [
       "<table>\n",
       "<thead>\n",
       "<tr><th style=\"text-align: right;\">        A</th></tr>\n",
       "</thead>\n",
       "<tbody>\n",
       "<tr><td style=\"text-align: right;\">-2.47116 </td></tr>\n",
       "<tr><td style=\"text-align: right;\">-1.14722 </td></tr>\n",
       "<tr><td style=\"text-align: right;\">-0.277726</td></tr>\n",
       "<tr><td style=\"text-align: right;\">-2.08252 </td></tr>\n",
       "<tr><td style=\"text-align: right;\">-0.598248</td></tr>\n",
       "<tr><td style=\"text-align: right;\">-0.29292 </td></tr>\n",
       "<tr><td style=\"text-align: right;\"> 0.917224</td></tr>\n",
       "<tr><td style=\"text-align: right;\"> 0.822758</td></tr>\n",
       "<tr><td style=\"text-align: right;\"> 0.343959</td></tr>\n",
       "<tr><td style=\"text-align: right;\">-0.95753 </td></tr>\n",
       "</tbody>\n",
       "</table>"
      ]
     },
     "metadata": {},
     "output_type": "display_data"
    },
    {
     "data": {
      "text/plain": []
     },
     "execution_count": 41,
     "metadata": {},
     "output_type": "execute_result"
    }
   ],
   "source": [
    "# the column name also works, try 'A'\n",
    "h2o_df_all['A']"
   ]
  },
  {
   "cell_type": "markdown",
   "metadata": {},
   "source": [
    "in Pandas you have to be a little bit more explicit..."
   ]
  },
  {
   "cell_type": "code",
   "execution_count": 42,
   "metadata": {},
   "outputs": [],
   "source": [
    "# df_all[0]  #won't work"
   ]
  },
  {
   "cell_type": "code",
   "execution_count": 43,
   "metadata": {},
   "outputs": [
    {
     "data": {
      "text/plain": [
       "0    -2.471158\n",
       "1    -1.147224\n",
       "2    -0.277726\n",
       "3    -2.082519\n",
       "4    -0.598248\n",
       "5    -0.292920\n",
       "6     0.917224\n",
       "7     0.822758\n",
       "8     0.343959\n",
       "9    -0.957530\n",
       "10   -0.340331\n",
       "11    1.260976\n",
       "12    1.571904\n",
       "13    1.693347\n",
       "14    0.054149\n",
       "15    0.396382\n",
       "16   -0.658620\n",
       "17    1.683607\n",
       "18    1.780733\n",
       "19   -0.952059\n",
       "20    0.726750\n",
       "21    0.870807\n",
       "22   -1.156521\n",
       "23   -0.772091\n",
       "24    0.045874\n",
       "25   -1.875366\n",
       "26   -0.113604\n",
       "27    0.109923\n",
       "28    0.405979\n",
       "29   -1.233644\n",
       "        ...   \n",
       "70    1.232271\n",
       "71    0.798431\n",
       "72    1.056531\n",
       "73   -1.420481\n",
       "74    1.508727\n",
       "75    0.782547\n",
       "76   -0.699397\n",
       "77   -0.700294\n",
       "78   -0.058067\n",
       "79    0.256852\n",
       "80    1.315372\n",
       "81    1.081311\n",
       "82    0.692046\n",
       "83    0.490750\n",
       "84   -0.637963\n",
       "85   -0.454736\n",
       "86   -1.632188\n",
       "87   -0.595101\n",
       "88   -0.731324\n",
       "89    0.369718\n",
       "90   -0.182559\n",
       "91   -0.975321\n",
       "92   -0.932271\n",
       "93   -0.223381\n",
       "94   -2.749595\n",
       "95   -0.567208\n",
       "96    0.911352\n",
       "97   -0.737166\n",
       "98   -0.139895\n",
       "99    0.839878\n",
       "Name: A, Length: 100, dtype: float64"
      ]
     },
     "execution_count": 43,
     "metadata": {},
     "output_type": "execute_result"
    }
   ],
   "source": [
    "# rather you have to give it the location as an integer.... eg .iloc[:, 0]\n",
    "df_all.iloc[:,0]"
   ]
  },
  {
   "cell_type": "markdown",
   "metadata": {},
   "source": [
    "Selecting multiple rows or columns is fairly obvious, eg"
   ]
  },
  {
   "cell_type": "code",
   "execution_count": 44,
   "metadata": {},
   "outputs": [
    {
     "data": {
      "text/html": [
       "<table>\n",
       "<thead>\n",
       "<tr><th style=\"text-align: right;\">        A</th><th style=\"text-align: right;\">         B</th></tr>\n",
       "</thead>\n",
       "<tbody>\n",
       "<tr><td style=\"text-align: right;\">-2.47116 </td><td style=\"text-align: right;\">-0.434116 </td></tr>\n",
       "<tr><td style=\"text-align: right;\">-1.14722 </td><td style=\"text-align: right;\">-1.46548  </td></tr>\n",
       "<tr><td style=\"text-align: right;\">-0.277726</td><td style=\"text-align: right;\"> 0.538022 </td></tr>\n",
       "<tr><td style=\"text-align: right;\">-2.08252 </td><td style=\"text-align: right;\"> 1.24636  </td></tr>\n",
       "<tr><td style=\"text-align: right;\">-0.598248</td><td style=\"text-align: right;\">-0.0459892</td></tr>\n",
       "<tr><td style=\"text-align: right;\">-0.29292 </td><td style=\"text-align: right;\">-1.1299   </td></tr>\n",
       "<tr><td style=\"text-align: right;\"> 0.917224</td><td style=\"text-align: right;\">-0.866446 </td></tr>\n",
       "<tr><td style=\"text-align: right;\"> 0.822758</td><td style=\"text-align: right;\"> 0.0786106</td></tr>\n",
       "<tr><td style=\"text-align: right;\"> 0.343959</td><td style=\"text-align: right;\"> 0.0607684</td></tr>\n",
       "<tr><td style=\"text-align: right;\">-0.95753 </td><td style=\"text-align: right;\"> 1.05184  </td></tr>\n",
       "</tbody>\n",
       "</table>"
      ]
     },
     "metadata": {},
     "output_type": "display_data"
    },
    {
     "data": {
      "text/plain": []
     },
     "execution_count": 44,
     "metadata": {},
     "output_type": "execute_result"
    }
   ],
   "source": [
    "#slice with ['A', 'B']\n",
    "h2o_df_all[['A', 'B']]"
   ]
  },
  {
   "cell_type": "markdown",
   "metadata": {},
   "source": [
    "**Summing rows and columns**"
   ]
  },
  {
   "cell_type": "code",
   "execution_count": 45,
   "metadata": {},
   "outputs": [
    {
     "data": {
      "text/plain": [
       "A   -2.485698\n",
       "B   -7.523869\n",
       "C    3.651193\n",
       "D    2.784742\n",
       "dtype: float64"
      ]
     },
     "execution_count": 45,
     "metadata": {},
     "output_type": "execute_result"
    }
   ],
   "source": [
    "df_all.sum(axis=0)"
   ]
  },
  {
   "cell_type": "code",
   "execution_count": 46,
   "metadata": {},
   "outputs": [
    {
     "data": {
      "text/plain": [
       "0   -3.603829\n",
       "1   -2.256185\n",
       "2    1.941814\n",
       "3    0.150557\n",
       "4    0.382218\n",
       "5   -1.677095\n",
       "6   -0.235032\n",
       "7    0.220363\n",
       "8    0.740653\n",
       "9    0.149065\n",
       "dtype: float64"
      ]
     },
     "execution_count": 46,
     "metadata": {},
     "output_type": "execute_result"
    }
   ],
   "source": [
    "df_all.sum(axis=1)[0:10]"
   ]
  },
  {
   "cell_type": "code",
   "execution_count": 47,
   "metadata": {},
   "outputs": [
    {
     "data": {
      "text/plain": [
       "A   -2.485698\n",
       "B   -7.523869\n",
       "C    3.651193\n",
       "D    2.784742\n",
       "dtype: float64"
      ]
     },
     "execution_count": 47,
     "metadata": {},
     "output_type": "execute_result"
    }
   ],
   "source": [
    "df_all.apply(sum, axis=0)"
   ]
  },
  {
   "cell_type": "markdown",
   "metadata": {},
   "source": [
    "With an anonymous function"
   ]
  },
  {
   "cell_type": "code",
   "execution_count": 48,
   "metadata": {},
   "outputs": [
    {
     "data": {
      "text/plain": [
       "A   -2.485698\n",
       "B   -7.523869\n",
       "C    3.651193\n",
       "D    2.784742\n",
       "dtype: float64"
      ]
     },
     "execution_count": 48,
     "metadata": {},
     "output_type": "execute_result"
    }
   ],
   "source": [
    "df_all.apply(lambda x: sum(x), axis=0)"
   ]
  },
  {
   "cell_type": "markdown",
   "metadata": {},
   "source": [
    "Now in h2o"
   ]
  },
  {
   "cell_type": "code",
   "execution_count": 49,
   "metadata": {},
   "outputs": [
    {
     "data": {
      "text/html": [
       "<table>\n",
       "<thead>\n",
       "<tr><th style=\"text-align: right;\">      A</th><th style=\"text-align: right;\">       B</th><th style=\"text-align: right;\">      C</th><th style=\"text-align: right;\">      D</th></tr>\n",
       "</thead>\n",
       "<tbody>\n",
       "<tr><td style=\"text-align: right;\">-2.4857</td><td style=\"text-align: right;\">-7.52387</td><td style=\"text-align: right;\">3.65119</td><td style=\"text-align: right;\">2.78474</td></tr>\n",
       "</tbody>\n",
       "</table>"
      ]
     },
     "metadata": {},
     "output_type": "display_data"
    },
    {
     "data": {
      "text/plain": []
     },
     "execution_count": 49,
     "metadata": {},
     "output_type": "execute_result"
    }
   ],
   "source": [
    "h2o_df_all.apply(lambda thing: thing.sum(), axis=0)"
   ]
  },
  {
   "cell_type": "code",
   "execution_count": 50,
   "metadata": {},
   "outputs": [
    {
     "data": {
      "text/html": [
       "<table>\n",
       "<thead>\n",
       "<tr><th style=\"text-align: right;\">        A</th><th style=\"text-align: right;\">         B</th><th style=\"text-align: right;\">        C</th><th style=\"text-align: right;\">        D</th></tr>\n",
       "</thead>\n",
       "<tbody>\n",
       "<tr><td style=\"text-align: right;\">-0.024857</td><td style=\"text-align: right;\">-0.0752387</td><td style=\"text-align: right;\">0.0365119</td><td style=\"text-align: right;\">0.0278474</td></tr>\n",
       "</tbody>\n",
       "</table>"
      ]
     },
     "metadata": {},
     "output_type": "display_data"
    },
    {
     "data": {
      "text/plain": []
     },
     "execution_count": 50,
     "metadata": {},
     "output_type": "execute_result"
    }
   ],
   "source": [
    "h2o_df_all.apply(lambda thing: thing.mean(), axis=0)"
   ]
  },
  {
   "cell_type": "code",
   "execution_count": 51,
   "metadata": {},
   "outputs": [
    {
     "data": {
      "text/html": [
       "<table>\n",
       "<thead>\n",
       "<tr><th style=\"text-align: right;\">        C1</th></tr>\n",
       "</thead>\n",
       "<tbody>\n",
       "<tr><td style=\"text-align: right;\">-0.900957 </td></tr>\n",
       "<tr><td style=\"text-align: right;\">-0.564046 </td></tr>\n",
       "<tr><td style=\"text-align: right;\"> 0.485454 </td></tr>\n",
       "<tr><td style=\"text-align: right;\"> 0.0376393</td></tr>\n",
       "<tr><td style=\"text-align: right;\"> 0.0955546</td></tr>\n",
       "<tr><td style=\"text-align: right;\">-0.419274 </td></tr>\n",
       "<tr><td style=\"text-align: right;\">-0.0587581</td></tr>\n",
       "<tr><td style=\"text-align: right;\"> 0.0550908</td></tr>\n",
       "<tr><td style=\"text-align: right;\"> 0.185163 </td></tr>\n",
       "<tr><td style=\"text-align: right;\"> 0.0372663</td></tr>\n",
       "</tbody>\n",
       "</table>"
      ]
     },
     "metadata": {},
     "output_type": "display_data"
    },
    {
     "data": {
      "text/plain": []
     },
     "execution_count": 51,
     "metadata": {},
     "output_type": "execute_result"
    }
   ],
   "source": [
    "h2o_df_all.apply(lambda thing: thing.mean(), axis=1)"
   ]
  },
  {
   "cell_type": "markdown",
   "metadata": {},
   "source": [
    "**Missings**"
   ]
  },
  {
   "cell_type": "code",
   "execution_count": 52,
   "metadata": {},
   "outputs": [],
   "source": [
    "dct_missings = {'A': [1, 2, 3, np.nan],\n",
    "                'B': [1, 2, 3, None],\n",
    "                'C': ['a', 'b', 'c', 'NA'],\n",
    "                'D': ['this', 'is', 'string', None]}\n"
   ]
  },
  {
   "cell_type": "code",
   "execution_count": 53,
   "metadata": {},
   "outputs": [
    {
     "data": {
      "text/html": [
       "<div>\n",
       "<style scoped>\n",
       "    .dataframe tbody tr th:only-of-type {\n",
       "        vertical-align: middle;\n",
       "    }\n",
       "\n",
       "    .dataframe tbody tr th {\n",
       "        vertical-align: top;\n",
       "    }\n",
       "\n",
       "    .dataframe thead th {\n",
       "        text-align: right;\n",
       "    }\n",
       "</style>\n",
       "<table border=\"1\" class=\"dataframe\">\n",
       "  <thead>\n",
       "    <tr style=\"text-align: right;\">\n",
       "      <th></th>\n",
       "      <th>A</th>\n",
       "      <th>B</th>\n",
       "      <th>C</th>\n",
       "      <th>D</th>\n",
       "    </tr>\n",
       "  </thead>\n",
       "  <tbody>\n",
       "    <tr>\n",
       "      <th>0</th>\n",
       "      <td>1.0</td>\n",
       "      <td>1.0</td>\n",
       "      <td>a</td>\n",
       "      <td>this</td>\n",
       "    </tr>\n",
       "    <tr>\n",
       "      <th>1</th>\n",
       "      <td>2.0</td>\n",
       "      <td>2.0</td>\n",
       "      <td>b</td>\n",
       "      <td>is</td>\n",
       "    </tr>\n",
       "    <tr>\n",
       "      <th>2</th>\n",
       "      <td>3.0</td>\n",
       "      <td>3.0</td>\n",
       "      <td>c</td>\n",
       "      <td>string</td>\n",
       "    </tr>\n",
       "    <tr>\n",
       "      <th>3</th>\n",
       "      <td>NaN</td>\n",
       "      <td>NaN</td>\n",
       "      <td>NA</td>\n",
       "      <td>None</td>\n",
       "    </tr>\n",
       "  </tbody>\n",
       "</table>\n",
       "</div>"
      ],
      "text/plain": [
       "     A    B   C       D\n",
       "0  1.0  1.0   a    this\n",
       "1  2.0  2.0   b      is\n",
       "2  3.0  3.0   c  string\n",
       "3  NaN  NaN  NA    None"
      ]
     },
     "execution_count": 53,
     "metadata": {},
     "output_type": "execute_result"
    }
   ],
   "source": [
    "df_missings = pd.DataFrame(dct_missings)\n",
    "df_missings"
   ]
  },
  {
   "cell_type": "code",
   "execution_count": 54,
   "metadata": {},
   "outputs": [
    {
     "data": {
      "text/plain": [
       "'NA'"
      ]
     },
     "execution_count": 54,
     "metadata": {},
     "output_type": "execute_result"
    }
   ],
   "source": [
    "df_missings.loc[3, 'C']"
   ]
  },
  {
   "cell_type": "code",
   "execution_count": 55,
   "metadata": {},
   "outputs": [
    {
     "data": {
      "text/plain": [
       "True"
      ]
     },
     "execution_count": 55,
     "metadata": {},
     "output_type": "execute_result"
    }
   ],
   "source": [
    "df_missings.loc[3, 'C'] == 'NA'"
   ]
  },
  {
   "cell_type": "code",
   "execution_count": 56,
   "metadata": {},
   "outputs": [
    {
     "data": {
      "text/plain": [
       "A    float64\n",
       "B    float64\n",
       "C     object\n",
       "D     object\n",
       "dtype: object"
      ]
     },
     "execution_count": 56,
     "metadata": {},
     "output_type": "execute_result"
    }
   ],
   "source": [
    "df_missings.dtypes"
   ]
  },
  {
   "cell_type": "code",
   "execution_count": 57,
   "metadata": {},
   "outputs": [
    {
     "name": "stdout",
     "output_type": "stream",
     "text": [
      "Parse progress: |█████████████████████████████████████████████████████████| 100%\n"
     ]
    },
    {
     "data": {
      "text/html": [
       "<table>\n",
       "<thead>\n",
       "<tr><th style=\"text-align: right;\">  A</th><th style=\"text-align: right;\">  B</th><th>C  </th><th>D     </th></tr>\n",
       "</thead>\n",
       "<tbody>\n",
       "<tr><td style=\"text-align: right;\">  1</td><td style=\"text-align: right;\">  1</td><td>a  </td><td>this  </td></tr>\n",
       "<tr><td style=\"text-align: right;\">  2</td><td style=\"text-align: right;\">  2</td><td>b  </td><td>is    </td></tr>\n",
       "<tr><td style=\"text-align: right;\">  3</td><td style=\"text-align: right;\">  3</td><td>c  </td><td>string</td></tr>\n",
       "<tr><td style=\"text-align: right;\">nan</td><td style=\"text-align: right;\">nan</td><td>NA </td><td>      </td></tr>\n",
       "</tbody>\n",
       "</table>"
      ]
     },
     "metadata": {},
     "output_type": "display_data"
    },
    {
     "data": {
      "text/plain": []
     },
     "execution_count": 57,
     "metadata": {},
     "output_type": "execute_result"
    }
   ],
   "source": [
    "h2o_df_missings = h2o.H2OFrame.from_python(dct_missings,\n",
    "                                           column_types=['numeric', 'numeric', 'enum', 'string'], \n",
    "                                           destination_frame=\"df_missings\")\n",
    "                                \n",
    "h2o_df_missings"
   ]
  },
  {
   "cell_type": "code",
   "execution_count": 58,
   "metadata": {},
   "outputs": [
    {
     "data": {
      "text/plain": [
       "True"
      ]
     },
     "execution_count": 58,
     "metadata": {},
     "output_type": "execute_result"
    }
   ],
   "source": [
    "h2o_df_missings[3, 2] == 'NA'"
   ]
  },
  {
   "cell_type": "markdown",
   "metadata": {},
   "source": [
    "Note that the None value in the string column gets stored as an empty string i.e. ''"
   ]
  },
  {
   "cell_type": "code",
   "execution_count": 59,
   "metadata": {},
   "outputs": [
    {
     "data": {
      "text/plain": [
       "''"
      ]
     },
     "execution_count": 59,
     "metadata": {},
     "output_type": "execute_result"
    }
   ],
   "source": [
    "h2o_df_missings[3, 3]"
   ]
  },
  {
   "cell_type": "code",
   "execution_count": 60,
   "metadata": {},
   "outputs": [
    {
     "data": {
      "text/plain": [
       "True"
      ]
     },
     "execution_count": 60,
     "metadata": {},
     "output_type": "execute_result"
    }
   ],
   "source": [
    "h2o_df_missings[3, 3] == ''"
   ]
  },
  {
   "cell_type": "markdown",
   "metadata": {},
   "source": [
    "isna() will find missing numbers.  But \n",
    " - 'NA' is not missing - it is a string with the letters N and A in it...\n",
    " - The empty string we created with None does not show up with isna()"
   ]
  },
  {
   "cell_type": "code",
   "execution_count": 61,
   "metadata": {},
   "outputs": [
    {
     "data": {
      "text/html": [
       "<table>\n",
       "<thead>\n",
       "<tr><th style=\"text-align: right;\">  isNA(A)</th><th style=\"text-align: right;\">  isNA(B)</th><th style=\"text-align: right;\">  isNA(C)</th><th style=\"text-align: right;\">  isNA(D)</th></tr>\n",
       "</thead>\n",
       "<tbody>\n",
       "<tr><td style=\"text-align: right;\">        0</td><td style=\"text-align: right;\">        0</td><td style=\"text-align: right;\">        0</td><td style=\"text-align: right;\">        0</td></tr>\n",
       "<tr><td style=\"text-align: right;\">        0</td><td style=\"text-align: right;\">        0</td><td style=\"text-align: right;\">        0</td><td style=\"text-align: right;\">        0</td></tr>\n",
       "<tr><td style=\"text-align: right;\">        0</td><td style=\"text-align: right;\">        0</td><td style=\"text-align: right;\">        0</td><td style=\"text-align: right;\">        0</td></tr>\n",
       "<tr><td style=\"text-align: right;\">        1</td><td style=\"text-align: right;\">        1</td><td style=\"text-align: right;\">        0</td><td style=\"text-align: right;\">        0</td></tr>\n",
       "</tbody>\n",
       "</table>"
      ]
     },
     "metadata": {},
     "output_type": "display_data"
    },
    {
     "data": {
      "text/plain": []
     },
     "execution_count": 61,
     "metadata": {},
     "output_type": "execute_result"
    }
   ],
   "source": [
    "h2o_df_missings.isna()"
   ]
  },
  {
   "cell_type": "markdown",
   "metadata": {},
   "source": [
    "It seems that when we take oparations on columns, the default is to exclude missings...."
   ]
  },
  {
   "cell_type": "code",
   "execution_count": 62,
   "metadata": {},
   "outputs": [
    {
     "data": {
      "text/plain": [
       "[2.0]"
      ]
     },
     "execution_count": 62,
     "metadata": {},
     "output_type": "execute_result"
    }
   ],
   "source": [
    "h2o_df_missings['A'].mean()"
   ]
  },
  {
   "cell_type": "code",
   "execution_count": 63,
   "metadata": {},
   "outputs": [
    {
     "data": {
      "text/plain": [
       "[2.0]"
      ]
     },
     "execution_count": 63,
     "metadata": {},
     "output_type": "execute_result"
    }
   ],
   "source": [
    "# which is the same as ...\n",
    "h2o_df_missings['A'].mean(na_rm=True)"
   ]
  },
  {
   "cell_type": "code",
   "execution_count": 64,
   "metadata": {},
   "outputs": [
    {
     "data": {
      "text/plain": [
       "[nan]"
      ]
     },
     "execution_count": 64,
     "metadata": {},
     "output_type": "execute_result"
    }
   ],
   "source": [
    "# but...\n",
    "h2o_df_missings['A'].mean(na_rm=False)"
   ]
  },
  {
   "cell_type": "markdown",
   "metadata": {},
   "source": [
    "Other h2o dataframe methods:\n",
    "- .hist\n",
    "- .countmatches\n",
    "- .sub / .gsub\n",
    "- .strsplit\n",
    "- .rbind and .cbind\n",
    "- .merge\n",
    "- .group_by"
   ]
  },
  {
   "cell_type": "markdown",
   "metadata": {},
   "source": [
    "h2o dataframe can also deal with date and time data"
   ]
  },
  {
   "cell_type": "markdown",
   "metadata": {},
   "source": [
    "**Categorical data**\n",
    "\n",
    " - Known as \"enum\" data type \n",
    " - This is the same as a \"factor\" in R\n",
    " - It seems that if we do not explicitly stored a column as a string, it will store it as \"enum\""
   ]
  },
  {
   "cell_type": "code",
   "execution_count": 65,
   "metadata": {},
   "outputs": [
    {
     "name": "stdout",
     "output_type": "stream",
     "text": [
      "Parse progress: |█████████████████████████████████████████████████████████| 100%\n"
     ]
    }
   ],
   "source": [
    "df_enum = h2o.H2OFrame({\n",
    "    'A': ['foo', 'bar', 'foo', 'bar', 'foo', 'bar', 'foo', 'bar'],\n",
    "    'B': ['one', 'one', 'two', 'three', 'two', 'two', 'one', 'three']})"
   ]
  },
  {
   "cell_type": "code",
   "execution_count": 66,
   "metadata": {},
   "outputs": [
    {
     "data": {
      "text/html": [
       "<table>\n",
       "<thead>\n",
       "<tr><th>A  </th><th>B    </th></tr>\n",
       "</thead>\n",
       "<tbody>\n",
       "<tr><td>foo</td><td>one  </td></tr>\n",
       "<tr><td>bar</td><td>one  </td></tr>\n",
       "<tr><td>foo</td><td>two  </td></tr>\n",
       "<tr><td>bar</td><td>three</td></tr>\n",
       "<tr><td>foo</td><td>two  </td></tr>\n",
       "<tr><td>bar</td><td>two  </td></tr>\n",
       "<tr><td>foo</td><td>one  </td></tr>\n",
       "<tr><td>bar</td><td>three</td></tr>\n",
       "</tbody>\n",
       "</table>"
      ]
     },
     "metadata": {},
     "output_type": "display_data"
    },
    {
     "data": {
      "text/plain": []
     },
     "execution_count": 66,
     "metadata": {},
     "output_type": "execute_result"
    }
   ],
   "source": [
    "df_enum"
   ]
  },
  {
   "cell_type": "code",
   "execution_count": 67,
   "metadata": {},
   "outputs": [
    {
     "data": {
      "text/plain": [
       "{'A': 'enum', 'B': 'enum'}"
      ]
     },
     "execution_count": 67,
     "metadata": {},
     "output_type": "execute_result"
    }
   ],
   "source": [
    "df_enum.types"
   ]
  },
  {
   "cell_type": "markdown",
   "metadata": {},
   "source": [
    "Just as in R, we can get the levels of our factors..."
   ]
  },
  {
   "cell_type": "code",
   "execution_count": 68,
   "metadata": {},
   "outputs": [
    {
     "data": {
      "text/plain": [
       "[['bar', 'foo']]"
      ]
     },
     "execution_count": 68,
     "metadata": {},
     "output_type": "execute_result"
    }
   ],
   "source": [
    "df_enum['A'].levels()"
   ]
  },
  {
   "cell_type": "code",
   "execution_count": 69,
   "metadata": {},
   "outputs": [
    {
     "data": {
      "text/plain": [
       "[['one', 'three', 'two']]"
      ]
     },
     "execution_count": 69,
     "metadata": {},
     "output_type": "execute_result"
    }
   ],
   "source": [
    "df_enum['B'].levels()"
   ]
  },
  {
   "cell_type": "markdown",
   "metadata": {},
   "source": [
    "Creating interactions\n",
    "\n",
    "We will talk later about interactions in our models, but note the following ...."
   ]
  },
  {
   "cell_type": "code",
   "execution_count": 70,
   "metadata": {},
   "outputs": [
    {
     "name": "stdout",
     "output_type": "stream",
     "text": [
      "Interactions progress: |██████████████████████████████████████████████████| 100%\n"
     ]
    },
    {
     "data": {
      "text/html": [
       "<table>\n",
       "<thead>\n",
       "<tr><th>A_B      </th></tr>\n",
       "</thead>\n",
       "<tbody>\n",
       "<tr><td>foo_one  </td></tr>\n",
       "<tr><td>bar_one  </td></tr>\n",
       "<tr><td>foo_two  </td></tr>\n",
       "<tr><td>bar_three</td></tr>\n",
       "<tr><td>foo_two  </td></tr>\n",
       "<tr><td>bar_two  </td></tr>\n",
       "<tr><td>foo_one  </td></tr>\n",
       "<tr><td>bar_three</td></tr>\n",
       "</tbody>\n",
       "</table>"
      ]
     },
     "metadata": {},
     "output_type": "display_data"
    },
    {
     "data": {
      "text/plain": []
     },
     "execution_count": 70,
     "metadata": {},
     "output_type": "execute_result"
    }
   ],
   "source": [
    "df_enum.interaction(['A', 'B'], pairwise=False, max_factors=100, min_occurrence=1)"
   ]
  },
  {
   "cell_type": "code",
   "execution_count": 71,
   "metadata": {},
   "outputs": [
    {
     "name": "stdout",
     "output_type": "stream",
     "text": [
      "Interactions progress: |██████████████████████████████████████████████████| 100%\n"
     ]
    },
    {
     "data": {
      "text/html": [
       "<table>\n",
       "<thead>\n",
       "<tr><th>A_B      </th></tr>\n",
       "</thead>\n",
       "<tbody>\n",
       "<tr><td>foo_one  </td></tr>\n",
       "<tr><td>other    </td></tr>\n",
       "<tr><td>foo_two  </td></tr>\n",
       "<tr><td>bar_three</td></tr>\n",
       "<tr><td>foo_two  </td></tr>\n",
       "<tr><td>other    </td></tr>\n",
       "<tr><td>foo_one  </td></tr>\n",
       "<tr><td>bar_three</td></tr>\n",
       "</tbody>\n",
       "</table>"
      ]
     },
     "metadata": {},
     "output_type": "display_data"
    },
    {
     "data": {
      "text/plain": []
     },
     "execution_count": 71,
     "metadata": {},
     "output_type": "execute_result"
    }
   ],
   "source": [
    "df_enum.interaction(['A', 'B'], pairwise=False, max_factors=100, min_occurrence=2)"
   ]
  },
  {
   "cell_type": "markdown",
   "metadata": {},
   "source": [
    "- df_all.any_factor\n",
    "- is.factor() and as.factor()\n",
    "- df_all[colname].levels()\n",
    "- df_all.interaction(['col1','col2'], args)"
   ]
  },
  {
   "cell_type": "code",
   "execution_count": 73,
   "metadata": {},
   "outputs": [
    {
     "name": "stdout",
     "output_type": "stream",
     "text": [
      "H2O session _sid_8ddd closed.\n"
     ]
    }
   ],
   "source": [
    "h2o.cluster().shutdown()"
   ]
  },
  {
   "cell_type": "code",
   "execution_count": 72,
   "metadata": {},
   "outputs": [
    {
     "data": {
      "text/html": [
       "<table>\n",
       "<thead>\n",
       "<tr><th>A  </th><th>B    </th></tr>\n",
       "</thead>\n",
       "<tbody>\n",
       "<tr><td>foo</td><td>one  </td></tr>\n",
       "<tr><td>bar</td><td>one  </td></tr>\n",
       "<tr><td>foo</td><td>two  </td></tr>\n",
       "<tr><td>bar</td><td>three</td></tr>\n",
       "<tr><td>foo</td><td>two  </td></tr>\n",
       "<tr><td>bar</td><td>two  </td></tr>\n",
       "<tr><td>foo</td><td>one  </td></tr>\n",
       "<tr><td>bar</td><td>three</td></tr>\n",
       "</tbody>\n",
       "</table>"
      ]
     },
     "metadata": {},
     "output_type": "display_data"
    },
    {
     "data": {
      "text/plain": []
     },
     "execution_count": 72,
     "metadata": {},
     "output_type": "execute_result"
    }
   ],
   "source": [
    "# df_enum"
   ]
  },
  {
   "cell_type": "code",
   "execution_count": null,
   "metadata": {},
   "outputs": [],
   "source": []
  }
 ],
 "metadata": {
  "kernelspec": {
   "display_name": "Python 3",
   "language": "python",
   "name": "python3"
  }
 },
 "nbformat": 4,
 "nbformat_minor": 2
}
