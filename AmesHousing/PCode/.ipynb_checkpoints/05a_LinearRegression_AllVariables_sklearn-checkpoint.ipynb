{
 "cells": [
  {
   "cell_type": "markdown",
   "metadata": {},
   "source": [
    "# Linear Regression: All variables (sklearn)"
   ]
  },
  {
   "cell_type": "markdown",
   "metadata": {},
   "source": [
    "Contents\n",
    " - load data\n",
    " - multiple regression (with sklearn)\n",
    "   - choose independent variables\n",
    "   - fit model\n",
    "   - prepare model matrix and scale X\n",
    "   - predictions\n",
    "   - performance\n",
    "   - coefficients\n",
    "\n",
    "Sources:\n",
    "http://ww2.amstat.org/publications/jse/v19n3/decock.pdf\n",
    "\n",
    "Copyright (C) 2018 Alan Chalk  \n",
    "Please do not distribute or publish without permission."
   ]
  },
  {
   "cell_type": "markdown",
   "metadata": {},
   "source": [
    "## Start_."
   ]
  },
  {
   "cell_type": "markdown",
   "metadata": {
    "scrolled": true
   },
   "source": [
    "**Packages needed**"
   ]
  },
  {
   "cell_type": "code",
   "execution_count": 1,
   "metadata": {},
   "outputs": [],
   "source": [
    "import os\n",
    "import numpy as np\n",
    "import pandas as pd\n",
    "import pickle\n",
    "\n",
    "from sklearn.preprocessing import StandardScaler\n",
    "\n",
    "import matplotlib.pyplot as plt\n",
    "%matplotlib inline"
   ]
  },
  {
   "cell_type": "markdown",
   "metadata": {},
   "source": [
    "**Functions**"
   ]
  },
  {
   "cell_type": "code",
   "execution_count": 2,
   "metadata": {},
   "outputs": [],
   "source": [
    "def fn_MAE(actuals, predictions):\n",
    "    return np.round(np.mean(np.abs(predictions - actuals)))"
   ]
  },
  {
   "cell_type": "markdown",
   "metadata": {},
   "source": [
    "**Directories and paths**"
   ]
  },
  {
   "cell_type": "code",
   "execution_count": 3,
   "metadata": {},
   "outputs": [
    {
     "name": "stdout",
     "output_type": "stream",
     "text": [
      "/home/jovyan/Projects/AmesHousing/PCode\n"
     ]
    }
   ],
   "source": [
    "# Set directories\n",
    "print(os.getcwd())\n",
    "dirRawData = \"../input/\"\n",
    "dirPData   = \"../PData/\""
   ]
  },
  {
   "cell_type": "markdown",
   "metadata": {},
   "source": [
    "**Settings**"
   ]
  },
  {
   "cell_type": "code",
   "execution_count": 4,
   "metadata": {},
   "outputs": [],
   "source": [
    "font = {'size'   : 22}\n",
    "plt.rc('font', **font)"
   ]
  },
  {
   "cell_type": "markdown",
   "metadata": {},
   "source": [
    "**Load data**"
   ]
  },
  {
   "cell_type": "code",
   "execution_count": 31,
   "metadata": {},
   "outputs": [],
   "source": [
    "# load df_all\n",
    "#df_all = pd.read_hdf(dirPData + '02_df_all.h5', 'df_all_onehot')\n",
    "\n",
    "f_name = dirPData + '02_df.pickle'\n",
    "with open(f_name, \"rb\") as f:\n",
    "    dict_ = pickle.load(f)\n",
    "    \n",
    "df_all_onehot = dict_['df_all_onehot']\n",
    "\n",
    "del f_name, dict_\n",
    "\n",
    "# load the dict_ that was saved to pickle\n",
    "#dict_ = {'vars_ind': vars_ind, 'idx_design': idx_design, 'idx_test': idx_test}\n",
    "f_name = dirPData + '02_vars.pickle'\n",
    "with open(f_name, \"rb\") as f:\n",
    "    dict_ = pickle.load(f)\n",
    "    \n",
    "vars_ind_numeric = dict_['vars_ind_numeric']\n",
    "var_dep = dict_['var_dep']\n",
    "vars_ind_categorical = dict_['vars_ind_categorical']\n",
    "vars_ind_onehot = dict_['vars_ind_onehot']\n",
    "\n",
    "del f_name, dict_"
   ]
  },
  {
   "cell_type": "code",
   "execution_count": 32,
   "metadata": {},
   "outputs": [],
   "source": [
    "idx_train  = np.where(df_all_onehot['fold'].isin(np.arange(0,6)))[0]\n",
    "idx_val    = np.where(df_all_onehot['fold'].isin([6,7]))[0]\n",
    "idx_design = np.where(df_all_onehot['fold'].isin(np.arange(0,8)))[0]\n",
    "idx_test   = np.where(df_all_onehot['fold'].isin([8,9]))[0]"
   ]
  },
  {
   "cell_type": "markdown",
   "metadata": {},
   "source": [
    "## Multiple regression with sklearn"
   ]
  },
  {
   "cell_type": "markdown",
   "metadata": {},
   "source": [
    "**Choose indenpendent variables**"
   ]
  },
  {
   "cell_type": "markdown",
   "metadata": {},
   "source": [
    "TODO\n",
    " - Create a list: vars_ind\n",
    " - vars_ind should contain all features from vars_ind_numeric and vars_ind_onehot\n",
    " - Note: In Python you can concatenate two lists with the + operator\n",
    " - Check - the length of vars_ind shoud be 216"
   ]
  },
  {
   "cell_type": "code",
   "execution_count": 33,
   "metadata": {},
   "outputs": [],
   "source": [
    "vars_ind = vars_ind_numeric + vars_ind_onehot"
   ]
  },
  {
   "cell_type": "code",
   "execution_count": 34,
   "metadata": {},
   "outputs": [
    {
     "data": {
      "text/plain": [
       "216"
      ]
     },
     "execution_count": 34,
     "metadata": {},
     "output_type": "execute_result"
    }
   ],
   "source": [
    "len(vars_ind)"
   ]
  },
  {
   "cell_type": "markdown",
   "metadata": {},
   "source": [
    "**Prepare model matrix and scale data**"
   ]
  },
  {
   "cell_type": "markdown",
   "metadata": {},
   "source": [
    "TODO\n",
    " - prepare X and y the model matrix and target variable (e.g. df_all_onehot[vars_ind].values)\n",
    " - create a standard scaler and fit it over training data only\n",
    " - transform separately the train and val and test data to create X_train, X_val and X_test"
   ]
  },
  {
   "cell_type": "code",
   "execution_count": 35,
   "metadata": {},
   "outputs": [],
   "source": [
    "X = df_all_onehot[vars_ind].values\n",
    "y = df_all_onehot[var_dep].values"
   ]
  },
  {
   "cell_type": "code",
   "execution_count": 36,
   "metadata": {},
   "outputs": [],
   "source": [
    "# df_all_onehot.iloc[idx_train]\n",
    "# X[idx_train] #train data\n",
    "# X.shape"
   ]
  },
  {
   "cell_type": "code",
   "execution_count": 37,
   "metadata": {},
   "outputs": [],
   "source": [
    "standardScaler_ = StandardScaler()\n",
    "standardScaler_.fit(X[idx_train])\n",
    "\n",
    "X_train = standardScaler_.transform(X[idx_train])\n",
    "X_val   = standardScaler_.transform(X[idx_val])\n",
    "X_test  = standardScaler_.transform(X[idx_test])"
   ]
  },
  {
   "cell_type": "markdown",
   "metadata": {},
   "source": [
    "**Fit model**"
   ]
  },
  {
   "cell_type": "markdown",
   "metadata": {},
   "source": [
    "** TODO **\n",
    "\n",
    " - import LinearRegression from sklearn.linear_model\n",
    " - create an instance called lm_\n",
    " - fit the model to X=X_train, y = y[idx_train]"
   ]
  },
  {
   "cell_type": "code",
   "execution_count": 38,
   "metadata": {},
   "outputs": [],
   "source": [
    "from sklearn.linear_model import LinearRegression"
   ]
  },
  {
   "cell_type": "code",
   "execution_count": 39,
   "metadata": {},
   "outputs": [],
   "source": [
    "lm_ = LinearRegression()"
   ]
  },
  {
   "cell_type": "code",
   "execution_count": 40,
   "metadata": {},
   "outputs": [
    {
     "data": {
      "text/plain": [
       "LinearRegression(copy_X=True, fit_intercept=True, n_jobs=1, normalize=False)"
      ]
     },
     "execution_count": 40,
     "metadata": {},
     "output_type": "execute_result"
    }
   ],
   "source": [
    "lm_.fit(X_train, y[idx_train])"
   ]
  },
  {
   "cell_type": "markdown",
   "metadata": {},
   "source": [
    "**Predictions**"
   ]
  },
  {
   "cell_type": "markdown",
   "metadata": {},
   "source": [
    "TODO \n",
    "\n",
    " - Create lm__pred_train, lm__pred_val and lm__pred_test being predictions over train, val and test data\n",
    " - Based on train data only, calculate the mean predicted sale price and compare it to mean actual sale price"
   ]
  },
  {
   "cell_type": "code",
   "execution_count": 41,
   "metadata": {},
   "outputs": [],
   "source": [
    "# prediction \n",
    "lm__pred_train = lm_.predict(X_train)\n",
    "lm__pred_val   = lm_.predict(X_val)\n",
    "lm__pred_test  = lm_.predict(X_test)"
   ]
  },
  {
   "cell_type": "code",
   "execution_count": 42,
   "metadata": {},
   "outputs": [
    {
     "name": "stdout",
     "output_type": "stream",
     "text": [
      "mean predicted sale price 180885.7459303006\n",
      "mean actual sale price 180885.95128044972\n"
     ]
    }
   ],
   "source": [
    "mean_predicted = np.mean(lm__pred_train)\n",
    "mean_actual = np.mean(y[idx_train])\n",
    "print('mean predicted sale price', mean_predicted)\n",
    "print('mean actual sale price', mean_actual)"
   ]
  },
  {
   "cell_type": "code",
   "execution_count": 43,
   "metadata": {},
   "outputs": [
    {
     "name": "stdout",
     "output_type": "stream",
     "text": [
      "prediction on first example [175726.] \n",
      "\n",
      "manual prediction [175727.]\n"
     ]
    }
   ],
   "source": [
    "# Note: This code does not give correct predictions.\n",
    "# I do not know why. Possibly rounding errors due to the huge coefficients - see later\n",
    "print('prediction on first example', np.round(lm__pred_train[0], 0), '\\n')\n",
    "\n",
    "#print('intercept', lm_.intercept_, '\\n')\n",
    "#print('coefficients', lm_.coef_, '\\n')\n",
    "\n",
    "print('manual prediction', np.round(lm_.intercept_ + lm_.coef_.dot(X_train[0]), 0))"
   ]
  },
  {
   "cell_type": "markdown",
   "metadata": {},
   "source": [
    "**Performance**"
   ]
  },
  {
   "cell_type": "markdown",
   "metadata": {},
   "source": [
    "TODO \n",
    "\n",
    " - Find performance on train, val and test\n",
    " - Comment on similarities and differences"
   ]
  },
  {
   "cell_type": "code",
   "execution_count": 45,
   "metadata": {},
   "outputs": [
    {
     "name": "stdout",
     "output_type": "stream",
     "text": [
      "train error 13500.0\n",
      "\n",
      "\n",
      "validation naive (null) model 55868.0\n",
      "validation error 15679.0\n",
      "\n",
      "\n",
      "test naive (null) model 52392.0\n",
      "test error 15604.0\n"
     ]
    }
   ],
   "source": [
    "# mean absolute error in predictions\n",
    "\n",
    "train_error = fn_MAE(y[idx_train], lm__pred_train) \n",
    "validation_error = fn_MAE(y[idx_val], lm__pred_val)\n",
    "test_error = fn_MAE(y[idx_test], lm__pred_test)\n",
    "\n",
    "# on train data\n",
    "print('train error', train_error)\n",
    "print('\\n')\n",
    "\n",
    "# on validation data\n",
    "print('validation naive (null) model', fn_MAE(np.median(y[idx_val]),  y[idx_val]))\n",
    "print('validation error', validation_error)\n",
    "print('\\n')\n",
    "\n",
    "# test data, null model\n",
    "print('test naive (null) model', fn_MAE(np.median(y[idx_test]), y[idx_test]))\n",
    "print('test error', test_error)"
   ]
  },
  {
   "cell_type": "code",
   "execution_count": 47,
   "metadata": {},
   "outputs": [
    {
     "data": {
      "text/plain": [
       "Text(0, 0.5, 'actual')"
      ]
     },
     "execution_count": 47,
     "metadata": {},
     "output_type": "execute_result"
    },
    {
     "data": {
      "image/png": "[encoded data removed]",
      "text/plain": [
       "<Figure size 1152x432 with 3 Axes>"
      ]
     },
     "metadata": {},
     "output_type": "display_data"
    }
   ],
   "source": [
    "# fig, axes = plt.subplots(1, 2, figsize=[16,6], sharex=True, sharey=True)\n",
    "# axes[0].scatter(lm__pred_train, y[idx_train], s = 1, alpha = 0.3)\n",
    "# axes[0].set_title('Training data')\n",
    "# axes[0].axes.xaxis.set_ticklabels([])\n",
    "# axes[0].axes.yaxis.set_ticklabels([])\n",
    "# axes[0].set_xlabel('predicted')\n",
    "# axes[0].set_ylabel('actual')\n",
    "\n",
    "# axes[1].scatter(lm__pred_val, y[idx_val], s = 1)\n",
    "# axes[1].set_title('Validation data')\n",
    "# axes[1].set_xlabel('predicted')\n",
    "# axes[1].set_ylabel('actual')\n",
    "\n",
    "###CHANGED PROF's CODE TO ALSO INCLUDE TEST DATA\n",
    "\n",
    "fig, axes = plt.subplots(1, 3, figsize=[16,6], sharex=True, sharey=True)\n",
    "axes[0].scatter(lm__pred_train, y[idx_train], s = 1, alpha = 0.3)\n",
    "axes[0].set_title('Training data')\n",
    "axes[0].axes.xaxis.set_ticklabels([])\n",
    "axes[0].axes.yaxis.set_ticklabels([])\n",
    "axes[0].set_xlabel('predicted')\n",
    "axes[0].set_ylabel('actual')\n",
    "\n",
    "axes[1].scatter(lm__pred_val, y[idx_val], s = 1)\n",
    "axes[1].set_title('Validation data')\n",
    "axes[1].set_xlabel('predicted')\n",
    "axes[1].set_ylabel('actual')\n",
    "\n",
    "axes[2].scatter(lm__pred_test, y[idx_test], s = 1)\n",
    "axes[2].set_title('Test data')\n",
    "axes[2].set_xlabel('predicted')\n",
    "axes[2].set_ylabel('actual')\n",
    "\n"
   ]
  },
  {
   "cell_type": "markdown",
   "metadata": {},
   "source": [
    "**Coefficients**"
   ]
  },
  {
   "cell_type": "markdown",
   "metadata": {},
   "source": [
    "TODO\n",
    "\n",
    "- Using the code below, look at the coefficients\n",
    "- Can you explain the coefficients for bsmt_unf_sf and total_bsmt_sf"
   ]
  },
  {
   "cell_type": "code",
   "execution_count": 48,
   "metadata": {},
   "outputs": [],
   "source": [
    "coef_skl_intercept = list(lm_.intercept_)\n",
    "coef_skl_other = list(lm_.coef_.flatten())\n",
    "coef_skl = coef_skl_intercept + coef_skl_other"
   ]
  },
  {
   "cell_type": "code",
   "execution_count": 49,
   "metadata": {},
   "outputs": [
    {
     "data": {
      "text/html": [
       "<div>\n",
       "<style scoped>\n",
       "    .dataframe tbody tr th:only-of-type {\n",
       "        vertical-align: middle;\n",
       "    }\n",
       "\n",
       "    .dataframe tbody tr th {\n",
       "        vertical-align: top;\n",
       "    }\n",
       "\n",
       "    .dataframe thead th {\n",
       "        text-align: right;\n",
       "    }\n",
       "</style>\n",
       "<table border=\"1\" class=\"dataframe\">\n",
       "  <thead>\n",
       "    <tr style=\"text-align: right;\">\n",
       "      <th></th>\n",
       "      <th>features</th>\n",
       "      <th>estimateCoefficients</th>\n",
       "    </tr>\n",
       "  </thead>\n",
       "  <tbody>\n",
       "    <tr>\n",
       "      <th>0</th>\n",
       "      <td>intercept</td>\n",
       "      <td>1.808860e+05</td>\n",
       "    </tr>\n",
       "    <tr>\n",
       "      <th>1</th>\n",
       "      <td>lot_area</td>\n",
       "      <td>4.397877e+03</td>\n",
       "    </tr>\n",
       "    <tr>\n",
       "      <th>2</th>\n",
       "      <td>overall_qual</td>\n",
       "      <td>1.051869e+04</td>\n",
       "    </tr>\n",
       "    <tr>\n",
       "      <th>3</th>\n",
       "      <td>overall_cond</td>\n",
       "      <td>7.274313e+03</td>\n",
       "    </tr>\n",
       "    <tr>\n",
       "      <th>4</th>\n",
       "      <td>year_built</td>\n",
       "      <td>1.164076e+04</td>\n",
       "    </tr>\n",
       "    <tr>\n",
       "      <th>5</th>\n",
       "      <td>year_remod_add</td>\n",
       "      <td>1.277611e+03</td>\n",
       "    </tr>\n",
       "    <tr>\n",
       "      <th>6</th>\n",
       "      <td>bsmtfin_sf_1</td>\n",
       "      <td>-7.493200e+14</td>\n",
       "    </tr>\n",
       "    <tr>\n",
       "      <th>7</th>\n",
       "      <td>bsmtfin_sf_2</td>\n",
       "      <td>-2.940820e+14</td>\n",
       "    </tr>\n",
       "    <tr>\n",
       "      <th>8</th>\n",
       "      <td>bsmt_unf_sf</td>\n",
       "      <td>-7.439204e+14</td>\n",
       "    </tr>\n",
       "    <tr>\n",
       "      <th>9</th>\n",
       "      <td>total_bsmt_sf</td>\n",
       "      <td>7.129919e+14</td>\n",
       "    </tr>\n",
       "    <tr>\n",
       "      <th>10</th>\n",
       "      <td>x1st_flr_sf</td>\n",
       "      <td>-1.264011e+15</td>\n",
       "    </tr>\n",
       "    <tr>\n",
       "      <th>11</th>\n",
       "      <td>x2nd_flr_sf</td>\n",
       "      <td>-1.446169e+15</td>\n",
       "    </tr>\n",
       "    <tr>\n",
       "      <th>12</th>\n",
       "      <td>low_qual_fin_sf</td>\n",
       "      <td>-1.628680e+14</td>\n",
       "    </tr>\n",
       "    <tr>\n",
       "      <th>13</th>\n",
       "      <td>gr_liv_area</td>\n",
       "      <td>1.635914e+15</td>\n",
       "    </tr>\n",
       "    <tr>\n",
       "      <th>14</th>\n",
       "      <td>bsmt_full_bath</td>\n",
       "      <td>1.456026e+03</td>\n",
       "    </tr>\n",
       "    <tr>\n",
       "      <th>15</th>\n",
       "      <td>bsmt_half_bath</td>\n",
       "      <td>-1.267003e+02</td>\n",
       "    </tr>\n",
       "    <tr>\n",
       "      <th>16</th>\n",
       "      <td>full_bath</td>\n",
       "      <td>2.295621e+03</td>\n",
       "    </tr>\n",
       "    <tr>\n",
       "      <th>17</th>\n",
       "      <td>half_bath</td>\n",
       "      <td>2.550549e+03</td>\n",
       "    </tr>\n",
       "    <tr>\n",
       "      <th>18</th>\n",
       "      <td>bedroom_abvgr</td>\n",
       "      <td>-3.727289e+03</td>\n",
       "    </tr>\n",
       "    <tr>\n",
       "      <th>19</th>\n",
       "      <td>kitchen_abvgr</td>\n",
       "      <td>-2.251014e+03</td>\n",
       "    </tr>\n",
       "    <tr>\n",
       "      <th>20</th>\n",
       "      <td>totrms_abvgrd</td>\n",
       "      <td>1.511551e+03</td>\n",
       "    </tr>\n",
       "    <tr>\n",
       "      <th>21</th>\n",
       "      <td>fireplaces</td>\n",
       "      <td>4.871732e+03</td>\n",
       "    </tr>\n",
       "    <tr>\n",
       "      <th>22</th>\n",
       "      <td>garage_cars</td>\n",
       "      <td>1.110732e+03</td>\n",
       "    </tr>\n",
       "    <tr>\n",
       "      <th>23</th>\n",
       "      <td>garage_area</td>\n",
       "      <td>5.250180e+03</td>\n",
       "    </tr>\n",
       "    <tr>\n",
       "      <th>24</th>\n",
       "      <td>wood_deck_sf</td>\n",
       "      <td>1.587024e+03</td>\n",
       "    </tr>\n",
       "    <tr>\n",
       "      <th>25</th>\n",
       "      <td>open_porch_sf</td>\n",
       "      <td>1.989297e+02</td>\n",
       "    </tr>\n",
       "    <tr>\n",
       "      <th>26</th>\n",
       "      <td>enclosed_porch</td>\n",
       "      <td>-2.326409e+02</td>\n",
       "    </tr>\n",
       "    <tr>\n",
       "      <th>27</th>\n",
       "      <td>x3ssn_porch</td>\n",
       "      <td>1.032289e+02</td>\n",
       "    </tr>\n",
       "    <tr>\n",
       "      <th>28</th>\n",
       "      <td>screen_porch</td>\n",
       "      <td>2.556468e+03</td>\n",
       "    </tr>\n",
       "    <tr>\n",
       "      <th>29</th>\n",
       "      <td>pool_area</td>\n",
       "      <td>-5.391251e+02</td>\n",
       "    </tr>\n",
       "    <tr>\n",
       "      <th>...</th>\n",
       "      <td>...</td>\n",
       "      <td>...</td>\n",
       "    </tr>\n",
       "    <tr>\n",
       "      <th>187</th>\n",
       "      <td>garage_type_BuiltIn</td>\n",
       "      <td>-1.034375e+02</td>\n",
       "    </tr>\n",
       "    <tr>\n",
       "      <th>188</th>\n",
       "      <td>garage_type_CarPort</td>\n",
       "      <td>-1.019812e+03</td>\n",
       "    </tr>\n",
       "    <tr>\n",
       "      <th>189</th>\n",
       "      <td>garage_type_Detchd</td>\n",
       "      <td>1.506500e+03</td>\n",
       "    </tr>\n",
       "    <tr>\n",
       "      <th>190</th>\n",
       "      <td>garage_type_DoesNotHaveOne</td>\n",
       "      <td>-3.409000e+14</td>\n",
       "    </tr>\n",
       "    <tr>\n",
       "      <th>191</th>\n",
       "      <td>garage_finish_DoesNotHaveOne</td>\n",
       "      <td>1.136333e+14</td>\n",
       "    </tr>\n",
       "    <tr>\n",
       "      <th>192</th>\n",
       "      <td>garage_finish_Fin</td>\n",
       "      <td>-5.040000e+02</td>\n",
       "    </tr>\n",
       "    <tr>\n",
       "      <th>193</th>\n",
       "      <td>garage_finish_RFn</td>\n",
       "      <td>-1.032688e+03</td>\n",
       "    </tr>\n",
       "    <tr>\n",
       "      <th>194</th>\n",
       "      <td>garage_qual_DoesNotHaveOne</td>\n",
       "      <td>1.136333e+14</td>\n",
       "    </tr>\n",
       "    <tr>\n",
       "      <th>195</th>\n",
       "      <td>garage_qual_Fa</td>\n",
       "      <td>-4.718672e+02</td>\n",
       "    </tr>\n",
       "    <tr>\n",
       "      <th>196</th>\n",
       "      <td>garage_qual_Gd</td>\n",
       "      <td>1.922047e+03</td>\n",
       "    </tr>\n",
       "    <tr>\n",
       "      <th>197</th>\n",
       "      <td>garage_cond_DoesNotHaveOne</td>\n",
       "      <td>1.136333e+14</td>\n",
       "    </tr>\n",
       "    <tr>\n",
       "      <th>198</th>\n",
       "      <td>garage_cond_Fa</td>\n",
       "      <td>-2.142500e+02</td>\n",
       "    </tr>\n",
       "    <tr>\n",
       "      <th>199</th>\n",
       "      <td>garage_cond_Gd</td>\n",
       "      <td>-7.054062e+02</td>\n",
       "    </tr>\n",
       "    <tr>\n",
       "      <th>200</th>\n",
       "      <td>garage_cond_Po</td>\n",
       "      <td>-6.010625e+02</td>\n",
       "    </tr>\n",
       "    <tr>\n",
       "      <th>201</th>\n",
       "      <td>paved_drive_N</td>\n",
       "      <td>2.405938e+02</td>\n",
       "    </tr>\n",
       "    <tr>\n",
       "      <th>202</th>\n",
       "      <td>paved_drive_P</td>\n",
       "      <td>-9.685469e+02</td>\n",
       "    </tr>\n",
       "    <tr>\n",
       "      <th>203</th>\n",
       "      <td>fence_GdPrv</td>\n",
       "      <td>-3.717969e+01</td>\n",
       "    </tr>\n",
       "    <tr>\n",
       "      <th>204</th>\n",
       "      <td>fence_GdWo</td>\n",
       "      <td>5.480625e+02</td>\n",
       "    </tr>\n",
       "    <tr>\n",
       "      <th>205</th>\n",
       "      <td>fence_MnPrv</td>\n",
       "      <td>3.200000e+02</td>\n",
       "    </tr>\n",
       "    <tr>\n",
       "      <th>206</th>\n",
       "      <td>fence_MnWw</td>\n",
       "      <td>-7.012500e+01</td>\n",
       "    </tr>\n",
       "    <tr>\n",
       "      <th>207</th>\n",
       "      <td>misc_feature_Shed</td>\n",
       "      <td>-3.158594e+02</td>\n",
       "    </tr>\n",
       "    <tr>\n",
       "      <th>208</th>\n",
       "      <td>sale_type_COD</td>\n",
       "      <td>-1.094375e+02</td>\n",
       "    </tr>\n",
       "    <tr>\n",
       "      <th>209</th>\n",
       "      <td>sale_type_CWD</td>\n",
       "      <td>7.878750e+02</td>\n",
       "    </tr>\n",
       "    <tr>\n",
       "      <th>210</th>\n",
       "      <td>sale_type_ConLD</td>\n",
       "      <td>1.126250e+03</td>\n",
       "    </tr>\n",
       "    <tr>\n",
       "      <th>211</th>\n",
       "      <td>sale_type_New</td>\n",
       "      <td>-6.483414e+03</td>\n",
       "    </tr>\n",
       "    <tr>\n",
       "      <th>212</th>\n",
       "      <td>sale_condition_Abnorml</td>\n",
       "      <td>-2.512906e+03</td>\n",
       "    </tr>\n",
       "    <tr>\n",
       "      <th>213</th>\n",
       "      <td>sale_condition_AdjLand</td>\n",
       "      <td>1.815047e+03</td>\n",
       "    </tr>\n",
       "    <tr>\n",
       "      <th>214</th>\n",
       "      <td>sale_condition_Alloca</td>\n",
       "      <td>1.148820e+03</td>\n",
       "    </tr>\n",
       "    <tr>\n",
       "      <th>215</th>\n",
       "      <td>sale_condition_Family</td>\n",
       "      <td>-1.565438e+03</td>\n",
       "    </tr>\n",
       "    <tr>\n",
       "      <th>216</th>\n",
       "      <td>sale_condition_Partial</td>\n",
       "      <td>8.819828e+03</td>\n",
       "    </tr>\n",
       "  </tbody>\n",
       "</table>\n",
       "<p>217 rows × 2 columns</p>\n",
       "</div>"
      ],
      "text/plain": [
       "                         features  estimateCoefficients\n",
       "0                       intercept          1.808860e+05\n",
       "1                        lot_area          4.397877e+03\n",
       "2                    overall_qual          1.051869e+04\n",
       "3                    overall_cond          7.274313e+03\n",
       "4                      year_built          1.164076e+04\n",
       "5                  year_remod_add          1.277611e+03\n",
       "6                    bsmtfin_sf_1         -7.493200e+14\n",
       "7                    bsmtfin_sf_2         -2.940820e+14\n",
       "8                     bsmt_unf_sf         -7.439204e+14\n",
       "9                   total_bsmt_sf          7.129919e+14\n",
       "10                    x1st_flr_sf         -1.264011e+15\n",
       "11                    x2nd_flr_sf         -1.446169e+15\n",
       "12                low_qual_fin_sf         -1.628680e+14\n",
       "13                    gr_liv_area          1.635914e+15\n",
       "14                 bsmt_full_bath          1.456026e+03\n",
       "15                 bsmt_half_bath         -1.267003e+02\n",
       "16                      full_bath          2.295621e+03\n",
       "17                      half_bath          2.550549e+03\n",
       "18                  bedroom_abvgr         -3.727289e+03\n",
       "19                  kitchen_abvgr         -2.251014e+03\n",
       "20                  totrms_abvgrd          1.511551e+03\n",
       "21                     fireplaces          4.871732e+03\n",
       "22                    garage_cars          1.110732e+03\n",
       "23                    garage_area          5.250180e+03\n",
       "24                   wood_deck_sf          1.587024e+03\n",
       "25                  open_porch_sf          1.989297e+02\n",
       "26                 enclosed_porch         -2.326409e+02\n",
       "27                    x3ssn_porch          1.032289e+02\n",
       "28                   screen_porch          2.556468e+03\n",
       "29                      pool_area         -5.391251e+02\n",
       "..                            ...                   ...\n",
       "187           garage_type_BuiltIn         -1.034375e+02\n",
       "188           garage_type_CarPort         -1.019812e+03\n",
       "189            garage_type_Detchd          1.506500e+03\n",
       "190    garage_type_DoesNotHaveOne         -3.409000e+14\n",
       "191  garage_finish_DoesNotHaveOne          1.136333e+14\n",
       "192             garage_finish_Fin         -5.040000e+02\n",
       "193             garage_finish_RFn         -1.032688e+03\n",
       "194    garage_qual_DoesNotHaveOne          1.136333e+14\n",
       "195                garage_qual_Fa         -4.718672e+02\n",
       "196                garage_qual_Gd          1.922047e+03\n",
       "197    garage_cond_DoesNotHaveOne          1.136333e+14\n",
       "198                garage_cond_Fa         -2.142500e+02\n",
       "199                garage_cond_Gd         -7.054062e+02\n",
       "200                garage_cond_Po         -6.010625e+02\n",
       "201                 paved_drive_N          2.405938e+02\n",
       "202                 paved_drive_P         -9.685469e+02\n",
       "203                   fence_GdPrv         -3.717969e+01\n",
       "204                    fence_GdWo          5.480625e+02\n",
       "205                   fence_MnPrv          3.200000e+02\n",
       "206                    fence_MnWw         -7.012500e+01\n",
       "207             misc_feature_Shed         -3.158594e+02\n",
       "208                 sale_type_COD         -1.094375e+02\n",
       "209                 sale_type_CWD          7.878750e+02\n",
       "210               sale_type_ConLD          1.126250e+03\n",
       "211                 sale_type_New         -6.483414e+03\n",
       "212        sale_condition_Abnorml         -2.512906e+03\n",
       "213        sale_condition_AdjLand          1.815047e+03\n",
       "214         sale_condition_Alloca          1.148820e+03\n",
       "215         sale_condition_Family         -1.565438e+03\n",
       "216        sale_condition_Partial          8.819828e+03\n",
       "\n",
       "[217 rows x 2 columns]"
      ]
     },
     "execution_count": 49,
     "metadata": {},
     "output_type": "execute_result"
    }
   ],
   "source": [
    "pd_lm_results = pd.DataFrame({'features': ['intercept'] + vars_ind,\n",
    "                              'estimateCoefficients': coef_skl})\n",
    "pd_lm_results"
   ]
  },
  {
   "cell_type": "code",
   "execution_count": null,
   "metadata": {},
   "outputs": [],
   "source": []
  }
 ],
 "metadata": {
  "anaconda-cloud": {},
  "kernelspec": {
   "display_name": "Python 3",
   "language": "python",
   "name": "python3"
  },
  "language_info": {
   "codemirror_mode": {
    "name": "ipython",
    "version": 3
   },
   "file_extension": ".py",
   "mimetype": "text/x-python",
   "name": "python",
   "nbconvert_exporter": "python",
   "pygments_lexer": "ipython3",
   "version": "3.6.7"
  }
 },
 "nbformat": 4,
 "nbformat_minor": 1
}
