{
 "cells": [
  {
   "cell_type": "markdown",
   "metadata": {},
   "source": [
    "# Ames housing: LASSO regression with sklearn"
   ]
  },
  {
   "cell_type": "markdown",
   "metadata": {},
   "source": [
    "Contents\n",
    " - load data\n",
    " - data manipulation\n",
    " - LASSO on housing data\n",
    "   - fit model\n",
    "   - coefficients\n",
    "   - predictions\n",
    "   - performance\n",
    "\n",
    "Sources:\n",
    "http://ww2.amstat.org/publications/jse/v19n3/decock.pdf\n",
    "\n",
    "Copyright (C) 2018 Alan Chalk  \n",
    "Please do not distribute or publish without permission."
   ]
  },
  {
   "cell_type": "markdown",
   "metadata": {},
   "source": [
    "## Start_."
   ]
  },
  {
   "cell_type": "markdown",
   "metadata": {
    "scrolled": true
   },
   "source": [
    "**Import packages**"
   ]
  },
  {
   "cell_type": "code",
   "execution_count": 1,
   "metadata": {},
   "outputs": [],
   "source": [
    "import os\n",
    "import numpy as np\n",
    "import pandas as pd\n",
    "import pickle\n",
    "\n",
    "from sklearn.linear_model import LassoCV, Lasso\n",
    "\n",
    "import matplotlib.pyplot as plt\n",
    "%matplotlib inline"
   ]
  },
  {
   "cell_type": "markdown",
   "metadata": {},
   "source": [
    "**directories and paths**"
   ]
  },
  {
   "cell_type": "code",
   "execution_count": 2,
   "metadata": {},
   "outputs": [
    {
     "name": "stdout",
     "output_type": "stream",
     "text": [
      "/Users/axc/Dropbox/AML/2020/Projects/AmesHousing/PCode\n"
     ]
    }
   ],
   "source": [
    "# Set directories\n",
    "print(os.getcwd())\n",
    "dirRawData = \"../input/\"\n",
    "dirPData   = \"../PData/\""
   ]
  },
  {
   "cell_type": "markdown",
   "metadata": {},
   "source": [
    "**functions**"
   ]
  },
  {
   "cell_type": "code",
   "execution_count": 3,
   "metadata": {},
   "outputs": [],
   "source": [
    "def fn_MAE(actuals, predictions):\n",
    "    return np.round(np.mean(np.abs(predictions - actuals)))\n",
    "\n",
    "def fn_RMSE(actuals, predictions):\n",
    "    return np.round(np.sqrt(np.mean((predictions - actuals)**2)))"
   ]
  },
  {
   "cell_type": "markdown",
   "metadata": {},
   "source": [
    "**Load data**"
   ]
  },
  {
   "cell_type": "code",
   "execution_count": 4,
   "metadata": {},
   "outputs": [],
   "source": [
    "# load df_all\n",
    "#df_all = pd.read_hdf(dirPData + '02_df_all.h5', 'df_all_onehot')\n",
    "\n",
    "# load the dict_ that was saved to pickle\n",
    "f_name = dirPData + '02_df.pickle'\n",
    "with open(f_name, \"rb\") as f:\n",
    "    dict_ = pickle.load(f)\n",
    "    \n",
    "df_all_onehot = dict_['df_all_onehot']\n",
    "\n",
    "del f_name, dict_\n",
    "\n",
    "df_all = df_all_onehot\n",
    "del df_all_onehot"
   ]
  },
  {
   "cell_type": "code",
   "execution_count": 5,
   "metadata": {},
   "outputs": [],
   "source": [
    "# load definitions of variables\n",
    "#dict_ = {'vars_ind': vars_ind, 'idx_design': idx_design, 'idx_test': idx_test}\n",
    "f_name = dirPData + '02_vars.pickle'\n",
    "with open(f_name, \"rb\") as f:\n",
    "    dict_ = pickle.load(f)\n",
    "    \n",
    "var_dep              = dict_['var_dep']\n",
    "vars_ind_numeric     = dict_['vars_ind_numeric']\n",
    "vars_ind_categorical = dict_['vars_ind_categorical']\n",
    "vars_ind_onehot      = dict_['vars_ind_onehot']\n",
    "\n",
    "del f_name, dict_"
   ]
  },
  {
   "cell_type": "code",
   "execution_count": 6,
   "metadata": {},
   "outputs": [],
   "source": [
    "idx_train  = np.where(df_all['fold'].isin(np.arange(0,6)))[0]\n",
    "idx_val    = np.where(df_all['fold'].isin([6,7]))[0]\n",
    "idx_design = np.where(df_all['fold'].isin(np.arange(0,8)))[0]\n",
    "idx_test   = np.where(df_all['fold'].isin([8,9]))[0]"
   ]
  },
  {
   "cell_type": "code",
   "execution_count": 7,
   "metadata": {},
   "outputs": [
    {
     "data": {
      "text/plain": [
       "216"
      ]
     },
     "execution_count": 7,
     "metadata": {},
     "output_type": "execute_result"
    }
   ],
   "source": [
    "vars_ind = vars_ind_numeric + vars_ind_onehot\n",
    "len(vars_ind)"
   ]
  },
  {
   "cell_type": "code",
   "execution_count": 8,
   "metadata": {},
   "outputs": [],
   "source": [
    "X = df_all[vars_ind].values\n",
    "\n",
    "# Note \"incorrect\" use of standardisation - should fit it over train data only\n",
    "# standardise each feature\n",
    "X -= np.mean(X, axis=0)\n",
    "X /= np.sqrt(np.mean(X ** 2, axis=0))"
   ]
  },
  {
   "cell_type": "code",
   "execution_count": 9,
   "metadata": {},
   "outputs": [],
   "source": [
    "X_design = X[idx_design, :]\n",
    "X_test   = X[idx_test, :]\n",
    "y_design = df_all[var_dep].iloc[idx_design].copy().values.ravel()\n",
    "y_test   = df_all[var_dep].iloc[idx_test].copy().values.ravel()"
   ]
  },
  {
   "cell_type": "markdown",
   "metadata": {},
   "source": [
    "### Lasso with k-fold CV"
   ]
  },
  {
   "cell_type": "markdown",
   "metadata": {},
   "source": [
    "TODO\n",
    " - What is k-fold cross validation?\n",
    " - When is better than the simple train-val split we used previously?\n",
    " - What is the optimal value for k?"
   ]
  },
  {
   "cell_type": "markdown",
   "metadata": {},
   "source": [
    "**Instantiate and fit the model**"
   ]
  },
  {
   "cell_type": "code",
   "execution_count": 10,
   "metadata": {},
   "outputs": [
    {
     "name": "stdout",
     "output_type": "stream",
     "text": [
      "CPU times: user 4.43 s, sys: 71.6 ms, total: 4.5 s\n",
      "Wall time: 581 ms\n"
     ]
    },
    {
     "data": {
      "text/plain": [
       "LassoCV(alphas=None, copy_X=True, cv=10, eps=0.001, fit_intercept=True,\n",
       "        max_iter=1000, n_alphas=100, n_jobs=None, normalize=False,\n",
       "        positive=False, precompute='auto', random_state=2018,\n",
       "        selection='random', tol=0.0001, verbose=False)"
      ]
     },
     "execution_count": 10,
     "metadata": {},
     "output_type": "execute_result"
    }
   ],
   "source": [
    "%%time\n",
    "# note impact of selection='random' vs cyclical on time taken\n",
    "lassoCV_ = LassoCV(fit_intercept=True\n",
    "                   ,normalize=False\n",
    "                   ,cv=10\n",
    "                   ,random_state=2018\n",
    "                   ,selection='random'\n",
    "                  )\n",
    "\n",
    "lassoCV_.fit(X=X_design, y=y_design)"
   ]
  },
  {
   "cell_type": "markdown",
   "metadata": {},
   "source": [
    "Inspect the coefficients"
   ]
  },
  {
   "cell_type": "markdown",
   "metadata": {},
   "source": [
    "**TODO**  \n",
    " - Is the intercept penalised?\n",
    " - How many non-zero coefficients are there?\n",
    " - Inspect the coefficients. \n",
    "   - Does the sign of the coefficients make sense\n",
    "   - Can you interpret the magnitude of the coefficients?\n",
    "   - Do the magnitude of any coefficients for (exterior quality) exter_qual makes sense?"
   ]
  },
  {
   "cell_type": "code",
   "execution_count": 11,
   "metadata": {},
   "outputs": [
    {
     "data": {
      "text/plain": [
       "180544.82645265124"
      ]
     },
     "execution_count": 11,
     "metadata": {},
     "output_type": "execute_result"
    }
   ],
   "source": [
    "lassoCV_.intercept_"
   ]
  },
  {
   "cell_type": "code",
   "execution_count": 12,
   "metadata": {},
   "outputs": [
    {
     "name": "stdout",
     "output_type": "stream",
     "text": [
      "(140, 4)\n"
     ]
    }
   ],
   "source": [
    "df_coef = pd.DataFrame({'variable': vars_ind, 'coefficient': np.round(lassoCV_.coef_, 0)})\n",
    "df_coef = df_coef[df_coef['coefficient'] != 0]\n",
    "df_coef['sign'] = np.where(df_coef['coefficient'].values < 0, 'NEG', 'POS')\n",
    "df_coef['coefficient_abs'] = np.abs(df_coef['coefficient'])\n",
    "print(df_coef.shape) # 154/5 non zero "
   ]
  },
  {
   "cell_type": "code",
   "execution_count": 13,
   "metadata": {},
   "outputs": [
    {
     "data": {
      "text/html": [
       "<div>\n",
       "<style scoped>\n",
       "    .dataframe tbody tr th:only-of-type {\n",
       "        vertical-align: middle;\n",
       "    }\n",
       "\n",
       "    .dataframe tbody tr th {\n",
       "        vertical-align: top;\n",
       "    }\n",
       "\n",
       "    .dataframe thead th {\n",
       "        text-align: right;\n",
       "    }\n",
       "</style>\n",
       "<table border=\"1\" class=\"dataframe\">\n",
       "  <thead>\n",
       "    <tr style=\"text-align: right;\">\n",
       "      <th></th>\n",
       "      <th>variable</th>\n",
       "      <th>coefficient</th>\n",
       "      <th>sign</th>\n",
       "      <th>coefficient_abs</th>\n",
       "    </tr>\n",
       "  </thead>\n",
       "  <tbody>\n",
       "    <tr>\n",
       "      <th>12</th>\n",
       "      <td>gr_liv_area</td>\n",
       "      <td>28288.0</td>\n",
       "      <td>POS</td>\n",
       "      <td>28288.0</td>\n",
       "    </tr>\n",
       "    <tr>\n",
       "      <th>1</th>\n",
       "      <td>overall_qual</td>\n",
       "      <td>11241.0</td>\n",
       "      <td>POS</td>\n",
       "      <td>11241.0</td>\n",
       "    </tr>\n",
       "    <tr>\n",
       "      <th>3</th>\n",
       "      <td>year_built</td>\n",
       "      <td>9802.0</td>\n",
       "      <td>POS</td>\n",
       "      <td>9802.0</td>\n",
       "    </tr>\n",
       "    <tr>\n",
       "      <th>8</th>\n",
       "      <td>total_bsmt_sf</td>\n",
       "      <td>8723.0</td>\n",
       "      <td>POS</td>\n",
       "      <td>8723.0</td>\n",
       "    </tr>\n",
       "    <tr>\n",
       "      <th>5</th>\n",
       "      <td>bsmtfin_sf_1</td>\n",
       "      <td>8375.0</td>\n",
       "      <td>POS</td>\n",
       "      <td>8375.0</td>\n",
       "    </tr>\n",
       "  </tbody>\n",
       "</table>\n",
       "</div>"
      ],
      "text/plain": [
       "         variable  coefficient sign  coefficient_abs\n",
       "12    gr_liv_area      28288.0  POS          28288.0\n",
       "1    overall_qual      11241.0  POS          11241.0\n",
       "3      year_built       9802.0  POS           9802.0\n",
       "8   total_bsmt_sf       8723.0  POS           8723.0\n",
       "5    bsmtfin_sf_1       8375.0  POS           8375.0"
      ]
     },
     "execution_count": 13,
     "metadata": {},
     "output_type": "execute_result"
    }
   ],
   "source": [
    "df_coef.sort_values('coefficient_abs', ascending=False, inplace=True)\n",
    "df_coef.head()"
   ]
  },
  {
   "cell_type": "markdown",
   "metadata": {},
   "source": [
    "**Regularisation strength chosen**"
   ]
  },
  {
   "cell_type": "code",
   "execution_count": 14,
   "metadata": {},
   "outputs": [
    {
     "data": {
      "text/plain": [
       "2.437051483175554"
      ]
     },
     "execution_count": 14,
     "metadata": {},
     "output_type": "execute_result"
    }
   ],
   "source": [
    "np.log10(lassoCV_.alpha_)"
   ]
  },
  {
   "cell_type": "code",
   "execution_count": 15,
   "metadata": {},
   "outputs": [
    {
     "data": {
      "image/png": "[encoded data removed]",
      "text/plain": [
       "<Figure size 864x576 with 1 Axes>"
      ]
     },
     "metadata": {
      "needs_background": "light"
     },
     "output_type": "display_data"
    }
   ],
   "source": [
    "m_log_lambdas = -np.log10(lassoCV_.alphas_)\n",
    "\n",
    "font = {'size': 20}\n",
    "plt.rc('font', **font)\n",
    "\n",
    "fig = plt.figure(figsize=(12,8))\n",
    "ax1 = fig.add_subplot(1, 1, 1)\n",
    "ax1.plot(m_log_lambdas, lassoCV_.mse_path_, ':')\n",
    "ax1.plot(m_log_lambdas, lassoCV_.mse_path_.mean(axis=-1),\n",
    "         'k',\n",
    "         label='Average across the folds',\n",
    "         linewidth=2)\n",
    "\n",
    "ax1.axvline(-np.log10(lassoCV_.alpha_),\n",
    "            linestyle='--', \n",
    "            color='k',\n",
    "            label='alpha: CV estimate')\n",
    "\n",
    "ax1.legend()\n",
    "\n",
    "ax1.set_xlabel('-log10(lambda)')\n",
    "ax1.set_ylabel('Mean square error')\n",
    "ax1.set_title('Mean square error on each fold')\n",
    "_ = ax1.axis('tight')"
   ]
  },
  {
   "cell_type": "markdown",
   "metadata": {},
   "source": [
    "TODO\n",
    "\n",
    " - Does it \"make sense\" to choose the above regularisation strength for the final model?"
   ]
  },
  {
   "cell_type": "markdown",
   "metadata": {},
   "source": [
    "**Predictions**"
   ]
  },
  {
   "cell_type": "code",
   "execution_count": 16,
   "metadata": {},
   "outputs": [],
   "source": [
    "lassoCV_pred_design = lassoCV_.predict(X_design)\n",
    "lassoCV_pred_test = lassoCV_.predict(X_test)"
   ]
  },
  {
   "cell_type": "markdown",
   "metadata": {},
   "source": [
    "**TODO** \n",
    " - Calculate the mean absolute error (MAE) of your predictions on design and test data (they will be based on lassoCV_.alpha_)"
   ]
  },
  {
   "cell_type": "code",
   "execution_count": 17,
   "metadata": {},
   "outputs": [
    {
     "name": "stdout",
     "output_type": "stream",
     "text": [
      "MAE: design: 13932.0\n",
      "MAE: test: 13587.0\n"
     ]
    }
   ],
   "source": [
    "MAE_design = fn_MAE(y_design, lassoCV_pred_design)\n",
    "MAE_test = fn_MAE(y_test, lassoCV_pred_test)\n",
    "print(\"MAE: design:\", MAE_design)\n",
    "print(\"MAE: test:\", MAE_test)"
   ]
  },
  {
   "cell_type": "markdown",
   "metadata": {},
   "source": [
    "**TODO** \n",
    " - Fit another model with higher penalisation but which does not loose much prediction power.\n",
    " - How many active predictors does it have?\n",
    " - What is the MAE?\n",
    " - Is the model simpler? Is it better?"
   ]
  },
  {
   "cell_type": "code",
   "execution_count": 24,
   "metadata": {},
   "outputs": [
    {
     "data": {
      "text/plain": [
       "2.6127838567197355"
      ]
     },
     "execution_count": 24,
     "metadata": {},
     "output_type": "execute_result"
    }
   ],
   "source": [
    "np.log10(410)"
   ]
  },
  {
   "cell_type": "code",
   "execution_count": 18,
   "metadata": {},
   "outputs": [
    {
     "data": {
      "text/plain": [
       "13505.0"
      ]
     },
     "execution_count": 18,
     "metadata": {},
     "output_type": "execute_result"
    }
   ],
   "source": [
    "lasso_ = Lasso(alpha=410, # looking at above graph\n",
    "               fit_intercept=True, \n",
    "               normalize=False, \n",
    "               random_state=2018)\n",
    "lasso_.fit(X=X_design, y=y_design)\n",
    "lasso_pred_test = lasso_.predict(X_test)\n",
    "fn_MAE(y_test, lasso_pred_test)"
   ]
  },
  {
   "cell_type": "code",
   "execution_count": 19,
   "metadata": {},
   "outputs": [
    {
     "name": "stdout",
     "output_type": "stream",
     "text": [
      "(121, 4)\n"
     ]
    }
   ],
   "source": [
    "df_coef = pd.DataFrame({'variable': vars_ind, 'coefficient': np.round(lasso_.coef_)})\n",
    "df_coef = df_coef[df_coef['coefficient'] != 0]\n",
    "df_coef['sign'] = np.where(df_coef['coefficient'].values < 0, 'NEG', 'POS')\n",
    "df_coef['coefficient_abs'] = np.abs(df_coef['coefficient'])\n",
    "print(df_coef.shape) # 122/5 - much simpler model - and better "
   ]
  },
  {
   "cell_type": "code",
   "execution_count": 20,
   "metadata": {},
   "outputs": [
    {
     "data": {
      "text/html": [
       "<div>\n",
       "<style scoped>\n",
       "    .dataframe tbody tr th:only-of-type {\n",
       "        vertical-align: middle;\n",
       "    }\n",
       "\n",
       "    .dataframe tbody tr th {\n",
       "        vertical-align: top;\n",
       "    }\n",
       "\n",
       "    .dataframe thead th {\n",
       "        text-align: right;\n",
       "    }\n",
       "</style>\n",
       "<table border=\"1\" class=\"dataframe\">\n",
       "  <thead>\n",
       "    <tr style=\"text-align: right;\">\n",
       "      <th></th>\n",
       "      <th>variable</th>\n",
       "      <th>coefficient</th>\n",
       "      <th>sign</th>\n",
       "      <th>coefficient_abs</th>\n",
       "    </tr>\n",
       "  </thead>\n",
       "  <tbody>\n",
       "    <tr>\n",
       "      <th>12</th>\n",
       "      <td>gr_liv_area</td>\n",
       "      <td>28205.0</td>\n",
       "      <td>POS</td>\n",
       "      <td>28205.0</td>\n",
       "    </tr>\n",
       "    <tr>\n",
       "      <th>1</th>\n",
       "      <td>overall_qual</td>\n",
       "      <td>11712.0</td>\n",
       "      <td>POS</td>\n",
       "      <td>11712.0</td>\n",
       "    </tr>\n",
       "    <tr>\n",
       "      <th>3</th>\n",
       "      <td>year_built</td>\n",
       "      <td>9728.0</td>\n",
       "      <td>POS</td>\n",
       "      <td>9728.0</td>\n",
       "    </tr>\n",
       "    <tr>\n",
       "      <th>8</th>\n",
       "      <td>total_bsmt_sf</td>\n",
       "      <td>8460.0</td>\n",
       "      <td>POS</td>\n",
       "      <td>8460.0</td>\n",
       "    </tr>\n",
       "    <tr>\n",
       "      <th>5</th>\n",
       "      <td>bsmtfin_sf_1</td>\n",
       "      <td>8152.0</td>\n",
       "      <td>POS</td>\n",
       "      <td>8152.0</td>\n",
       "    </tr>\n",
       "  </tbody>\n",
       "</table>\n",
       "</div>"
      ],
      "text/plain": [
       "         variable  coefficient sign  coefficient_abs\n",
       "12    gr_liv_area      28205.0  POS          28205.0\n",
       "1    overall_qual      11712.0  POS          11712.0\n",
       "3      year_built       9728.0  POS           9728.0\n",
       "8   total_bsmt_sf       8460.0  POS           8460.0\n",
       "5    bsmtfin_sf_1       8152.0  POS           8152.0"
      ]
     },
     "execution_count": 20,
     "metadata": {},
     "output_type": "execute_result"
    }
   ],
   "source": [
    "df_coef.sort_values('coefficient_abs', ascending=False, inplace=True)\n",
    "df_coef.head()"
   ]
  },
  {
   "cell_type": "code",
   "execution_count": 21,
   "metadata": {},
   "outputs": [
    {
     "data": {
      "text/html": [
       "<div>\n",
       "<style scoped>\n",
       "    .dataframe tbody tr th:only-of-type {\n",
       "        vertical-align: middle;\n",
       "    }\n",
       "\n",
       "    .dataframe tbody tr th {\n",
       "        vertical-align: top;\n",
       "    }\n",
       "\n",
       "    .dataframe thead th {\n",
       "        text-align: right;\n",
       "    }\n",
       "</style>\n",
       "<table border=\"1\" class=\"dataframe\">\n",
       "  <thead>\n",
       "    <tr style=\"text-align: right;\">\n",
       "      <th></th>\n",
       "      <th>variable</th>\n",
       "      <th>coefficient</th>\n",
       "      <th>sign</th>\n",
       "      <th>coefficient_abs</th>\n",
       "    </tr>\n",
       "  </thead>\n",
       "  <tbody>\n",
       "    <tr>\n",
       "      <th>17</th>\n",
       "      <td>bedroom_abvgr</td>\n",
       "      <td>-3323.0</td>\n",
       "      <td>NEG</td>\n",
       "      <td>3323.0</td>\n",
       "    </tr>\n",
       "    <tr>\n",
       "      <th>211</th>\n",
       "      <td>sale_condition_X_Abnorml</td>\n",
       "      <td>-2680.0</td>\n",
       "      <td>NEG</td>\n",
       "      <td>2680.0</td>\n",
       "    </tr>\n",
       "    <tr>\n",
       "      <th>97</th>\n",
       "      <td>bldg_type_X_TwnhsE</td>\n",
       "      <td>-2547.0</td>\n",
       "      <td>NEG</td>\n",
       "      <td>2547.0</td>\n",
       "    </tr>\n",
       "    <tr>\n",
       "      <th>18</th>\n",
       "      <td>kitchen_abvgr</td>\n",
       "      <td>-2330.0</td>\n",
       "      <td>NEG</td>\n",
       "      <td>2330.0</td>\n",
       "    </tr>\n",
       "    <tr>\n",
       "      <th>96</th>\n",
       "      <td>bldg_type_X_Twnhs</td>\n",
       "      <td>-2325.0</td>\n",
       "      <td>NEG</td>\n",
       "      <td>2325.0</td>\n",
       "    </tr>\n",
       "  </tbody>\n",
       "</table>\n",
       "</div>"
      ],
      "text/plain": [
       "                     variable  coefficient sign  coefficient_abs\n",
       "17              bedroom_abvgr      -3323.0  NEG           3323.0\n",
       "211  sale_condition_X_Abnorml      -2680.0  NEG           2680.0\n",
       "97         bldg_type_X_TwnhsE      -2547.0  NEG           2547.0\n",
       "18              kitchen_abvgr      -2330.0  NEG           2330.0\n",
       "96          bldg_type_X_Twnhs      -2325.0  NEG           2325.0"
      ]
     },
     "execution_count": 21,
     "metadata": {},
     "output_type": "execute_result"
    }
   ],
   "source": [
    "df_coef[df_coef['sign'] == 'NEG'].head()"
   ]
  },
  {
   "cell_type": "code",
   "execution_count": 22,
   "metadata": {},
   "outputs": [
    {
     "data": {
      "text/html": [
       "<div>\n",
       "<style scoped>\n",
       "    .dataframe tbody tr th:only-of-type {\n",
       "        vertical-align: middle;\n",
       "    }\n",
       "\n",
       "    .dataframe tbody tr th {\n",
       "        vertical-align: top;\n",
       "    }\n",
       "\n",
       "    .dataframe thead th {\n",
       "        text-align: right;\n",
       "    }\n",
       "</style>\n",
       "<table border=\"1\" class=\"dataframe\">\n",
       "  <thead>\n",
       "    <tr style=\"text-align: right;\">\n",
       "      <th></th>\n",
       "      <th>variable</th>\n",
       "      <th>coefficient</th>\n",
       "      <th>sign</th>\n",
       "      <th>coefficient_abs</th>\n",
       "    </tr>\n",
       "  </thead>\n",
       "  <tbody>\n",
       "    <tr>\n",
       "      <th>34</th>\n",
       "      <td>ms_subclass_X_MS_180</td>\n",
       "      <td>-22.0</td>\n",
       "      <td>NEG</td>\n",
       "      <td>22.0</td>\n",
       "    </tr>\n",
       "    <tr>\n",
       "      <th>163</th>\n",
       "      <td>bsmtfin_type_2_X_LwQ</td>\n",
       "      <td>-17.0</td>\n",
       "      <td>NEG</td>\n",
       "      <td>17.0</td>\n",
       "    </tr>\n",
       "    <tr>\n",
       "      <th>105</th>\n",
       "      <td>roof_style_X_Gambrel</td>\n",
       "      <td>-6.0</td>\n",
       "      <td>NEG</td>\n",
       "      <td>6.0</td>\n",
       "    </tr>\n",
       "    <tr>\n",
       "      <th>92</th>\n",
       "      <td>condition_1_X_RRAn</td>\n",
       "      <td>-4.0</td>\n",
       "      <td>NEG</td>\n",
       "      <td>4.0</td>\n",
       "    </tr>\n",
       "    <tr>\n",
       "      <th>161</th>\n",
       "      <td>bsmtfin_type_2_X_DoesNotHaveOne</td>\n",
       "      <td>1.0</td>\n",
       "      <td>POS</td>\n",
       "      <td>1.0</td>\n",
       "    </tr>\n",
       "  </tbody>\n",
       "</table>\n",
       "</div>"
      ],
      "text/plain": [
       "                            variable  coefficient sign  coefficient_abs\n",
       "34              ms_subclass_X_MS_180        -22.0  NEG             22.0\n",
       "163             bsmtfin_type_2_X_LwQ        -17.0  NEG             17.0\n",
       "105             roof_style_X_Gambrel         -6.0  NEG              6.0\n",
       "92                condition_1_X_RRAn         -4.0  NEG              4.0\n",
       "161  bsmtfin_type_2_X_DoesNotHaveOne          1.0  POS              1.0"
      ]
     },
     "execution_count": 22,
     "metadata": {},
     "output_type": "execute_result"
    }
   ],
   "source": [
    "df_coef.tail()"
   ]
  },
  {
   "cell_type": "code",
   "execution_count": null,
   "metadata": {},
   "outputs": [],
   "source": []
  }
 ],
 "metadata": {
  "anaconda-cloud": {},
  "kernelspec": {
   "display_name": "Python 3",
   "language": "python",
   "name": "python3"
  },
  "language_info": {
   "codemirror_mode": {
    "name": "ipython",
    "version": 3
   },
   "file_extension": ".py",
   "mimetype": "text/x-python",
   "name": "python",
   "nbconvert_exporter": "python",
   "pygments_lexer": "ipython3",
   "version": "3.6.7"
  }
 },
 "nbformat": 4,
 "nbformat_minor": 1
}
