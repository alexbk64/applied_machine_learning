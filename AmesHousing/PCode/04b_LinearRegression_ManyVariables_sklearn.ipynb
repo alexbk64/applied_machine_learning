{
 "cells": [
  {
   "cell_type": "markdown",
   "metadata": {},
   "source": [
    "# Linear Regression: sklearn - many (numeric) variables"
   ]
  },
  {
   "cell_type": "markdown",
   "metadata": {},
   "source": [
    "Contents\n",
    " - load data\n",
    " - data manipulation\n",
    "   - variables to use\n",
    " - multiple regression (with sklearn)\n",
    "   - fit model\n",
    "   - predictions\n",
    "   - performance\n",
    "   - coefficients\n",
    "\n",
    "Sources:\n",
    "http://ww2.amstat.org/publications/jse/v19n3/decock.pdf\n",
    "\n",
    "Copyright (C) 2018 Alan Chalk  \n",
    "Please do not distribute or publish without permission."
   ]
  },
  {
   "cell_type": "markdown",
   "metadata": {},
   "source": [
    "## Start_."
   ]
  },
  {
   "cell_type": "markdown",
   "metadata": {
    "scrolled": true
   },
   "source": [
    "**Packages needed**"
   ]
  },
  {
   "cell_type": "code",
   "execution_count": 1,
   "metadata": {},
   "outputs": [],
   "source": [
    "import os\n",
    "import numpy as np\n",
    "import pandas as pd\n",
    "import pickle\n",
    "\n",
    "from sklearn import preprocessing\n",
    "\n",
    "import matplotlib.pyplot as plt\n",
    "%matplotlib inline"
   ]
  },
  {
   "cell_type": "markdown",
   "metadata": {},
   "source": [
    "**Functions**"
   ]
  },
  {
   "cell_type": "code",
   "execution_count": 2,
   "metadata": {},
   "outputs": [],
   "source": [
    "def fn_MAE(actuals, predictions):\n",
    "    return np.round(np.mean(np.abs(predictions - actuals)))"
   ]
  },
  {
   "cell_type": "markdown",
   "metadata": {},
   "source": [
    "**Settings**"
   ]
  },
  {
   "cell_type": "code",
   "execution_count": 3,
   "metadata": {},
   "outputs": [],
   "source": [
    "font = {'size'   : 22}\n",
    "plt.rc('font', **font)"
   ]
  },
  {
   "cell_type": "markdown",
   "metadata": {},
   "source": [
    "**Directories and paths**"
   ]
  },
  {
   "cell_type": "code",
   "execution_count": 4,
   "metadata": {},
   "outputs": [
    {
     "name": "stdout",
     "output_type": "stream",
     "text": [
      "/home/jovyan/Projects/AmesHousing/PCode\n"
     ]
    }
   ],
   "source": [
    "# Set directories\n",
    "print(os.getcwd())\n",
    "dirRawData = \"../input/\"\n",
    "dirPData   = \"../PData/\""
   ]
  },
  {
   "cell_type": "markdown",
   "metadata": {},
   "source": [
    "**Load data**"
   ]
  },
  {
   "cell_type": "code",
   "execution_count": 5,
   "metadata": {},
   "outputs": [],
   "source": [
    "#store = pd.HDFStore(dirPData + '02_df_all.h5')\n",
    "#df_all = pd.read_hdf(store, 'df_all')\n",
    "#store.close()\n",
    "f_name = dirPData + '02_df.pickle'\n",
    "\n",
    "with (open(f_name, \"rb\")) as f:\n",
    "    dict_ = pickle.load(f)\n",
    "\n",
    "df_all = dict_['df_all']\n",
    "\n",
    "del f_name, dict_"
   ]
  },
  {
   "cell_type": "code",
   "execution_count": 6,
   "metadata": {},
   "outputs": [],
   "source": [
    "# load the variables information\n",
    "f_name = dirPData + '02_vars.pickle'\n",
    "with open(f_name, \"rb\") as f:\n",
    "    dict_ = pickle.load(f)\n",
    "    \n",
    "var_dep = dict_['var_dep']\n",
    "vars_ind_numeric = dict_['vars_ind_numeric']\n",
    "\n",
    "del f_name, dict_"
   ]
  },
  {
   "cell_type": "markdown",
   "metadata": {},
   "source": [
    "**Take a small subset of variables for the linear model**"
   ]
  },
  {
   "cell_type": "code",
   "execution_count": 32,
   "metadata": {},
   "outputs": [],
   "source": [
    "vars_toUse = vars_ind_numeric"
   ]
  },
  {
   "cell_type": "code",
   "execution_count": 33,
   "metadata": {},
   "outputs": [],
   "source": [
    "X = df_all[vars_toUse].values\n",
    "y = df_all[var_dep].values"
   ]
  },
  {
   "cell_type": "markdown",
   "metadata": {},
   "source": [
    "## Multiple linear regression with sklearn"
   ]
  },
  {
   "cell_type": "markdown",
   "metadata": {},
   "source": [
    "TODO\n",
    "\n",
    " - import LinearRegression from sklearn.linear_model\n",
    " - create an instance called lm_\n",
    " - fit the model to X and y"
   ]
  },
  {
   "cell_type": "code",
   "execution_count": 34,
   "metadata": {},
   "outputs": [],
   "source": [
    "from sklearn.linear_model import LinearRegression"
   ]
  },
  {
   "cell_type": "code",
   "execution_count": 35,
   "metadata": {},
   "outputs": [],
   "source": [
    "lm_ = LinearRegression()"
   ]
  },
  {
   "cell_type": "code",
   "execution_count": 36,
   "metadata": {},
   "outputs": [
    {
     "data": {
      "text/plain": [
       "LinearRegression(copy_X=True, fit_intercept=True, n_jobs=1, normalize=False)"
      ]
     },
     "execution_count": 36,
     "metadata": {},
     "output_type": "execute_result"
    }
   ],
   "source": [
    "lm_.fit(X,y)"
   ]
  },
  {
   "cell_type": "markdown",
   "metadata": {},
   "source": [
    "**Coefficients**"
   ]
  },
  {
   "cell_type": "code",
   "execution_count": 37,
   "metadata": {},
   "outputs": [],
   "source": [
    "coef_skl_intercept = list(lm_.intercept_)\n",
    "coef_skl_other = list(lm_.coef_.flatten())\n",
    "coef_skl = coef_skl_intercept + coef_skl_other"
   ]
  },
  {
   "cell_type": "code",
   "execution_count": 38,
   "metadata": {},
   "outputs": [
    {
     "data": {
      "text/html": [
       "<div>\n",
       "<style scoped>\n",
       "    .dataframe tbody tr th:only-of-type {\n",
       "        vertical-align: middle;\n",
       "    }\n",
       "\n",
       "    .dataframe tbody tr th {\n",
       "        vertical-align: top;\n",
       "    }\n",
       "\n",
       "    .dataframe thead th {\n",
       "        text-align: right;\n",
       "    }\n",
       "</style>\n",
       "<table border=\"1\" class=\"dataframe\">\n",
       "  <thead>\n",
       "    <tr style=\"text-align: right;\">\n",
       "      <th></th>\n",
       "      <th>features</th>\n",
       "      <th>estimateCoefficients</th>\n",
       "    </tr>\n",
       "  </thead>\n",
       "  <tbody>\n",
       "    <tr>\n",
       "      <th>0</th>\n",
       "      <td>intercept</td>\n",
       "      <td>384639.0</td>\n",
       "    </tr>\n",
       "    <tr>\n",
       "      <th>1</th>\n",
       "      <td>lot_area</td>\n",
       "      <td>1.0</td>\n",
       "    </tr>\n",
       "    <tr>\n",
       "      <th>2</th>\n",
       "      <td>overall_qual</td>\n",
       "      <td>15491.0</td>\n",
       "    </tr>\n",
       "    <tr>\n",
       "      <th>3</th>\n",
       "      <td>overall_cond</td>\n",
       "      <td>4304.0</td>\n",
       "    </tr>\n",
       "    <tr>\n",
       "      <th>4</th>\n",
       "      <td>year_built</td>\n",
       "      <td>359.0</td>\n",
       "    </tr>\n",
       "    <tr>\n",
       "      <th>5</th>\n",
       "      <td>year_remod_add</td>\n",
       "      <td>204.0</td>\n",
       "    </tr>\n",
       "    <tr>\n",
       "      <th>6</th>\n",
       "      <td>bsmtfin_sf_1</td>\n",
       "      <td>22.0</td>\n",
       "    </tr>\n",
       "    <tr>\n",
       "      <th>7</th>\n",
       "      <td>bsmtfin_sf_2</td>\n",
       "      <td>2.0</td>\n",
       "    </tr>\n",
       "    <tr>\n",
       "      <th>8</th>\n",
       "      <td>bsmt_unf_sf</td>\n",
       "      <td>-1.0</td>\n",
       "    </tr>\n",
       "    <tr>\n",
       "      <th>9</th>\n",
       "      <td>total_bsmt_sf</td>\n",
       "      <td>23.0</td>\n",
       "    </tr>\n",
       "    <tr>\n",
       "      <th>10</th>\n",
       "      <td>x1st_flr_sf</td>\n",
       "      <td>32.0</td>\n",
       "    </tr>\n",
       "    <tr>\n",
       "      <th>11</th>\n",
       "      <td>x2nd_flr_sf</td>\n",
       "      <td>24.0</td>\n",
       "    </tr>\n",
       "    <tr>\n",
       "      <th>12</th>\n",
       "      <td>low_qual_fin_sf</td>\n",
       "      <td>-20.0</td>\n",
       "    </tr>\n",
       "    <tr>\n",
       "      <th>13</th>\n",
       "      <td>gr_liv_area</td>\n",
       "      <td>36.0</td>\n",
       "    </tr>\n",
       "    <tr>\n",
       "      <th>14</th>\n",
       "      <td>bsmt_full_bath</td>\n",
       "      <td>461.0</td>\n",
       "    </tr>\n",
       "    <tr>\n",
       "      <th>15</th>\n",
       "      <td>bsmt_half_bath</td>\n",
       "      <td>-4983.0</td>\n",
       "    </tr>\n",
       "    <tr>\n",
       "      <th>16</th>\n",
       "      <td>full_bath</td>\n",
       "      <td>-2436.0</td>\n",
       "    </tr>\n",
       "    <tr>\n",
       "      <th>17</th>\n",
       "      <td>half_bath</td>\n",
       "      <td>-874.0</td>\n",
       "    </tr>\n",
       "    <tr>\n",
       "      <th>18</th>\n",
       "      <td>bedroom_abvgr</td>\n",
       "      <td>-10979.0</td>\n",
       "    </tr>\n",
       "    <tr>\n",
       "      <th>19</th>\n",
       "      <td>kitchen_abvgr</td>\n",
       "      <td>-23705.0</td>\n",
       "    </tr>\n",
       "    <tr>\n",
       "      <th>20</th>\n",
       "      <td>totrms_abvgrd</td>\n",
       "      <td>4561.0</td>\n",
       "    </tr>\n",
       "    <tr>\n",
       "      <th>21</th>\n",
       "      <td>fireplaces</td>\n",
       "      <td>1276.0</td>\n",
       "    </tr>\n",
       "    <tr>\n",
       "      <th>22</th>\n",
       "      <td>garage_cars</td>\n",
       "      <td>-273.0</td>\n",
       "    </tr>\n",
       "    <tr>\n",
       "      <th>23</th>\n",
       "      <td>garage_area</td>\n",
       "      <td>32.0</td>\n",
       "    </tr>\n",
       "    <tr>\n",
       "      <th>24</th>\n",
       "      <td>wood_deck_sf</td>\n",
       "      <td>12.0</td>\n",
       "    </tr>\n",
       "    <tr>\n",
       "      <th>25</th>\n",
       "      <td>open_porch_sf</td>\n",
       "      <td>6.0</td>\n",
       "    </tr>\n",
       "    <tr>\n",
       "      <th>26</th>\n",
       "      <td>enclosed_porch</td>\n",
       "      <td>12.0</td>\n",
       "    </tr>\n",
       "    <tr>\n",
       "      <th>27</th>\n",
       "      <td>x3ssn_porch</td>\n",
       "      <td>-6.0</td>\n",
       "    </tr>\n",
       "    <tr>\n",
       "      <th>28</th>\n",
       "      <td>screen_porch</td>\n",
       "      <td>44.0</td>\n",
       "    </tr>\n",
       "    <tr>\n",
       "      <th>29</th>\n",
       "      <td>pool_area</td>\n",
       "      <td>-17.0</td>\n",
       "    </tr>\n",
       "    <tr>\n",
       "      <th>30</th>\n",
       "      <td>misc_val</td>\n",
       "      <td>-1.0</td>\n",
       "    </tr>\n",
       "    <tr>\n",
       "      <th>31</th>\n",
       "      <td>mo_sold</td>\n",
       "      <td>136.0</td>\n",
       "    </tr>\n",
       "    <tr>\n",
       "      <th>32</th>\n",
       "      <td>yr_sold</td>\n",
       "      <td>-778.0</td>\n",
       "    </tr>\n",
       "  </tbody>\n",
       "</table>\n",
       "</div>"
      ],
      "text/plain": [
       "           features  estimateCoefficients\n",
       "0         intercept              384639.0\n",
       "1          lot_area                   1.0\n",
       "2      overall_qual               15491.0\n",
       "3      overall_cond                4304.0\n",
       "4        year_built                 359.0\n",
       "5    year_remod_add                 204.0\n",
       "6      bsmtfin_sf_1                  22.0\n",
       "7      bsmtfin_sf_2                   2.0\n",
       "8       bsmt_unf_sf                  -1.0\n",
       "9     total_bsmt_sf                  23.0\n",
       "10      x1st_flr_sf                  32.0\n",
       "11      x2nd_flr_sf                  24.0\n",
       "12  low_qual_fin_sf                 -20.0\n",
       "13      gr_liv_area                  36.0\n",
       "14   bsmt_full_bath                 461.0\n",
       "15   bsmt_half_bath               -4983.0\n",
       "16        full_bath               -2436.0\n",
       "17        half_bath                -874.0\n",
       "18    bedroom_abvgr              -10979.0\n",
       "19    kitchen_abvgr              -23705.0\n",
       "20    totrms_abvgrd                4561.0\n",
       "21       fireplaces                1276.0\n",
       "22      garage_cars                -273.0\n",
       "23      garage_area                  32.0\n",
       "24     wood_deck_sf                  12.0\n",
       "25    open_porch_sf                   6.0\n",
       "26   enclosed_porch                  12.0\n",
       "27      x3ssn_porch                  -6.0\n",
       "28     screen_porch                  44.0\n",
       "29        pool_area                 -17.0\n",
       "30         misc_val                  -1.0\n",
       "31          mo_sold                 136.0\n",
       "32          yr_sold                -778.0"
      ]
     },
     "execution_count": 38,
     "metadata": {},
     "output_type": "execute_result"
    }
   ],
   "source": [
    "df_lm_results = pd.DataFrame({'features': ['intercept'] + vars_toUse,\n",
    "                              'estimateCoefficients': np.round(coef_skl, 0)})\n",
    "df_lm_results"
   ]
  },
  {
   "cell_type": "markdown",
   "metadata": {},
   "source": [
    "TODO \n",
    "\n",
    "- Why do we have some massive coefficients? (Actually they are not too bad - but in some early runs we had coefficients like 5e16 and -5e16)\n",
    "- What can we do about this?"
   ]
  },
  {
   "cell_type": "markdown",
   "metadata": {},
   "source": [
    "TODO\n",
    "\n",
    " - Rerun the above model with the smaller subset of variables in the cell below"
   ]
  },
  {
   "cell_type": "code",
   "execution_count": 29,
   "metadata": {},
   "outputs": [],
   "source": [
    "vars_toUse = [var for var in vars_toUse if var not in ['bsmtfin_sf_1', 'bsmtfin_sf_2', 'bsmt_unf_sf',\n",
    "                                                       'bsmt_full_bath', 'bsmt_half_bath',\n",
    "                                                       'garage_cars',\n",
    "                                                       'bedroom_abvgr', 'kitchen_abvgr',\n",
    "                                                       'full_bath', 'half_bath',\n",
    "                                                       'x1st_flr_sf', 'x2nd_flr_sf', 'low_qual_fin_sf',\n",
    "                                                       'total_bsmt_sf',\n",
    "                                                       'totrms_abvgrd', 'lot_area', 'overall_qual']]\n",
    "X = df_all[vars_toUse].values\n",
    "y = df_all[var_dep].values"
   ]
  },
  {
   "cell_type": "markdown",
   "metadata": {},
   "source": [
    "TODO  \n",
    " - Based on the above coefficients, which feature is most important? (fireplaces?? - how many are there...)\n",
    " <b>ANS: The information is on a different scale!</b>\n",
    " - Now rerun the model after using the cell below to scale the features (gr_liv_area - what was the range of this \n",
    " before scaling?)\n",
    " - What would you know say is the most important feature?  Does this make sense?\n",
    " ANS: After scaling, most significant feature is living area, followed by year built. Makes sense."
   ]
  },
  {
   "cell_type": "code",
   "execution_count": 40,
   "metadata": {},
   "outputs": [],
   "source": [
    "# df_all['fireplaces'].value_counts #number of fireplaces"
   ]
  },
  {
   "cell_type": "code",
   "execution_count": 191,
   "metadata": {},
   "outputs": [
    {
     "name": "stdout",
     "output_type": "stream",
     "text": [
      "fp max:  4.0\n",
      "fp min:  0.0\n",
      "liv area max:  3672.0\n",
      "liv area min:  334.0\n",
      "fp range:  4.0\n",
      "liv area range:  3338.0\n"
     ]
    }
   ],
   "source": [
    "###CHECKING RANGES, TO GET AN IDEA OF DIFFERENT SCALES\n",
    "fp_max = df_all['fireplaces'].idxmax()\n",
    "fp_min = df_all['fireplaces'].idxmin()\n",
    "gr_liv_area_max = df_all['gr_liv_area'].idxmax()\n",
    "gr_liv_area_min = df_all['gr_liv_area'].idxmin()\n",
    "print('fp max: ',df_all['fireplaces'].iloc[fp_max])\n",
    "print('fp min: ',df_all['fireplaces'].iloc[fp_min])\n",
    "\n",
    "\n",
    "print('liv area max: ',df_all['gr_liv_area'].iloc[gr_liv_area_max])\n",
    "print('liv area min: ',df_all['gr_liv_area'].iloc[gr_liv_area_min])\n",
    "\n",
    "print('fp range: ',df_all['fireplaces'].iloc[fp_max]-df_all['fireplaces'].iloc[fp_min])\n",
    "print('liv area range: ',df_all['gr_liv_area'].iloc[gr_liv_area_max]-df_all['gr_liv_area'].iloc[gr_liv_area_min])\n",
    "# print('fireplaces: ',df_all['fireplaces'].idxmax() - df_all['fireplaces'].idxmin()) #range of fireplaces before scaling\n",
    "# print('gr_liv_area: ', df_all['gr_liv_area'].idxmax() - df_all['gr_liv_area'].idxmin()) #range of gr_liv_area before scaling"
   ]
  },
  {
   "cell_type": "code",
   "execution_count": 25,
   "metadata": {},
   "outputs": [],
   "source": [
    "from sklearn.preprocessing import StandardScaler\n",
    "\n",
    "standardScaler_ = StandardScaler()\n",
    "standardScaler_.fit(X)\n",
    "X = standardScaler_.transform(X)"
   ]
  },
  {
   "cell_type": "code",
   "execution_count": 196,
   "metadata": {},
   "outputs": [
    {
     "name": "stdout",
     "output_type": "stream",
     "text": [
      "scaled features: means:  [ 0. -0.  0.  0. -0. -0. -0.  0.  0. -0.  0.  0.  0. -0. -0.]\n",
      "scaled features: standard deviation:  [1. 1. 1. 1. 1. 1. 1. 1. 1. 1. 1. 1. 1. 1. 1.]\n"
     ]
    }
   ],
   "source": [
    "###STANDARD SCALER ADJUSTS EVERY VARIABLE SO THAT THEIR MEAN IS 0 AND STANDARD DEV IS 1 (I.E. STANDARDISES THEM)\n",
    "# scaled features: means \n",
    "print(\"scaled features: means: \", np.round(X.mean(axis=0),5) )\n",
    "\n",
    "# scaled features: variance\n",
    "print(\"scaled features: standard deviation: \", np.round(X.std(axis=0),5) )"
   ]
  },
  {
   "cell_type": "markdown",
   "metadata": {},
   "source": [
    "**Graph of average sale price by living area quantile**"
   ]
  },
  {
   "cell_type": "code",
   "execution_count": 197,
   "metadata": {},
   "outputs": [
    {
     "data": {
      "text/html": [
       "<div>\n",
       "<style scoped>\n",
       "    .dataframe tbody tr th:only-of-type {\n",
       "        vertical-align: middle;\n",
       "    }\n",
       "\n",
       "    .dataframe tbody tr th {\n",
       "        vertical-align: top;\n",
       "    }\n",
       "\n",
       "    .dataframe thead th {\n",
       "        text-align: right;\n",
       "    }\n",
       "</style>\n",
       "<table border=\"1\" class=\"dataframe\">\n",
       "  <thead>\n",
       "    <tr style=\"text-align: right;\">\n",
       "      <th></th>\n",
       "      <th>gr_liv_area_q</th>\n",
       "      <th>saleprice</th>\n",
       "    </tr>\n",
       "  </thead>\n",
       "  <tbody>\n",
       "    <tr>\n",
       "      <th>0</th>\n",
       "      <td>0</td>\n",
       "      <td>98141.0</td>\n",
       "    </tr>\n",
       "    <tr>\n",
       "      <th>1</th>\n",
       "      <td>1</td>\n",
       "      <td>117268.0</td>\n",
       "    </tr>\n",
       "    <tr>\n",
       "      <th>2</th>\n",
       "      <td>2</td>\n",
       "      <td>120502.0</td>\n",
       "    </tr>\n",
       "    <tr>\n",
       "      <th>3</th>\n",
       "      <td>3</td>\n",
       "      <td>130202.0</td>\n",
       "    </tr>\n",
       "    <tr>\n",
       "      <th>4</th>\n",
       "      <td>4</td>\n",
       "      <td>128688.0</td>\n",
       "    </tr>\n",
       "  </tbody>\n",
       "</table>\n",
       "</div>"
      ],
      "text/plain": [
       "   gr_liv_area_q  saleprice\n",
       "0              0    98141.0\n",
       "1              1   117268.0\n",
       "2              2   120502.0\n",
       "3              3   130202.0\n",
       "4              4   128688.0"
      ]
     },
     "execution_count": 197,
     "metadata": {},
     "output_type": "execute_result"
    }
   ],
   "source": [
    "df_all['gr_liv_area_q'] = pd.qcut(df_all['gr_liv_area'], 20, labels=False) #note equal no. of bins in each quantile\n",
    "gb_temp = df_all.groupby('gr_liv_area_q').agg({'saleprice': lambda x: np.round(np.mean(x))}).reset_index()\n",
    "gb_temp.head()"
   ]
  },
  {
   "cell_type": "code",
   "execution_count": 48,
   "metadata": {},
   "outputs": [
    {
     "data": {
      "image/png": "[encoded data removed]",
      "text/plain": [
       "<Figure size 720x432 with 1 Axes>"
      ]
     },
     "metadata": {},
     "output_type": "display_data"
    }
   ],
   "source": [
    "# create a new figure\n",
    "fig = plt.figure(figsize = (10,6))\n",
    "\n",
    "# add a subplot\n",
    "ax1 = fig.add_subplot(1, 1, 1)\n",
    "\n",
    "_ = ax1.scatter(gb_temp['gr_liv_area_q'],  gb_temp['saleprice'], s = 16)\n",
    "ax1.set_xlabel('gr_liv_area percentiles')\n",
    "ax1.set_ylabel('saleprice $ ')\n",
    "_ = plt.title('saleprice by lot_area (sq foot)')"
   ]
  },
  {
   "cell_type": "markdown",
   "metadata": {},
   "source": [
    "## Predictions "
   ]
  },
  {
   "cell_type": "markdown",
   "metadata": {},
   "source": [
    "**TODO**\n",
    "\n",
    "- Use the predict method of your lm_ object to predict the linear model for each row of X\n",
    "- Find the mean prediction and compare it to the mean of the target variable.  Is it the same?  Is this surprising?\n",
    "\n",
    "<b>Ans: Not surprising as model has an intercept which captures average error</b>"
   ]
  },
  {
   "cell_type": "code",
   "execution_count": 54,
   "metadata": {},
   "outputs": [],
   "source": [
    "?LinearRegression.predict()"
   ]
  },
  {
   "cell_type": "code",
   "execution_count": 198,
   "metadata": {},
   "outputs": [],
   "source": [
    "# prediction \n",
    "lm__pred = lm_.predict(X)"
   ]
  },
  {
   "cell_type": "code",
   "execution_count": 200,
   "metadata": {},
   "outputs": [
    {
     "name": "stdout",
     "output_type": "stream",
     "text": [
      "mean predicted sale price: $180,421\n",
      "mean actual sale price: $180,421\n"
     ]
    }
   ],
   "source": [
    "mean_predicted = np.mean(lm__pred)\n",
    "# mean_actual = np.mean(df_all['saleprice']) \n",
    "mean_actual = np.mean(y) \n",
    "print('mean predicted sale price: ${:,.0f}'.format(mean_predicted))\n",
    "print('mean actual sale price: ${:,.0f}'.format(mean_actual))"
   ]
  },
  {
   "cell_type": "markdown",
   "metadata": {},
   "source": [
    "**Replicate one prediction**\n",
    "\n",
    "The prediction for the first example is given below"
   ]
  },
  {
   "cell_type": "code",
   "execution_count": 201,
   "metadata": {},
   "outputs": [
    {
     "name": "stdout",
     "output_type": "stream",
     "text": [
      "prediction on first example [197352.] \n",
      "\n",
      "actual sale price on first example 215000.0\n"
     ]
    }
   ],
   "source": [
    "# What is the prediction on the first example:\n",
    "print('prediction on first example', np.round(lm__pred[0], 0), '\\n')\n",
    "print('actual sale price on first example', df_all[var_dep[0]].iloc[0])\n"
   ]
  },
  {
   "cell_type": "code",
   "execution_count": 202,
   "metadata": {},
   "outputs": [
    {
     "name": "stdout",
     "output_type": "stream",
     "text": [
      "intercept [180420.68685832] \n",
      "\n",
      "coefficients [[ 6632.12872603 23144.71258818  8496.07537173 34099.67335803\n",
      "  10285.13439506 16719.954712    4586.49886457  3025.28130609\n",
      "   2567.18846942   958.18770425  4432.03659486 -1646.13700319\n",
      "   -368.45242442  -553.56153625 -1433.00401289]] \n",
      "\n"
     ]
    }
   ],
   "source": [
    "# What is the intercept and what are the other coefficients\n",
    "print('intercept', lm_.intercept_, '\\n')\n",
    "print('coefficients', lm_.coef_, '\\n')"
   ]
  },
  {
   "cell_type": "markdown",
   "metadata": {},
   "source": [
    "**TODO** \n",
    "- Calculate the prediction for the first example:\n",
    " $$ \\text{intercept} + \\text{dot product of other coefficients and X[0]}$$\n",
    "- Compare your result to the prediction above (197,352)"
   ]
  },
  {
   "cell_type": "code",
   "execution_count": 203,
   "metadata": {},
   "outputs": [],
   "source": [
    "###DEBUGGING, checking data dealing with\n",
    "# X.shape\n",
    "# temp = X[0][np.newaxis]\n",
    "# temp.shape\n",
    "# lm_.intercept_.shape\n",
    "# lm_.coef_.shape"
   ]
  },
  {
   "cell_type": "code",
   "execution_count": 205,
   "metadata": {},
   "outputs": [
    {
     "name": "stdout",
     "output_type": "stream",
     "text": [
      "manual prediction [197352.3232503]\n"
     ]
    }
   ],
   "source": [
    "manual_prediction = lm_.intercept_ + lm_.coef_.dot(X[0])\n",
    "# manual_prediction = lm_.intercept_ + X[0][np.newaxis].dot(lm_.coef_.T) #Alternative to above, need to make X[0] into a 2D mat to transpose (1D transposed is still 1D)\n",
    "#See: https://stackoverflow.com/questions/5954603/transposing-a-numpy-array\n",
    "print('manual prediction', manual_prediction)"
   ]
  },
  {
   "cell_type": "markdown",
   "metadata": {},
   "source": [
    "**Performance**"
   ]
  },
  {
   "cell_type": "markdown",
   "metadata": {},
   "source": [
    "**TODO**\n",
    "\n",
    " - Calculate the mean absolute error of your predictions\n",
    " - Is this a good indication of performance of this model on future data that it has not yet seen?  (Actually probably yes because it is unlikely to be overfitted)"
   ]
  },
  {
   "cell_type": "code",
   "execution_count": 207,
   "metadata": {},
   "outputs": [
    {
     "name": "stdout",
     "output_type": "stream",
     "text": [
      "train error 27020.0\n"
     ]
    }
   ],
   "source": [
    "# mean absolute error in predictions\n",
    "# on train data\n",
    "# df_all[var_dep].values\n",
    "# lm__pred\n",
    "# train_error = fn_MAE(df_all[var_dep].values, lm__pred)\n",
    "train_error = fn_MAE(y, lm__pred)\n",
    "\n",
    "\n",
    "print('train error', train_error) "
   ]
  },
  {
   "cell_type": "code",
   "execution_count": 147,
   "metadata": {},
   "outputs": [],
   "source": [
    "# del train_error"
   ]
  },
  {
   "cell_type": "code",
   "execution_count": null,
   "metadata": {},
   "outputs": [],
   "source": []
  },
  {
   "cell_type": "code",
   "execution_count": null,
   "metadata": {},
   "outputs": [],
   "source": []
  }
 ],
 "metadata": {
  "anaconda-cloud": {},
  "kernelspec": {
   "display_name": "Python 3",
   "language": "python",
   "name": "python3"
  },
  "language_info": {
   "codemirror_mode": {
    "name": "ipython",
    "version": 3
   },
   "file_extension": ".py",
   "mimetype": "text/x-python",
   "name": "python",
   "nbconvert_exporter": "python",
   "pygments_lexer": "ipython3",
   "version": "3.6.7"
  }
 },
 "nbformat": 4,
 "nbformat_minor": 1
}
