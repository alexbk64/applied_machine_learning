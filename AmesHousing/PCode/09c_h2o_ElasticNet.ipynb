{
 "cells": [
  {
   "cell_type": "markdown",
   "metadata": {},
   "source": [
    "# Ames housing: penalised regression with h2o"
   ]
  },
  {
   "cell_type": "markdown",
   "metadata": {},
   "source": [
    "Contents\n",
    " - start\n",
    " - basis functions\n",
    " - regression with h2o\n",
    " - save model and save predictions\n",
    " \n",
    "Notes\n",
    " - ** h2o does not need onehot for hccv's **\n",
    "\n",
    "Sources:\n",
    " - \n",
    "\n",
    "Copyright (C) 2018 Alan Chalk  \n",
    "Please do not distribute or publish without permission."
   ]
  },
  {
   "cell_type": "markdown",
   "metadata": {},
   "source": [
    "## Start_."
   ]
  },
  {
   "cell_type": "markdown",
   "metadata": {
    "scrolled": true
   },
   "source": [
    "**packages**"
   ]
  },
  {
   "cell_type": "code",
   "execution_count": 1,
   "metadata": {},
   "outputs": [],
   "source": [
    "import os\n",
    "import numpy as np\n",
    "import pandas as pd\n",
    "import pickle\n",
    "\n",
    "import h2o\n",
    "from h2o.estimators.glm import H2OGeneralizedLinearEstimator\n",
    "from h2o.grid.grid_search import H2OGridSearch\n",
    "\n",
    "import matplotlib.pyplot as plt\n",
    "%matplotlib inline"
   ]
  },
  {
   "cell_type": "markdown",
   "metadata": {},
   "source": [
    "**Directories and paths**"
   ]
  },
  {
   "cell_type": "code",
   "execution_count": 2,
   "metadata": {},
   "outputs": [
    {
     "name": "stdout",
     "output_type": "stream",
     "text": [
      "/home/jovyan/2020/Projects/AmesHousing/PCode\n"
     ]
    }
   ],
   "source": [
    "# Set directories\n",
    "print(os.getcwd())\n",
    "dirRawData = \"../input/\"\n",
    "dirPData =   \"../PData/\""
   ]
  },
  {
   "cell_type": "markdown",
   "metadata": {},
   "source": [
    "**Functions**"
   ]
  },
  {
   "cell_type": "code",
   "execution_count": 3,
   "metadata": {},
   "outputs": [],
   "source": [
    "def fn_MAE(actuals, predictions):\n",
    "    return np.round(np.mean(np.abs(predictions - actuals)))\n",
    "\n",
    "def fn_RMSE(actuals, predictions):\n",
    "    return np.round(np.sqrt(np.mean((predictions - actuals)**2)))"
   ]
  },
  {
   "cell_type": "markdown",
   "metadata": {},
   "source": [
    "**Load data**"
   ]
  },
  {
   "cell_type": "code",
   "execution_count": 4,
   "metadata": {},
   "outputs": [],
   "source": [
    "# load df_all (use the none one-hot version)\n",
    "#df_all = pd.read_hdf(dirPData + '02_df_all.h5', 'df_all')\n",
    "f_name = dirPData + '02_df.pickle'\n",
    "\n",
    "with (open(f_name, \"rb\")) as f:\n",
    "    dict_ = pickle.load(f)\n",
    "\n",
    "df_all = dict_['df_all']\n",
    "\n",
    "del f_name, dict_"
   ]
  },
  {
   "cell_type": "code",
   "execution_count": 5,
   "metadata": {},
   "outputs": [],
   "source": [
    "# load the variables information\n",
    "f_name = dirPData + '02_vars.pickle'\n",
    "with open(f_name, \"rb\") as f:\n",
    "    dict_ = pickle.load(f)\n",
    "    \n",
    "var_dep = dict_['var_dep']\n",
    "vars_ind_numeric = dict_['vars_ind_numeric']\n",
    "vars_ind_categorical = dict_['vars_ind_categorical']\n",
    "vars_ind_onehot = dict_['vars_ind_onehot']\n",
    "\n",
    "del dict_"
   ]
  },
  {
   "cell_type": "code",
   "execution_count": 6,
   "metadata": {},
   "outputs": [],
   "source": [
    "idx_train  = df_all['fold'].isin(range(6))\n",
    "idx_val    = df_all['fold'].isin([6, 7])\n",
    "idx_design = df_all['fold'].isin(range(8))\n",
    "idx_test   = df_all['fold'].isin([8, 9])"
   ]
  },
  {
   "cell_type": "markdown",
   "metadata": {},
   "source": [
    "**Prepare basis functions**"
   ]
  },
  {
   "cell_type": "code",
   "execution_count": 7,
   "metadata": {},
   "outputs": [],
   "source": [
    "# do this only for truly continuous variables\n",
    "# (this is not necessarily \"right\" - but just quicker to code ...)\n",
    "# using >8 made sklearn crash - but h2o is fine with it\n",
    "vars_ind_tospline = df_all[vars_ind_numeric].columns[(df_all[vars_ind_numeric].nunique() > 8)].tolist()"
   ]
  },
  {
   "cell_type": "code",
   "execution_count": 8,
   "metadata": {},
   "outputs": [],
   "source": [
    "def fn_tosplines(x):\n",
    "    x = x.values\n",
    "    # hack: remove zeros to avoid issues where lots of values are zero\n",
    "    x_nonzero = x[x != 0]\n",
    "    ptiles = np.percentile(x_nonzero, [10, 20, 40, 60, 80, 90])\n",
    "    ptiles = np.unique(ptiles)\n",
    "    print(var, ptiles)\n",
    "    df_ptiles = pd.DataFrame({var: x})\n",
    "    for idx, ptile in enumerate(ptiles):\n",
    "        df_ptiles[var + '_' + str(idx)] = np.maximum(0, x - ptiles[idx])\n",
    "    return(df_ptiles)"
   ]
  },
  {
   "cell_type": "markdown",
   "metadata": {},
   "source": [
    "Now update df_all with splines / basis functions"
   ]
  },
  {
   "cell_type": "code",
   "execution_count": 9,
   "metadata": {},
   "outputs": [
    {
     "name": "stdout",
     "output_type": "stream",
     "text": [
      "lot_area [ 4800.   7000.   8727.6 10140.  12178.4 14248.5]\n",
      "overall_qual [5. 6. 7. 8.]\n",
      "overall_cond [5. 6. 7.]\n",
      "year_built [1925.  1947.2 1965.  1984.  2003.  2006. ]\n",
      "year_remod_add [1950. 1960. 1978. 1998. 2005. 2006.]\n",
      "bsmtfin_sf_1 [ 176.   300.   504.   697.   954.6 1187.6]\n",
      "bsmtfin_sf_2 [ 96. 149. 276. 449. 668. 850.]\n",
      "bsmt_unf_sf [ 148.   234.   410.2  634.   927.  1251.2]\n",
      "total_bsmt_sf [ 650.3  768.   920.  1099.  1398.  1614. ]\n",
      "x1st_flr_sf [ 744.1  847.   997.  1180.6 1479.  1670. ]\n",
      "x2nd_flr_sf [ 472.   554.4  694.4  814.6  976.8 1157.4]\n",
      "low_qual_fin_sf [ 80.  136.  290.8 394.  487.2 516.3]\n",
      "gr_liv_area [ 924.  1064.2 1326.  1558.  1836.  2139.8]\n",
      "totrms_abvgrd [5. 6. 7. 8.]\n",
      "garage_area [270.  314.6 441.  525.  625.  767.2]\n",
      "wood_deck_sf [ 85.  113.4 150.  192.  263.6 329.3]\n",
      "open_porch_sf [ 27.  35.  50.  78. 122. 172.]\n",
      "enclosed_porch [ 42.7  77.  114.8 158.  211.6 244. ]\n",
      "x3ssn_porch [126.  145.2 168.  208.  253.  321.2]\n",
      "screen_porch [109.5 123.  160.  189.  224.  265.5]\n",
      "pool_area [228. 368. 512. 561. 648. 738.]\n",
      "misc_val [ 400.  500.  650. 1500. 2450.]\n",
      "mo_sold [ 3.  4.  6.  7.  8. 10.]\n"
     ]
    }
   ],
   "source": [
    "for var in vars_ind_tospline:\n",
    "    df_ptiles = fn_tosplines(df_all[var])\n",
    "    df_all.drop(columns=[var], inplace=True)\n",
    "    vars_ind_numeric.remove(var)\n",
    "    df_all = pd.concat([df_all, df_ptiles], axis=1, sort=False)\n",
    "    vars_ind_numeric.extend(df_ptiles.columns.tolist())"
   ]
  },
  {
   "cell_type": "code",
   "execution_count": 10,
   "metadata": {},
   "outputs": [],
   "source": [
    "vars_ind = vars_ind_categorical + vars_ind_numeric"
   ]
  },
  {
   "cell_type": "code",
   "execution_count": 11,
   "metadata": {},
   "outputs": [],
   "source": [
    "# for convenience store dependent variable as y\n",
    "y = df_all[var_dep].values.ravel()"
   ]
  },
  {
   "cell_type": "markdown",
   "metadata": {},
   "source": [
    "### \"elastic net\" regression"
   ]
  },
  {
   "cell_type": "markdown",
   "metadata": {},
   "source": [
    "**start h2o**"
   ]
  },
  {
   "cell_type": "code",
   "execution_count": 12,
   "metadata": {},
   "outputs": [
    {
     "name": "stdout",
     "output_type": "stream",
     "text": [
      "Checking whether there is an H2O instance running at http://localhost:54321 ..... not found.\n",
      "Attempting to start a local H2O server...\n",
      "  Java Version: openjdk version \"1.8.0_212\"; OpenJDK Runtime Environment (build 1.8.0_212-8u212-b03-0ubuntu1.18.04.1-b03); OpenJDK 64-Bit Server VM (build 25.212-b03, mixed mode)\n",
      "  Starting server from /opt/conda/lib/python3.6/site-packages/h2o/backend/bin/h2o.jar\n",
      "  Ice root: /tmp/tmporpe_4la\n",
      "  JVM stdout: /tmp/tmporpe_4la/h2o_jovyan_started_from_python.out\n",
      "  JVM stderr: /tmp/tmporpe_4la/h2o_jovyan_started_from_python.err\n",
      "  Server is running at http://127.0.0.1:54321\n",
      "Connecting to H2O server at http://127.0.0.1:54321 ... successful.\n",
      "Warning: Your H2O cluster version is too old (1 year and 25 days)! Please download and install the latest version from http://h2o.ai/download/\n"
     ]
    },
    {
     "data": {
      "text/html": [
       "<div style=\"overflow:auto\"><table style=\"width:50%\"><tr><td>H2O cluster uptime:</td>\n",
       "<td>01 secs</td></tr>\n",
       "<tr><td>H2O cluster timezone:</td>\n",
       "<td>Etc/UTC</td></tr>\n",
       "<tr><td>H2O data parsing timezone:</td>\n",
       "<td>UTC</td></tr>\n",
       "<tr><td>H2O cluster version:</td>\n",
       "<td>3.24.0.3</td></tr>\n",
       "<tr><td>H2O cluster version age:</td>\n",
       "<td>1 year and 25 days !!!</td></tr>\n",
       "<tr><td>H2O cluster name:</td>\n",
       "<td>H2O_from_python_jovyan_rn6htr</td></tr>\n",
       "<tr><td>H2O cluster total nodes:</td>\n",
       "<td>1</td></tr>\n",
       "<tr><td>H2O cluster free memory:</td>\n",
       "<td>443 Mb</td></tr>\n",
       "<tr><td>H2O cluster total cores:</td>\n",
       "<td>8</td></tr>\n",
       "<tr><td>H2O cluster allowed cores:</td>\n",
       "<td>8</td></tr>\n",
       "<tr><td>H2O cluster status:</td>\n",
       "<td>accepting new members, healthy</td></tr>\n",
       "<tr><td>H2O connection url:</td>\n",
       "<td>http://127.0.0.1:54321</td></tr>\n",
       "<tr><td>H2O connection proxy:</td>\n",
       "<td>None</td></tr>\n",
       "<tr><td>H2O internal security:</td>\n",
       "<td>False</td></tr>\n",
       "<tr><td>H2O API Extensions:</td>\n",
       "<td>Amazon S3, XGBoost, Algos, AutoML, Core V3, Core V4</td></tr>\n",
       "<tr><td>Python version:</td>\n",
       "<td>3.6.7 final</td></tr></table></div>"
      ],
      "text/plain": [
       "--------------------------  ---------------------------------------------------\n",
       "H2O cluster uptime:         01 secs\n",
       "H2O cluster timezone:       Etc/UTC\n",
       "H2O data parsing timezone:  UTC\n",
       "H2O cluster version:        3.24.0.3\n",
       "H2O cluster version age:    1 year and 25 days !!!\n",
       "H2O cluster name:           H2O_from_python_jovyan_rn6htr\n",
       "H2O cluster total nodes:    1\n",
       "H2O cluster free memory:    443 Mb\n",
       "H2O cluster total cores:    8\n",
       "H2O cluster allowed cores:  8\n",
       "H2O cluster status:         accepting new members, healthy\n",
       "H2O connection url:         http://127.0.0.1:54321\n",
       "H2O connection proxy:\n",
       "H2O internal security:      False\n",
       "H2O API Extensions:         Amazon S3, XGBoost, Algos, AutoML, Core V3, Core V4\n",
       "Python version:             3.6.7 final\n",
       "--------------------------  ---------------------------------------------------"
      ]
     },
     "metadata": {},
     "output_type": "display_data"
    }
   ],
   "source": [
    "h2o.init(port=54321)\n",
    "#h2o.connect()"
   ]
  },
  {
   "cell_type": "markdown",
   "metadata": {},
   "source": [
    "**Load data into h2o**"
   ]
  },
  {
   "cell_type": "code",
   "execution_count": 13,
   "metadata": {},
   "outputs": [
    {
     "name": "stdout",
     "output_type": "stream",
     "text": [
      "Parse progress: |█████████████████████████████████████████████████████████| 100%\n"
     ]
    }
   ],
   "source": [
    "h2o_df_all = h2o.H2OFrame(df_all[vars_ind + var_dep + ['fold']],\n",
    "                          destination_frame = 'df_all')"
   ]
  },
  {
   "cell_type": "markdown",
   "metadata": {},
   "source": [
    "Notes\n",
    " - h2o_df_all is a \"handle\" to the object stored in the h2o JVM\n",
    " - Similar attributes to pandas dataframe, but not the same\n",
    " - pandas uses \"dtypes\"\n",
    " - important to check the types for each column are correct"
   ]
  },
  {
   "cell_type": "code",
   "execution_count": 14,
   "metadata": {},
   "outputs": [
    {
     "data": {
      "text/html": [
       "<table>\n",
       "<thead>\n",
       "<tr><th>ms_subclass  </th><th>ms_zoning  </th><th>street  </th><th>alley         </th><th>lot_shape  </th><th>land_contour  </th><th>lot_config  </th><th>land_slope  </th><th>neighborhood  </th><th>condition_1  </th><th>condition_2  </th><th>bldg_type  </th><th>house_style  </th><th>roof_style  </th><th>roof_matl  </th><th>exterior_1st  </th><th>exterior_2nd  </th><th>mas_vnr_type  </th><th>exter_qual  </th><th>exter_cond  </th><th>foundation  </th><th>bsmt_qual  </th><th>bsmt_cond  </th><th>bsmt_exposure  </th><th>bsmtfin_type_1  </th><th>bsmtfin_type_2  </th><th>heating  </th><th>heating_qc  </th><th>central_air  </th><th>electrical  </th><th>kitchen_qual  </th><th>functional  </th><th>fireplace_qu  </th><th>garage_type  </th><th>garage_finish  </th><th>garage_qual  </th><th>garage_cond  </th><th>paved_drive  </th><th>fence         </th><th>misc_feature  </th><th>sale_type  </th><th>sale_condition  </th><th style=\"text-align: right;\">  bsmt_full_bath</th><th style=\"text-align: right;\">  bsmt_half_bath</th><th style=\"text-align: right;\">  full_bath</th><th style=\"text-align: right;\">  half_bath</th><th style=\"text-align: right;\">  bedroom_abvgr</th><th style=\"text-align: right;\">  kitchen_abvgr</th><th style=\"text-align: right;\">  fireplaces</th><th style=\"text-align: right;\">  garage_cars</th><th style=\"text-align: right;\">  yr_sold</th><th style=\"text-align: right;\">  lot_area</th><th style=\"text-align: right;\">  lot_area_0</th><th style=\"text-align: right;\">  lot_area_1</th><th style=\"text-align: right;\">  lot_area_2</th><th style=\"text-align: right;\">  lot_area_3</th><th style=\"text-align: right;\">  lot_area_4</th><th style=\"text-align: right;\">  lot_area_5</th><th style=\"text-align: right;\">  overall_qual</th><th style=\"text-align: right;\">  overall_qual_0</th><th style=\"text-align: right;\">  overall_qual_1</th><th style=\"text-align: right;\">  overall_qual_2</th><th style=\"text-align: right;\">  overall_qual_3</th><th style=\"text-align: right;\">  overall_cond</th><th style=\"text-align: right;\">  overall_cond_0</th><th style=\"text-align: right;\">  overall_cond_1</th><th style=\"text-align: right;\">  overall_cond_2</th><th style=\"text-align: right;\">  year_built</th><th style=\"text-align: right;\">  year_built_0</th><th style=\"text-align: right;\">  year_built_1</th><th style=\"text-align: right;\">  year_built_2</th><th style=\"text-align: right;\">  year_built_3</th><th style=\"text-align: right;\">  year_built_4</th><th style=\"text-align: right;\">  year_built_5</th><th style=\"text-align: right;\">  year_remod_add</th><th style=\"text-align: right;\">  year_remod_add_0</th><th style=\"text-align: right;\">  year_remod_add_1</th><th style=\"text-align: right;\">  year_remod_add_2</th><th style=\"text-align: right;\">  year_remod_add_3</th><th style=\"text-align: right;\">  year_remod_add_4</th><th style=\"text-align: right;\">  year_remod_add_5</th><th style=\"text-align: right;\">  bsmtfin_sf_1</th><th style=\"text-align: right;\">  bsmtfin_sf_1_0</th><th style=\"text-align: right;\">  bsmtfin_sf_1_1</th><th style=\"text-align: right;\">  bsmtfin_sf_1_2</th><th style=\"text-align: right;\">  bsmtfin_sf_1_3</th><th style=\"text-align: right;\">  bsmtfin_sf_1_4</th><th style=\"text-align: right;\">  bsmtfin_sf_1_5</th><th style=\"text-align: right;\">  bsmtfin_sf_2</th><th style=\"text-align: right;\">  bsmtfin_sf_2_0</th><th style=\"text-align: right;\">  bsmtfin_sf_2_1</th><th style=\"text-align: right;\">  bsmtfin_sf_2_2</th><th style=\"text-align: right;\">  bsmtfin_sf_2_3</th><th style=\"text-align: right;\">  bsmtfin_sf_2_4</th><th style=\"text-align: right;\">  bsmtfin_sf_2_5</th><th style=\"text-align: right;\">  bsmt_unf_sf</th><th style=\"text-align: right;\">  bsmt_unf_sf_0</th><th style=\"text-align: right;\">  bsmt_unf_sf_1</th><th style=\"text-align: right;\">  bsmt_unf_sf_2</th><th style=\"text-align: right;\">  bsmt_unf_sf_3</th><th style=\"text-align: right;\">  bsmt_unf_sf_4</th><th style=\"text-align: right;\">  bsmt_unf_sf_5</th><th style=\"text-align: right;\">  total_bsmt_sf</th><th style=\"text-align: right;\">  total_bsmt_sf_0</th><th style=\"text-align: right;\">  total_bsmt_sf_1</th><th style=\"text-align: right;\">  total_bsmt_sf_2</th><th style=\"text-align: right;\">  total_bsmt_sf_3</th><th style=\"text-align: right;\">  total_bsmt_sf_4</th><th style=\"text-align: right;\">  total_bsmt_sf_5</th><th style=\"text-align: right;\">  x1st_flr_sf</th><th style=\"text-align: right;\">  x1st_flr_sf_0</th><th style=\"text-align: right;\">  x1st_flr_sf_1</th><th style=\"text-align: right;\">  x1st_flr_sf_2</th><th style=\"text-align: right;\">  x1st_flr_sf_3</th><th style=\"text-align: right;\">  x1st_flr_sf_4</th><th style=\"text-align: right;\">  x1st_flr_sf_5</th><th style=\"text-align: right;\">  x2nd_flr_sf</th><th style=\"text-align: right;\">  x2nd_flr_sf_0</th><th style=\"text-align: right;\">  x2nd_flr_sf_1</th><th style=\"text-align: right;\">  x2nd_flr_sf_2</th><th style=\"text-align: right;\">  x2nd_flr_sf_3</th><th style=\"text-align: right;\">  x2nd_flr_sf_4</th><th style=\"text-align: right;\">  x2nd_flr_sf_5</th><th style=\"text-align: right;\">  low_qual_fin_sf</th><th style=\"text-align: right;\">  low_qual_fin_sf_0</th><th style=\"text-align: right;\">  low_qual_fin_sf_1</th><th style=\"text-align: right;\">  low_qual_fin_sf_2</th><th style=\"text-align: right;\">  low_qual_fin_sf_3</th><th style=\"text-align: right;\">  low_qual_fin_sf_4</th><th style=\"text-align: right;\">  low_qual_fin_sf_5</th><th style=\"text-align: right;\">  gr_liv_area</th><th style=\"text-align: right;\">  gr_liv_area_0</th><th style=\"text-align: right;\">  gr_liv_area_1</th><th style=\"text-align: right;\">  gr_liv_area_2</th><th style=\"text-align: right;\">  gr_liv_area_3</th><th style=\"text-align: right;\">  gr_liv_area_4</th><th style=\"text-align: right;\">  gr_liv_area_5</th><th style=\"text-align: right;\">  totrms_abvgrd</th><th style=\"text-align: right;\">  totrms_abvgrd_0</th><th style=\"text-align: right;\">  totrms_abvgrd_1</th><th style=\"text-align: right;\">  totrms_abvgrd_2</th><th style=\"text-align: right;\">  totrms_abvgrd_3</th><th style=\"text-align: right;\">  garage_area</th><th style=\"text-align: right;\">  garage_area_0</th><th style=\"text-align: right;\">  garage_area_1</th><th style=\"text-align: right;\">  garage_area_2</th><th style=\"text-align: right;\">  garage_area_3</th><th style=\"text-align: right;\">  garage_area_4</th><th style=\"text-align: right;\">  garage_area_5</th><th style=\"text-align: right;\">  wood_deck_sf</th><th style=\"text-align: right;\">  wood_deck_sf_0</th><th style=\"text-align: right;\">  wood_deck_sf_1</th><th style=\"text-align: right;\">  wood_deck_sf_2</th><th style=\"text-align: right;\">  wood_deck_sf_3</th><th style=\"text-align: right;\">  wood_deck_sf_4</th><th style=\"text-align: right;\">  wood_deck_sf_5</th><th style=\"text-align: right;\">  open_porch_sf</th><th style=\"text-align: right;\">  open_porch_sf_0</th><th style=\"text-align: right;\">  open_porch_sf_1</th><th style=\"text-align: right;\">  open_porch_sf_2</th><th style=\"text-align: right;\">  open_porch_sf_3</th><th style=\"text-align: right;\">  open_porch_sf_4</th><th style=\"text-align: right;\">  open_porch_sf_5</th><th style=\"text-align: right;\">  enclosed_porch</th><th style=\"text-align: right;\">  enclosed_porch_0</th><th style=\"text-align: right;\">  enclosed_porch_1</th><th style=\"text-align: right;\">  enclosed_porch_2</th><th style=\"text-align: right;\">  enclosed_porch_3</th><th style=\"text-align: right;\">  enclosed_porch_4</th><th style=\"text-align: right;\">  enclosed_porch_5</th><th style=\"text-align: right;\">  x3ssn_porch</th><th style=\"text-align: right;\">  x3ssn_porch_0</th><th style=\"text-align: right;\">  x3ssn_porch_1</th><th style=\"text-align: right;\">  x3ssn_porch_2</th><th style=\"text-align: right;\">  x3ssn_porch_3</th><th style=\"text-align: right;\">  x3ssn_porch_4</th><th style=\"text-align: right;\">  x3ssn_porch_5</th><th style=\"text-align: right;\">  screen_porch</th><th style=\"text-align: right;\">  screen_porch_0</th><th style=\"text-align: right;\">  screen_porch_1</th><th style=\"text-align: right;\">  screen_porch_2</th><th style=\"text-align: right;\">  screen_porch_3</th><th style=\"text-align: right;\">  screen_porch_4</th><th style=\"text-align: right;\">  screen_porch_5</th><th style=\"text-align: right;\">  pool_area</th><th style=\"text-align: right;\">  pool_area_0</th><th style=\"text-align: right;\">  pool_area_1</th><th style=\"text-align: right;\">  pool_area_2</th><th style=\"text-align: right;\">  pool_area_3</th><th style=\"text-align: right;\">  pool_area_4</th><th style=\"text-align: right;\">  pool_area_5</th><th style=\"text-align: right;\">  misc_val</th><th style=\"text-align: right;\">  misc_val_0</th><th style=\"text-align: right;\">  misc_val_1</th><th style=\"text-align: right;\">  misc_val_2</th><th style=\"text-align: right;\">  misc_val_3</th><th style=\"text-align: right;\">  misc_val_4</th><th style=\"text-align: right;\">  mo_sold</th><th style=\"text-align: right;\">  mo_sold_0</th><th style=\"text-align: right;\">  mo_sold_1</th></tr>\n",
       "</thead>\n",
       "<tbody>\n",
       "<tr><td>MS_20        </td><td>RL         </td><td>Pave    </td><td>DoesNotHaveOne</td><td>IR1        </td><td>Lvl           </td><td>Corner      </td><td>Gtl         </td><td>NAmes         </td><td>Norm         </td><td>Norm         </td><td>1Fam       </td><td>1Story       </td><td>Hip         </td><td>CompShg    </td><td>BrkFace       </td><td>Plywood       </td><td>Stone         </td><td>TA          </td><td>TA          </td><td>CBlock      </td><td>TA         </td><td>Gd         </td><td>Gd             </td><td>BLQ             </td><td>Unf             </td><td>GasA     </td><td>Fa          </td><td>Y            </td><td>SBrkr       </td><td>TA            </td><td>Typ         </td><td>Gd            </td><td>Attchd       </td><td>Fin            </td><td>TA           </td><td>TA           </td><td>P            </td><td>DoesNotHaveOne</td><td>DoesNotHaveOne</td><td>WD         </td><td>Normal          </td><td style=\"text-align: right;\">               1</td><td style=\"text-align: right;\">               0</td><td style=\"text-align: right;\">          1</td><td style=\"text-align: right;\">          0</td><td style=\"text-align: right;\">              3</td><td style=\"text-align: right;\">              1</td><td style=\"text-align: right;\">           2</td><td style=\"text-align: right;\">            2</td><td style=\"text-align: right;\">     2010</td><td style=\"text-align: right;\">     31770</td><td style=\"text-align: right;\">       26970</td><td style=\"text-align: right;\">       24770</td><td style=\"text-align: right;\">     23042.4</td><td style=\"text-align: right;\">       21630</td><td style=\"text-align: right;\">     19591.6</td><td style=\"text-align: right;\">     17521.5</td><td style=\"text-align: right;\">             6</td><td style=\"text-align: right;\">               1</td><td style=\"text-align: right;\">               0</td><td style=\"text-align: right;\">               0</td><td style=\"text-align: right;\">               0</td><td style=\"text-align: right;\">             5</td><td style=\"text-align: right;\">               0</td><td style=\"text-align: right;\">               0</td><td style=\"text-align: right;\">               0</td><td style=\"text-align: right;\">        1960</td><td style=\"text-align: right;\">            35</td><td style=\"text-align: right;\">          12.8</td><td style=\"text-align: right;\">             0</td><td style=\"text-align: right;\">             0</td><td style=\"text-align: right;\">             0</td><td style=\"text-align: right;\">             0</td><td style=\"text-align: right;\">            1960</td><td style=\"text-align: right;\">                10</td><td style=\"text-align: right;\">                 0</td><td style=\"text-align: right;\">                 0</td><td style=\"text-align: right;\">                 0</td><td style=\"text-align: right;\">                 0</td><td style=\"text-align: right;\">                 0</td><td style=\"text-align: right;\">           639</td><td style=\"text-align: right;\">             463</td><td style=\"text-align: right;\">             339</td><td style=\"text-align: right;\">             135</td><td style=\"text-align: right;\">               0</td><td style=\"text-align: right;\">             0  </td><td style=\"text-align: right;\">               0</td><td style=\"text-align: right;\">             0</td><td style=\"text-align: right;\">               0</td><td style=\"text-align: right;\">               0</td><td style=\"text-align: right;\">               0</td><td style=\"text-align: right;\">               0</td><td style=\"text-align: right;\">               0</td><td style=\"text-align: right;\">               0</td><td style=\"text-align: right;\">          441</td><td style=\"text-align: right;\">            293</td><td style=\"text-align: right;\">            207</td><td style=\"text-align: right;\">           30.8</td><td style=\"text-align: right;\">              0</td><td style=\"text-align: right;\">              0</td><td style=\"text-align: right;\">              0</td><td style=\"text-align: right;\">           1080</td><td style=\"text-align: right;\">            429.7</td><td style=\"text-align: right;\">              312</td><td style=\"text-align: right;\">              160</td><td style=\"text-align: right;\">                0</td><td style=\"text-align: right;\">                0</td><td style=\"text-align: right;\">                0</td><td style=\"text-align: right;\">         1656</td><td style=\"text-align: right;\">          911.9</td><td style=\"text-align: right;\">            809</td><td style=\"text-align: right;\">            659</td><td style=\"text-align: right;\">          475.4</td><td style=\"text-align: right;\">            177</td><td style=\"text-align: right;\">              0</td><td style=\"text-align: right;\">            0</td><td style=\"text-align: right;\">              0</td><td style=\"text-align: right;\">            0  </td><td style=\"text-align: right;\">            0  </td><td style=\"text-align: right;\">              0</td><td style=\"text-align: right;\">              0</td><td style=\"text-align: right;\">              0</td><td style=\"text-align: right;\">                0</td><td style=\"text-align: right;\">                  0</td><td style=\"text-align: right;\">                  0</td><td style=\"text-align: right;\">                  0</td><td style=\"text-align: right;\">                  0</td><td style=\"text-align: right;\">                  0</td><td style=\"text-align: right;\">                  0</td><td style=\"text-align: right;\">         1656</td><td style=\"text-align: right;\">            732</td><td style=\"text-align: right;\">          591.8</td><td style=\"text-align: right;\">            330</td><td style=\"text-align: right;\">             98</td><td style=\"text-align: right;\">              0</td><td style=\"text-align: right;\">              0</td><td style=\"text-align: right;\">              7</td><td style=\"text-align: right;\">                2</td><td style=\"text-align: right;\">                1</td><td style=\"text-align: right;\">                0</td><td style=\"text-align: right;\">                0</td><td style=\"text-align: right;\">          528</td><td style=\"text-align: right;\">            258</td><td style=\"text-align: right;\">          213.4</td><td style=\"text-align: right;\">             87</td><td style=\"text-align: right;\">              3</td><td style=\"text-align: right;\">              0</td><td style=\"text-align: right;\">              0</td><td style=\"text-align: right;\">           210</td><td style=\"text-align: right;\">             125</td><td style=\"text-align: right;\">            96.6</td><td style=\"text-align: right;\">              60</td><td style=\"text-align: right;\">              18</td><td style=\"text-align: right;\">             0  </td><td style=\"text-align: right;\">             0  </td><td style=\"text-align: right;\">             62</td><td style=\"text-align: right;\">               35</td><td style=\"text-align: right;\">               27</td><td style=\"text-align: right;\">               12</td><td style=\"text-align: right;\">                0</td><td style=\"text-align: right;\">                0</td><td style=\"text-align: right;\">                0</td><td style=\"text-align: right;\">               0</td><td style=\"text-align: right;\">                 0</td><td style=\"text-align: right;\">                 0</td><td style=\"text-align: right;\">                 0</td><td style=\"text-align: right;\">                 0</td><td style=\"text-align: right;\">                 0</td><td style=\"text-align: right;\">                 0</td><td style=\"text-align: right;\">            0</td><td style=\"text-align: right;\">              0</td><td style=\"text-align: right;\">              0</td><td style=\"text-align: right;\">              0</td><td style=\"text-align: right;\">              0</td><td style=\"text-align: right;\">              0</td><td style=\"text-align: right;\">              0</td><td style=\"text-align: right;\">             0</td><td style=\"text-align: right;\">             0  </td><td style=\"text-align: right;\">               0</td><td style=\"text-align: right;\">               0</td><td style=\"text-align: right;\">               0</td><td style=\"text-align: right;\">               0</td><td style=\"text-align: right;\">               0</td><td style=\"text-align: right;\">          0</td><td style=\"text-align: right;\">            0</td><td style=\"text-align: right;\">            0</td><td style=\"text-align: right;\">            0</td><td style=\"text-align: right;\">            0</td><td style=\"text-align: right;\">            0</td><td style=\"text-align: right;\">            0</td><td style=\"text-align: right;\">         0</td><td style=\"text-align: right;\">           0</td><td style=\"text-align: right;\">           0</td><td style=\"text-align: right;\">           0</td><td style=\"text-align: right;\">           0</td><td style=\"text-align: right;\">           0</td><td style=\"text-align: right;\">        5</td><td style=\"text-align: right;\">          2</td><td style=\"text-align: right;\">          1</td></tr>\n",
       "<tr><td>MS_20        </td><td>RH         </td><td>Pave    </td><td>DoesNotHaveOne</td><td>Reg        </td><td>Lvl           </td><td>Inside      </td><td>Gtl         </td><td>NAmes         </td><td>Feedr        </td><td>Norm         </td><td>1Fam       </td><td>1Story       </td><td>Gable       </td><td>CompShg    </td><td>VinylSd       </td><td>VinylSd       </td><td>None          </td><td>TA          </td><td>TA          </td><td>CBlock      </td><td>TA         </td><td>TA         </td><td>No             </td><td>Rec             </td><td>LwQ             </td><td>GasA     </td><td>TA          </td><td>Y            </td><td>SBrkr       </td><td>TA            </td><td>Typ         </td><td>DoesNotHaveOne</td><td>Attchd       </td><td>Unf            </td><td>TA           </td><td>TA           </td><td>Y            </td><td>MnPrv         </td><td>DoesNotHaveOne</td><td>WD         </td><td>Normal          </td><td style=\"text-align: right;\">               0</td><td style=\"text-align: right;\">               0</td><td style=\"text-align: right;\">          1</td><td style=\"text-align: right;\">          0</td><td style=\"text-align: right;\">              2</td><td style=\"text-align: right;\">              1</td><td style=\"text-align: right;\">           0</td><td style=\"text-align: right;\">            1</td><td style=\"text-align: right;\">     2010</td><td style=\"text-align: right;\">     11622</td><td style=\"text-align: right;\">        6822</td><td style=\"text-align: right;\">        4622</td><td style=\"text-align: right;\">      2894.4</td><td style=\"text-align: right;\">        1482</td><td style=\"text-align: right;\">         0  </td><td style=\"text-align: right;\">         0  </td><td style=\"text-align: right;\">             5</td><td style=\"text-align: right;\">               0</td><td style=\"text-align: right;\">               0</td><td style=\"text-align: right;\">               0</td><td style=\"text-align: right;\">               0</td><td style=\"text-align: right;\">             6</td><td style=\"text-align: right;\">               1</td><td style=\"text-align: right;\">               0</td><td style=\"text-align: right;\">               0</td><td style=\"text-align: right;\">        1961</td><td style=\"text-align: right;\">            36</td><td style=\"text-align: right;\">          13.8</td><td style=\"text-align: right;\">             0</td><td style=\"text-align: right;\">             0</td><td style=\"text-align: right;\">             0</td><td style=\"text-align: right;\">             0</td><td style=\"text-align: right;\">            1961</td><td style=\"text-align: right;\">                11</td><td style=\"text-align: right;\">                 1</td><td style=\"text-align: right;\">                 0</td><td style=\"text-align: right;\">                 0</td><td style=\"text-align: right;\">                 0</td><td style=\"text-align: right;\">                 0</td><td style=\"text-align: right;\">           468</td><td style=\"text-align: right;\">             292</td><td style=\"text-align: right;\">             168</td><td style=\"text-align: right;\">               0</td><td style=\"text-align: right;\">               0</td><td style=\"text-align: right;\">             0  </td><td style=\"text-align: right;\">               0</td><td style=\"text-align: right;\">           144</td><td style=\"text-align: right;\">              48</td><td style=\"text-align: right;\">               0</td><td style=\"text-align: right;\">               0</td><td style=\"text-align: right;\">               0</td><td style=\"text-align: right;\">               0</td><td style=\"text-align: right;\">               0</td><td style=\"text-align: right;\">          270</td><td style=\"text-align: right;\">            122</td><td style=\"text-align: right;\">             36</td><td style=\"text-align: right;\">            0  </td><td style=\"text-align: right;\">              0</td><td style=\"text-align: right;\">              0</td><td style=\"text-align: right;\">              0</td><td style=\"text-align: right;\">            882</td><td style=\"text-align: right;\">            231.7</td><td style=\"text-align: right;\">              114</td><td style=\"text-align: right;\">                0</td><td style=\"text-align: right;\">                0</td><td style=\"text-align: right;\">                0</td><td style=\"text-align: right;\">                0</td><td style=\"text-align: right;\">          896</td><td style=\"text-align: right;\">          151.9</td><td style=\"text-align: right;\">             49</td><td style=\"text-align: right;\">              0</td><td style=\"text-align: right;\">            0  </td><td style=\"text-align: right;\">              0</td><td style=\"text-align: right;\">              0</td><td style=\"text-align: right;\">            0</td><td style=\"text-align: right;\">              0</td><td style=\"text-align: right;\">            0  </td><td style=\"text-align: right;\">            0  </td><td style=\"text-align: right;\">              0</td><td style=\"text-align: right;\">              0</td><td style=\"text-align: right;\">              0</td><td style=\"text-align: right;\">                0</td><td style=\"text-align: right;\">                  0</td><td style=\"text-align: right;\">                  0</td><td style=\"text-align: right;\">                  0</td><td style=\"text-align: right;\">                  0</td><td style=\"text-align: right;\">                  0</td><td style=\"text-align: right;\">                  0</td><td style=\"text-align: right;\">          896</td><td style=\"text-align: right;\">              0</td><td style=\"text-align: right;\">            0  </td><td style=\"text-align: right;\">              0</td><td style=\"text-align: right;\">              0</td><td style=\"text-align: right;\">              0</td><td style=\"text-align: right;\">              0</td><td style=\"text-align: right;\">              5</td><td style=\"text-align: right;\">                0</td><td style=\"text-align: right;\">                0</td><td style=\"text-align: right;\">                0</td><td style=\"text-align: right;\">                0</td><td style=\"text-align: right;\">          730</td><td style=\"text-align: right;\">            460</td><td style=\"text-align: right;\">          415.4</td><td style=\"text-align: right;\">            289</td><td style=\"text-align: right;\">            205</td><td style=\"text-align: right;\">            105</td><td style=\"text-align: right;\">              0</td><td style=\"text-align: right;\">           140</td><td style=\"text-align: right;\">              55</td><td style=\"text-align: right;\">            26.6</td><td style=\"text-align: right;\">               0</td><td style=\"text-align: right;\">               0</td><td style=\"text-align: right;\">             0  </td><td style=\"text-align: right;\">             0  </td><td style=\"text-align: right;\">              0</td><td style=\"text-align: right;\">                0</td><td style=\"text-align: right;\">                0</td><td style=\"text-align: right;\">                0</td><td style=\"text-align: right;\">                0</td><td style=\"text-align: right;\">                0</td><td style=\"text-align: right;\">                0</td><td style=\"text-align: right;\">               0</td><td style=\"text-align: right;\">                 0</td><td style=\"text-align: right;\">                 0</td><td style=\"text-align: right;\">                 0</td><td style=\"text-align: right;\">                 0</td><td style=\"text-align: right;\">                 0</td><td style=\"text-align: right;\">                 0</td><td style=\"text-align: right;\">            0</td><td style=\"text-align: right;\">              0</td><td style=\"text-align: right;\">              0</td><td style=\"text-align: right;\">              0</td><td style=\"text-align: right;\">              0</td><td style=\"text-align: right;\">              0</td><td style=\"text-align: right;\">              0</td><td style=\"text-align: right;\">           120</td><td style=\"text-align: right;\">            10.5</td><td style=\"text-align: right;\">               0</td><td style=\"text-align: right;\">               0</td><td style=\"text-align: right;\">               0</td><td style=\"text-align: right;\">               0</td><td style=\"text-align: right;\">               0</td><td style=\"text-align: right;\">          0</td><td style=\"text-align: right;\">            0</td><td style=\"text-align: right;\">            0</td><td style=\"text-align: right;\">            0</td><td style=\"text-align: right;\">            0</td><td style=\"text-align: right;\">            0</td><td style=\"text-align: right;\">            0</td><td style=\"text-align: right;\">         0</td><td style=\"text-align: right;\">           0</td><td style=\"text-align: right;\">           0</td><td style=\"text-align: right;\">           0</td><td style=\"text-align: right;\">           0</td><td style=\"text-align: right;\">           0</td><td style=\"text-align: right;\">        6</td><td style=\"text-align: right;\">          3</td><td style=\"text-align: right;\">          2</td></tr>\n",
       "<tr><td>MS_20        </td><td>RL         </td><td>Pave    </td><td>DoesNotHaveOne</td><td>IR1        </td><td>Lvl           </td><td>Corner      </td><td>Gtl         </td><td>NAmes         </td><td>Norm         </td><td>Norm         </td><td>1Fam       </td><td>1Story       </td><td>Hip         </td><td>CompShg    </td><td>Wd Sdng       </td><td>Wd Sdng       </td><td>BrkFace       </td><td>TA          </td><td>TA          </td><td>CBlock      </td><td>TA         </td><td>TA         </td><td>No             </td><td>ALQ             </td><td>Unf             </td><td>GasA     </td><td>TA          </td><td>Y            </td><td>SBrkr       </td><td>Gd            </td><td>Typ         </td><td>DoesNotHaveOne</td><td>Attchd       </td><td>Unf            </td><td>TA           </td><td>TA           </td><td>Y            </td><td>DoesNotHaveOne</td><td>DoesNotHaveOne</td><td>WD         </td><td>Normal          </td><td style=\"text-align: right;\">               0</td><td style=\"text-align: right;\">               0</td><td style=\"text-align: right;\">          1</td><td style=\"text-align: right;\">          1</td><td style=\"text-align: right;\">              3</td><td style=\"text-align: right;\">              1</td><td style=\"text-align: right;\">           0</td><td style=\"text-align: right;\">            1</td><td style=\"text-align: right;\">     2010</td><td style=\"text-align: right;\">     14267</td><td style=\"text-align: right;\">        9467</td><td style=\"text-align: right;\">        7267</td><td style=\"text-align: right;\">      5539.4</td><td style=\"text-align: right;\">        4127</td><td style=\"text-align: right;\">      2088.6</td><td style=\"text-align: right;\">        18.5</td><td style=\"text-align: right;\">             6</td><td style=\"text-align: right;\">               1</td><td style=\"text-align: right;\">               0</td><td style=\"text-align: right;\">               0</td><td style=\"text-align: right;\">               0</td><td style=\"text-align: right;\">             6</td><td style=\"text-align: right;\">               1</td><td style=\"text-align: right;\">               0</td><td style=\"text-align: right;\">               0</td><td style=\"text-align: right;\">        1958</td><td style=\"text-align: right;\">            33</td><td style=\"text-align: right;\">          10.8</td><td style=\"text-align: right;\">             0</td><td style=\"text-align: right;\">             0</td><td style=\"text-align: right;\">             0</td><td style=\"text-align: right;\">             0</td><td style=\"text-align: right;\">            1958</td><td style=\"text-align: right;\">                 8</td><td style=\"text-align: right;\">                 0</td><td style=\"text-align: right;\">                 0</td><td style=\"text-align: right;\">                 0</td><td style=\"text-align: right;\">                 0</td><td style=\"text-align: right;\">                 0</td><td style=\"text-align: right;\">           923</td><td style=\"text-align: right;\">             747</td><td style=\"text-align: right;\">             623</td><td style=\"text-align: right;\">             419</td><td style=\"text-align: right;\">             226</td><td style=\"text-align: right;\">             0  </td><td style=\"text-align: right;\">               0</td><td style=\"text-align: right;\">             0</td><td style=\"text-align: right;\">               0</td><td style=\"text-align: right;\">               0</td><td style=\"text-align: right;\">               0</td><td style=\"text-align: right;\">               0</td><td style=\"text-align: right;\">               0</td><td style=\"text-align: right;\">               0</td><td style=\"text-align: right;\">          406</td><td style=\"text-align: right;\">            258</td><td style=\"text-align: right;\">            172</td><td style=\"text-align: right;\">            0  </td><td style=\"text-align: right;\">              0</td><td style=\"text-align: right;\">              0</td><td style=\"text-align: right;\">              0</td><td style=\"text-align: right;\">           1329</td><td style=\"text-align: right;\">            678.7</td><td style=\"text-align: right;\">              561</td><td style=\"text-align: right;\">              409</td><td style=\"text-align: right;\">              230</td><td style=\"text-align: right;\">                0</td><td style=\"text-align: right;\">                0</td><td style=\"text-align: right;\">         1329</td><td style=\"text-align: right;\">          584.9</td><td style=\"text-align: right;\">            482</td><td style=\"text-align: right;\">            332</td><td style=\"text-align: right;\">          148.4</td><td style=\"text-align: right;\">              0</td><td style=\"text-align: right;\">              0</td><td style=\"text-align: right;\">            0</td><td style=\"text-align: right;\">              0</td><td style=\"text-align: right;\">            0  </td><td style=\"text-align: right;\">            0  </td><td style=\"text-align: right;\">              0</td><td style=\"text-align: right;\">              0</td><td style=\"text-align: right;\">              0</td><td style=\"text-align: right;\">                0</td><td style=\"text-align: right;\">                  0</td><td style=\"text-align: right;\">                  0</td><td style=\"text-align: right;\">                  0</td><td style=\"text-align: right;\">                  0</td><td style=\"text-align: right;\">                  0</td><td style=\"text-align: right;\">                  0</td><td style=\"text-align: right;\">         1329</td><td style=\"text-align: right;\">            405</td><td style=\"text-align: right;\">          264.8</td><td style=\"text-align: right;\">              3</td><td style=\"text-align: right;\">              0</td><td style=\"text-align: right;\">              0</td><td style=\"text-align: right;\">              0</td><td style=\"text-align: right;\">              6</td><td style=\"text-align: right;\">                1</td><td style=\"text-align: right;\">                0</td><td style=\"text-align: right;\">                0</td><td style=\"text-align: right;\">                0</td><td style=\"text-align: right;\">          312</td><td style=\"text-align: right;\">             42</td><td style=\"text-align: right;\">            0  </td><td style=\"text-align: right;\">              0</td><td style=\"text-align: right;\">              0</td><td style=\"text-align: right;\">              0</td><td style=\"text-align: right;\">              0</td><td style=\"text-align: right;\">           393</td><td style=\"text-align: right;\">             308</td><td style=\"text-align: right;\">           279.6</td><td style=\"text-align: right;\">             243</td><td style=\"text-align: right;\">             201</td><td style=\"text-align: right;\">           129.4</td><td style=\"text-align: right;\">            63.7</td><td style=\"text-align: right;\">             36</td><td style=\"text-align: right;\">                9</td><td style=\"text-align: right;\">                1</td><td style=\"text-align: right;\">                0</td><td style=\"text-align: right;\">                0</td><td style=\"text-align: right;\">                0</td><td style=\"text-align: right;\">                0</td><td style=\"text-align: right;\">               0</td><td style=\"text-align: right;\">                 0</td><td style=\"text-align: right;\">                 0</td><td style=\"text-align: right;\">                 0</td><td style=\"text-align: right;\">                 0</td><td style=\"text-align: right;\">                 0</td><td style=\"text-align: right;\">                 0</td><td style=\"text-align: right;\">            0</td><td style=\"text-align: right;\">              0</td><td style=\"text-align: right;\">              0</td><td style=\"text-align: right;\">              0</td><td style=\"text-align: right;\">              0</td><td style=\"text-align: right;\">              0</td><td style=\"text-align: right;\">              0</td><td style=\"text-align: right;\">             0</td><td style=\"text-align: right;\">             0  </td><td style=\"text-align: right;\">               0</td><td style=\"text-align: right;\">               0</td><td style=\"text-align: right;\">               0</td><td style=\"text-align: right;\">               0</td><td style=\"text-align: right;\">               0</td><td style=\"text-align: right;\">          0</td><td style=\"text-align: right;\">            0</td><td style=\"text-align: right;\">            0</td><td style=\"text-align: right;\">            0</td><td style=\"text-align: right;\">            0</td><td style=\"text-align: right;\">            0</td><td style=\"text-align: right;\">            0</td><td style=\"text-align: right;\">     12500</td><td style=\"text-align: right;\">       12100</td><td style=\"text-align: right;\">       12000</td><td style=\"text-align: right;\">       11850</td><td style=\"text-align: right;\">       11000</td><td style=\"text-align: right;\">       10050</td><td style=\"text-align: right;\">        6</td><td style=\"text-align: right;\">          3</td><td style=\"text-align: right;\">          2</td></tr>\n",
       "<tr><td>MS_20        </td><td>RL         </td><td>Pave    </td><td>DoesNotHaveOne</td><td>Reg        </td><td>Lvl           </td><td>Corner      </td><td>Gtl         </td><td>NAmes         </td><td>Norm         </td><td>Norm         </td><td>1Fam       </td><td>1Story       </td><td>Hip         </td><td>CompShg    </td><td>BrkFace       </td><td>BrkFace       </td><td>None          </td><td>Gd          </td><td>TA          </td><td>CBlock      </td><td>TA         </td><td>TA         </td><td>No             </td><td>ALQ             </td><td>Unf             </td><td>GasA     </td><td>Ex          </td><td>Y            </td><td>SBrkr       </td><td>Ex            </td><td>Typ         </td><td>TA            </td><td>Attchd       </td><td>Fin            </td><td>TA           </td><td>TA           </td><td>Y            </td><td>DoesNotHaveOne</td><td>DoesNotHaveOne</td><td>WD         </td><td>Normal          </td><td style=\"text-align: right;\">               1</td><td style=\"text-align: right;\">               0</td><td style=\"text-align: right;\">          2</td><td style=\"text-align: right;\">          1</td><td style=\"text-align: right;\">              3</td><td style=\"text-align: right;\">              1</td><td style=\"text-align: right;\">           2</td><td style=\"text-align: right;\">            2</td><td style=\"text-align: right;\">     2010</td><td style=\"text-align: right;\">     11160</td><td style=\"text-align: right;\">        6360</td><td style=\"text-align: right;\">        4160</td><td style=\"text-align: right;\">      2432.4</td><td style=\"text-align: right;\">        1020</td><td style=\"text-align: right;\">         0  </td><td style=\"text-align: right;\">         0  </td><td style=\"text-align: right;\">             7</td><td style=\"text-align: right;\">               2</td><td style=\"text-align: right;\">               1</td><td style=\"text-align: right;\">               0</td><td style=\"text-align: right;\">               0</td><td style=\"text-align: right;\">             5</td><td style=\"text-align: right;\">               0</td><td style=\"text-align: right;\">               0</td><td style=\"text-align: right;\">               0</td><td style=\"text-align: right;\">        1968</td><td style=\"text-align: right;\">            43</td><td style=\"text-align: right;\">          20.8</td><td style=\"text-align: right;\">             3</td><td style=\"text-align: right;\">             0</td><td style=\"text-align: right;\">             0</td><td style=\"text-align: right;\">             0</td><td style=\"text-align: right;\">            1968</td><td style=\"text-align: right;\">                18</td><td style=\"text-align: right;\">                 8</td><td style=\"text-align: right;\">                 0</td><td style=\"text-align: right;\">                 0</td><td style=\"text-align: right;\">                 0</td><td style=\"text-align: right;\">                 0</td><td style=\"text-align: right;\">          1065</td><td style=\"text-align: right;\">             889</td><td style=\"text-align: right;\">             765</td><td style=\"text-align: right;\">             561</td><td style=\"text-align: right;\">             368</td><td style=\"text-align: right;\">           110.4</td><td style=\"text-align: right;\">               0</td><td style=\"text-align: right;\">             0</td><td style=\"text-align: right;\">               0</td><td style=\"text-align: right;\">               0</td><td style=\"text-align: right;\">               0</td><td style=\"text-align: right;\">               0</td><td style=\"text-align: right;\">               0</td><td style=\"text-align: right;\">               0</td><td style=\"text-align: right;\">         1045</td><td style=\"text-align: right;\">            897</td><td style=\"text-align: right;\">            811</td><td style=\"text-align: right;\">          634.8</td><td style=\"text-align: right;\">            411</td><td style=\"text-align: right;\">            118</td><td style=\"text-align: right;\">              0</td><td style=\"text-align: right;\">           2110</td><td style=\"text-align: right;\">           1459.7</td><td style=\"text-align: right;\">             1342</td><td style=\"text-align: right;\">             1190</td><td style=\"text-align: right;\">             1011</td><td style=\"text-align: right;\">              712</td><td style=\"text-align: right;\">              496</td><td style=\"text-align: right;\">         2110</td><td style=\"text-align: right;\">         1365.9</td><td style=\"text-align: right;\">           1263</td><td style=\"text-align: right;\">           1113</td><td style=\"text-align: right;\">          929.4</td><td style=\"text-align: right;\">            631</td><td style=\"text-align: right;\">            440</td><td style=\"text-align: right;\">            0</td><td style=\"text-align: right;\">              0</td><td style=\"text-align: right;\">            0  </td><td style=\"text-align: right;\">            0  </td><td style=\"text-align: right;\">              0</td><td style=\"text-align: right;\">              0</td><td style=\"text-align: right;\">              0</td><td style=\"text-align: right;\">                0</td><td style=\"text-align: right;\">                  0</td><td style=\"text-align: right;\">                  0</td><td style=\"text-align: right;\">                  0</td><td style=\"text-align: right;\">                  0</td><td style=\"text-align: right;\">                  0</td><td style=\"text-align: right;\">                  0</td><td style=\"text-align: right;\">         2110</td><td style=\"text-align: right;\">           1186</td><td style=\"text-align: right;\">         1045.8</td><td style=\"text-align: right;\">            784</td><td style=\"text-align: right;\">            552</td><td style=\"text-align: right;\">            274</td><td style=\"text-align: right;\">              0</td><td style=\"text-align: right;\">              8</td><td style=\"text-align: right;\">                3</td><td style=\"text-align: right;\">                2</td><td style=\"text-align: right;\">                1</td><td style=\"text-align: right;\">                0</td><td style=\"text-align: right;\">          522</td><td style=\"text-align: right;\">            252</td><td style=\"text-align: right;\">          207.4</td><td style=\"text-align: right;\">             81</td><td style=\"text-align: right;\">              0</td><td style=\"text-align: right;\">              0</td><td style=\"text-align: right;\">              0</td><td style=\"text-align: right;\">             0</td><td style=\"text-align: right;\">               0</td><td style=\"text-align: right;\">             0  </td><td style=\"text-align: right;\">               0</td><td style=\"text-align: right;\">               0</td><td style=\"text-align: right;\">             0  </td><td style=\"text-align: right;\">             0  </td><td style=\"text-align: right;\">              0</td><td style=\"text-align: right;\">                0</td><td style=\"text-align: right;\">                0</td><td style=\"text-align: right;\">                0</td><td style=\"text-align: right;\">                0</td><td style=\"text-align: right;\">                0</td><td style=\"text-align: right;\">                0</td><td style=\"text-align: right;\">               0</td><td style=\"text-align: right;\">                 0</td><td style=\"text-align: right;\">                 0</td><td style=\"text-align: right;\">                 0</td><td style=\"text-align: right;\">                 0</td><td style=\"text-align: right;\">                 0</td><td style=\"text-align: right;\">                 0</td><td style=\"text-align: right;\">            0</td><td style=\"text-align: right;\">              0</td><td style=\"text-align: right;\">              0</td><td style=\"text-align: right;\">              0</td><td style=\"text-align: right;\">              0</td><td style=\"text-align: right;\">              0</td><td style=\"text-align: right;\">              0</td><td style=\"text-align: right;\">             0</td><td style=\"text-align: right;\">             0  </td><td style=\"text-align: right;\">               0</td><td style=\"text-align: right;\">               0</td><td style=\"text-align: right;\">               0</td><td style=\"text-align: right;\">               0</td><td style=\"text-align: right;\">               0</td><td style=\"text-align: right;\">          0</td><td style=\"text-align: right;\">            0</td><td style=\"text-align: right;\">            0</td><td style=\"text-align: right;\">            0</td><td style=\"text-align: right;\">            0</td><td style=\"text-align: right;\">            0</td><td style=\"text-align: right;\">            0</td><td style=\"text-align: right;\">         0</td><td style=\"text-align: right;\">           0</td><td style=\"text-align: right;\">           0</td><td style=\"text-align: right;\">           0</td><td style=\"text-align: right;\">           0</td><td style=\"text-align: right;\">           0</td><td style=\"text-align: right;\">        4</td><td style=\"text-align: right;\">          1</td><td style=\"text-align: right;\">          0</td></tr>\n",
       "<tr><td>MS_60        </td><td>RL         </td><td>Pave    </td><td>DoesNotHaveOne</td><td>IR1        </td><td>Lvl           </td><td>Inside      </td><td>Gtl         </td><td>Gilbert       </td><td>Norm         </td><td>Norm         </td><td>1Fam       </td><td>2Story       </td><td>Gable       </td><td>CompShg    </td><td>VinylSd       </td><td>VinylSd       </td><td>None          </td><td>TA          </td><td>TA          </td><td>PConc       </td><td>Gd         </td><td>TA         </td><td>No             </td><td>GLQ             </td><td>Unf             </td><td>GasA     </td><td>Gd          </td><td>Y            </td><td>SBrkr       </td><td>TA            </td><td>Typ         </td><td>TA            </td><td>Attchd       </td><td>Fin            </td><td>TA           </td><td>TA           </td><td>Y            </td><td>MnPrv         </td><td>DoesNotHaveOne</td><td>WD         </td><td>Normal          </td><td style=\"text-align: right;\">               0</td><td style=\"text-align: right;\">               0</td><td style=\"text-align: right;\">          2</td><td style=\"text-align: right;\">          1</td><td style=\"text-align: right;\">              3</td><td style=\"text-align: right;\">              1</td><td style=\"text-align: right;\">           1</td><td style=\"text-align: right;\">            2</td><td style=\"text-align: right;\">     2010</td><td style=\"text-align: right;\">     13830</td><td style=\"text-align: right;\">        9030</td><td style=\"text-align: right;\">        6830</td><td style=\"text-align: right;\">      5102.4</td><td style=\"text-align: right;\">        3690</td><td style=\"text-align: right;\">      1651.6</td><td style=\"text-align: right;\">         0  </td><td style=\"text-align: right;\">             5</td><td style=\"text-align: right;\">               0</td><td style=\"text-align: right;\">               0</td><td style=\"text-align: right;\">               0</td><td style=\"text-align: right;\">               0</td><td style=\"text-align: right;\">             5</td><td style=\"text-align: right;\">               0</td><td style=\"text-align: right;\">               0</td><td style=\"text-align: right;\">               0</td><td style=\"text-align: right;\">        1997</td><td style=\"text-align: right;\">            72</td><td style=\"text-align: right;\">          49.8</td><td style=\"text-align: right;\">            32</td><td style=\"text-align: right;\">            13</td><td style=\"text-align: right;\">             0</td><td style=\"text-align: right;\">             0</td><td style=\"text-align: right;\">            1998</td><td style=\"text-align: right;\">                48</td><td style=\"text-align: right;\">                38</td><td style=\"text-align: right;\">                20</td><td style=\"text-align: right;\">                 0</td><td style=\"text-align: right;\">                 0</td><td style=\"text-align: right;\">                 0</td><td style=\"text-align: right;\">           791</td><td style=\"text-align: right;\">             615</td><td style=\"text-align: right;\">             491</td><td style=\"text-align: right;\">             287</td><td style=\"text-align: right;\">              94</td><td style=\"text-align: right;\">             0  </td><td style=\"text-align: right;\">               0</td><td style=\"text-align: right;\">             0</td><td style=\"text-align: right;\">               0</td><td style=\"text-align: right;\">               0</td><td style=\"text-align: right;\">               0</td><td style=\"text-align: right;\">               0</td><td style=\"text-align: right;\">               0</td><td style=\"text-align: right;\">               0</td><td style=\"text-align: right;\">          137</td><td style=\"text-align: right;\">              0</td><td style=\"text-align: right;\">              0</td><td style=\"text-align: right;\">            0  </td><td style=\"text-align: right;\">              0</td><td style=\"text-align: right;\">              0</td><td style=\"text-align: right;\">              0</td><td style=\"text-align: right;\">            928</td><td style=\"text-align: right;\">            277.7</td><td style=\"text-align: right;\">              160</td><td style=\"text-align: right;\">                8</td><td style=\"text-align: right;\">                0</td><td style=\"text-align: right;\">                0</td><td style=\"text-align: right;\">                0</td><td style=\"text-align: right;\">          928</td><td style=\"text-align: right;\">          183.9</td><td style=\"text-align: right;\">             81</td><td style=\"text-align: right;\">              0</td><td style=\"text-align: right;\">            0  </td><td style=\"text-align: right;\">              0</td><td style=\"text-align: right;\">              0</td><td style=\"text-align: right;\">          701</td><td style=\"text-align: right;\">            229</td><td style=\"text-align: right;\">          146.6</td><td style=\"text-align: right;\">            6.6</td><td style=\"text-align: right;\">              0</td><td style=\"text-align: right;\">              0</td><td style=\"text-align: right;\">              0</td><td style=\"text-align: right;\">                0</td><td style=\"text-align: right;\">                  0</td><td style=\"text-align: right;\">                  0</td><td style=\"text-align: right;\">                  0</td><td style=\"text-align: right;\">                  0</td><td style=\"text-align: right;\">                  0</td><td style=\"text-align: right;\">                  0</td><td style=\"text-align: right;\">         1629</td><td style=\"text-align: right;\">            705</td><td style=\"text-align: right;\">          564.8</td><td style=\"text-align: right;\">            303</td><td style=\"text-align: right;\">             71</td><td style=\"text-align: right;\">              0</td><td style=\"text-align: right;\">              0</td><td style=\"text-align: right;\">              6</td><td style=\"text-align: right;\">                1</td><td style=\"text-align: right;\">                0</td><td style=\"text-align: right;\">                0</td><td style=\"text-align: right;\">                0</td><td style=\"text-align: right;\">          482</td><td style=\"text-align: right;\">            212</td><td style=\"text-align: right;\">          167.4</td><td style=\"text-align: right;\">             41</td><td style=\"text-align: right;\">              0</td><td style=\"text-align: right;\">              0</td><td style=\"text-align: right;\">              0</td><td style=\"text-align: right;\">           212</td><td style=\"text-align: right;\">             127</td><td style=\"text-align: right;\">            98.6</td><td style=\"text-align: right;\">              62</td><td style=\"text-align: right;\">              20</td><td style=\"text-align: right;\">             0  </td><td style=\"text-align: right;\">             0  </td><td style=\"text-align: right;\">             34</td><td style=\"text-align: right;\">                7</td><td style=\"text-align: right;\">                0</td><td style=\"text-align: right;\">                0</td><td style=\"text-align: right;\">                0</td><td style=\"text-align: right;\">                0</td><td style=\"text-align: right;\">                0</td><td style=\"text-align: right;\">               0</td><td style=\"text-align: right;\">                 0</td><td style=\"text-align: right;\">                 0</td><td style=\"text-align: right;\">                 0</td><td style=\"text-align: right;\">                 0</td><td style=\"text-align: right;\">                 0</td><td style=\"text-align: right;\">                 0</td><td style=\"text-align: right;\">            0</td><td style=\"text-align: right;\">              0</td><td style=\"text-align: right;\">              0</td><td style=\"text-align: right;\">              0</td><td style=\"text-align: right;\">              0</td><td style=\"text-align: right;\">              0</td><td style=\"text-align: right;\">              0</td><td style=\"text-align: right;\">             0</td><td style=\"text-align: right;\">             0  </td><td style=\"text-align: right;\">               0</td><td style=\"text-align: right;\">               0</td><td style=\"text-align: right;\">               0</td><td style=\"text-align: right;\">               0</td><td style=\"text-align: right;\">               0</td><td style=\"text-align: right;\">          0</td><td style=\"text-align: right;\">            0</td><td style=\"text-align: right;\">            0</td><td style=\"text-align: right;\">            0</td><td style=\"text-align: right;\">            0</td><td style=\"text-align: right;\">            0</td><td style=\"text-align: right;\">            0</td><td style=\"text-align: right;\">         0</td><td style=\"text-align: right;\">           0</td><td style=\"text-align: right;\">           0</td><td style=\"text-align: right;\">           0</td><td style=\"text-align: right;\">           0</td><td style=\"text-align: right;\">           0</td><td style=\"text-align: right;\">        3</td><td style=\"text-align: right;\">          0</td><td style=\"text-align: right;\">          0</td></tr>\n",
       "</tbody>\n",
       "</table>"
      ]
     },
     "metadata": {},
     "output_type": "display_data"
    },
    {
     "data": {
      "text/plain": []
     },
     "execution_count": 14,
     "metadata": {},
     "output_type": "execute_result"
    }
   ],
   "source": [
    "h2o_df_all.head(5)"
   ]
  },
  {
   "cell_type": "code",
   "execution_count": 15,
   "metadata": {},
   "outputs": [
    {
     "data": {
      "text/plain": [
       "{'ms_subclass': 'enum',\n",
       " 'ms_zoning': 'enum',\n",
       " 'street': 'enum',\n",
       " 'alley': 'enum',\n",
       " 'lot_shape': 'enum',\n",
       " 'land_contour': 'enum',\n",
       " 'lot_config': 'enum',\n",
       " 'land_slope': 'enum',\n",
       " 'neighborhood': 'enum',\n",
       " 'condition_1': 'enum',\n",
       " 'condition_2': 'enum',\n",
       " 'bldg_type': 'enum',\n",
       " 'house_style': 'enum',\n",
       " 'roof_style': 'enum',\n",
       " 'roof_matl': 'enum',\n",
       " 'exterior_1st': 'enum',\n",
       " 'exterior_2nd': 'enum',\n",
       " 'mas_vnr_type': 'enum',\n",
       " 'exter_qual': 'enum',\n",
       " 'exter_cond': 'enum',\n",
       " 'foundation': 'enum',\n",
       " 'bsmt_qual': 'enum',\n",
       " 'bsmt_cond': 'enum',\n",
       " 'bsmt_exposure': 'enum',\n",
       " 'bsmtfin_type_1': 'enum',\n",
       " 'bsmtfin_type_2': 'enum',\n",
       " 'heating': 'enum',\n",
       " 'heating_qc': 'enum',\n",
       " 'central_air': 'enum',\n",
       " 'electrical': 'enum',\n",
       " 'kitchen_qual': 'enum',\n",
       " 'functional': 'enum',\n",
       " 'fireplace_qu': 'enum',\n",
       " 'garage_type': 'enum',\n",
       " 'garage_finish': 'enum',\n",
       " 'garage_qual': 'enum',\n",
       " 'garage_cond': 'enum',\n",
       " 'paved_drive': 'enum',\n",
       " 'fence': 'enum',\n",
       " 'misc_feature': 'enum',\n",
       " 'sale_type': 'enum',\n",
       " 'sale_condition': 'enum'}"
      ]
     },
     "execution_count": 15,
     "metadata": {},
     "output_type": "execute_result"
    }
   ],
   "source": [
    "h2o_df_all[vars_ind_categorical].types\n",
    "\n",
    "# h2o has correctly read in all vars_ind_categorical as enum, so no need to change\n",
    "#for var in vars_ind_categorical:\n",
    "#    h2o_df_all[var] = h2o_df_all[var].asfactor()"
   ]
  },
  {
   "cell_type": "markdown",
   "metadata": {},
   "source": [
    "Notes\n",
    " - create boolean masks to index the df_all dataframe\n",
    " - is it necessary for them to be H2OFrame as done below?"
   ]
  },
  {
   "cell_type": "code",
   "execution_count": 16,
   "metadata": {},
   "outputs": [
    {
     "name": "stdout",
     "output_type": "stream",
     "text": [
      "Parse progress: |█████████████████████████████████████████████████████████| 100%\n",
      "Parse progress: |█████████████████████████████████████████████████████████| 100%\n",
      "Parse progress: |█████████████████████████████████████████████████████████| 100%\n",
      "Parse progress: |█████████████████████████████████████████████████████████| 100%\n"
     ]
    }
   ],
   "source": [
    "idx_h2o_train  = h2o.H2OFrame(idx_train.astype('int').values)\n",
    "idx_h2o_val    = h2o.H2OFrame(idx_val.astype('int').values)\n",
    "idx_h2o_design = h2o.H2OFrame(idx_design.astype('int').values)\n",
    "idx_h2o_test   = h2o.H2OFrame(idx_test.astype('int').values)"
   ]
  },
  {
   "cell_type": "markdown",
   "metadata": {},
   "source": [
    "###  Grid search\n",
    "\n",
    "Notes\n",
    " - As discussed we need to use the data to \"tune\" the hyper-parameters ($\\lambda$ and $\\alpha$).\n",
    " - Here we will use the simplest approach; grid search.\n",
    "\n",
    "Approach\n",
    " - Create a dataframe with all combinations of alpha and lambda that we want to run\n",
    " - Loop through all and find train / val combinations\n",
    " - Do we have to run through the whole grid?  For a given computing time budget can we do better?\n",
    "\n",
    "Note\n",
    " - Grid search is implemented in sklearn and h2o.  We do it \"manually\" here just for clarity.\n"
   ]
  },
  {
   "cell_type": "markdown",
   "metadata": {},
   "source": [
    "**lambda_search for alpha and lambda given an identity link**"
   ]
  },
  {
   "cell_type": "markdown",
   "metadata": {},
   "source": [
    "Note\n",
    " - consider lists: ['A', 'B'] and ['x','y', 'z']\n",
    " - to create all possible combinations, we can use code below\n",
    " - (there is probably a much easier way!)"
   ]
  },
  {
   "cell_type": "code",
   "execution_count": 17,
   "metadata": {},
   "outputs": [
    {
     "data": {
      "text/plain": [
       "array([['A', 'x'],\n",
       "       ['B', 'x'],\n",
       "       ['A', 'y'],\n",
       "       ['B', 'y'],\n",
       "       ['A', 'z'],\n",
       "       ['B', 'z']], dtype='<U1')"
      ]
     },
     "execution_count": 17,
     "metadata": {},
     "output_type": "execute_result"
    }
   ],
   "source": [
    "np.array(np.meshgrid(['A', 'B'], ['x','y', 'z'])).reshape(2, 6).T"
   ]
  },
  {
   "cell_type": "code",
   "execution_count": 18,
   "metadata": {},
   "outputs": [
    {
     "data": {
      "text/plain": [
       "[16.0,\n",
       " 8.0,\n",
       " 4.0,\n",
       " 2.0,\n",
       " 1.0,\n",
       " 0.5,\n",
       " 0.25,\n",
       " 0.125,\n",
       " 0.0625,\n",
       " 0.03125,\n",
       " 0.015625,\n",
       " 0.0078125,\n",
       " 0.00390625,\n",
       " 0.001953125,\n",
       " 0.0009765625]"
      ]
     },
     "execution_count": 18,
     "metadata": {},
     "output_type": "execute_result"
    }
   ],
   "source": [
    "[16. * 2.**-i for i in np.arange(15)] "
   ]
  },
  {
   "cell_type": "code",
   "execution_count": 19,
   "metadata": {},
   "outputs": [],
   "source": [
    "# create dataframe with combinations needed\n",
    "# below for id link\n",
    "lambda_opts = [16. * 2.**-i for i in np.arange(15)] #+ [0]\n",
    "alpha_opts = [0, 0.5, 0.99]\n",
    "n_iter = len(lambda_opts) * len(alpha_opts)\n",
    "params = np.array(np.meshgrid(lambda_opts, alpha_opts)).reshape(2, n_iter).T\n"
   ]
  },
  {
   "cell_type": "code",
   "execution_count": 20,
   "metadata": {},
   "outputs": [
    {
     "data": {
      "text/plain": [
       "array([[16.,  0.],\n",
       "       [ 8.,  0.],\n",
       "       [ 4.,  0.],\n",
       "       [ 2.,  0.],\n",
       "       [ 1.,  0.]])"
      ]
     },
     "execution_count": 20,
     "metadata": {},
     "output_type": "execute_result"
    }
   ],
   "source": [
    "params[0:5, 0:2]"
   ]
  },
  {
   "cell_type": "code",
   "execution_count": 21,
   "metadata": {},
   "outputs": [],
   "source": [
    "df_results = pd.DataFrame(params, columns = ['lambda', 'alpha'])\n",
    "df_results['train_mae'] = np.nan\n",
    "df_results['val_mae'] = np.nan\n",
    "df_results['train_rmse'] = np.nan\n",
    "df_results['val_rmse'] = np.nan\n"
   ]
  },
  {
   "cell_type": "code",
   "execution_count": 22,
   "metadata": {},
   "outputs": [
    {
     "data": {
      "text/html": [
       "<div>\n",
       "<style scoped>\n",
       "    .dataframe tbody tr th:only-of-type {\n",
       "        vertical-align: middle;\n",
       "    }\n",
       "\n",
       "    .dataframe tbody tr th {\n",
       "        vertical-align: top;\n",
       "    }\n",
       "\n",
       "    .dataframe thead th {\n",
       "        text-align: right;\n",
       "    }\n",
       "</style>\n",
       "<table border=\"1\" class=\"dataframe\">\n",
       "  <thead>\n",
       "    <tr style=\"text-align: right;\">\n",
       "      <th></th>\n",
       "      <th>lambda</th>\n",
       "      <th>alpha</th>\n",
       "      <th>train_mae</th>\n",
       "      <th>val_mae</th>\n",
       "      <th>train_rmse</th>\n",
       "      <th>val_rmse</th>\n",
       "    </tr>\n",
       "  </thead>\n",
       "  <tbody>\n",
       "    <tr>\n",
       "      <th>0</th>\n",
       "      <td>16.0</td>\n",
       "      <td>0.0</td>\n",
       "      <td>NaN</td>\n",
       "      <td>NaN</td>\n",
       "      <td>NaN</td>\n",
       "      <td>NaN</td>\n",
       "    </tr>\n",
       "    <tr>\n",
       "      <th>1</th>\n",
       "      <td>8.0</td>\n",
       "      <td>0.0</td>\n",
       "      <td>NaN</td>\n",
       "      <td>NaN</td>\n",
       "      <td>NaN</td>\n",
       "      <td>NaN</td>\n",
       "    </tr>\n",
       "    <tr>\n",
       "      <th>2</th>\n",
       "      <td>4.0</td>\n",
       "      <td>0.0</td>\n",
       "      <td>NaN</td>\n",
       "      <td>NaN</td>\n",
       "      <td>NaN</td>\n",
       "      <td>NaN</td>\n",
       "    </tr>\n",
       "    <tr>\n",
       "      <th>3</th>\n",
       "      <td>2.0</td>\n",
       "      <td>0.0</td>\n",
       "      <td>NaN</td>\n",
       "      <td>NaN</td>\n",
       "      <td>NaN</td>\n",
       "      <td>NaN</td>\n",
       "    </tr>\n",
       "    <tr>\n",
       "      <th>4</th>\n",
       "      <td>1.0</td>\n",
       "      <td>0.0</td>\n",
       "      <td>NaN</td>\n",
       "      <td>NaN</td>\n",
       "      <td>NaN</td>\n",
       "      <td>NaN</td>\n",
       "    </tr>\n",
       "  </tbody>\n",
       "</table>\n",
       "</div>"
      ],
      "text/plain": [
       "   lambda  alpha  train_mae  val_mae  train_rmse  val_rmse\n",
       "0    16.0    0.0        NaN      NaN         NaN       NaN\n",
       "1     8.0    0.0        NaN      NaN         NaN       NaN\n",
       "2     4.0    0.0        NaN      NaN         NaN       NaN\n",
       "3     2.0    0.0        NaN      NaN         NaN       NaN\n",
       "4     1.0    0.0        NaN      NaN         NaN       NaN"
      ]
     },
     "execution_count": 22,
     "metadata": {},
     "output_type": "execute_result"
    }
   ],
   "source": [
    "df_results.head()"
   ]
  },
  {
   "cell_type": "code",
   "execution_count": 23,
   "metadata": {},
   "outputs": [
    {
     "data": {
      "text/html": [
       "<div>\n",
       "<style scoped>\n",
       "    .dataframe tbody tr th:only-of-type {\n",
       "        vertical-align: middle;\n",
       "    }\n",
       "\n",
       "    .dataframe tbody tr th {\n",
       "        vertical-align: top;\n",
       "    }\n",
       "\n",
       "    .dataframe thead th {\n",
       "        text-align: right;\n",
       "    }\n",
       "</style>\n",
       "<table border=\"1\" class=\"dataframe\">\n",
       "  <thead>\n",
       "    <tr style=\"text-align: right;\">\n",
       "      <th></th>\n",
       "      <th>lambda</th>\n",
       "      <th>alpha</th>\n",
       "      <th>train_mae</th>\n",
       "      <th>val_mae</th>\n",
       "      <th>train_rmse</th>\n",
       "      <th>val_rmse</th>\n",
       "    </tr>\n",
       "  </thead>\n",
       "  <tbody>\n",
       "    <tr>\n",
       "      <th>40</th>\n",
       "      <td>0.015625</td>\n",
       "      <td>0.99</td>\n",
       "      <td>NaN</td>\n",
       "      <td>NaN</td>\n",
       "      <td>NaN</td>\n",
       "      <td>NaN</td>\n",
       "    </tr>\n",
       "    <tr>\n",
       "      <th>41</th>\n",
       "      <td>0.007812</td>\n",
       "      <td>0.99</td>\n",
       "      <td>NaN</td>\n",
       "      <td>NaN</td>\n",
       "      <td>NaN</td>\n",
       "      <td>NaN</td>\n",
       "    </tr>\n",
       "    <tr>\n",
       "      <th>42</th>\n",
       "      <td>0.003906</td>\n",
       "      <td>0.99</td>\n",
       "      <td>NaN</td>\n",
       "      <td>NaN</td>\n",
       "      <td>NaN</td>\n",
       "      <td>NaN</td>\n",
       "    </tr>\n",
       "    <tr>\n",
       "      <th>43</th>\n",
       "      <td>0.001953</td>\n",
       "      <td>0.99</td>\n",
       "      <td>NaN</td>\n",
       "      <td>NaN</td>\n",
       "      <td>NaN</td>\n",
       "      <td>NaN</td>\n",
       "    </tr>\n",
       "    <tr>\n",
       "      <th>44</th>\n",
       "      <td>0.000977</td>\n",
       "      <td>0.99</td>\n",
       "      <td>NaN</td>\n",
       "      <td>NaN</td>\n",
       "      <td>NaN</td>\n",
       "      <td>NaN</td>\n",
       "    </tr>\n",
       "  </tbody>\n",
       "</table>\n",
       "</div>"
      ],
      "text/plain": [
       "      lambda  alpha  train_mae  val_mae  train_rmse  val_rmse\n",
       "40  0.015625   0.99        NaN      NaN         NaN       NaN\n",
       "41  0.007812   0.99        NaN      NaN         NaN       NaN\n",
       "42  0.003906   0.99        NaN      NaN         NaN       NaN\n",
       "43  0.001953   0.99        NaN      NaN         NaN       NaN\n",
       "44  0.000977   0.99        NaN      NaN         NaN       NaN"
      ]
     },
     "execution_count": 23,
     "metadata": {},
     "output_type": "execute_result"
    }
   ],
   "source": [
    "df_results.tail()"
   ]
  },
  {
   "cell_type": "code",
   "execution_count": 24,
   "metadata": {},
   "outputs": [
    {
     "data": {
      "text/plain": [
       "(45, 6)"
      ]
     },
     "execution_count": 24,
     "metadata": {},
     "output_type": "execute_result"
    }
   ],
   "source": [
    "# the shape of the data\n",
    "df_results.shape"
   ]
  },
  {
   "cell_type": "markdown",
   "metadata": {},
   "source": [
    "**TODO**\n",
    "\n",
    "Fill in the code below and so create a loop which finds train and val MAE and MSE for each combination of  $\\lambda$ and $\\alpha$ inthe grid."
   ]
  },
  {
   "cell_type": "code",
   "execution_count": 25,
   "metadata": {},
   "outputs": [
    {
     "name": "stdout",
     "output_type": "stream",
     "text": [
      "0 of 45\n",
      "10 of 45\n",
      "20 of 45\n",
      "30 of 45\n",
      "40 of 45\n"
     ]
    }
   ],
   "source": [
    "\n",
    "# loop through all and find train and val mae\n",
    "\n",
    "h2o.no_progress()\n",
    "\n",
    "for idx in range(df_results.shape[0]):\n",
    "    if idx % 10 == 0:\n",
    "        print(idx, 'of', df_results.shape[0])\n",
    "        \n",
    "    alpha = df_results.iloc[idx]['alpha']\n",
    "    lambda_ = df_results.iloc[idx]['lambda']\n",
    "    \n",
    "    # create an instance of the H2OGeneralizedLinearEstimator() class, called model\n",
    "    # alpha and lambda should be set to the values from the grid as above\n",
    "    # family should be gaussian 'gaussian'\n",
    "    # link should be 'identity'\n",
    "    # We will explain link functions later on\n",
    "    model=H2OGeneralizedLinearEstimator(alpha=alpha, \n",
    "                                        lambda_=lambda_,\n",
    "                                        family='gaussian',\n",
    "                                        link='identity'\n",
    "                                        )\n",
    "    # Train the model\n",
    "    # The x variables should be vars_ind as define above\n",
    "    # The target variable should be, as usual, 'saleprice'\n",
    "    # The training frame should be the rows of h2o_df_all that the index idx_h2o_train defines\n",
    "    model.train(x=vars_ind, \n",
    "                y='saleprice',\n",
    "                training_frame=h2o_df_all[idx_h2o_train, :]\n",
    "                #validation_frame=h2o_df_all[idx_h2o_val, :]\n",
    "                )\n",
    "\n",
    "    # Predict the model on train and val\n",
    "    model_pred_train = model.predict(h2o_df_all[idx_h2o_train, :])\n",
    "    model_pred_val   = model.predict(h2o_df_all[idx_h2o_val, :])\n",
    "\n",
    "    # I find it convenient to store these values as a 1d np array\n",
    "    model_pred_train = model_pred_train.as_data_frame().values.ravel()\n",
    "    model_pred_val   = model_pred_val.as_data_frame().values.ravel()\n",
    "\n",
    "    # Calculate train and cal mae and mse\n",
    "    df_results['train_mae'].iloc[idx]  = fn_MAE(y[idx_train], model_pred_train)\n",
    "    df_results['val_mae'].iloc[idx]    = fn_MAE(y[idx_val], model_pred_val)\n",
    "    df_results['train_rmse'].iloc[idx] = fn_RMSE(y[idx_train], model_pred_train)\n",
    "    df_results['val_rmse'].iloc[idx]   = fn_RMSE(y[idx_val], model_pred_val)\n",
    "\n",
    "h2o.show_progress()"
   ]
  },
  {
   "cell_type": "markdown",
   "metadata": {},
   "source": [
    "Get results for one of the alhpas and graph it"
   ]
  },
  {
   "cell_type": "code",
   "execution_count": 26,
   "metadata": {},
   "outputs": [
    {
     "data": {
      "text/html": [
       "<div>\n",
       "<style scoped>\n",
       "    .dataframe tbody tr th:only-of-type {\n",
       "        vertical-align: middle;\n",
       "    }\n",
       "\n",
       "    .dataframe tbody tr th {\n",
       "        vertical-align: top;\n",
       "    }\n",
       "\n",
       "    .dataframe thead th {\n",
       "        text-align: right;\n",
       "    }\n",
       "</style>\n",
       "<table border=\"1\" class=\"dataframe\">\n",
       "  <thead>\n",
       "    <tr style=\"text-align: right;\">\n",
       "      <th></th>\n",
       "      <th>lambda</th>\n",
       "      <th>alpha</th>\n",
       "      <th>train_mae</th>\n",
       "      <th>val_mae</th>\n",
       "      <th>train_rmse</th>\n",
       "      <th>val_rmse</th>\n",
       "    </tr>\n",
       "  </thead>\n",
       "  <tbody>\n",
       "    <tr>\n",
       "      <th>30</th>\n",
       "      <td>16.000000</td>\n",
       "      <td>0.99</td>\n",
       "      <td>13497.0</td>\n",
       "      <td>14643.0</td>\n",
       "      <td>19614.0</td>\n",
       "      <td>21913.0</td>\n",
       "    </tr>\n",
       "    <tr>\n",
       "      <th>31</th>\n",
       "      <td>8.000000</td>\n",
       "      <td>0.99</td>\n",
       "      <td>12931.0</td>\n",
       "      <td>14350.0</td>\n",
       "      <td>18800.0</td>\n",
       "      <td>21622.0</td>\n",
       "    </tr>\n",
       "    <tr>\n",
       "      <th>32</th>\n",
       "      <td>4.000000</td>\n",
       "      <td>0.99</td>\n",
       "      <td>12473.0</td>\n",
       "      <td>14147.0</td>\n",
       "      <td>18088.0</td>\n",
       "      <td>21430.0</td>\n",
       "    </tr>\n",
       "    <tr>\n",
       "      <th>33</th>\n",
       "      <td>2.000000</td>\n",
       "      <td>0.99</td>\n",
       "      <td>12091.0</td>\n",
       "      <td>13982.0</td>\n",
       "      <td>17492.0</td>\n",
       "      <td>21299.0</td>\n",
       "    </tr>\n",
       "    <tr>\n",
       "      <th>34</th>\n",
       "      <td>1.000000</td>\n",
       "      <td>0.99</td>\n",
       "      <td>11808.0</td>\n",
       "      <td>13888.0</td>\n",
       "      <td>17022.0</td>\n",
       "      <td>21222.0</td>\n",
       "    </tr>\n",
       "    <tr>\n",
       "      <th>35</th>\n",
       "      <td>0.500000</td>\n",
       "      <td>0.99</td>\n",
       "      <td>11626.0</td>\n",
       "      <td>13969.0</td>\n",
       "      <td>16680.0</td>\n",
       "      <td>21213.0</td>\n",
       "    </tr>\n",
       "    <tr>\n",
       "      <th>36</th>\n",
       "      <td>0.250000</td>\n",
       "      <td>0.99</td>\n",
       "      <td>11519.0</td>\n",
       "      <td>14147.0</td>\n",
       "      <td>16453.0</td>\n",
       "      <td>21284.0</td>\n",
       "    </tr>\n",
       "    <tr>\n",
       "      <th>37</th>\n",
       "      <td>0.125000</td>\n",
       "      <td>0.99</td>\n",
       "      <td>11461.0</td>\n",
       "      <td>14344.0</td>\n",
       "      <td>16312.0</td>\n",
       "      <td>21417.0</td>\n",
       "    </tr>\n",
       "    <tr>\n",
       "      <th>38</th>\n",
       "      <td>0.062500</td>\n",
       "      <td>0.99</td>\n",
       "      <td>11436.0</td>\n",
       "      <td>14516.0</td>\n",
       "      <td>16229.0</td>\n",
       "      <td>21578.0</td>\n",
       "    </tr>\n",
       "    <tr>\n",
       "      <th>39</th>\n",
       "      <td>0.031250</td>\n",
       "      <td>0.99</td>\n",
       "      <td>11428.0</td>\n",
       "      <td>14649.0</td>\n",
       "      <td>16183.0</td>\n",
       "      <td>21735.0</td>\n",
       "    </tr>\n",
       "    <tr>\n",
       "      <th>40</th>\n",
       "      <td>0.015625</td>\n",
       "      <td>0.99</td>\n",
       "      <td>11427.0</td>\n",
       "      <td>14735.0</td>\n",
       "      <td>16159.0</td>\n",
       "      <td>21859.0</td>\n",
       "    </tr>\n",
       "    <tr>\n",
       "      <th>41</th>\n",
       "      <td>0.007812</td>\n",
       "      <td>0.99</td>\n",
       "      <td>11430.0</td>\n",
       "      <td>14789.0</td>\n",
       "      <td>16147.0</td>\n",
       "      <td>21944.0</td>\n",
       "    </tr>\n",
       "    <tr>\n",
       "      <th>42</th>\n",
       "      <td>0.003906</td>\n",
       "      <td>0.99</td>\n",
       "      <td>11434.0</td>\n",
       "      <td>14820.0</td>\n",
       "      <td>16141.0</td>\n",
       "      <td>21994.0</td>\n",
       "    </tr>\n",
       "    <tr>\n",
       "      <th>43</th>\n",
       "      <td>0.001953</td>\n",
       "      <td>0.99</td>\n",
       "      <td>11437.0</td>\n",
       "      <td>14837.0</td>\n",
       "      <td>16139.0</td>\n",
       "      <td>22023.0</td>\n",
       "    </tr>\n",
       "    <tr>\n",
       "      <th>44</th>\n",
       "      <td>0.000977</td>\n",
       "      <td>0.99</td>\n",
       "      <td>11439.0</td>\n",
       "      <td>14845.0</td>\n",
       "      <td>16138.0</td>\n",
       "      <td>22038.0</td>\n",
       "    </tr>\n",
       "  </tbody>\n",
       "</table>\n",
       "</div>"
      ],
      "text/plain": [
       "       lambda  alpha  train_mae  val_mae  train_rmse  val_rmse\n",
       "30  16.000000   0.99    13497.0  14643.0     19614.0   21913.0\n",
       "31   8.000000   0.99    12931.0  14350.0     18800.0   21622.0\n",
       "32   4.000000   0.99    12473.0  14147.0     18088.0   21430.0\n",
       "33   2.000000   0.99    12091.0  13982.0     17492.0   21299.0\n",
       "34   1.000000   0.99    11808.0  13888.0     17022.0   21222.0\n",
       "35   0.500000   0.99    11626.0  13969.0     16680.0   21213.0\n",
       "36   0.250000   0.99    11519.0  14147.0     16453.0   21284.0\n",
       "37   0.125000   0.99    11461.0  14344.0     16312.0   21417.0\n",
       "38   0.062500   0.99    11436.0  14516.0     16229.0   21578.0\n",
       "39   0.031250   0.99    11428.0  14649.0     16183.0   21735.0\n",
       "40   0.015625   0.99    11427.0  14735.0     16159.0   21859.0\n",
       "41   0.007812   0.99    11430.0  14789.0     16147.0   21944.0\n",
       "42   0.003906   0.99    11434.0  14820.0     16141.0   21994.0\n",
       "43   0.001953   0.99    11437.0  14837.0     16139.0   22023.0\n",
       "44   0.000977   0.99    11439.0  14845.0     16138.0   22038.0"
      ]
     },
     "execution_count": 26,
     "metadata": {},
     "output_type": "execute_result"
    }
   ],
   "source": [
    "df_one_alpha = df_results[df_results['alpha'] == 0.99]\n",
    "df_one_alpha"
   ]
  },
  {
   "cell_type": "code",
   "execution_count": 27,
   "metadata": {},
   "outputs": [
    {
     "data": {
      "text/plain": [
       "Text(0, 0.5, 'Loss (MAE)')"
      ]
     },
     "execution_count": 27,
     "metadata": {},
     "output_type": "execute_result"
    },
    {
     "data": {
      "image/png": "[encoded data removed]",
      "text/plain": [
       "<Figure size 864x432 with 1 Axes>"
      ]
     },
     "metadata": {},
     "output_type": "display_data"
    }
   ],
   "source": [
    "df_one_alpha = df_results[df_results['alpha'] == 0]\n",
    "\n",
    "fig = plt.figure(figsize=[12,6])\n",
    "ax = fig.add_subplot(1,1,1)\n",
    "ax.plot(-np.log(df_one_alpha['lambda'].astype('float')), \n",
    "         df_one_alpha['val_mae'],\n",
    "       linewidth=3, linestyle='--',\n",
    "       label='validation')\n",
    "ax.scatter(-np.log(df_one_alpha['lambda'].astype('float') + 1e-10), \n",
    "         df_one_alpha['train_mae'],\n",
    "       linewidth=3, \n",
    "       label='train')\n",
    "\n",
    "ax.legend(fontsize=20)\n",
    "ax.set_xlabel('Models of increasing complexity', fontsize=20)\n",
    "ax.set_ylabel('Loss (MAE)', fontsize=20)"
   ]
  },
  {
   "cell_type": "markdown",
   "metadata": {},
   "source": [
    "**A view of the hyper-parameter search**"
   ]
  },
  {
   "cell_type": "code",
   "execution_count": 28,
   "metadata": {},
   "outputs": [
    {
     "data": {
      "text/html": [
       "<div>\n",
       "<style scoped>\n",
       "    .dataframe tbody tr th:only-of-type {\n",
       "        vertical-align: middle;\n",
       "    }\n",
       "\n",
       "    .dataframe tbody tr th {\n",
       "        vertical-align: top;\n",
       "    }\n",
       "\n",
       "    .dataframe thead th {\n",
       "        text-align: right;\n",
       "    }\n",
       "</style>\n",
       "<table border=\"1\" class=\"dataframe\">\n",
       "  <thead>\n",
       "    <tr style=\"text-align: right;\">\n",
       "      <th></th>\n",
       "      <th>lambda</th>\n",
       "      <th>alpha</th>\n",
       "      <th>train_mae</th>\n",
       "      <th>val_mae</th>\n",
       "      <th>train_rmse</th>\n",
       "      <th>val_rmse</th>\n",
       "    </tr>\n",
       "  </thead>\n",
       "  <tbody>\n",
       "    <tr>\n",
       "      <th>0</th>\n",
       "      <td>16.0</td>\n",
       "      <td>0.0</td>\n",
       "      <td>26590.0</td>\n",
       "      <td>26788.0</td>\n",
       "      <td>38568.0</td>\n",
       "      <td>39396.0</td>\n",
       "    </tr>\n",
       "    <tr>\n",
       "      <th>1</th>\n",
       "      <td>8.0</td>\n",
       "      <td>0.0</td>\n",
       "      <td>21258.0</td>\n",
       "      <td>21553.0</td>\n",
       "      <td>31296.0</td>\n",
       "      <td>32203.0</td>\n",
       "    </tr>\n",
       "    <tr>\n",
       "      <th>2</th>\n",
       "      <td>4.0</td>\n",
       "      <td>0.0</td>\n",
       "      <td>18222.0</td>\n",
       "      <td>18754.0</td>\n",
       "      <td>26813.0</td>\n",
       "      <td>27762.0</td>\n",
       "    </tr>\n",
       "    <tr>\n",
       "      <th>3</th>\n",
       "      <td>2.0</td>\n",
       "      <td>0.0</td>\n",
       "      <td>16531.0</td>\n",
       "      <td>17096.0</td>\n",
       "      <td>24082.0</td>\n",
       "      <td>25150.0</td>\n",
       "    </tr>\n",
       "    <tr>\n",
       "      <th>4</th>\n",
       "      <td>1.0</td>\n",
       "      <td>0.0</td>\n",
       "      <td>15384.0</td>\n",
       "      <td>16036.0</td>\n",
       "      <td>22300.0</td>\n",
       "      <td>23600.0</td>\n",
       "    </tr>\n",
       "  </tbody>\n",
       "</table>\n",
       "</div>"
      ],
      "text/plain": [
       "   lambda  alpha  train_mae  val_mae  train_rmse  val_rmse\n",
       "0    16.0    0.0    26590.0  26788.0     38568.0   39396.0\n",
       "1     8.0    0.0    21258.0  21553.0     31296.0   32203.0\n",
       "2     4.0    0.0    18222.0  18754.0     26813.0   27762.0\n",
       "3     2.0    0.0    16531.0  17096.0     24082.0   25150.0\n",
       "4     1.0    0.0    15384.0  16036.0     22300.0   23600.0"
      ]
     },
     "execution_count": 28,
     "metadata": {},
     "output_type": "execute_result"
    }
   ],
   "source": [
    "#df_score_history.head()\n",
    "df_results.head()"
   ]
  },
  {
   "cell_type": "code",
   "execution_count": 29,
   "metadata": {},
   "outputs": [
    {
     "data": {
      "text/plain": [
       "Text(0.5, 0, 'Models of increasing complexity')"
      ]
     },
     "execution_count": 29,
     "metadata": {},
     "output_type": "execute_result"
    },
    {
     "data": {
      "image/png": "[encoded data removed]",
      "text/plain": [
       "<Figure size 1152x288 with 2 Axes>"
      ]
     },
     "metadata": {},
     "output_type": "display_data"
    }
   ],
   "source": [
    "#cm = plt.cm.get_cmap('RdYlBu')\n",
    "cm = plt.cm.get_cmap('viridis')\n",
    "\n",
    "idx = df_results['val_mae'] < 15000\n",
    "fig = plt.figure(figsize=[16,4])\n",
    "ax = fig.add_subplot(1,1,1)\n",
    "sc = ax.scatter(-np.log(df_results[idx]['lambda'])\n",
    "           , df_results[idx]['alpha']\n",
    "           , c=np.log(df_results[idx]['val_mae'])\n",
    "           , cmap=cm\n",
    "           , s=512)\n",
    "plt.colorbar(sc)\n",
    "ax.set_ylabel('alpha', fontsize=20)\n",
    "ax.set_xlabel('Models of increasing complexity', fontsize=20)\n"
   ]
  },
  {
   "cell_type": "markdown",
   "metadata": {},
   "source": [
    "**Another view of the hyper-parameter search**"
   ]
  },
  {
   "cell_type": "code",
   "execution_count": 30,
   "metadata": {},
   "outputs": [
    {
     "data": {
      "text/plain": [
       "<matplotlib.legend.Legend at 0x7feebae108d0>"
      ]
     },
     "execution_count": 30,
     "metadata": {},
     "output_type": "execute_result"
    },
    {
     "data": {
      "image/png": "[encoded data removed]",
      "text/plain": [
       "<Figure size 864x432 with 1 Axes>"
      ]
     },
     "metadata": {},
     "output_type": "display_data"
    }
   ],
   "source": [
    "gb = df_results.groupby('alpha')\n",
    "\n",
    "fig, ax = plt.subplots(figsize=[12, 6])\n",
    "\n",
    "for key, group in gb:\n",
    "    ax.plot(-np.log(group['lambda']), \n",
    "             np.round(np.log(group['train_mae']), 2),\n",
    "             label='train: ' + str(key),\n",
    "             linestyle='--',\n",
    "             linewidth=2)\n",
    "    ax.plot(-np.log(group['lambda']), \n",
    "             np.round(np.log(group['val_mae']), 2),\n",
    "             label='val: ' + str(key),\n",
    "             linewidth=2)\n",
    "\n",
    "ax.set_ylabel('Loss (mae)', fontsize=20)\n",
    "ax.set_xlabel('Models of increasing complexity', fontsize=20)\n",
    "ax.legend(fontsize=20)"
   ]
  },
  {
   "cell_type": "markdown",
   "metadata": {},
   "source": [
    "**identity link model on best alpha and lambda**\n",
    "\n",
    "**TODO**\n",
    " - From above find the best alpha-lambda combination\n",
    " - Using the combined train and val data fit one last model\n",
    " - Predict on train, val and test and find the MAE and MSE"
   ]
  },
  {
   "cell_type": "code",
   "execution_count": 31,
   "metadata": {},
   "outputs": [
    {
     "name": "stdout",
     "output_type": "stream",
     "text": [
      "best:\n",
      " alpha: 0.99 \n",
      " lambda 1.0\n"
     ]
    }
   ],
   "source": [
    "idx_best = df_results['val_mae'].idxmin()\n",
    "bst_alpha = df_results.iloc[idx_best]['alpha']\n",
    "bst_lambda = df_results.iloc[idx_best]['lambda']\n",
    "print('best:\\n', 'alpha:', bst_alpha, '\\n lambda', bst_lambda)\n",
    "# The best parameters are\n",
    "#\n",
    "#\n",
    "# These are typed in below to avoid having to run the grid search each time"
   ]
  },
  {
   "cell_type": "code",
   "execution_count": null,
   "metadata": {},
   "outputs": [],
   "source": []
  },
  {
   "cell_type": "code",
   "execution_count": 32,
   "metadata": {},
   "outputs": [
    {
     "name": "stdout",
     "output_type": "stream",
     "text": [
      "train error 12227.0\n",
      "val error 12378.0\n",
      "test error 13675.0\n"
     ]
    }
   ],
   "source": [
    "h2o.no_progress()\n",
    "\n",
    "glm_bst=H2OGeneralizedLinearEstimator(alpha=0.99 # bst_alpha \n",
    "                                  , lambda_= 2 # bst_lambda \n",
    "                                  , family='gaussian'\n",
    "                                  , link='identity'\n",
    "                                  )\n",
    "glm_bst.train(x=vars_ind, \n",
    "          y='saleprice',\n",
    "          training_frame=h2o_df_all[idx_h2o_design, :]\n",
    "          )\n",
    "\n",
    "\n",
    "bst_pred_train = glm_bst.predict(h2o_df_all[idx_h2o_train, :])\n",
    "bst_pred_val   = glm_bst.predict(h2o_df_all[idx_h2o_val, :])\n",
    "bst_pred_test  = glm_bst.predict(h2o_df_all[idx_h2o_test, :])\n",
    "\n",
    "bst_pred_train = bst_pred_train.as_data_frame().values.ravel()\n",
    "bst_pred_val   = bst_pred_val.as_data_frame().values.ravel()\n",
    "bst_pred_test  = bst_pred_test.as_data_frame().values.ravel()\n",
    "\n",
    "print('train error', fn_MAE(y[idx_train], bst_pred_train))\n",
    "print('val error',   fn_MAE(y[idx_val], bst_pred_val))\n",
    "print('test error',  fn_MAE(y[idx_test], bst_pred_test))\n",
    "\n",
    "h2o.show_progress()\n",
    "\n",
    "# AC run gives\n",
    "#train error 11950.0\n",
    "#val error 12077.0\n",
    "#test error 13667.0\n",
    "# And these should be reproduced by this code"
   ]
  },
  {
   "cell_type": "markdown",
   "metadata": {},
   "source": [
    "**Save the model**"
   ]
  },
  {
   "cell_type": "code",
   "execution_count": null,
   "metadata": {},
   "outputs": [],
   "source": [
    "glm_bst_path = h2o.save_model(model=glm_bst, path=dirPData, force=True)"
   ]
  },
  {
   "cell_type": "code",
   "execution_count": null,
   "metadata": {},
   "outputs": [],
   "source": [
    "glm_bst_path"
   ]
  },
  {
   "cell_type": "code",
   "execution_count": null,
   "metadata": {},
   "outputs": [],
   "source": [
    "glm_bst = h2o.load_model(path = glm_bst_path)"
   ]
  },
  {
   "cell_type": "markdown",
   "metadata": {},
   "source": [
    "**Create and store predictions for future use**"
   ]
  },
  {
   "cell_type": "code",
   "execution_count": null,
   "metadata": {},
   "outputs": [],
   "source": [
    "df_predictions = df_all[['order', 'pid']].copy()"
   ]
  },
  {
   "cell_type": "code",
   "execution_count": null,
   "metadata": {},
   "outputs": [],
   "source": [
    "df_predictions['m_1a'] = glm_bst.predict(h2o_df_all).as_data_frame().values.ravel()"
   ]
  },
  {
   "cell_type": "code",
   "execution_count": null,
   "metadata": {},
   "outputs": [],
   "source": [
    "dict_ = {'df_predictions': df_predictions,\n",
    "         'm_1a': 'logistic regression, elastic net, saved as glm_best',\n",
    "         'm_1a_path': glm_bst_path}"
   ]
  },
  {
   "cell_type": "code",
   "execution_count": null,
   "metadata": {},
   "outputs": [],
   "source": [
    "#store = pd.HDFStore(dirPData + 'predictions.h5')\n",
    "#df_predictions.to_hdf(store, 'df_predictions')\n",
    "#store.close()\n",
    "f_name = dirPData + 'dict_predictions.pickle'\n",
    "\n",
    "with open(f_name, \"wb\") as f:\n",
    "    pickle.dump(dict_, f)\n",
    "    \n",
    "del f_name, dict_"
   ]
  },
  {
   "cell_type": "markdown",
   "metadata": {},
   "source": [
    "**View standarised coefficient magnitudes**\n",
    "\n",
    " - variable importance"
   ]
  },
  {
   "cell_type": "code",
   "execution_count": null,
   "metadata": {},
   "outputs": [],
   "source": [
    "glm_bst.std_coef_plot(num_of_features=10)"
   ]
  },
  {
   "cell_type": "markdown",
   "metadata": {},
   "source": [
    "**example of a result of using splines**\n",
    "\n",
    "living area"
   ]
  },
  {
   "cell_type": "code",
   "execution_count": null,
   "metadata": {},
   "outputs": [],
   "source": [
    "#gr_liv_area\n",
    "df_gr = df_all[['saleprice' ,'gr_liv_area']].groupby('gr_liv_area').agg(np.mean)\n",
    "df_gr.reset_index(inplace=True)    \n",
    "df_gr.head()"
   ]
  },
  {
   "cell_type": "code",
   "execution_count": null,
   "metadata": {},
   "outputs": [],
   "source": [
    "fig = plt.figure(figsize= (12, 6))\n",
    "ax1 = fig.add_subplot(1, 1, 1)\n",
    "\n",
    "ax1.scatter(df_gr['gr_liv_area'], \n",
    "            df_gr['saleprice'],\n",
    "            s = 64)\n",
    "ax1.set_xlabel('gr_liv_area', fontsize=20)\n",
    "ax1.set_ylabel('sale price', fontsize=20)\n",
    "#ax1.set_xlim([500, 3000])\n",
    "#ax1.set_ylim([50000, 400000])"
   ]
  },
  {
   "cell_type": "code",
   "execution_count": null,
   "metadata": {},
   "outputs": [],
   "source": [
    "# add splines\n",
    "for idx, ptile in enumerate([ 924.,  1064.2, 1326.,  1558.,  1836.,  2139.8]):\n",
    "    df_gr['gr_liv_area_' + str(idx)] = np.maximum(0, df_gr['gr_liv_area'] - ptile)\n"
   ]
  },
  {
   "cell_type": "code",
   "execution_count": null,
   "metadata": {},
   "outputs": [],
   "source": [
    "#  get coefficients\n",
    "df_coefficients = pd.DataFrame(model.coef(), index=['coefficient']).T\n",
    "df_coefficients.reset_index(inplace=True)\n",
    "df_coefficients.rename(columns={'index':'feature'}, inplace=True)\n",
    "#idx_row = df_coefficients['feature'].str.startswith('gr')\n",
    "idx_row = df_coefficients['feature'].str.startswith('gr_liv_area')\n",
    "df_coefficients[idx_row]\n"
   ]
  },
  {
   "cell_type": "code",
   "execution_count": null,
   "metadata": {},
   "outputs": [],
   "source": [
    "idx_basis = ['gr_liv_area', 'gr_liv_area_0', 'gr_liv_area_1', 'gr_liv_area_2', 'gr_liv_area_3',\n",
    "            'gr_liv_area_4', 'gr_liv_area_5']\n",
    "df_gr['linear_predictor'] = df_gr[idx_basis].values.dot(df_coefficients[idx_row]['coefficient'].values)\n",
    "\n",
    "df_gr['saleprice'] = df_gr['saleprice'] * df_gr['linear_predictor'].median() / df_gr['saleprice'].median()"
   ]
  },
  {
   "cell_type": "code",
   "execution_count": null,
   "metadata": {},
   "outputs": [],
   "source": [
    "fig = plt.figure(figsize= (12, 6))\n",
    "ax1 = fig.add_subplot(1, 1, 1)\n",
    "\n",
    "ax1.scatter(df_gr['gr_liv_area'], \n",
    "            df_gr['saleprice'],\n",
    "            s=64)\n",
    "ax1.plot(df_gr['gr_liv_area'], \n",
    "         df_gr['linear_predictor'],\n",
    "        c='red',\n",
    "        linewidth=3)\n",
    "ax1.set_xlabel('gr_liv_area', fontsize=20)\n",
    "ax1.set_ylabel('contribution to linear predictor', fontsize=20)\n",
    "#ax1.set_xlim([500, 3000])\n",
    "#ax1.set_ylim([0, 1])"
   ]
  },
  {
   "cell_type": "code",
   "execution_count": null,
   "metadata": {},
   "outputs": [],
   "source": [
    "h2o.cluster().shutdown()"
   ]
  },
  {
   "cell_type": "code",
   "execution_count": null,
   "metadata": {},
   "outputs": [],
   "source": []
  }
 ],
 "metadata": {
  "anaconda-cloud": {},
  "kernelspec": {
   "display_name": "Python 3",
   "language": "python",
   "name": "python3"
  },
  "language_info": {
   "codemirror_mode": {
    "name": "ipython",
    "version": 3
   },
   "file_extension": ".py",
   "mimetype": "text/x-python",
   "name": "python",
   "nbconvert_exporter": "python",
   "pygments_lexer": "ipython3",
   "version": "3.6.7"
  }
 },
 "nbformat": 4,
 "nbformat_minor": 1
}
