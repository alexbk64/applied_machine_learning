{
 "cells": [
  {
   "cell_type": "markdown",
   "metadata": {},
   "source": [
    "# Ames housing: ridge regression with sklearn"
   ]
  },
  {
   "cell_type": "markdown",
   "metadata": {},
   "source": [
    "Contents\n",
    " - load data\n",
    " - data manipulation\n",
    "   - variables to use\n",
    "   - dealing with categorical variables\n",
    "   - train - val - test split\n",
    " - multiple regression (with sklearn)\n",
    "   - fit model\n",
    "   - predictions\n",
    "   - performance\n",
    "   - coefficients\n",
    "\n",
    "Sources:\n",
    "http://ww2.amstat.org/publications/jse/v19n3/decock.pdf\n",
    "\n",
    "Copyright (C) 2018 Alan Chalk  \n",
    "Please do not distribute or publish without permission."
   ]
  },
  {
   "cell_type": "markdown",
   "metadata": {},
   "source": [
    "## Start_."
   ]
  },
  {
   "cell_type": "markdown",
   "metadata": {
    "scrolled": true
   },
   "source": [
    "**packages**"
   ]
  },
  {
   "cell_type": "code",
   "execution_count": 1,
   "metadata": {},
   "outputs": [],
   "source": [
    "import os\n",
    "import numpy as np\n",
    "import pandas as pd\n",
    "import pickle\n",
    "\n",
    "from sklearn.preprocessing import StandardScaler\n",
    "from sklearn.linear_model import Ridge\n",
    "\n",
    "import matplotlib.pyplot as plt\n",
    "%matplotlib inline"
   ]
  },
  {
   "cell_type": "markdown",
   "metadata": {},
   "source": [
    "**directories and paths**"
   ]
  },
  {
   "cell_type": "code",
   "execution_count": 2,
   "metadata": {},
   "outputs": [
    {
     "name": "stdout",
     "output_type": "stream",
     "text": [
      "/Users/axc/Dropbox/AML/2020/Projects/AmesHousing/PCode\n"
     ]
    }
   ],
   "source": [
    "# Set directories\n",
    "print(os.getcwd())\n",
    "dirRawData = \"../input/\"\n",
    "dirPData   = \"../PData/\""
   ]
  },
  {
   "cell_type": "markdown",
   "metadata": {},
   "source": [
    "**Functions**"
   ]
  },
  {
   "cell_type": "code",
   "execution_count": 3,
   "metadata": {},
   "outputs": [],
   "source": [
    "def fn_MAE(actuals, predictions):\n",
    "    return np.round(np.mean(np.abs(predictions - actuals)))\n",
    "\n",
    "def fn_RMSE(actuals, predictions):\n",
    "    return np.round(np.sqrt(np.mean((predictions - actuals)**2)))"
   ]
  },
  {
   "cell_type": "markdown",
   "metadata": {},
   "source": [
    "**Load data**"
   ]
  },
  {
   "cell_type": "code",
   "execution_count": 4,
   "metadata": {},
   "outputs": [],
   "source": [
    "# load df_all\n",
    "#df_all = pd.read_hdf(dirPData + '02_df_all.h5', 'df_all_onehot')\n",
    "\n",
    "# load the dict_ that was saved to pickle\n",
    "f_name = dirPData + '02_df.pickle'\n",
    "with open(f_name, \"rb\") as f:\n",
    "    dict_ = pickle.load(f)\n",
    "    \n",
    "df_all_onehot = dict_['df_all_onehot']\n",
    "\n",
    "del f_name, dict_\n",
    "\n",
    "df_all = df_all_onehot\n",
    "del df_all_onehot"
   ]
  },
  {
   "cell_type": "code",
   "execution_count": 5,
   "metadata": {},
   "outputs": [],
   "source": [
    "# load the dict_ that was saved to pickle\n",
    "#dict_ = {'vars_ind': vars_ind, 'idx_design': idx_design, 'idx_test': idx_test}\n",
    "f_name = dirPData + '02_vars.pickle'\n",
    "with open(f_name, \"rb\") as f:\n",
    "    dict_ = pickle.load(f)\n",
    "    \n",
    "var_dep = dict_['var_dep']\n",
    "vars_ind_numeric = dict_['vars_ind_numeric']\n",
    "vars_ind_categorical = dict_['vars_ind_categorical']\n",
    "vars_ind_onehot = dict_['vars_ind_onehot']\n",
    "\n",
    "del f_name, dict_"
   ]
  },
  {
   "cell_type": "code",
   "execution_count": 6,
   "metadata": {},
   "outputs": [
    {
     "name": "stdout",
     "output_type": "stream",
     "text": [
      "There are 32 numeric variables\n",
      "There are 184 \"one hot\" variables\n"
     ]
    }
   ],
   "source": [
    "print('There are {} numeric variables'.format(len(vars_ind_numeric)))\n",
    "print('There are {} \"one hot\" variables'.format(len(vars_ind_onehot)))"
   ]
  },
  {
   "cell_type": "code",
   "execution_count": 7,
   "metadata": {},
   "outputs": [],
   "source": [
    "idx_train  = np.where(df_all['fold'].isin(np.arange(0,6)))[0]\n",
    "idx_val    = np.where(df_all['fold'].isin([6,7]))[0]\n",
    "idx_design = np.where(df_all['fold'].isin(np.arange(0,8)))[0]\n",
    "idx_test   = np.where(df_all['fold'].isin([8,9]))[0]"
   ]
  },
  {
   "cell_type": "code",
   "execution_count": 8,
   "metadata": {},
   "outputs": [],
   "source": [
    "vars_ind = vars_ind_numeric + vars_ind_onehot"
   ]
  },
  {
   "cell_type": "code",
   "execution_count": 9,
   "metadata": {},
   "outputs": [],
   "source": [
    "X = df_all[vars_ind].values\n",
    "y = df_all[var_dep].values"
   ]
  },
  {
   "cell_type": "code",
   "execution_count": 10,
   "metadata": {},
   "outputs": [],
   "source": [
    "standardScaler_ = StandardScaler()\n",
    "standardScaler_.fit(X)\n",
    "\n",
    "X = standardScaler_.transform(X)"
   ]
  },
  {
   "cell_type": "markdown",
   "metadata": {},
   "source": [
    "### Ridge regression\n",
    "\n",
    "We are going to fit 20 models - for different values of lambda.  For each penalised model we fit, we will calculate and store the Mean Absolute (prediction) Error on the train and validation data.  And likewise for the Root Mean Square (prediction) Error (RMSE).\n"
   ]
  },
  {
   "cell_type": "markdown",
   "metadata": {},
   "source": [
    "**TODO**\n",
    "\n",
    "Create a list of 20 lambdas $2^0, 2^1, \\dots 2^{19}$. Call it lambdas.\n",
    "\n",
    "Create a DataFrame (called df_results) with 5 columns:\n",
    " - lambda_: should contain the values in lambdas\n",
    " - MAE_train: fill with np.nan\n",
    " - MAE_val: fill with np.nan\n",
    " - RMSE_train: fill with np.nan\n",
    " - RMSE_val: fill with np.nan\n"
   ]
  },
  {
   "cell_type": "code",
   "execution_count": 11,
   "metadata": {},
   "outputs": [],
   "source": [
    "lambdas = [2.**num for num in range(20)]\n",
    "df_results = pd.DataFrame({'lambda_': lambdas,\n",
    "                          'MAE_train': np.nan,\n",
    "                          'MAE_val': np.nan,\n",
    "                          'RMSE_train': np.nan,\n",
    "                          'RMSE_val': np.nan\n",
    "                          })"
   ]
  },
  {
   "cell_type": "code",
   "execution_count": 12,
   "metadata": {},
   "outputs": [
    {
     "data": {
      "text/html": [
       "<div>\n",
       "<style scoped>\n",
       "    .dataframe tbody tr th:only-of-type {\n",
       "        vertical-align: middle;\n",
       "    }\n",
       "\n",
       "    .dataframe tbody tr th {\n",
       "        vertical-align: top;\n",
       "    }\n",
       "\n",
       "    .dataframe thead th {\n",
       "        text-align: right;\n",
       "    }\n",
       "</style>\n",
       "<table border=\"1\" class=\"dataframe\">\n",
       "  <thead>\n",
       "    <tr style=\"text-align: right;\">\n",
       "      <th></th>\n",
       "      <th>lambda_</th>\n",
       "      <th>MAE_train</th>\n",
       "      <th>MAE_val</th>\n",
       "      <th>RMSE_train</th>\n",
       "      <th>RMSE_val</th>\n",
       "    </tr>\n",
       "  </thead>\n",
       "  <tbody>\n",
       "    <tr>\n",
       "      <th>0</th>\n",
       "      <td>1.0</td>\n",
       "      <td>NaN</td>\n",
       "      <td>NaN</td>\n",
       "      <td>NaN</td>\n",
       "      <td>NaN</td>\n",
       "    </tr>\n",
       "    <tr>\n",
       "      <th>1</th>\n",
       "      <td>2.0</td>\n",
       "      <td>NaN</td>\n",
       "      <td>NaN</td>\n",
       "      <td>NaN</td>\n",
       "      <td>NaN</td>\n",
       "    </tr>\n",
       "    <tr>\n",
       "      <th>2</th>\n",
       "      <td>4.0</td>\n",
       "      <td>NaN</td>\n",
       "      <td>NaN</td>\n",
       "      <td>NaN</td>\n",
       "      <td>NaN</td>\n",
       "    </tr>\n",
       "    <tr>\n",
       "      <th>3</th>\n",
       "      <td>8.0</td>\n",
       "      <td>NaN</td>\n",
       "      <td>NaN</td>\n",
       "      <td>NaN</td>\n",
       "      <td>NaN</td>\n",
       "    </tr>\n",
       "    <tr>\n",
       "      <th>4</th>\n",
       "      <td>16.0</td>\n",
       "      <td>NaN</td>\n",
       "      <td>NaN</td>\n",
       "      <td>NaN</td>\n",
       "      <td>NaN</td>\n",
       "    </tr>\n",
       "    <tr>\n",
       "      <th>5</th>\n",
       "      <td>32.0</td>\n",
       "      <td>NaN</td>\n",
       "      <td>NaN</td>\n",
       "      <td>NaN</td>\n",
       "      <td>NaN</td>\n",
       "    </tr>\n",
       "    <tr>\n",
       "      <th>6</th>\n",
       "      <td>64.0</td>\n",
       "      <td>NaN</td>\n",
       "      <td>NaN</td>\n",
       "      <td>NaN</td>\n",
       "      <td>NaN</td>\n",
       "    </tr>\n",
       "    <tr>\n",
       "      <th>7</th>\n",
       "      <td>128.0</td>\n",
       "      <td>NaN</td>\n",
       "      <td>NaN</td>\n",
       "      <td>NaN</td>\n",
       "      <td>NaN</td>\n",
       "    </tr>\n",
       "    <tr>\n",
       "      <th>8</th>\n",
       "      <td>256.0</td>\n",
       "      <td>NaN</td>\n",
       "      <td>NaN</td>\n",
       "      <td>NaN</td>\n",
       "      <td>NaN</td>\n",
       "    </tr>\n",
       "    <tr>\n",
       "      <th>9</th>\n",
       "      <td>512.0</td>\n",
       "      <td>NaN</td>\n",
       "      <td>NaN</td>\n",
       "      <td>NaN</td>\n",
       "      <td>NaN</td>\n",
       "    </tr>\n",
       "    <tr>\n",
       "      <th>10</th>\n",
       "      <td>1024.0</td>\n",
       "      <td>NaN</td>\n",
       "      <td>NaN</td>\n",
       "      <td>NaN</td>\n",
       "      <td>NaN</td>\n",
       "    </tr>\n",
       "    <tr>\n",
       "      <th>11</th>\n",
       "      <td>2048.0</td>\n",
       "      <td>NaN</td>\n",
       "      <td>NaN</td>\n",
       "      <td>NaN</td>\n",
       "      <td>NaN</td>\n",
       "    </tr>\n",
       "    <tr>\n",
       "      <th>12</th>\n",
       "      <td>4096.0</td>\n",
       "      <td>NaN</td>\n",
       "      <td>NaN</td>\n",
       "      <td>NaN</td>\n",
       "      <td>NaN</td>\n",
       "    </tr>\n",
       "    <tr>\n",
       "      <th>13</th>\n",
       "      <td>8192.0</td>\n",
       "      <td>NaN</td>\n",
       "      <td>NaN</td>\n",
       "      <td>NaN</td>\n",
       "      <td>NaN</td>\n",
       "    </tr>\n",
       "    <tr>\n",
       "      <th>14</th>\n",
       "      <td>16384.0</td>\n",
       "      <td>NaN</td>\n",
       "      <td>NaN</td>\n",
       "      <td>NaN</td>\n",
       "      <td>NaN</td>\n",
       "    </tr>\n",
       "    <tr>\n",
       "      <th>15</th>\n",
       "      <td>32768.0</td>\n",
       "      <td>NaN</td>\n",
       "      <td>NaN</td>\n",
       "      <td>NaN</td>\n",
       "      <td>NaN</td>\n",
       "    </tr>\n",
       "    <tr>\n",
       "      <th>16</th>\n",
       "      <td>65536.0</td>\n",
       "      <td>NaN</td>\n",
       "      <td>NaN</td>\n",
       "      <td>NaN</td>\n",
       "      <td>NaN</td>\n",
       "    </tr>\n",
       "    <tr>\n",
       "      <th>17</th>\n",
       "      <td>131072.0</td>\n",
       "      <td>NaN</td>\n",
       "      <td>NaN</td>\n",
       "      <td>NaN</td>\n",
       "      <td>NaN</td>\n",
       "    </tr>\n",
       "    <tr>\n",
       "      <th>18</th>\n",
       "      <td>262144.0</td>\n",
       "      <td>NaN</td>\n",
       "      <td>NaN</td>\n",
       "      <td>NaN</td>\n",
       "      <td>NaN</td>\n",
       "    </tr>\n",
       "    <tr>\n",
       "      <th>19</th>\n",
       "      <td>524288.0</td>\n",
       "      <td>NaN</td>\n",
       "      <td>NaN</td>\n",
       "      <td>NaN</td>\n",
       "      <td>NaN</td>\n",
       "    </tr>\n",
       "  </tbody>\n",
       "</table>\n",
       "</div>"
      ],
      "text/plain": [
       "     lambda_  MAE_train  MAE_val  RMSE_train  RMSE_val\n",
       "0        1.0        NaN      NaN         NaN       NaN\n",
       "1        2.0        NaN      NaN         NaN       NaN\n",
       "2        4.0        NaN      NaN         NaN       NaN\n",
       "3        8.0        NaN      NaN         NaN       NaN\n",
       "4       16.0        NaN      NaN         NaN       NaN\n",
       "5       32.0        NaN      NaN         NaN       NaN\n",
       "6       64.0        NaN      NaN         NaN       NaN\n",
       "7      128.0        NaN      NaN         NaN       NaN\n",
       "8      256.0        NaN      NaN         NaN       NaN\n",
       "9      512.0        NaN      NaN         NaN       NaN\n",
       "10    1024.0        NaN      NaN         NaN       NaN\n",
       "11    2048.0        NaN      NaN         NaN       NaN\n",
       "12    4096.0        NaN      NaN         NaN       NaN\n",
       "13    8192.0        NaN      NaN         NaN       NaN\n",
       "14   16384.0        NaN      NaN         NaN       NaN\n",
       "15   32768.0        NaN      NaN         NaN       NaN\n",
       "16   65536.0        NaN      NaN         NaN       NaN\n",
       "17  131072.0        NaN      NaN         NaN       NaN\n",
       "18  262144.0        NaN      NaN         NaN       NaN\n",
       "19  524288.0        NaN      NaN         NaN       NaN"
      ]
     },
     "execution_count": 12,
     "metadata": {},
     "output_type": "execute_result"
    }
   ],
   "source": [
    "df_results"
   ]
  },
  {
   "cell_type": "markdown",
   "metadata": {},
   "source": [
    "The for loop below will fit a model for each value of lambda and then calculate train and val errors.\n",
    "\n",
    "**TODO**\n",
    "\n",
    "Complete the code in the for loop below.\n",
    " - \n",
    " - fit the model to X[idx_train, :] and y[idx_train]\n",
    " - predict the model on train and val to get model_pred_train/val"
   ]
  },
  {
   "cell_type": "code",
   "execution_count": 13,
   "metadata": {},
   "outputs": [],
   "source": [
    "for idx, lambda_ in enumerate(lambdas):\n",
    "    \n",
    "    # instantiate a model of the Ridge class with alpha equal to the lambda_,\n",
    "    # fit_intercept=True and normalize=False\n",
    "    model = Ridge(alpha=lambda_,\n",
    "                  fit_intercept=True, \n",
    "                  normalize=False\n",
    "                  )\n",
    "    \n",
    "    # Fit the model using only the train data (X[idx_train, :], y[idx_train])\n",
    "    model.fit(X[idx_train, :], y[idx_train])\n",
    "\n",
    "    # Predict the model separately on the train data and on the val data\n",
    "    model_pred_train = model.predict(X[idx_train, :])\n",
    "    model_pred_val = model.predict(X[idx_val, :])\n",
    "\n",
    "    # Calculate MAE and RMSE on train and val and store in the appropriate column of df_results\n",
    "    df_results['MAE_train'][idx] = fn_MAE(y[idx_train], model_pred_train)\n",
    "    df_results['MAE_val'][idx] = fn_MAE(y[idx_val], model_pred_val)\n",
    "\n",
    "    df_results['RMSE_train'][idx] = fn_RMSE(y[idx_train], model_pred_train)\n",
    "    df_results['RMSE_val'][idx] = fn_RMSE(y[idx_val], model_pred_val)\n"
   ]
  },
  {
   "cell_type": "code",
   "execution_count": 14,
   "metadata": {},
   "outputs": [
    {
     "data": {
      "text/html": [
       "<div>\n",
       "<style scoped>\n",
       "    .dataframe tbody tr th:only-of-type {\n",
       "        vertical-align: middle;\n",
       "    }\n",
       "\n",
       "    .dataframe tbody tr th {\n",
       "        vertical-align: top;\n",
       "    }\n",
       "\n",
       "    .dataframe thead th {\n",
       "        text-align: right;\n",
       "    }\n",
       "</style>\n",
       "<table border=\"1\" class=\"dataframe\">\n",
       "  <thead>\n",
       "    <tr style=\"text-align: right;\">\n",
       "      <th></th>\n",
       "      <th>lambda_</th>\n",
       "      <th>MAE_train</th>\n",
       "      <th>MAE_val</th>\n",
       "      <th>RMSE_train</th>\n",
       "      <th>RMSE_val</th>\n",
       "    </tr>\n",
       "  </thead>\n",
       "  <tbody>\n",
       "    <tr>\n",
       "      <th>15</th>\n",
       "      <td>32768.0</td>\n",
       "      <td>37854.0</td>\n",
       "      <td>37922.0</td>\n",
       "      <td>54606.0</td>\n",
       "      <td>53370.0</td>\n",
       "    </tr>\n",
       "    <tr>\n",
       "      <th>16</th>\n",
       "      <td>65536.0</td>\n",
       "      <td>45220.0</td>\n",
       "      <td>45127.0</td>\n",
       "      <td>63704.0</td>\n",
       "      <td>62368.0</td>\n",
       "    </tr>\n",
       "    <tr>\n",
       "      <th>17</th>\n",
       "      <td>131072.0</td>\n",
       "      <td>50640.0</td>\n",
       "      <td>50458.0</td>\n",
       "      <td>70341.0</td>\n",
       "      <td>68965.0</td>\n",
       "    </tr>\n",
       "    <tr>\n",
       "      <th>18</th>\n",
       "      <td>262144.0</td>\n",
       "      <td>54061.0</td>\n",
       "      <td>53802.0</td>\n",
       "      <td>74485.0</td>\n",
       "      <td>73094.0</td>\n",
       "    </tr>\n",
       "    <tr>\n",
       "      <th>19</th>\n",
       "      <td>524288.0</td>\n",
       "      <td>56008.0</td>\n",
       "      <td>55695.0</td>\n",
       "      <td>76826.0</td>\n",
       "      <td>75429.0</td>\n",
       "    </tr>\n",
       "  </tbody>\n",
       "</table>\n",
       "</div>"
      ],
      "text/plain": [
       "     lambda_  MAE_train  MAE_val  RMSE_train  RMSE_val\n",
       "15   32768.0    37854.0  37922.0     54606.0   53370.0\n",
       "16   65536.0    45220.0  45127.0     63704.0   62368.0\n",
       "17  131072.0    50640.0  50458.0     70341.0   68965.0\n",
       "18  262144.0    54061.0  53802.0     74485.0   73094.0\n",
       "19  524288.0    56008.0  55695.0     76826.0   75429.0"
      ]
     },
     "execution_count": 14,
     "metadata": {},
     "output_type": "execute_result"
    }
   ],
   "source": [
    "df_results.tail()"
   ]
  },
  {
   "cell_type": "markdown",
   "metadata": {},
   "source": [
    "## Train and validation curves\n",
    "\n",
    "Run the code below to create train and validation curves. Note that we have plotted -lambdas so that the large values are on the left.  Note how the largest values (very simple models) have a high RMSE.  As we increase complexity, the loss reduces (i.e. performance improves) on both the train and validation data.  However there comes a point where train loss continues to improve but val loss does not."
   ]
  },
  {
   "cell_type": "code",
   "execution_count": 15,
   "metadata": {
    "scrolled": false
   },
   "outputs": [
    {
     "data": {
      "image/png": "[encoded data removed]",
      "text/plain": [
       "<Figure size 864x576 with 1 Axes>"
      ]
     },
     "metadata": {
      "needs_background": "light"
     },
     "output_type": "display_data"
    }
   ],
   "source": [
    "m_log_lambdas = -np.log(df_results['lambda_'])\n",
    "\n",
    "font = {'size': 20}\n",
    "plt.rc('font', **font)\n",
    "\n",
    "fig = plt.figure(figsize=(12,8))\n",
    "ax1 = fig.add_subplot(1, 1, 1)\n",
    "ax1.plot(m_log_lambdas[0:13], np.log(df_results['RMSE_train'][0:13]), 'k-', label='train')\n",
    "ax1.plot(m_log_lambdas[0:13], np.log(df_results['RMSE_val'][0:13]), 'r--', label='val')\n",
    "\n",
    "ax1.set_xlabel('Models of increasing complexity')\n",
    "ax1.set_ylabel('log RMSE')\n",
    "ax1.set_title('Train and validation curves')\n",
    "_ = ax1.legend()"
   ]
  },
  {
   "cell_type": "code",
   "execution_count": 16,
   "metadata": {},
   "outputs": [
    {
     "data": {
      "image/png": "[encoded data removed]",
      "text/plain": [
       "<Figure size 864x576 with 1 Axes>"
      ]
     },
     "metadata": {
      "needs_background": "light"
     },
     "output_type": "display_data"
    }
   ],
   "source": [
    "fig = plt.figure(figsize=(12,8))\n",
    "ax1 = fig.add_subplot(1, 1, 1)\n",
    "ax1.plot(m_log_lambdas[0:13], np.log(df_results['MAE_train'][0:13]), 'k-', label='train')\n",
    "ax1.plot(m_log_lambdas[0:13], np.log(df_results['MAE_val'][0:13]), 'r--', label='val')\n",
    "\n",
    "ax1.set_xlabel('Models of increasing complexity')\n",
    "ax1.set_ylabel('log Mean absolute error')\n",
    "ax1.set_title('Train and validation curves')\n",
    "_ = ax1.legend()"
   ]
  },
  {
   "cell_type": "markdown",
   "metadata": {},
   "source": [
    "**TODO**\n",
    "\n",
    "Consider the train-val curves above:\n",
    " - Do the models on the left suffer from bias? variance?\n",
    " - How about those on the right?\n",
    " - Does the model chosen by the optimal point on the validation curve suffer from bias? variance?"
   ]
  },
  {
   "cell_type": "markdown",
   "metadata": {},
   "source": [
    "**Find best lambda and fit all design data**\n",
    "\n",
    "**TODO**\n",
    "\n",
    " - Find the value of lambda which gives the best validation MAE.\n",
    " - Instantiate a Ridge model with this value of lambda\n",
    " - Fit the model to ALL of the train and validation data (we have called this \"design\" data)\n",
    " - Create predictions for train, val and test data\n",
    " - Find the train, val and test MAE"
   ]
  },
  {
   "cell_type": "code",
   "execution_count": 17,
   "metadata": {},
   "outputs": [
    {
     "name": "stdout",
     "output_type": "stream",
     "text": [
      "train error 13735.0\n",
      "val error 14297.0\n",
      "design error 13884.0\n",
      "test error 14018.0\n"
     ]
    }
   ],
   "source": [
    "idx = np.argmin(df_results['MAE_val'].values)\n",
    "best_lambda = df_results['lambda_'].iloc[idx]\n",
    "\n",
    "model = Ridge(alpha=best_lambda,\n",
    "              fit_intercept=True, \n",
    "              normalize=False)\n",
    "    \n",
    "model.fit(X=X[idx_design, :], y=y[idx_design])\n",
    "    \n",
    "model_pred_train = model.predict(X[idx_train, :])\n",
    "model_pred_val   = model.predict(X[idx_val, :])\n",
    "model_pred_design   = model.predict(X[idx_design, :])\n",
    "model_pred_test  = model.predict(X[idx_test, :])\n",
    "    \n",
    "print('train error', fn_MAE(y[idx_train], model_pred_train))\n",
    "print('val error',   fn_MAE(y[idx_val], model_pred_val))\n",
    "print('design error', fn_MAE(y[idx_design], model_pred_design))\n",
    "print('test error',  fn_MAE(y[idx_test], model_pred_test))\n",
    "\n"
   ]
  },
  {
   "cell_type": "markdown",
   "metadata": {},
   "source": [
    "- How does the test error compare to non-regularised regression\n"
   ]
  },
  {
   "cell_type": "code",
   "execution_count": null,
   "metadata": {},
   "outputs": [],
   "source": []
  }
 ],
 "metadata": {
  "anaconda-cloud": {},
  "kernelspec": {
   "display_name": "Python 3",
   "language": "python",
   "name": "python3"
  },
  "language_info": {
   "codemirror_mode": {
    "name": "ipython",
    "version": 3
   },
   "file_extension": ".py",
   "mimetype": "text/x-python",
   "name": "python",
   "nbconvert_exporter": "python",
   "pygments_lexer": "ipython3",
   "version": "3.7.6"
  }
 },
 "nbformat": 4,
 "nbformat_minor": 1
}
