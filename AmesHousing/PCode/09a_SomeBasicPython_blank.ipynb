{
 "cells": [
  {
   "cell_type": "markdown",
   "metadata": {},
   "source": [
    "## Some basic Python\n",
    "\n",
    "Notes\n",
    " - Students in past years were missing some of the basics\n",
    " - Here we quickly go though some of the basics\n",
    " - For those who need a refersher of basic Python, the first 5 chapters of https://docs.python.org/3/tutorial/index.html would be a good start.\n"
   ]
  },
  {
   "cell_type": "code",
   "execution_count": null,
   "metadata": {},
   "outputs": [],
   "source": [
    "import numpy as np\n",
    "import pandas as pd"
   ]
  },
  {
   "cell_type": "markdown",
   "metadata": {},
   "source": [
    "### Missings\n",
    "\n",
    "Bascically, I suggest you read this: https://towardsdatascience.com/navigating-the-hell-of-nans-in-python-71b12558895b\n",
    "\n"
   ]
  },
  {
   "cell_type": "markdown",
   "metadata": {},
   "source": [
    "**None**\n",
    "\n",
    "In Python, None is an object which is a built-in constant which we use to represent the absence of a value.   \n",
    "Its type is NoneType.\n",
    "See: https://docs.python.org/3/library/constants.html?highlight=none#None\n"
   ]
  },
  {
   "cell_type": "markdown",
   "metadata": {},
   "source": [
    "There is only one instance of None in your Python environment.\n",
    "\n",
    "When you type a = None, you assign the variable \"a\" to point to this one instance of None.\n"
   ]
  },
  {
   "cell_type": "code",
   "execution_count": null,
   "metadata": {},
   "outputs": [],
   "source": []
  },
  {
   "cell_type": "markdown",
   "metadata": {},
   "source": [
    "When you type b = None, you assign the variable \"b\" to the **same** (one and only) instance of the None constant.\n"
   ]
  },
  {
   "cell_type": "code",
   "execution_count": null,
   "metadata": {},
   "outputs": [],
   "source": []
  },
  {
   "cell_type": "code",
   "execution_count": null,
   "metadata": {},
   "outputs": [],
   "source": []
  },
  {
   "cell_type": "code",
   "execution_count": null,
   "metadata": {},
   "outputs": [],
   "source": []
  },
  {
   "cell_type": "markdown",
   "metadata": {},
   "source": [
    "Since None is a Python object, if you include it is a series, it will want to raise the dtype of the series to \"object\".  However you will find that Pandas changes None to np.nan (which we will see can be stored as a float64)."
   ]
  },
  {
   "cell_type": "code",
   "execution_count": null,
   "metadata": {},
   "outputs": [],
   "source": [
    "pd.Series([1,2,3]).dtype"
   ]
  },
  {
   "cell_type": "code",
   "execution_count": null,
   "metadata": {},
   "outputs": [],
   "source": []
  },
  {
   "cell_type": "code",
   "execution_count": null,
   "metadata": {},
   "outputs": [],
   "source": [
    "# Note that at index 3 we have NaN - not None\n"
   ]
  },
  {
   "cell_type": "markdown",
   "metadata": {},
   "source": [
    "**np.nan**\n",
    "\n",
    "In numpy, np.nan is a special floating-point NaN value defined according to an international standard (which existed long before numpy).\n",
    "\n",
    "np.nan is a standard (IEEE 754) floating point representation of Not A Number.\n",
    "\n",
    "We can use np.nan for missing numeric data.  It stands for Not A Number. \n",
    "\n",
    "\n",
    "I find np.nan confusing - and there is at least one other person that does: https://towardsdatascience.com/navigating-the-hell-of-nans-in-python-71b12558895b\n",
    "\n"
   ]
  },
  {
   "cell_type": "code",
   "execution_count": null,
   "metadata": {},
   "outputs": [],
   "source": [
    "# Note the following\n",
    "a = np.nan\n",
    "b = np.nan\n",
    "a is b"
   ]
  },
  {
   "cell_type": "code",
   "execution_count": null,
   "metadata": {},
   "outputs": [],
   "source": []
  },
  {
   "cell_type": "markdown",
   "metadata": {},
   "source": [
    "**Iterables** and **Iterators**\n",
    "\n",
    "My comments that follow are based on the links below. This topic somewhat confusing (to me) so you may just be better off reading the original posts: \n",
    " - https://stackoverflow.com/questions/9884132/what-exactly-are-iterator-iterable-and-iteration\n",
    " - https://stackoverflow.com/questions/40650082/confusion-about-iterators-and-iterables-in-python \n",
    "\n"
   ]
  },
  {
   "cell_type": "markdown",
   "metadata": {},
   "source": [
    "**Range**"
   ]
  },
  {
   "cell_type": "code",
   "execution_count": null,
   "metadata": {},
   "outputs": [],
   "source": [
    "a = range(5)"
   ]
  },
  {
   "cell_type": "markdown",
   "metadata": {},
   "source": [
    "In Python, an \"iterable\" is anything that you can iterate potentially iterate over (for example on the right-side of a for-loop): \n",
    " - for x in iterable:"
   ]
  },
  {
   "cell_type": "code",
   "execution_count": null,
   "metadata": {},
   "outputs": [],
   "source": []
  },
  {
   "cell_type": "markdown",
   "metadata": {},
   "source": [
    "It is not so easy to iterate over something.  You need to keep track of where you are and stop when you get to the end.  Python does this by creating an iterator from the iterable.  One way it does this is by calling the iter function.  And iterator has a state - it keeps track of where it is up to."
   ]
  },
  {
   "cell_type": "code",
   "execution_count": null,
   "metadata": {},
   "outputs": [],
   "source": []
  },
  {
   "cell_type": "code",
   "execution_count": null,
   "metadata": {},
   "outputs": [],
   "source": [
    "# Run this cell a few times\n",
    "a_iterator.__next__()\n"
   ]
  },
  {
   "cell_type": "markdown",
   "metadata": {},
   "source": [
    "When you use a for loop in Python over the range(5) example, Python actually creates a range_iterator using the iter() function, just like we did above. "
   ]
  },
  {
   "cell_type": "markdown",
   "metadata": {},
   "source": [
    "**zip**\n",
    "\n",
    "When you pass things to zip, it creates a zip obect that pairs the first item of each thing together, and then the second.\n",
    "\n",
    "The zip object is an iterator.  \n",
    "\n",
    "It has a state.  \n",
    "\n",
    "You can go through it.  \n",
    "\n",
    "Once.  \n",
    "\n",
    "Then that is it."
   ]
  },
  {
   "cell_type": "code",
   "execution_count": null,
   "metadata": {},
   "outputs": [],
   "source": [
    "a = b = c = range(5)"
   ]
  },
  {
   "cell_type": "code",
   "execution_count": null,
   "metadata": {},
   "outputs": [],
   "source": [
    "zipped = zip(a, b, c)"
   ]
  },
  {
   "cell_type": "code",
   "execution_count": null,
   "metadata": {},
   "outputs": [],
   "source": [
    "for thing in zipped:\n",
    "    print(thing)"
   ]
  },
  {
   "cell_type": "code",
   "execution_count": null,
   "metadata": {},
   "outputs": [],
   "source": [
    "for thing in zipped:\n",
    "    print(thing)"
   ]
  },
  {
   "cell_type": "markdown",
   "metadata": {},
   "source": [
    "What went wrong?"
   ]
  },
  {
   "cell_type": "markdown",
   "metadata": {},
   "source": [
    "zipped is not an iterable.  It is an iterator. This means that\n",
    " - it has the .\\_\\_next\\_\\_() property\n",
    " - it returns its contents one at the time\n",
    " - when you get to the end - that's it!"
   ]
  },
  {
   "cell_type": "code",
   "execution_count": null,
   "metadata": {},
   "outputs": [],
   "source": [
    "zipped = zip(a, b, c)"
   ]
  },
  {
   "cell_type": "code",
   "execution_count": null,
   "metadata": {},
   "outputs": [],
   "source": [
    "zipped.__next__()"
   ]
  },
  {
   "cell_type": "code",
   "execution_count": null,
   "metadata": {},
   "outputs": [],
   "source": [
    "zipped.__next__()"
   ]
  },
  {
   "cell_type": "code",
   "execution_count": null,
   "metadata": {},
   "outputs": [],
   "source": [
    "zipped.__next__()"
   ]
  },
  {
   "cell_type": "markdown",
   "metadata": {},
   "source": [
    "**The unpack operator** (*)\n",
    "\n",
    "\\* unpacks arguments passed to a function"
   ]
  },
  {
   "cell_type": "code",
   "execution_count": null,
   "metadata": {},
   "outputs": [],
   "source": [
    "print(a)"
   ]
  },
  {
   "cell_type": "code",
   "execution_count": null,
   "metadata": {},
   "outputs": [],
   "source": [
    "zipped = zip(a, b, c)"
   ]
  },
  {
   "cell_type": "code",
   "execution_count": null,
   "metadata": {},
   "outputs": [],
   "source": [
    "zipped = zip(a, b, c)\n",
    "list(zipped)"
   ]
  },
  {
   "cell_type": "code",
   "execution_count": null,
   "metadata": {},
   "outputs": [],
   "source": [
    "# can we call zip on the zipped object - do we get back to where we started?\n",
    "zipped = zip(a, b, c)\n",
    "list(zip(zipped))"
   ]
  },
  {
   "cell_type": "code",
   "execution_count": null,
   "metadata": {},
   "outputs": [],
   "source": [
    "# we need to unpack the zip objec\n",
    "a1, b1, c1 = "
   ]
  },
  {
   "cell_type": "code",
   "execution_count": null,
   "metadata": {},
   "outputs": [],
   "source": [
    "print(a1)"
   ]
  },
  {
   "cell_type": "markdown",
   "metadata": {},
   "source": [
    "**Dictionaries** aka **key-value stores**\n",
    "\n",
    "If you listen to some of the h2o video, you will hear them talking about distributed key-value stores.  These a basically dictionaries stored over many machines."
   ]
  },
  {
   "cell_type": "code",
   "execution_count": null,
   "metadata": {},
   "outputs": [],
   "source": [
    "dct_all = {'col1': (1, 2, 3),\n",
    "           'col2': ('a', 'b', 'c'),\n",
    "           'col3': (0.1, 0.2, 0.3)}"
   ]
  },
  {
   "cell_type": "code",
   "execution_count": null,
   "metadata": {},
   "outputs": [],
   "source": [
    "dct_all['col1']"
   ]
  },
  {
   "cell_type": "code",
   "execution_count": null,
   "metadata": {},
   "outputs": [],
   "source": [
    "df_all = pd.DataFrame(dct_all)"
   ]
  },
  {
   "cell_type": "code",
   "execution_count": null,
   "metadata": {},
   "outputs": [],
   "source": [
    "df_all"
   ]
  }
 ],
 "metadata": {
  "kernelspec": {
   "display_name": "Python 3",
   "language": "python",
   "name": "python3"
  },
  "language_info": {
   "codemirror_mode": {
    "name": "ipython",
    "version": 3
   },
   "file_extension": ".py",
   "mimetype": "text/x-python",
   "name": "python",
   "nbconvert_exporter": "python",
   "pygments_lexer": "ipython3",
   "version": "3.7.6"
  }
 },
 "nbformat": 4,
 "nbformat_minor": 2
}
