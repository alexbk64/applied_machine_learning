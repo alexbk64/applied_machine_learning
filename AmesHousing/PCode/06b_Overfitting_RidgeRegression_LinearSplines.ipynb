{
 "cells": [
  {
   "cell_type": "markdown",
   "metadata": {},
   "source": [
    "## Penalised Regression: Ridge Regression w/ Linear Splines\n",
    "-Contents\n",
    "-Notes\n",
    "-Source: https://www.analyticsvidhya.com/blog/2016/01/ridge-lasso-regression-python-complete-tutorial/\n"
   ]
  },
  {
   "cell_type": "code",
   "execution_count": 38,
   "metadata": {},
   "outputs": [],
   "source": [
    "import pandas as pd\n",
    "import numpy as np\n",
    "\n",
    "from sklearn.linear_model import RidgeCV\n",
    "\n",
    "from matplotlib import pyplot as plt\n",
    "%matplotlib inline "
   ]
  },
  {
   "cell_type": "markdown",
   "metadata": {},
   "source": [
    "***Functions***"
   ]
  },
  {
   "cell_type": "code",
   "execution_count": 39,
   "metadata": {},
   "outputs": [],
   "source": [
    "#import helper functions\n",
    "from fn_helpers import fn_print_coefficients, fn_plot_predictions\n",
    "\n",
    "#plot data\n",
    "def fn_plot_data(data):\n",
    "    fig = plt.figure(figsize = (8,8))\n",
    "    ax1 = fig.add_subplot(1,1,1)\n",
    "    ax1.plot(data['x_1'],data['y'],'k.')\n",
    "    ax1.set_xlabel('x_1',fontsize=20)\n",
    "    ax1.set_ylabel('y',fontsize=20)"
   ]
  },
  {
   "cell_type": "markdown",
   "metadata": {},
   "source": [
    "***Create some data***\n",
    "- simulate random values for x in interval [0,1]\n",
    "- compute y based on a sine function\n",
    "- add gaussian noise to y"
   ]
  },
  {
   "cell_type": "code",
   "execution_count": 40,
   "metadata": {},
   "outputs": [],
   "source": [
    "np.random.seed(2018)\n",
    "n = 3030\n",
    "x = np.random.uniform(0,1,n) #uniform random sample of size n\n",
    "y = np.sin(5*x) # y = sin(5x)\n",
    "e = np.random.normal(0,1/3,n) #noise (gaussian) with mean 0 and variance 1/3\n",
    "y += e # y = sin(5x) + noise (white noise error term)\n",
    "\n",
    "df_all = pd.DataFrame({'y': y,\n",
    "                      'x_1': x})\n",
    "\n",
    "#split the data into train and test sets\n",
    "df_train = df_all.iloc[0:30]\n",
    "df_test = df_all.iloc[30:3030]"
   ]
  },
  {
   "cell_type": "code",
   "execution_count": 41,
   "metadata": {},
   "outputs": [],
   "source": [
    "vars_ind_numeric = ['x_1']\n",
    "vars_ind_tospline = ['x_1']"
   ]
  },
  {
   "cell_type": "markdown",
   "metadata": {},
   "source": [
    "***Create splines***"
   ]
  },
  {
   "cell_type": "code",
   "execution_count": 42,
   "metadata": {},
   "outputs": [],
   "source": [
    "#split any particular feature by a certain number of percentiles"
   ]
  },
  {
   "cell_type": "code",
   "execution_count": 43,
   "metadata": {},
   "outputs": [],
   "source": [
    "# var = 'x_1'\n",
    "# x = df_train[var].values #values of x_1 in train data\n",
    "\n",
    "# #split feature into percentiles \n",
    "# ptiles = np.percentile(df_train[var],5*(1+np.arange(20)))\n",
    "# #create dataframe which contains the original variable and its original values\n",
    "# df_ptiles = pd.DataFrame({var: x})\n",
    "# # df_ptiles.head() #check to make sure as expected\n",
    "\n",
    "# #now add splines\n",
    "# for idx, ptile in enumerate(ptiles):\n",
    "#     #NOTE: spline variable is max(0, x - value of knot)\n",
    "#     df_ptiles[var + '_'+str(idx)] = np.maximum(0, x - ptiles[idx])\n",
    "\n",
    "\n",
    "# #each linear spline is defined by a knot: \n",
    "# #to the left of the knot, the value is 0.\n",
    "# #to the right of the knot, the value starts sloping upwards and is given by:\n",
    "# #x-knot\n",
    "\n",
    "# #EX 1: \n",
    "# #first percentile (i.e. ptile[0]) is 0.10562704. This is the knot.\n",
    "# #first x (i.e. x_1[0]) is 0.882349.\n",
    "# #corresponding spline (i.e. x_1_0[0]) is 0.882349-0.10562704 = 0.77672196\n",
    "# print('EX 1: {:7.5f}'.format(df_ptiles[var+'_0'].iloc[0]))\n",
    "\n",
    "# #EX 2: \n",
    "# #first percentile (i.e. ptile[0]) is 0.10562704. This is the knot.\n",
    "# #second x is (i.e. x_1[1]) is 0.104328. Note x_1 < ptile\n",
    "# #corresponding spline (i.e. x_1_0[1]) is 0.104328-0.10562704 = -0.00129904\n",
    "# #and therefore 0 (ZERO!!) as we take max between 0 and calculated value\n",
    "# print('EX 2: {:7.5f}'.format(df_ptiles[var+'_0'].iloc[1]))\n",
    "\n",
    "# #EX 3: \n",
    "# #fourth percentile (i.e. ptile[3]) is 0.21642389. This is the knot.\n",
    "# #fourth x (i.e. x_1[3]) is 0.306399.\n",
    "# #spline (x_1_3[3])is 0.306399-0.21642389 = 0.08997511\n",
    "# print('EX 3: {:7.5f}'.format(df_ptiles[var+'_3'].iloc[3]))\n",
    "\n",
    "# #check to make sure as expected\n",
    "# print(ptiles)\n",
    "# df_ptiles.head() "
   ]
  },
  {
   "cell_type": "markdown",
   "metadata": {},
   "source": [
    "***Turning the above into a function ***"
   ]
  },
  {
   "cell_type": "code",
   "execution_count": 44,
   "metadata": {},
   "outputs": [],
   "source": [
    "def fn_tosplines(varname,x):\n",
    "#takes a feature name and the values of that feature\n",
    "\n",
    "    #split feature into percentiles \n",
    "    ptiles = np.percentile(x,5*(1+np.arange(10)))\n",
    "\n",
    "    #create dataframe which contains the original variable and its original values\n",
    "    df_ptiles = pd.DataFrame({var: x})\n",
    "\n",
    "    #now add splines\n",
    "    for idx, ptile in enumerate(ptiles):\n",
    "        #NOTE: spline variable is max(0, x - value of knot)\n",
    "        df_ptiles[var + '_' + str(idx)] = np.maximum(0, x - ptiles[idx])\n",
    "    return [df_ptiles, ptiles]"
   ]
  },
  {
   "cell_type": "markdown",
   "metadata": {},
   "source": [
    "***Spline all numeric indep. variables***\n",
    "- Use the above function\n",
    "- NOTE: The below code may cause issues if trying to spline variables which has less than 10 unique values. May be best to check cardinality and spline only those with certain number of unique values for ex 20."
   ]
  },
  {
   "cell_type": "code",
   "execution_count": 45,
   "metadata": {},
   "outputs": [],
   "source": [
    "#iterate over variables which we want to turn into a spline\n",
    "#append slines to data\n",
    "# #create copy of data\n",
    "# df_temp = df_all.copy()\n",
    "# for var in vars_ind_tospline: \n",
    "#     df_ptiles, knots = fn_tosplines(var, df_all[var].values)\n",
    "#     #drop original variable after having created splines from it\n",
    "#     #as adding back the splines will also add back original var\n",
    "#     df_temp.drop(columns = [var], inplace=True)\n",
    "#     #remove it from list of numeric independent vars for same reason\n",
    "#     vars_ind_numeric.remove(var)\n",
    "#     #append spline columns (for current var) to dataset\n",
    "#     df_temp = pd.concat([df_temp, df_ptiles],axis=1, sort=False)\n",
    "#     vars_ind_numeric.extend(df_ptiles.columns.tolist())\n",
    "\n",
    "for var in vars_ind_tospline: \n",
    "    df_ptiles, knots = fn_tosplines(var, df_all[var].values)\n",
    "    #drop original variable after having created splines from it\n",
    "    #as adding back the splines will also add back original var\n",
    "    df_all.drop(columns = [var], inplace=True)\n",
    "    #remove it from list of numeric independent vars for same reason\n",
    "    vars_ind_numeric.remove(var)\n",
    "    #append spline columns (for current var) to dataset\n",
    "    df_all = pd.concat([df_all, df_ptiles],axis=1, sort=False)\n",
    "    vars_ind_numeric.extend(df_ptiles.columns.tolist())"
   ]
  },
  {
   "cell_type": "code",
   "execution_count": 46,
   "metadata": {},
   "outputs": [
    {
     "data": {
      "text/html": [
       "<div>\n",
       "<style scoped>\n",
       "    .dataframe tbody tr th:only-of-type {\n",
       "        vertical-align: middle;\n",
       "    }\n",
       "\n",
       "    .dataframe tbody tr th {\n",
       "        vertical-align: top;\n",
       "    }\n",
       "\n",
       "    .dataframe thead th {\n",
       "        text-align: right;\n",
       "    }\n",
       "</style>\n",
       "<table border=\"1\" class=\"dataframe\">\n",
       "  <thead>\n",
       "    <tr style=\"text-align: right;\">\n",
       "      <th></th>\n",
       "      <th>y</th>\n",
       "      <th>x_1</th>\n",
       "      <th>x_1_0</th>\n",
       "      <th>x_1_1</th>\n",
       "      <th>x_1_2</th>\n",
       "      <th>x_1_3</th>\n",
       "      <th>x_1_4</th>\n",
       "      <th>x_1_5</th>\n",
       "      <th>x_1_6</th>\n",
       "      <th>x_1_7</th>\n",
       "      <th>x_1_8</th>\n",
       "      <th>x_1_9</th>\n",
       "    </tr>\n",
       "  </thead>\n",
       "  <tbody>\n",
       "    <tr>\n",
       "      <th>0</th>\n",
       "      <td>-0.291049</td>\n",
       "      <td>0.882349</td>\n",
       "      <td>0.823343</td>\n",
       "      <td>0.772192</td>\n",
       "      <td>0.723931</td>\n",
       "      <td>0.678290</td>\n",
       "      <td>0.628268</td>\n",
       "      <td>0.576941</td>\n",
       "      <td>0.529297</td>\n",
       "      <td>0.478928</td>\n",
       "      <td>0.428195</td>\n",
       "      <td>0.381343</td>\n",
       "    </tr>\n",
       "    <tr>\n",
       "      <th>1</th>\n",
       "      <td>0.385600</td>\n",
       "      <td>0.104328</td>\n",
       "      <td>0.045321</td>\n",
       "      <td>0.000000</td>\n",
       "      <td>0.000000</td>\n",
       "      <td>0.000000</td>\n",
       "      <td>0.000000</td>\n",
       "      <td>0.000000</td>\n",
       "      <td>0.000000</td>\n",
       "      <td>0.000000</td>\n",
       "      <td>0.000000</td>\n",
       "      <td>0.000000</td>\n",
       "    </tr>\n",
       "    <tr>\n",
       "      <th>2</th>\n",
       "      <td>-1.118268</td>\n",
       "      <td>0.907009</td>\n",
       "      <td>0.848003</td>\n",
       "      <td>0.796852</td>\n",
       "      <td>0.748591</td>\n",
       "      <td>0.702950</td>\n",
       "      <td>0.652928</td>\n",
       "      <td>0.601601</td>\n",
       "      <td>0.553957</td>\n",
       "      <td>0.503588</td>\n",
       "      <td>0.452855</td>\n",
       "      <td>0.406003</td>\n",
       "    </tr>\n",
       "    <tr>\n",
       "      <th>3</th>\n",
       "      <td>1.427374</td>\n",
       "      <td>0.306399</td>\n",
       "      <td>0.247392</td>\n",
       "      <td>0.196241</td>\n",
       "      <td>0.147980</td>\n",
       "      <td>0.102339</td>\n",
       "      <td>0.052318</td>\n",
       "      <td>0.000990</td>\n",
       "      <td>0.000000</td>\n",
       "      <td>0.000000</td>\n",
       "      <td>0.000000</td>\n",
       "      <td>0.000000</td>\n",
       "    </tr>\n",
       "    <tr>\n",
       "      <th>4</th>\n",
       "      <td>0.774178</td>\n",
       "      <td>0.446409</td>\n",
       "      <td>0.387402</td>\n",
       "      <td>0.336251</td>\n",
       "      <td>0.287990</td>\n",
       "      <td>0.242349</td>\n",
       "      <td>0.192328</td>\n",
       "      <td>0.141000</td>\n",
       "      <td>0.093357</td>\n",
       "      <td>0.042988</td>\n",
       "      <td>0.000000</td>\n",
       "      <td>0.000000</td>\n",
       "    </tr>\n",
       "  </tbody>\n",
       "</table>\n",
       "</div>"
      ],
      "text/plain": [
       "          y       x_1     x_1_0     x_1_1     x_1_2     x_1_3     x_1_4  \\\n",
       "0 -0.291049  0.882349  0.823343  0.772192  0.723931  0.678290  0.628268   \n",
       "1  0.385600  0.104328  0.045321  0.000000  0.000000  0.000000  0.000000   \n",
       "2 -1.118268  0.907009  0.848003  0.796852  0.748591  0.702950  0.652928   \n",
       "3  1.427374  0.306399  0.247392  0.196241  0.147980  0.102339  0.052318   \n",
       "4  0.774178  0.446409  0.387402  0.336251  0.287990  0.242349  0.192328   \n",
       "\n",
       "      x_1_5     x_1_6     x_1_7     x_1_8     x_1_9  \n",
       "0  0.576941  0.529297  0.478928  0.428195  0.381343  \n",
       "1  0.000000  0.000000  0.000000  0.000000  0.000000  \n",
       "2  0.601601  0.553957  0.503588  0.452855  0.406003  \n",
       "3  0.000990  0.000000  0.000000  0.000000  0.000000  \n",
       "4  0.141000  0.093357  0.042988  0.000000  0.000000  "
      ]
     },
     "execution_count": 46,
     "metadata": {},
     "output_type": "execute_result"
    }
   ],
   "source": [
    "# df_all = df_temp\n",
    "df_all.head()"
   ]
  },
  {
   "cell_type": "markdown",
   "metadata": {},
   "source": [
    "***Recreate train and test data over new df_all***"
   ]
  },
  {
   "cell_type": "code",
   "execution_count": 47,
   "metadata": {},
   "outputs": [],
   "source": [
    "df_train = df_all.iloc[0:30]\n",
    "df_test = df_all.iloc[30:]"
   ]
  },
  {
   "cell_type": "markdown",
   "metadata": {},
   "source": [
    "***Plot the data***\n"
   ]
  },
  {
   "cell_type": "code",
   "execution_count": 48,
   "metadata": {},
   "outputs": [],
   "source": [
    "# fn_plot_data(df_all)"
   ]
  },
  {
   "cell_type": "code",
   "execution_count": 49,
   "metadata": {},
   "outputs": [],
   "source": [
    "# fn_plot_data(df_train)"
   ]
  },
  {
   "cell_type": "markdown",
   "metadata": {},
   "source": [
    "*** Create features for polynomial regression ***\n",
    "- i.e. feature engineering, creating polynomial features"
   ]
  },
  {
   "cell_type": "code",
   "execution_count": 50,
   "metadata": {},
   "outputs": [],
   "source": [
    "# #creates an extra 15 columns, x^2, x^3, ..., x^16\n",
    "# for idx in range(2,16):  #power of 1 is already there\n",
    "#     colname = 'x_%d'%idx      #new var will be x_power\n",
    "#     df_all[colname] = df_all['x_1']**idx\n",
    "# df_train = df_all.iloc[0:30]"
   ]
  },
  {
   "cell_type": "code",
   "execution_count": 51,
   "metadata": {},
   "outputs": [],
   "source": [
    "# print(df_all.iloc[:,0:5].head(30))"
   ]
  },
  {
   "cell_type": "markdown",
   "metadata": {},
   "source": [
    "### Ridge Regression"
   ]
  },
  {
   "cell_type": "markdown",
   "metadata": {},
   "source": [
    "***Ridge regression using sklearn RidgeCV***"
   ]
  },
  {
   "cell_type": "code",
   "execution_count": 52,
   "metadata": {},
   "outputs": [],
   "source": [
    "#define independent variables\n",
    "vars_x = [var for var in df_all.columns.values if var != 'y']\n",
    "X = df_train[vars_x]\n",
    "y = df_train['y']"
   ]
  },
  {
   "cell_type": "markdown",
   "metadata": {},
   "source": [
    "Note: RidgeCV seems particularly poor in its default choice for alphas"
   ]
  },
  {
   "cell_type": "code",
   "execution_count": 53,
   "metadata": {},
   "outputs": [
    {
     "data": {
      "text/plain": [
       "RidgeCV(alphas=[0.0009765625, 0.001953125, 0.00390625, 0.0078125, 0.015625, 0.03125, 0.0625, 0.125, 0.25, 0.5, 1, 2, 4, 8, 16, 32, 64, 128, 256, 512],\n",
       "    cv=None, fit_intercept=True, gcv_mode=None, normalize=False,\n",
       "    scoring=None, store_cv_values=False)"
      ]
     },
     "execution_count": 53,
     "metadata": {},
     "output_type": "execute_result"
    }
   ],
   "source": [
    "model = RidgeCV(alphas = [2**num for num in range(-10,10)])\n",
    "model.fit(X=X, y=y)"
   ]
  },
  {
   "cell_type": "code",
   "execution_count": 54,
   "metadata": {},
   "outputs": [],
   "source": [
    "# model = fn_ridgeCV(df_all)\n",
    "#inspect coefficients\n",
    "# fn_print_coefficients(model)\n",
    "\n",
    "# model.coef_.shape\n"
   ]
  },
  {
   "cell_type": "markdown",
   "metadata": {},
   "source": [
    "*** PLOTTING PREDICTIONS ***"
   ]
  },
  {
   "cell_type": "code",
   "execution_count": 55,
   "metadata": {},
   "outputs": [
    {
     "data": {
      "text/plain": [
       "Text(0.5, 1.0, 'test data')"
      ]
     },
     "execution_count": 55,
     "metadata": {},
     "output_type": "execute_result"
    },
    {
     "data": {
      "image/png": "[encoded data removed]",
      "text/plain": [
       "<Figure size 720x1008 with 2 Axes>"
      ]
     },
     "metadata": {},
     "output_type": "display_data"
    }
   ],
   "source": [
    "# Create 200 points in the x axis and compute the predicted val for each point\n",
    "\n",
    "df_ptiles = pd.DataFrame({'x_1':[i/200.0 for i in range(200)]})\n",
    "\n",
    "for idx, knot in enumerate(knots):\n",
    "    df_ptiles[var +'_' + str(idx)] = np.maximum(0, df_ptiles['x_1'] - knot)\n",
    "\n",
    "y_pred = model.predict(df_ptiles)\n",
    "\n",
    "#plot predictions TRAIN\n",
    "fig = plt.figure(figsize=(10,14))\n",
    "ax1 = fig.add_subplot(2,1,1)\n",
    "ax2 = fig.add_subplot(2,1,2)\n",
    "\n",
    "ax1.plot(df_all.iloc[0:30]['x_1'], df_all.iloc[0:30]['y'],'k.')\n",
    "ax1.set_xlabel('x_1', fontsize=20)\n",
    "ax1.set_ylabel('y', fontsize=20)\n",
    "ax1.plot(df_ptiles['x_1'],\n",
    "        y_pred, 'r-',\n",
    "        label='linear splines',\n",
    "        linewidth=5)\n",
    "ax1.legend(loc='upper left')\n",
    "ax1.axis([0,1,-1.5,2])\n",
    "ax1.set_title('training data', fontsize = 24)\n",
    "\n",
    "#plot predictions TEST\n",
    "\n",
    "ax2.plot(df_all.iloc[30:]['x_1'], df_all.iloc[30:]['y'],'k.')\n",
    "ax2.set_xlabel('x_1', fontsize=20)\n",
    "ax2.set_ylabel('y', fontsize=20)\n",
    "ax2.plot(df_ptiles['x_1'],\n",
    "        y_pred, 'r-',\n",
    "        label='linear splines',\n",
    "        linewidth=5)\n",
    "ax2.legend(loc='upper left')\n",
    "ax2.axis([0,1,-1.5,2])\n",
    "ax2.set_title('test data', fontsize = 24)\n"
   ]
  },
  {
   "cell_type": "markdown",
   "metadata": {},
   "source": [
    "*** Function to fit a polynomial regression model ***\n",
    "- note that parameter <i>alpha = l2_penalty</i> "
   ]
  },
  {
   "cell_type": "code",
   "execution_count": 56,
   "metadata": {},
   "outputs": [],
   "source": [
    "# def fn_ridge_regression(data, degree, l2_penalty):\n",
    "#     #instantiate\n",
    "#     #note that the parameter alpha below is normally referred to as lambda\n",
    "    \n",
    "#     #identical to polynom regression, BUT\n",
    "#     #call Ridge instead of LinearRegression\n",
    "#     model = Ridge(alpha=l2_penalty) \n",
    "#     vars_x = ['x_1']\n",
    "#     if degree >=2:\n",
    "#         vars_x.extend(['x_%d'%i for i in range(2,degree+1)])\n",
    "    \n",
    "#     data_toUse = data[vars_x].copy()\n",
    "#     #fit linear regression, using polynomial data\n",
    "    \n",
    "#     model.fit(X=data_toUse, y=data['y'])\n",
    "    \n",
    "#     return model"
   ]
  },
  {
   "cell_type": "markdown",
   "metadata": {},
   "source": [
    "***Fit a degree-15 polynomial with very SMALL penalty***\n"
   ]
  },
  {
   "cell_type": "code",
   "execution_count": 57,
   "metadata": {},
   "outputs": [],
   "source": [
    "# model = fn_ridge_regression(df_train, degree=15, l2_penalty=1e-25)"
   ]
  },
  {
   "cell_type": "markdown",
   "metadata": {},
   "source": [
    "Inspect learned parameters"
   ]
  },
  {
   "cell_type": "code",
   "execution_count": 21,
   "metadata": {},
   "outputs": [],
   "source": [
    "# print(model.intercept_) #prints intercept\n",
    "# print(model.coef_.flatten()) #prints coefficients\n",
    "# fn_print_coefficients(model)"
   ]
  },
  {
   "cell_type": "markdown",
   "metadata": {},
   "source": [
    "Form and plot our predictions along a grid of x values:"
   ]
  },
  {
   "cell_type": "code",
   "execution_count": 22,
   "metadata": {},
   "outputs": [],
   "source": [
    "# fn_plot_predictions(df_all,model)"
   ]
  },
  {
   "cell_type": "markdown",
   "metadata": {},
   "source": [
    "***Fit a degree-15 polynomial with very LARGE penalty***\n",
    "- note the size of the coefficients!"
   ]
  },
  {
   "cell_type": "code",
   "execution_count": 23,
   "metadata": {},
   "outputs": [],
   "source": [
    "# model = fn_ridge_regression(df_train, degree=15, l2_penalty=1e+10)\n",
    "# fn_print_coefficients(model)\n",
    "# fn_plot_predictions(df_all, model)"
   ]
  },
  {
   "cell_type": "markdown",
   "metadata": {},
   "source": [
    "***Fit a 15-degree polynomial using a REASONABLE penalty***"
   ]
  },
  {
   "cell_type": "code",
   "execution_count": 24,
   "metadata": {},
   "outputs": [],
   "source": [
    "# model = fn_ridge_regression(df_train, degree=15, l2_penalty=1e-3)\n",
    "# fn_print_coefficients(model)\n",
    "# fn_plot_predictions(df_all, model)"
   ]
  },
  {
   "cell_type": "code",
   "execution_count": null,
   "metadata": {},
   "outputs": [],
   "source": []
  },
  {
   "cell_type": "code",
   "execution_count": null,
   "metadata": {},
   "outputs": [],
   "source": []
  },
  {
   "cell_type": "code",
   "execution_count": null,
   "metadata": {},
   "outputs": [],
   "source": []
  },
  {
   "cell_type": "code",
   "execution_count": null,
   "metadata": {},
   "outputs": [],
   "source": []
  },
  {
   "cell_type": "code",
   "execution_count": null,
   "metadata": {},
   "outputs": [],
   "source": []
  },
  {
   "cell_type": "code",
   "execution_count": null,
   "metadata": {},
   "outputs": [],
   "source": [
    "   "
   ]
  },
  {
   "cell_type": "code",
   "execution_count": null,
   "metadata": {},
   "outputs": [],
   "source": []
  },
  {
   "cell_type": "code",
   "execution_count": null,
   "metadata": {},
   "outputs": [],
   "source": []
  },
  {
   "cell_type": "code",
   "execution_count": null,
   "metadata": {},
   "outputs": [],
   "source": []
  },
  {
   "cell_type": "code",
   "execution_count": null,
   "metadata": {},
   "outputs": [],
   "source": []
  },
  {
   "cell_type": "code",
   "execution_count": null,
   "metadata": {},
   "outputs": [],
   "source": []
  }
 ],
 "metadata": {
  "kernelspec": {
   "display_name": "Python 3",
   "language": "python",
   "name": "python3"
  },
  "language_info": {
   "codemirror_mode": {
    "name": "ipython",
    "version": 3
   },
   "file_extension": ".py",
   "mimetype": "text/x-python",
   "name": "python",
   "nbconvert_exporter": "python",
   "pygments_lexer": "ipython3",
   "version": "3.6.7"
  }
 },
 "nbformat": 4,
 "nbformat_minor": 2
}
